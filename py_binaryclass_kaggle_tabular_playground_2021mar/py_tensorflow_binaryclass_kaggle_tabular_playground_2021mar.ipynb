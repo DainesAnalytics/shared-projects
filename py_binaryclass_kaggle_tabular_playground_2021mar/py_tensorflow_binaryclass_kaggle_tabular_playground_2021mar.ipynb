{
  "nbformat": 4,
  "nbformat_minor": 0,
  "metadata": {
    "kernelspec": {
      "display_name": "Python 3",
      "language": "python",
      "name": "python3"
    },
    "language_info": {
      "codemirror_mode": {
        "name": "ipython",
        "version": 3
      },
      "file_extension": ".py",
      "mimetype": "text/x-python",
      "name": "python",
      "nbconvert_exporter": "python",
      "pygments_lexer": "ipython3",
      "version": "3.8.10"
    },
    "colab": {
      "name": "py_tensorflow_binaryclass_kaggle_tabular_playground_2021mar.ipynb",
      "provenance": [],
      "collapsed_sections": [
        "Hxxn8gnj3l78",
        "Uuh6PSn53l79",
        "K_ha_1jD3l7-",
        "jLUO6zME3l8B"
      ],
      "toc_visible": true
    },
    "accelerator": "GPU"
  },
  "cells": [
    {
      "cell_type": "markdown",
      "metadata": {
        "id": "TVs0Qopg3l7w"
      },
      "source": [
        "### Binary Classification Model for Kaggle Tabular Playground Series Mar 2021 Using Python and TensorFlow\n",
        "### David Lowe\n",
        "### June 4, 2021\n",
        "\n",
        "Template Credit: Adapted from a template made available by Dr. Jason Brownlee of Machine Learning Mastery. [https://machinelearningmastery.com/]\n",
        "\n",
        "SUMMARY: This project aims to construct a predictive model using various machine learning algorithms and document the end-to-end steps using a template. The Kaggle Tabular Playground Mar 2021 dataset is a binary classification situation where we attempt to predict one of the two possible outcomes.\n",
        "\n",
        "INTRODUCTION: Kaggle wants to provide an approachable environment for relatively new people in their data science journey. Since January 2021, they have hosted playground-style competitions on Kaggle with fun but less complex, tabular datasets. The dataset may be synthetic but is based on a real dataset and generated using a CTGAN. The original dataset tries to predict the amount of an insurance claim. Although the features are anonymized, they have properties relating to real-world features.\n",
        "\n",
        "ANALYSIS: The performance of the cross-validated TensorFlow models achieved an average ROC benchmark of 0.8842 after running for 15 epochs. When we applied the final model to Kaggle's test dataset, the model achieved a ROC score of 0.8861.\n",
        "\n",
        "CONCLUSION: In this iteration, the TensorFlow model appeared to be a suitable algorithm for modeling this dataset.\n",
        "\n",
        "Dataset Used: Kaggle Tabular Playground 2021 Mar Data Set\n",
        "\n",
        "Dataset ML Model: Binary classification with numerical and categorical attributes\n",
        "\n",
        "Dataset Reference: https://www.kaggle.com/c/tabular-playground-series-mar-2021\n",
        "\n",
        "One potential source of performance benchmark: https://www.kaggle.com/c/tabular-playground-series-mar-2021/leaderboard\n",
        "\n",
        "Any predictive modeling machine learning project generally can be broken down into about six major tasks:\n",
        "\n",
        "1. Prepare Environment\n",
        "2. Summarize and Visualize Data\n",
        "3. Pre-process Data\n",
        "4. Train and Evaluate Models\n",
        "5. Fine-tune and Improve Models\n",
        "6. Finalize Model and Present Analysis"
      ]
    },
    {
      "cell_type": "markdown",
      "metadata": {
        "id": "XcvIFuk03l7z"
      },
      "source": [
        "## Task 1 - Prepare Environment"
      ]
    },
    {
      "cell_type": "code",
      "metadata": {
        "id": "Q8WmuNd23l70"
      },
      "source": [
        "# Install the necessary packages for Colab\n",
        "# !pip install python-dotenv PyMySQL"
      ],
      "execution_count": 1,
      "outputs": []
    },
    {
      "cell_type": "code",
      "metadata": {
        "id": "oFWd7eph3l70",
        "colab": {
          "base_uri": "https://localhost:8080/"
        },
        "outputId": "cf3e673b-eedc-4a82-9e48-654bf1cdd687"
      },
      "source": [
        "# Retrieve the GPU information from Colab\n",
        "gpu_info = !nvidia-smi\n",
        "gpu_info = '\\n'.join(gpu_info)\n",
        "if gpu_info.find('failed') >= 0:\n",
        "    print('Select the Runtime → \"Change runtime type\" menu to enable a GPU accelerator, ')\n",
        "    print('and then re-execute this cell.')\n",
        "else:\n",
        "    print(gpu_info)"
      ],
      "execution_count": 2,
      "outputs": [
        {
          "output_type": "stream",
          "text": [
            "Thu Jun  3 13:28:37 2021       \n",
            "+-----------------------------------------------------------------------------+\n",
            "| NVIDIA-SMI 465.27       Driver Version: 460.32.03    CUDA Version: 11.2     |\n",
            "|-------------------------------+----------------------+----------------------+\n",
            "| GPU  Name        Persistence-M| Bus-Id        Disp.A | Volatile Uncorr. ECC |\n",
            "| Fan  Temp  Perf  Pwr:Usage/Cap|         Memory-Usage | GPU-Util  Compute M. |\n",
            "|                               |                      |               MIG M. |\n",
            "|===============================+======================+======================|\n",
            "|   0  Tesla P100-PCIE...  Off  | 00000000:00:04.0 Off |                    0 |\n",
            "| N/A   34C    P0    25W / 250W |      0MiB / 16280MiB |      0%      Default |\n",
            "|                               |                      |                  N/A |\n",
            "+-------------------------------+----------------------+----------------------+\n",
            "                                                                               \n",
            "+-----------------------------------------------------------------------------+\n",
            "| Processes:                                                                  |\n",
            "|  GPU   GI   CI        PID   Type   Process name                  GPU Memory |\n",
            "|        ID   ID                                                   Usage      |\n",
            "|=============================================================================|\n",
            "|  No running processes found                                                 |\n",
            "+-----------------------------------------------------------------------------+\n"
          ],
          "name": "stdout"
        }
      ]
    },
    {
      "cell_type": "code",
      "metadata": {
        "id": "2tWJ-QK63l71",
        "colab": {
          "base_uri": "https://localhost:8080/"
        },
        "outputId": "303f2ad2-8400-4512-9913-61f0fb2a9f1c"
      },
      "source": [
        "# Retrieve the memory configuration from Colab\n",
        "from psutil import virtual_memory\n",
        "ram_gb = virtual_memory().total / 1e9\n",
        "print('Your runtime has {:.1f} gigabytes of available RAM\\n'.format(ram_gb))\n",
        "\n",
        "if ram_gb < 20:\n",
        "    print('To enable a high-RAM runtime, select the Runtime → \"Change runtime type\"')\n",
        "    print('menu, and then select High-RAM in the Runtime shape dropdown. Then, ')\n",
        "    print('re-execute this cell.')\n",
        "else:\n",
        "    print('You are using a high-RAM runtime!')"
      ],
      "execution_count": 3,
      "outputs": [
        {
          "output_type": "stream",
          "text": [
            "Your runtime has 13.6 gigabytes of available RAM\n",
            "\n",
            "To enable a high-RAM runtime, select the Runtime → \"Change runtime type\"\n",
            "menu, and then select High-RAM in the Runtime shape dropdown. Then, \n",
            "re-execute this cell.\n"
          ],
          "name": "stdout"
        }
      ]
    },
    {
      "cell_type": "code",
      "metadata": {
        "id": "MMxv3rIM3l71",
        "colab": {
          "base_uri": "https://localhost:8080/"
        },
        "outputId": "87c9cd8c-7645-4f38-a43f-8aca6052b280"
      },
      "source": [
        "# Retrieve the CPU information\n",
        "ncpu = !nproc\n",
        "print(\"The number of available CPUs is:\", ncpu[0])"
      ],
      "execution_count": 4,
      "outputs": [
        {
          "output_type": "stream",
          "text": [
            "The number of available CPUs is: 2\n"
          ],
          "name": "stdout"
        }
      ]
    },
    {
      "cell_type": "markdown",
      "metadata": {
        "id": "I7LCAiYF3l72"
      },
      "source": [
        "### 1.a) Load libraries and modules"
      ]
    },
    {
      "cell_type": "code",
      "metadata": {
        "id": "IcBsRRuj3l73"
      },
      "source": [
        "# Set the random seed number for reproducible results\n",
        "RNG_SEED = 888"
      ],
      "execution_count": 5,
      "outputs": []
    },
    {
      "cell_type": "code",
      "metadata": {
        "id": "qvqMowk53l73"
      },
      "source": [
        "import random\n",
        "random.seed(RNG_SEED)\n",
        "import numpy as np\n",
        "np.random.seed(RNG_SEED)\n",
        "import pandas as pd\n",
        "import seaborn as sns\n",
        "import matplotlib.pyplot as plt\n",
        "import os\n",
        "import sys\n",
        "import math\n",
        "from datetime import datetime\n",
        "# import boto3\n",
        "# from dotenv import load_dotenv\n",
        "from sklearn import preprocessing\n",
        "from sklearn.model_selection import train_test_split\n",
        "from sklearn.model_selection import RepeatedKFold\n",
        "from sklearn.pipeline import Pipeline\n",
        "from sklearn import compose\n",
        "from sklearn import impute\n",
        "import tensorflow as tf\n",
        "tf.random.set_seed(RNG_SEED)\n",
        "from tensorflow import keras\n",
        "from tensorflow.keras.callbacks import ReduceLROnPlateau"
      ],
      "execution_count": 6,
      "outputs": []
    },
    {
      "cell_type": "markdown",
      "metadata": {
        "id": "lj9CEmZv3l74"
      },
      "source": [
        "### 1.b) Set up the controlling parameters and functions"
      ]
    },
    {
      "cell_type": "code",
      "metadata": {
        "id": "37e7yBJt3l74",
        "colab": {
          "base_uri": "https://localhost:8080/"
        },
        "outputId": "40cf724e-1b8f-474a-b84f-93c9bb458f45"
      },
      "source": [
        "# Begin the timer for the script processing\n",
        "start_time_script = datetime.now()\n",
        "\n",
        "# Set up the number of CPU cores available for multi-thread processing\n",
        "N_JOBS = 1\n",
        "\n",
        "# Set up the flag to stop sending progress emails (setting to True will send status emails!)\n",
        "NOTIFY_STATUS = False\n",
        "\n",
        "# Set the percentage sizes for splitting the dataset\n",
        "TEST_SET_RATIO = 0.2\n",
        "VAL_SET_RATIO = 0.25\n",
        "\n",
        "# Set the number of folds for cross validation\n",
        "N_FOLDS = 5\n",
        "N_ITERATIONS = 1\n",
        "\n",
        "# Set various default modeling parameters\n",
        "DEFAULT_LOSS = 'binary_crossentropy'\n",
        "DEFAULT_METRICS = [tf.keras.metrics.AUC(name='roc_auc')]\n",
        "DEFAULT_OPTIMIZER = tf.keras.optimizers.Adam(learning_rate=0.001)\n",
        "DEFAULT_INITIALIZER = tf.keras.initializers.RandomNormal(seed=RNG_SEED)\n",
        "CLASSIFIER_ACTIVATION = 'sigmoid'\n",
        "MAX_EPOCHS = 15\n",
        "BATCH_SIZE = 32\n",
        "\n",
        "# Define the labels to use for graphing the data\n",
        "train_metric = \"roc_auc\"\n",
        "validation_metric = \"val_roc_auc\"\n",
        "train_loss = \"loss\"\n",
        "validation_loss = \"val_loss\"\n",
        "\n",
        "# Check the number of GPUs accessible through TensorFlow\n",
        "print('Num GPUs Available:', len(tf.config.list_physical_devices('GPU')))\n",
        "\n",
        "# Print out the TensorFlow version for confirmation\n",
        "print('TensorFlow version:', tf.__version__)"
      ],
      "execution_count": 7,
      "outputs": [
        {
          "output_type": "stream",
          "text": [
            "Num GPUs Available: 1\n",
            "TensorFlow version: 2.5.0\n"
          ],
          "name": "stdout"
        }
      ]
    },
    {
      "cell_type": "code",
      "metadata": {
        "id": "DeabrzoC3l75"
      },
      "source": [
        "# Set up the email notification function\n",
        "def status_notify(msg_text):\n",
        "    access_key = os.environ.get('SNS_ACCESS_KEY')\n",
        "    secret_key = os.environ.get('SNS_SECRET_KEY')\n",
        "    aws_region = os.environ.get('SNS_AWS_REGION')\n",
        "    topic_arn = os.environ.get('SNS_TOPIC_ARN')\n",
        "    if (access_key is None) or (secret_key is None) or (aws_region is None):\n",
        "        sys.exit(\"Incomplete notification setup info. Script Processing Aborted!!!\")\n",
        "    sns = boto3.client('sns', aws_access_key_id=access_key, aws_secret_access_key=secret_key, region_name=aws_region)\n",
        "    response = sns.publish(TopicArn=topic_arn, Message=msg_text)\n",
        "    if response['ResponseMetadata']['HTTPStatusCode'] != 200 :\n",
        "        print('Status notification not OK with HTTP status code:', response['ResponseMetadata']['HTTPStatusCode'])"
      ],
      "execution_count": 8,
      "outputs": []
    },
    {
      "cell_type": "code",
      "metadata": {
        "id": "z6at5jHEyl6k"
      },
      "source": [
        "# Reset the random number generators\n",
        "def reset_random(x=RNG_SEED):\n",
        "    random.seed(x)\n",
        "    np.random.seed(x)\n",
        "    tf.random.set_seed(x)"
      ],
      "execution_count": 9,
      "outputs": []
    },
    {
      "cell_type": "code",
      "metadata": {
        "id": "-LXEI2QY3l75"
      },
      "source": [
        "if NOTIFY_STATUS: status_notify(\"Task 1 - Prepare Environment has begun! \" + datetime.now().strftime('%a %B %d, %Y %I:%M:%S %p'))"
      ],
      "execution_count": 10,
      "outputs": []
    },
    {
      "cell_type": "markdown",
      "metadata": {
        "id": "Iud46_Nn3l76"
      },
      "source": [
        "### 1.c) Load dataset"
      ]
    },
    {
      "cell_type": "code",
      "metadata": {
        "id": "zw8vysCp3l76",
        "colab": {
          "base_uri": "https://localhost:8080/"
        },
        "outputId": "737914f9-e8b5-44ff-d01e-4a4ffea58e48"
      },
      "source": [
        "dataset_path = 'https://dainesanalytics.com/datasets/kaggle-tabular-playground-2021mar/train.csv'\n",
        "df_dataset_import = pd.read_csv(dataset_path, index_col=False)\n",
        "\n",
        "# Take a peek at the dataframe after import\n",
        "print(df_dataset_import.head())"
      ],
      "execution_count": 11,
      "outputs": [
        {
          "output_type": "stream",
          "text": [
            "   id cat0 cat1 cat2 cat3  ...     cont7     cont8     cont9    cont10 target\n",
            "0   0    A    I    A    B  ...  0.791921  0.815254  0.965006  0.665915      0\n",
            "1   1    A    I    A    A  ...  0.408701  0.399353  0.927406  0.493729      0\n",
            "2   2    A    K    A    A  ...  0.388835  0.412303  0.292696  0.549452      0\n",
            "3   3    A    K    A    C  ...  0.897617  0.633669  0.760318  0.934242      0\n",
            "4   4    A    I    G    B  ...  0.279167  0.351103  0.357084  0.328960      1\n",
            "\n",
            "[5 rows x 32 columns]\n"
          ],
          "name": "stdout"
        }
      ]
    },
    {
      "cell_type": "code",
      "metadata": {
        "id": "qdseXAzd3l76",
        "colab": {
          "base_uri": "https://localhost:8080/"
        },
        "outputId": "568847ea-d4a5-48f4-a30c-5d1042953f0d"
      },
      "source": [
        "df_dataset_import.info(verbose=True)"
      ],
      "execution_count": 12,
      "outputs": [
        {
          "output_type": "stream",
          "text": [
            "<class 'pandas.core.frame.DataFrame'>\n",
            "RangeIndex: 300000 entries, 0 to 299999\n",
            "Data columns (total 32 columns):\n",
            " #   Column  Non-Null Count   Dtype  \n",
            "---  ------  --------------   -----  \n",
            " 0   id      300000 non-null  int64  \n",
            " 1   cat0    300000 non-null  object \n",
            " 2   cat1    300000 non-null  object \n",
            " 3   cat2    300000 non-null  object \n",
            " 4   cat3    300000 non-null  object \n",
            " 5   cat4    300000 non-null  object \n",
            " 6   cat5    300000 non-null  object \n",
            " 7   cat6    300000 non-null  object \n",
            " 8   cat7    300000 non-null  object \n",
            " 9   cat8    300000 non-null  object \n",
            " 10  cat9    300000 non-null  object \n",
            " 11  cat10   300000 non-null  object \n",
            " 12  cat11   300000 non-null  object \n",
            " 13  cat12   300000 non-null  object \n",
            " 14  cat13   300000 non-null  object \n",
            " 15  cat14   300000 non-null  object \n",
            " 16  cat15   300000 non-null  object \n",
            " 17  cat16   300000 non-null  object \n",
            " 18  cat17   300000 non-null  object \n",
            " 19  cat18   300000 non-null  object \n",
            " 20  cont0   300000 non-null  float64\n",
            " 21  cont1   300000 non-null  float64\n",
            " 22  cont2   300000 non-null  float64\n",
            " 23  cont3   300000 non-null  float64\n",
            " 24  cont4   300000 non-null  float64\n",
            " 25  cont5   300000 non-null  float64\n",
            " 26  cont6   300000 non-null  float64\n",
            " 27  cont7   300000 non-null  float64\n",
            " 28  cont8   300000 non-null  float64\n",
            " 29  cont9   300000 non-null  float64\n",
            " 30  cont10  300000 non-null  float64\n",
            " 31  target  300000 non-null  int64  \n",
            "dtypes: float64(11), int64(2), object(19)\n",
            "memory usage: 73.2+ MB\n"
          ],
          "name": "stdout"
        }
      ]
    },
    {
      "cell_type": "code",
      "metadata": {
        "id": "dut08ci_3l77",
        "colab": {
          "base_uri": "https://localhost:8080/"
        },
        "outputId": "61004acb-3f8f-42e5-b17c-48ebf9ff407a"
      },
      "source": [
        "print(df_dataset_import.describe())"
      ],
      "execution_count": 13,
      "outputs": [
        {
          "output_type": "stream",
          "text": [
            "                  id          cont0  ...         cont10         target\n",
            "count  300000.000000  300000.000000  ...  300000.000000  300000.000000\n",
            "mean   250183.425697       0.504749  ...       0.508230       0.264870\n",
            "std    144320.334812       0.206788  ...       0.203393       0.441265\n",
            "min         0.000000      -0.049562  ...       0.097789       0.000000\n",
            "25%    125399.750000       0.344985  ...       0.368312       0.000000\n",
            "50%    250192.500000       0.479650  ...       0.446576       0.000000\n",
            "75%    375246.250000       0.637657  ...       0.581957       1.000000\n",
            "max    499999.000000       1.004559  ...       1.011331       1.000000\n",
            "\n",
            "[8 rows x 13 columns]\n"
          ],
          "name": "stdout"
        }
      ]
    },
    {
      "cell_type": "code",
      "metadata": {
        "id": "6j5yMdxL3l77",
        "colab": {
          "base_uri": "https://localhost:8080/"
        },
        "outputId": "653476d6-5b90-4c2d-ec5e-c2c73d3a44ad"
      },
      "source": [
        "print(df_dataset_import.isnull().sum())\n",
        "print('Total number of NaN in the dataframe: ', df_dataset_import.isnull().sum().sum())"
      ],
      "execution_count": 14,
      "outputs": [
        {
          "output_type": "stream",
          "text": [
            "id        0\n",
            "cat0      0\n",
            "cat1      0\n",
            "cat2      0\n",
            "cat3      0\n",
            "cat4      0\n",
            "cat5      0\n",
            "cat6      0\n",
            "cat7      0\n",
            "cat8      0\n",
            "cat9      0\n",
            "cat10     0\n",
            "cat11     0\n",
            "cat12     0\n",
            "cat13     0\n",
            "cat14     0\n",
            "cat15     0\n",
            "cat16     0\n",
            "cat17     0\n",
            "cat18     0\n",
            "cont0     0\n",
            "cont1     0\n",
            "cont2     0\n",
            "cont3     0\n",
            "cont4     0\n",
            "cont5     0\n",
            "cont6     0\n",
            "cont7     0\n",
            "cont8     0\n",
            "cont9     0\n",
            "cont10    0\n",
            "target    0\n",
            "dtype: int64\n",
            "Total number of NaN in the dataframe:  0\n"
          ],
          "name": "stdout"
        }
      ]
    },
    {
      "cell_type": "markdown",
      "metadata": {
        "id": "Hxxn8gnj3l78"
      },
      "source": [
        "### 1.d) Data Cleaning"
      ]
    },
    {
      "cell_type": "code",
      "metadata": {
        "id": "osjQPBQY3l78",
        "colab": {
          "base_uri": "https://localhost:8080/"
        },
        "outputId": "202668de-456c-4e55-ebda-f8e24f53fefc"
      },
      "source": [
        "# Dropping features\n",
        "df_dataset_import.drop(columns=['id'], inplace=True)\n",
        "\n",
        "# Take a peek at the dataframe after cleaning\n",
        "print(df_dataset_import.head())"
      ],
      "execution_count": 15,
      "outputs": [
        {
          "output_type": "stream",
          "text": [
            "  cat0 cat1 cat2 cat3 cat4  ...     cont7     cont8     cont9    cont10 target\n",
            "0    A    I    A    B    B  ...  0.791921  0.815254  0.965006  0.665915      0\n",
            "1    A    I    A    A    E  ...  0.408701  0.399353  0.927406  0.493729      0\n",
            "2    A    K    A    A    E  ...  0.388835  0.412303  0.292696  0.549452      0\n",
            "3    A    K    A    C    E  ...  0.897617  0.633669  0.760318  0.934242      0\n",
            "4    A    I    G    B    E  ...  0.279167  0.351103  0.357084  0.328960      1\n",
            "\n",
            "[5 rows x 31 columns]\n"
          ],
          "name": "stdout"
        }
      ]
    },
    {
      "cell_type": "code",
      "metadata": {
        "id": "t36Yn9gl3l78",
        "colab": {
          "base_uri": "https://localhost:8080/"
        },
        "outputId": "139d677b-2757-46b8-b3ec-c8e45915a270"
      },
      "source": [
        "df_dataset_import.info(verbose=True)"
      ],
      "execution_count": 16,
      "outputs": [
        {
          "output_type": "stream",
          "text": [
            "<class 'pandas.core.frame.DataFrame'>\n",
            "RangeIndex: 300000 entries, 0 to 299999\n",
            "Data columns (total 31 columns):\n",
            " #   Column  Non-Null Count   Dtype  \n",
            "---  ------  --------------   -----  \n",
            " 0   cat0    300000 non-null  object \n",
            " 1   cat1    300000 non-null  object \n",
            " 2   cat2    300000 non-null  object \n",
            " 3   cat3    300000 non-null  object \n",
            " 4   cat4    300000 non-null  object \n",
            " 5   cat5    300000 non-null  object \n",
            " 6   cat6    300000 non-null  object \n",
            " 7   cat7    300000 non-null  object \n",
            " 8   cat8    300000 non-null  object \n",
            " 9   cat9    300000 non-null  object \n",
            " 10  cat10   300000 non-null  object \n",
            " 11  cat11   300000 non-null  object \n",
            " 12  cat12   300000 non-null  object \n",
            " 13  cat13   300000 non-null  object \n",
            " 14  cat14   300000 non-null  object \n",
            " 15  cat15   300000 non-null  object \n",
            " 16  cat16   300000 non-null  object \n",
            " 17  cat17   300000 non-null  object \n",
            " 18  cat18   300000 non-null  object \n",
            " 19  cont0   300000 non-null  float64\n",
            " 20  cont1   300000 non-null  float64\n",
            " 21  cont2   300000 non-null  float64\n",
            " 22  cont3   300000 non-null  float64\n",
            " 23  cont4   300000 non-null  float64\n",
            " 24  cont5   300000 non-null  float64\n",
            " 25  cont6   300000 non-null  float64\n",
            " 26  cont7   300000 non-null  float64\n",
            " 27  cont8   300000 non-null  float64\n",
            " 28  cont9   300000 non-null  float64\n",
            " 29  cont10  300000 non-null  float64\n",
            " 30  target  300000 non-null  int64  \n",
            "dtypes: float64(11), int64(1), object(19)\n",
            "memory usage: 71.0+ MB\n"
          ],
          "name": "stdout"
        }
      ]
    },
    {
      "cell_type": "code",
      "metadata": {
        "id": "3FFwZYXG3l79",
        "colab": {
          "base_uri": "https://localhost:8080/"
        },
        "outputId": "c6692d56-90c5-4997-95f4-76f481c15ebc"
      },
      "source": [
        "print(df_dataset_import.describe())"
      ],
      "execution_count": 17,
      "outputs": [
        {
          "output_type": "stream",
          "text": [
            "               cont0          cont1  ...         cont10         target\n",
            "count  300000.000000  300000.000000  ...  300000.000000  300000.000000\n",
            "mean        0.504749       0.494073  ...       0.508230       0.264870\n",
            "std         0.206788       0.213037  ...       0.203393       0.441265\n",
            "min        -0.049562       0.084480  ...       0.097789       0.000000\n",
            "25%         0.344985       0.317363  ...       0.368312       0.000000\n",
            "50%         0.479650       0.463170  ...       0.446576       0.000000\n",
            "75%         0.637657       0.693992  ...       0.581957       1.000000\n",
            "max         1.004559       1.009958  ...       1.011331       1.000000\n",
            "\n",
            "[8 rows x 12 columns]\n"
          ],
          "name": "stdout"
        }
      ]
    },
    {
      "cell_type": "code",
      "metadata": {
        "id": "1QMi80kq3l79",
        "colab": {
          "base_uri": "https://localhost:8080/"
        },
        "outputId": "9e5d72f4-c3ce-4929-9a7a-fd623a64818d"
      },
      "source": [
        "print(df_dataset_import.isnull().sum())\n",
        "print('Total number of NaN in the dataframe: ', df_dataset_import.isnull().sum().sum())"
      ],
      "execution_count": 18,
      "outputs": [
        {
          "output_type": "stream",
          "text": [
            "cat0      0\n",
            "cat1      0\n",
            "cat2      0\n",
            "cat3      0\n",
            "cat4      0\n",
            "cat5      0\n",
            "cat6      0\n",
            "cat7      0\n",
            "cat8      0\n",
            "cat9      0\n",
            "cat10     0\n",
            "cat11     0\n",
            "cat12     0\n",
            "cat13     0\n",
            "cat14     0\n",
            "cat15     0\n",
            "cat16     0\n",
            "cat17     0\n",
            "cat18     0\n",
            "cont0     0\n",
            "cont1     0\n",
            "cont2     0\n",
            "cont3     0\n",
            "cont4     0\n",
            "cont5     0\n",
            "cont6     0\n",
            "cont7     0\n",
            "cont8     0\n",
            "cont9     0\n",
            "cont10    0\n",
            "target    0\n",
            "dtype: int64\n",
            "Total number of NaN in the dataframe:  0\n"
          ],
          "name": "stdout"
        }
      ]
    },
    {
      "cell_type": "markdown",
      "metadata": {
        "id": "Uuh6PSn53l79"
      },
      "source": [
        "### 1.e) Splitting Data into Sets"
      ]
    },
    {
      "cell_type": "code",
      "metadata": {
        "id": "Ac66Lgmn3l79"
      },
      "source": [
        "# Use variable total_column_count to hold the number of columns in the dataframe\n",
        "total_column_count = len(df_dataset_import.columns)\n",
        "\n",
        "# Set up variable total_feature_count for the total number of attribute columns\n",
        "total_feature_count = total_column_count-1\n",
        "\n",
        "# target_column_position variable indicates the column location of the target/class variable\n",
        "# If the first column, set target_column_position to 1. If the last column, set target_column_position to total_column_count\n",
        "# If (target_column_position <> 1) and (target_column_position <> total_column_count), be aware when slicing up the dataframes for visualization\n",
        "target_column_position = total_column_count"
      ],
      "execution_count": 19,
      "outputs": []
    },
    {
      "cell_type": "code",
      "metadata": {
        "id": "okf69cJ-3l7-",
        "colab": {
          "base_uri": "https://localhost:8080/"
        },
        "outputId": "ccfcbd0f-2403-43f9-8eac-3dd23e112ddc"
      },
      "source": [
        "# We create attribute-only and target-only datasets (df_features_train and df_target_train)\n",
        "# for various visualization and cleaning/transformation operations\n",
        "\n",
        "if target_column_position == total_column_count:\n",
        "    df_features_train = df_dataset_import.iloc[:,0:total_feature_count]\n",
        "    df_target_train = df_dataset_import.iloc[:,total_feature_count]\n",
        "else:\n",
        "    df_features_train = df_dataset_import.iloc[:,1:total_column_count]\n",
        "    df_target_train = df_dataset_import.iloc[:,0]\n",
        "\n",
        "print(\"df_dataset_import.shape: {} df_features_train.shape: {} df_target_train.shape: {}\".format(df_dataset_import.shape, df_features_train.shape, df_target_train.shape))"
      ],
      "execution_count": 20,
      "outputs": [
        {
          "output_type": "stream",
          "text": [
            "df_dataset_import.shape: (300000, 31) df_features_train.shape: (300000, 30) df_target_train.shape: (300000,)\n"
          ],
          "name": "stdout"
        }
      ]
    },
    {
      "cell_type": "markdown",
      "metadata": {
        "id": "K_ha_1jD3l7-"
      },
      "source": [
        "### 1.f) Set up the parameters for data visualization"
      ]
    },
    {
      "cell_type": "code",
      "metadata": {
        "id": "jZU3DZ3D3l7-"
      },
      "source": [
        "# Set up the number of row and columns for visualization display. display_rows * display_columns should be >= total_feature_count\n",
        "display_columns = 4\n",
        "if total_feature_count % display_columns == 0 :\n",
        "    display_rows = total_feature_count // display_columns\n",
        "else :\n",
        "    display_rows = (total_feature_count // display_columns) + 1\n",
        "\n",
        "# Set figure width to display the data visualization plots\n",
        "fig_size = plt.rcParams[\"figure.figsize\"]\n",
        "fig_size[0] = display_columns * 4\n",
        "fig_size[1] = display_rows * 4\n",
        "plt.rcParams[\"figure.figsize\"] = fig_size"
      ],
      "execution_count": 21,
      "outputs": []
    },
    {
      "cell_type": "code",
      "metadata": {
        "id": "ACP83VhH3l7-"
      },
      "source": [
        "if NOTIFY_STATUS: status_notify(\"Task 1 - Prepare Environment completed! \"+datetime.now().strftime('%a %B %d, %Y %I:%M:%S %p'))"
      ],
      "execution_count": 22,
      "outputs": []
    },
    {
      "cell_type": "markdown",
      "metadata": {
        "id": "kZevOIQL3l7_"
      },
      "source": [
        "## Task 2 - Summarize and Visualize Data"
      ]
    },
    {
      "cell_type": "code",
      "metadata": {
        "id": "YLt0NpWy3l7_"
      },
      "source": [
        "if NOTIFY_STATUS: status_notify(\"Task 2 - Summarize and Visualize Data has begun! \"+datetime.now().strftime('%a %B %d, %Y %I:%M:%S %p'))"
      ],
      "execution_count": 23,
      "outputs": []
    },
    {
      "cell_type": "code",
      "metadata": {
        "id": "FVURY0Ba3l7_",
        "colab": {
          "base_uri": "https://localhost:8080/",
          "height": 680
        },
        "outputId": "91f1215e-f1f6-49c9-8fb6-d01098f2d6a5"
      },
      "source": [
        "# Histograms for each attribute\n",
        "df_features_train.plot(kind='hist', subplots=True, layout=(display_rows, display_columns))\n",
        "plt.show()"
      ],
      "execution_count": 24,
      "outputs": [
        {
          "output_type": "display_data",
          "data": {
            "image/png": "[encoded data removed]",
            "text/plain": [
              "<Figure size 1152x2304 with 32 Axes>"
            ]
          },
          "metadata": {
            "tags": [],
            "needs_background": "light"
          }
        }
      ]
    },
    {
      "cell_type": "code",
      "metadata": {
        "id": "m92aROlh3l8A",
        "colab": {
          "base_uri": "https://localhost:8080/",
          "height": 681
        },
        "outputId": "995ac472-bb00-44f1-8ef7-02537a6dac71"
      },
      "source": [
        "# Box and Whisker plot for each attribute\n",
        "df_features_train.plot(kind='box', subplots=True, layout=(display_rows, display_columns))\n",
        "plt.show()"
      ],
      "execution_count": 25,
      "outputs": [
        {
          "output_type": "display_data",
          "data": {
            "image/png": "[encoded data removed]",
            "text/plain": [
              "<Figure size 1152x2304 with 32 Axes>"
            ]
          },
          "metadata": {
            "tags": [],
            "needs_background": "light"
          }
        }
      ]
    },
    {
      "cell_type": "code",
      "metadata": {
        "id": "3r8q4sgU3l8A",
        "colab": {
          "base_uri": "https://localhost:8080/",
          "height": 1000
        },
        "outputId": "1e615abb-95d4-4397-ddae-c57a0872f05c"
      },
      "source": [
        "# Correlation matrix\n",
        "fig = plt.figure(figsize=(20, 20))\n",
        "correlations = df_features_train.corr(method='pearson')\n",
        "sns.heatmap(correlations, annot=True, cmap=plt.cm.PuBu)\n",
        "plt.show()"
      ],
      "execution_count": 26,
      "outputs": [
        {
          "output_type": "display_data",
          "data": {
            "image/png": "[encoded data removed]",
            "text/plain": [
              "<Figure size 1440x1440 with 2 Axes>"
            ]
          },
          "metadata": {
            "tags": [],
            "needs_background": "light"
          }
        }
      ]
    },
    {
      "cell_type": "code",
      "metadata": {
        "id": "47zwOFBY3l8A"
      },
      "source": [
        "if NOTIFY_STATUS: status_notify(\"Task 2 - Summarize and Visualize Data completed! \"+datetime.now().strftime('%a %B %d, %Y %I:%M:%S %p'))"
      ],
      "execution_count": 27,
      "outputs": []
    },
    {
      "cell_type": "markdown",
      "metadata": {
        "id": "iMRuoNay3l8B"
      },
      "source": [
        "## Task 3 - Pre-process Data"
      ]
    },
    {
      "cell_type": "code",
      "metadata": {
        "id": "0vQJ1B6d3l8B"
      },
      "source": [
        "if NOTIFY_STATUS: status_notify(\"Task 3 - Pre-process Data has begun! \"+datetime.now().strftime('%a %B %d, %Y %I:%M:%S %p'))"
      ],
      "execution_count": 28,
      "outputs": []
    },
    {
      "cell_type": "markdown",
      "metadata": {
        "id": "jLUO6zME3l8B"
      },
      "source": [
        "### 3.a) Splitting Data into Training and Test Sets"
      ]
    },
    {
      "cell_type": "code",
      "metadata": {
        "id": "2vg3u6An3l8B"
      },
      "source": [
        "# Not applicable for this iteration of the project"
      ],
      "execution_count": 29,
      "outputs": []
    },
    {
      "cell_type": "markdown",
      "metadata": {
        "id": "SJKVMdU-3l8B"
      },
      "source": [
        "### 3.b) Feature Scaling and Data Pre-Processing"
      ]
    },
    {
      "cell_type": "code",
      "metadata": {
        "id": "OdJRYIRo3l8B",
        "colab": {
          "base_uri": "https://localhost:8080/"
        },
        "outputId": "259705b7-a374-4f02-bcf5-dfe518756dde"
      },
      "source": [
        "# Compose pipeline for the numerical and categorical features (Block #1 of 2)\n",
        "numeric_columns = df_features_train.select_dtypes(include=['int64','float64']).columns\n",
        "numeric_transformer = Pipeline(steps=[\n",
        "    ('imputer', impute.SimpleImputer(strategy='constant', fill_value=0))\n",
        "#     ('scaler', preprocessing.StandardScaler())\n",
        "])\n",
        "categorical_columns = df_features_train.select_dtypes(include=['object','bool']).columns\n",
        "categorical_transformer = Pipeline(steps=[\n",
        "#     ('imputer', impute.SimpleImputer(strategy='constant', fill_value='NA')),\n",
        "    ('onehot', preprocessing.OneHotEncoder(sparse=False, handle_unknown='ignore'))\n",
        "])\n",
        "\n",
        "print(\"Number of numerical columns:\", len(numeric_columns))\n",
        "print(\"Number of categorical columns:\", len(categorical_columns))\n",
        "print(\"Total number of columns in the feature dataframe:\", df_features_train.shape[1])"
      ],
      "execution_count": 30,
      "outputs": [
        {
          "output_type": "stream",
          "text": [
            "Number of numerical columns: 11\n",
            "Number of categorical columns: 19\n",
            "Total number of columns in the feature dataframe: 30\n"
          ],
          "name": "stdout"
        }
      ]
    },
    {
      "cell_type": "code",
      "metadata": {
        "id": "MPyFhjc43l8C",
        "colab": {
          "base_uri": "https://localhost:8080/"
        },
        "outputId": "1e569237-7d8e-4c64-fb1d-9c20ccb54e32"
      },
      "source": [
        "# Compose pipeline for the numerical and categorical features (Block #2 of 2)\n",
        "preprocessor = compose.ColumnTransformer(transformers=[\n",
        "    ('num', numeric_transformer, numeric_columns),\n",
        "    ('cat', categorical_transformer, categorical_columns)\n",
        "])\n",
        "\n",
        "# Display the shapes of the training dataset for final inspection\n",
        "array_features_train = preprocessor.fit_transform(df_features_train)\n",
        "print(\"Transformed features from df_features_train.shape: {} to array_features_train.shape: {}\".format(df_features_train.shape, array_features_train.shape))"
      ],
      "execution_count": 31,
      "outputs": [
        {
          "output_type": "stream",
          "text": [
            "Transformed features from df_features_train.shape: (300000, 30) to array_features_train.shape: (300000, 634)\n"
          ],
          "name": "stdout"
        }
      ]
    },
    {
      "cell_type": "markdown",
      "metadata": {
        "id": "uj81IbIC3l8C"
      },
      "source": [
        "### 3.c) Training Data Balancing"
      ]
    },
    {
      "cell_type": "code",
      "metadata": {
        "id": "Ke6jtd9V3l8C"
      },
      "source": [
        "# Not applicable for this iteration of the project"
      ],
      "execution_count": 32,
      "outputs": []
    },
    {
      "cell_type": "markdown",
      "metadata": {
        "id": "fR-zmIHD3l8C"
      },
      "source": [
        "### 3.d) Feature Selection"
      ]
    },
    {
      "cell_type": "code",
      "metadata": {
        "id": "GTX0mnVe3l8D"
      },
      "source": [
        "# Not applicable for this iteration of the project"
      ],
      "execution_count": 33,
      "outputs": []
    },
    {
      "cell_type": "markdown",
      "metadata": {
        "id": "JGAvblp03l8D"
      },
      "source": [
        "### 3.e) Display the Final Datasets for Model-Building"
      ]
    },
    {
      "cell_type": "code",
      "metadata": {
        "id": "EourCr333l8D",
        "colab": {
          "base_uri": "https://localhost:8080/"
        },
        "outputId": "27373c22-d701-4446-cece-6ab3318eb8e9"
      },
      "source": [
        "# Finalize the training and validation datasets for the modeling activities\n",
        "# array_features_train = df_features_train.to_numpy()\n",
        "array_target_train = df_target_train.ravel()\n",
        "print(\"array_features_train.shape: {} array_target_train.shape: {}\".format(array_features_train.shape, array_target_train.shape))"
      ],
      "execution_count": 34,
      "outputs": [
        {
          "output_type": "stream",
          "text": [
            "array_features_train.shape: (300000, 634) array_target_train.shape: (300000,)\n"
          ],
          "name": "stdout"
        }
      ]
    },
    {
      "cell_type": "code",
      "metadata": {
        "id": "U_DPVC0t3l8D"
      },
      "source": [
        "if NOTIFY_STATUS: status_notify(\"Task 3 - Pre-process Data completed! \"+datetime.now().strftime('%a %B %d, %Y %I:%M:%S %p'))"
      ],
      "execution_count": 35,
      "outputs": []
    },
    {
      "cell_type": "markdown",
      "metadata": {
        "id": "l4q-C4XU3l8D"
      },
      "source": [
        "## Task 4 - Train and Evaluate Models"
      ]
    },
    {
      "cell_type": "code",
      "metadata": {
        "id": "y_zb8Pq13l8D"
      },
      "source": [
        "if NOTIFY_STATUS: status_notify(\"Task 4 - Train and Evaluate Models has begun! \"+datetime.now().strftime('%a %B %d, %Y %I:%M:%S %p'))"
      ],
      "execution_count": 36,
      "outputs": []
    },
    {
      "cell_type": "code",
      "metadata": {
        "id": "Bbls2rTF3l8E"
      },
      "source": [
        "# Define the baseline model for benchmarking\n",
        "def create_nn_model(input_param=array_features_train.shape[1], layer1_nodes=512, layer2_nodes=384, layer3_nodes=256, layer4_nodes=128, layer5_nodes=64,\n",
        "                    layer1_dropout=0.25, layer2_dropout=0.25, layer3_dropout=0.25, layer4_dropout=0.25, layer5_dropout=0.25,\n",
        "                    init_param=DEFAULT_INITIALIZER, classifier_activation=CLASSIFIER_ACTIVATION,\n",
        "                    loss_param=DEFAULT_LOSS, opt_param=DEFAULT_OPTIMIZER, metrics_param=DEFAULT_METRICS):\n",
        "    nn_model = keras.Sequential([\n",
        "        keras.layers.Dense(layer1_nodes, input_shape=(input_param,), activation='relu', kernel_initializer=init_param),\n",
        "        keras.layers.Dropout(layer1_dropout),\n",
        "        keras.layers.Dense(layer2_nodes, activation='relu', kernel_initializer=init_param),\n",
        "        keras.layers.Dropout(layer2_dropout),\n",
        "        keras.layers.Dense(layer3_nodes, activation='relu', kernel_initializer=init_param),\n",
        "        keras.layers.Dropout(layer3_dropout),\n",
        "        keras.layers.Dense(layer4_nodes, activation='relu', kernel_initializer=init_param),\n",
        "        keras.layers.Dropout(layer4_dropout),\n",
        "        keras.layers.Dense(layer5_nodes, activation='relu', kernel_initializer=init_param),\n",
        "        keras.layers.Dropout(layer5_dropout),\n",
        "        keras.layers.Dense(1, activation=classifier_activation)\n",
        "    ])\n",
        "    nn_model.compile(loss=loss_param, optimizer=opt_param, metrics=metrics_param)\n",
        "    return nn_model"
      ],
      "execution_count": 37,
      "outputs": []
    },
    {
      "cell_type": "code",
      "metadata": {
        "id": "fxAHVg7Q3l8G",
        "colab": {
          "base_uri": "https://localhost:8080/"
        },
        "outputId": "d5bdcaf0-66f6-4647-fdfe-40d3f4e12c9a"
      },
      "source": [
        "# Initialize the default model and get a baseline result\n",
        "start_time_module = datetime.now()\n",
        "learning_rate_reduction = ReduceLROnPlateau(monitor='val_roc_auc', patience=3, verbose=1, factor=0.5, min_lr=0.000001)\n",
        "results = list()\n",
        "iteration = 0\n",
        "cv = RepeatedKFold(n_splits=N_FOLDS, n_repeats=N_ITERATIONS, random_state=RNG_SEED)\n",
        "for train_ix, val_ix in cv.split(array_features_train):\n",
        "    feature_train, feature_validation = array_features_train[train_ix], array_features_train[val_ix]\n",
        "    target_train, target_validation = array_target_train[train_ix], array_target_train[val_ix]\n",
        "    reset_random()\n",
        "    baseline_model = create_nn_model()\n",
        "    baseline_model.fit(feature_train, target_train, epochs=MAX_EPOCHS, batch_size=BATCH_SIZE, verbose=0)\n",
        "    model_metric = baseline_model.evaluate(feature_validation, target_validation, verbose=1)[1]\n",
        "    iteration = iteration + 1\n",
        "    print('Score from iteration %d >>> %.4f' % (iteration, model_metric))\n",
        "    results.append(model_metric)\n",
        "validation_score = np.mean(results)\n",
        "validation_variance = np.std(results)\n",
        "print('Average model scorer from all iterations: %.4f (%.4f)' % (validation_score, validation_variance))\n",
        "print('Total time for model fitting and cross validating:', (datetime.now() - start_time_module))"
      ],
      "execution_count": 38,
      "outputs": [
        {
          "output_type": "stream",
          "text": [
            "1875/1875 [==============================] - 4s 2ms/step - loss: 0.3772 - roc_auc: 0.8839\n",
            "Score from iteration 1 >>> 0.8839\n",
            "1875/1875 [==============================] - 4s 2ms/step - loss: 0.3894 - roc_auc: 0.8868\n",
            "Score from iteration 2 >>> 0.8868\n",
            "1875/1875 [==============================] - 4s 2ms/step - loss: 0.3691 - roc_auc: 0.8844\n",
            "Score from iteration 3 >>> 0.8844\n",
            "1875/1875 [==============================] - 4s 2ms/step - loss: 0.3926 - roc_auc: 0.8801\n",
            "Score from iteration 4 >>> 0.8801\n",
            "1875/1875 [==============================] - 4s 2ms/step - loss: 0.3715 - roc_auc: 0.8859\n",
            "Score from iteration 5 >>> 0.8859\n",
            "Average model scorer from all iterations: 0.8842 (0.0023)\n",
            "Total time for model fitting and cross validating: 0:20:08.173171\n"
          ],
          "name": "stdout"
        }
      ]
    },
    {
      "cell_type": "code",
      "metadata": {
        "id": "2PxkOhNE3l8F"
      },
      "source": [
        "if NOTIFY_STATUS: status_notify(\"Task 4 - Train and Evaluate Models completed! \"+datetime.now().strftime('%a %B %d, %Y %I:%M:%S %p'))"
      ],
      "execution_count": 39,
      "outputs": []
    },
    {
      "cell_type": "markdown",
      "metadata": {
        "id": "rIRMoNm63l8H"
      },
      "source": [
        "## Task 5 - Finalize Model and Present Analysis"
      ]
    },
    {
      "cell_type": "code",
      "metadata": {
        "id": "wgw8i_ME3l8H"
      },
      "source": [
        "if NOTIFY_STATUS: status_notify(\"Task 5 - Finalize Model and Present Analysis has begun! \"+datetime.now().strftime('%a %B %d, %Y %I:%M:%S %p'))"
      ],
      "execution_count": 40,
      "outputs": []
    },
    {
      "cell_type": "markdown",
      "metadata": {
        "id": "YsQONLo33l8I"
      },
      "source": [
        "### 6.a) Train the Final Model"
      ]
    },
    {
      "cell_type": "code",
      "metadata": {
        "id": "TIDASCL13l8I",
        "colab": {
          "base_uri": "https://localhost:8080/"
        },
        "outputId": "af84f428-6294-4050-a76a-b7d0b4d08311"
      },
      "source": [
        "learning_rate_reduction = ReduceLROnPlateau(monitor='roc_auc', patience=3, verbose=1, factor=0.5, min_lr=0.000001)\n",
        "final_model = create_nn_model()\n",
        "final_model.fit(array_features_train, array_target_train, epochs=MAX_EPOCHS, batch_size=BATCH_SIZE, callbacks=[learning_rate_reduction], verbose=1)\n",
        "final_model.summary()"
      ],
      "execution_count": 41,
      "outputs": [
        {
          "output_type": "stream",
          "text": [
            "Epoch 1/15\n",
            "9375/9375 [==============================] - 25s 3ms/step - loss: 0.3717 - roc_auc: 0.8778\n",
            "Epoch 2/15\n",
            "9375/9375 [==============================] - 25s 3ms/step - loss: 0.3619 - roc_auc: 0.8834\n",
            "Epoch 3/15\n",
            "9375/9375 [==============================] - 24s 3ms/step - loss: 0.3581 - roc_auc: 0.8860\n",
            "Epoch 4/15\n",
            "9375/9375 [==============================] - 25s 3ms/step - loss: 0.3558 - roc_auc: 0.8877\n",
            "\n",
            "Epoch 00004: ReduceLROnPlateau reducing learning rate to 0.0005000000237487257.\n",
            "Epoch 5/15\n",
            "9375/9375 [==============================] - 25s 3ms/step - loss: 0.3484 - roc_auc: 0.8922\n",
            "Epoch 6/15\n",
            "9375/9375 [==============================] - 25s 3ms/step - loss: 0.3458 - roc_auc: 0.8938\n",
            "Epoch 7/15\n",
            "9375/9375 [==============================] - 25s 3ms/step - loss: 0.3442 - roc_auc: 0.8948\n",
            "\n",
            "Epoch 00007: ReduceLROnPlateau reducing learning rate to 0.0002500000118743628.\n",
            "Epoch 8/15\n",
            "9375/9375 [==============================] - 25s 3ms/step - loss: 0.3392 - roc_auc: 0.8981\n",
            "Epoch 9/15\n",
            "9375/9375 [==============================] - 25s 3ms/step - loss: 0.3373 - roc_auc: 0.8993\n",
            "Epoch 10/15\n",
            "9375/9375 [==============================] - 24s 3ms/step - loss: 0.3357 - roc_auc: 0.9003\n",
            "\n",
            "Epoch 00010: ReduceLROnPlateau reducing learning rate to 0.0001250000059371814.\n",
            "Epoch 11/15\n",
            "9375/9375 [==============================] - 25s 3ms/step - loss: 0.3323 - roc_auc: 0.9021\n",
            "Epoch 12/15\n",
            "9375/9375 [==============================] - 25s 3ms/step - loss: 0.3317 - roc_auc: 0.9028\n",
            "Epoch 13/15\n",
            "9375/9375 [==============================] - 25s 3ms/step - loss: 0.3304 - roc_auc: 0.9034\n",
            "\n",
            "Epoch 00013: ReduceLROnPlateau reducing learning rate to 6.25000029685907e-05.\n",
            "Epoch 14/15\n",
            "9375/9375 [==============================] - 25s 3ms/step - loss: 0.3286 - roc_auc: 0.9044\n",
            "Epoch 15/15\n",
            "9375/9375 [==============================] - 25s 3ms/step - loss: 0.3280 - roc_auc: 0.9050\n",
            "Model: \"sequential_5\"\n",
            "_________________________________________________________________\n",
            "Layer (type)                 Output Shape              Param #   \n",
            "=================================================================\n",
            "dense_30 (Dense)             (None, 512)               325120    \n",
            "_________________________________________________________________\n",
            "dropout_25 (Dropout)         (None, 512)               0         \n",
            "_________________________________________________________________\n",
            "dense_31 (Dense)             (None, 384)               196992    \n",
            "_________________________________________________________________\n",
            "dropout_26 (Dropout)         (None, 384)               0         \n",
            "_________________________________________________________________\n",
            "dense_32 (Dense)             (None, 256)               98560     \n",
            "_________________________________________________________________\n",
            "dropout_27 (Dropout)         (None, 256)               0         \n",
            "_________________________________________________________________\n",
            "dense_33 (Dense)             (None, 128)               32896     \n",
            "_________________________________________________________________\n",
            "dropout_28 (Dropout)         (None, 128)               0         \n",
            "_________________________________________________________________\n",
            "dense_34 (Dense)             (None, 64)                8256      \n",
            "_________________________________________________________________\n",
            "dropout_29 (Dropout)         (None, 64)                0         \n",
            "_________________________________________________________________\n",
            "dense_35 (Dense)             (None, 1)                 65        \n",
            "=================================================================\n",
            "Total params: 661,889\n",
            "Trainable params: 661,889\n",
            "Non-trainable params: 0\n",
            "_________________________________________________________________\n"
          ],
          "name": "stdout"
        }
      ]
    },
    {
      "cell_type": "markdown",
      "metadata": {
        "id": "tzeEayxg3l8I"
      },
      "source": [
        "### 6.b) Load Test Dataset and Prepare the Submission File"
      ]
    },
    {
      "cell_type": "code",
      "metadata": {
        "id": "x8S2vLNw3l8I",
        "colab": {
          "base_uri": "https://localhost:8080/"
        },
        "outputId": "2043c40b-7b97-4d3c-9725-7e10501ab826"
      },
      "source": [
        "dataset_path = 'https://dainesanalytics.com/datasets/kaggle-tabular-playground-2021mar/test.csv'\n",
        "df_features_test = pd.read_csv(dataset_path, index_col=False)\n",
        "\n",
        "# Take a peek at the dataframe after import\n",
        "print(df_features_test.head())"
      ],
      "execution_count": 42,
      "outputs": [
        {
          "output_type": "stream",
          "text": [
            "   id cat0 cat1 cat2 cat3  ...     cont6     cont7     cont8     cont9    cont10\n",
            "0   5    A    F    A    A  ...  0.551249  0.655693  0.598331  0.359987  0.947489\n",
            "1   6    A    H    C    A  ...  0.248987  0.654614  0.347944  0.565520  0.388580\n",
            "2   8    A    N    C    A  ...  0.746740  0.335590  0.341238  0.252289  0.411592\n",
            "3   9    B    L    C    A  ...  0.538724  0.381566  0.481660  0.348514  0.325723\n",
            "4  11    A    F    A    B  ...  0.178920  0.763479  0.562491  0.466261  0.585781\n",
            "\n",
            "[5 rows x 31 columns]\n"
          ],
          "name": "stdout"
        }
      ]
    },
    {
      "cell_type": "code",
      "metadata": {
        "id": "fVrEdBfT3l8I",
        "colab": {
          "base_uri": "https://localhost:8080/"
        },
        "outputId": "00fffae8-a421-4afe-a118-1a1f5e2f0a3c"
      },
      "source": [
        "df_kaggle_submission = pd.DataFrame()\n",
        "df_kaggle_submission['id'] = df_features_test['id']\n",
        "print(df_kaggle_submission.head())"
      ],
      "execution_count": 43,
      "outputs": [
        {
          "output_type": "stream",
          "text": [
            "   id\n",
            "0   5\n",
            "1   6\n",
            "2   8\n",
            "3   9\n",
            "4  11\n"
          ],
          "name": "stdout"
        }
      ]
    },
    {
      "cell_type": "code",
      "metadata": {
        "id": "1JPFel4u3l8J",
        "colab": {
          "base_uri": "https://localhost:8080/"
        },
        "outputId": "479770f0-1ae1-4b8e-8a9b-c15fbf60c6ef"
      },
      "source": [
        "# Dropping features\n",
        "df_features_test.drop(columns=['id'], inplace=True)\n",
        "\n",
        "# Take a peek at the dataframe after cleaning\n",
        "print(df_features_test.head())"
      ],
      "execution_count": 44,
      "outputs": [
        {
          "output_type": "stream",
          "text": [
            "  cat0 cat1 cat2 cat3 cat4  ...     cont6     cont7     cont8     cont9    cont10\n",
            "0    A    F    A    A    F  ...  0.551249  0.655693  0.598331  0.359987  0.947489\n",
            "1    A    H    C    A    E  ...  0.248987  0.654614  0.347944  0.565520  0.388580\n",
            "2    A    N    C    A    F  ...  0.746740  0.335590  0.341238  0.252289  0.411592\n",
            "3    B    L    C    A    F  ...  0.538724  0.381566  0.481660  0.348514  0.325723\n",
            "4    A    F    A    B    F  ...  0.178920  0.763479  0.562491  0.466261  0.585781\n",
            "\n",
            "[5 rows x 30 columns]\n"
          ],
          "name": "stdout"
        }
      ]
    },
    {
      "cell_type": "code",
      "metadata": {
        "id": "avu1nEAa3l8J",
        "colab": {
          "base_uri": "https://localhost:8080/"
        },
        "outputId": "d2461264-6770-48dd-dc5d-5dfd67c5a6f3"
      },
      "source": [
        "# Finalize the test dataset for the modeling testing\n",
        "array_features_test = preprocessor.transform(df_features_test)\n",
        "print(\"Transformed features from df_features_test.shape: {} to array_features_test.shape: {}\".format(df_features_test.shape, array_features_test.shape))"
      ],
      "execution_count": 45,
      "outputs": [
        {
          "output_type": "stream",
          "text": [
            "Transformed features from df_features_test.shape: (200000, 30) to array_features_test.shape: (200000, 634)\n"
          ],
          "name": "stdout"
        }
      ]
    },
    {
      "cell_type": "code",
      "metadata": {
        "id": "i5YNHp6S3l8J",
        "colab": {
          "base_uri": "https://localhost:8080/"
        },
        "outputId": "873908e6-30db-4ae9-830f-764b353e3a17"
      },
      "source": [
        "# Make batched predictions\n",
        "test_predictions = final_model.predict(array_features_test)\n",
        "print(test_predictions)"
      ],
      "execution_count": 46,
      "outputs": [
        {
          "output_type": "stream",
          "text": [
            "[[0.17061856]\n",
            " [0.4892134 ]\n",
            " [0.00547024]\n",
            " ...\n",
            " [0.6250627 ]\n",
            " [0.08132292]\n",
            " [0.5206092 ]]\n"
          ],
          "name": "stdout"
        }
      ]
    },
    {
      "cell_type": "code",
      "metadata": {
        "id": "zXmbWirt3l8J",
        "colab": {
          "base_uri": "https://localhost:8080/"
        },
        "outputId": "7dbd5b7b-a94e-438b-fa87-b726ec0b8546"
      },
      "source": [
        "df_kaggle_submission['target'] = test_predictions\n",
        "print(df_kaggle_submission.head())"
      ],
      "execution_count": 47,
      "outputs": [
        {
          "output_type": "stream",
          "text": [
            "   id    target\n",
            "0   5  0.170619\n",
            "1   6  0.489213\n",
            "2   8  0.005470\n",
            "3   9  0.162481\n",
            "4  11  0.086389\n"
          ],
          "name": "stdout"
        }
      ]
    },
    {
      "cell_type": "code",
      "metadata": {
        "id": "-czkeOmO3l8K",
        "colab": {
          "base_uri": "https://localhost:8080/"
        },
        "outputId": "67e12dc7-efa0-4838-e3d3-8a6b0060ab06"
      },
      "source": [
        "submission_file = df_kaggle_submission.to_csv(header=True, index=False)\n",
        "filename = 'submission_' + datetime.now().strftime('%Y%m%d-%H%M') + '.csv'\n",
        "with open(filename, 'w') as f:\n",
        "    f.write(submission_file)\n",
        "    print('Completed writing output file: ' + filename)"
      ],
      "execution_count": 48,
      "outputs": [
        {
          "output_type": "stream",
          "text": [
            "Completed writing output file: submission_20210603-1355.csv\n"
          ],
          "name": "stdout"
        }
      ]
    },
    {
      "cell_type": "code",
      "metadata": {
        "id": "TE7Ey5753l8K"
      },
      "source": [
        "if NOTIFY_STATUS: status_notify(\"Task 5 - Finalize Model and Present Analysis completed! \"+datetime.now().strftime('%a %B %d, %Y %I:%M:%S %p'))"
      ],
      "execution_count": 49,
      "outputs": []
    },
    {
      "cell_type": "code",
      "metadata": {
        "id": "nxfno4RT3l8K",
        "colab": {
          "base_uri": "https://localhost:8080/"
        },
        "outputId": "98407d38-11d9-4b27-a48d-f56bcc491191"
      },
      "source": [
        "print ('Total time for the script:',(datetime.now() - start_time_script))"
      ],
      "execution_count": 50,
      "outputs": [
        {
          "output_type": "stream",
          "text": [
            "Total time for the script: 0:26:56.119565\n"
          ],
          "name": "stdout"
        }
      ]
    }
  ]
}