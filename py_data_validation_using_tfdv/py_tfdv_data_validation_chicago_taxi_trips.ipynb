{
 "cells": [
  {
   "cell_type": "markdown",
   "id": "346f3f6b-b7f7-46c7-bdbe-c6406b99ea88",
   "metadata": {},
   "source": [
    "# Data Validation for Chicago Taxi Trips Using Python and TensorFlow Data Validation\n",
    "### David Lowe\n",
    "### June 7, 2021\n",
    "\n",
    "SUMMARY: The project aims to construct a data validation flow using TensorFlow Data Validation (TFDV) and document the end-to-end steps using a template. The Chicago Taxi Trips dataset is a regression situation where we attempt to predict the value of a continuous variable.\n",
    "\n",
    "INTRODUCTION: The City of Chicago collects taxi trip data in its role as a regulatory agency. This example notebook illustrates how we can use TensorFlow Data Validation (TFDV) to investigate and visualize datasets. The data validation process includes examining descriptive statistics, inferring a schema, checking for and fixing anomalies, and detecting drift and skew in the dataset.\n",
    "\n",
    "Additional Notes: I adapted this workflow from the TensorFlow Data Validation tutorial on TensorFlow.org (https://www.tensorflow.org/tfx/tutorials/data_validation/tfdv_basic). I also plan to build a TFDV script for validating future datasets and building machine learning models.\n",
    "\n",
    "CONCLUSION: In this iteration, the data validation workflow helped to validate the features and structures of the training, validation, and test datasets. The workflow also generated statistics over different slices of data which can help track model and anomaly metrics.\n",
    "\n",
    "Dataset Used: Chicago Taxi Trips Dataset, with modifications by TensorFlow.org\n",
    "\n",
    "Dataset ML Model: Binary classification with numerical and categorical attributes\n",
    "\n",
    "Dataset Reference: https://storage.googleapis.com/artifacts.tfx-oss-public.appspot.com/datasets/chicago_data.zip\n",
    "\n",
    "Data validation for a machine learning project generally can be broken down into the following tasks:\n",
    "\n",
    "1. Prepare Environment\n",
    "2. Generate and Visualize Training Data Statistics\n",
    "3. Check Anomalies in Validation Dataset\n",
    "4. Check Anomalies in Test Dataset\n",
    "5. Check for Data Drift and Skew\n",
    "6. Display Stats for Data Slices\n",
    "7. Finalize the Schema"
   ]
  },
  {
   "cell_type": "markdown",
   "id": "a66f38a3-9ee9-4348-9985-d790c25a675f",
   "metadata": {},
   "source": [
    "## Task 1 - Prepare Environment"
   ]
  },
  {
   "cell_type": "markdown",
   "id": "f900ef05-3896-4e50-bd73-cabdc8121644",
   "metadata": {},
   "source": [
    "### 1.a) Load libraries and modules"
   ]
  },
  {
   "cell_type": "code",
   "execution_count": 1,
   "id": "0222c3eb-b4ab-4fa6-b494-c48bb5bfdd21",
   "metadata": {},
   "outputs": [],
   "source": [
    "# Set the random seed number for reproducible results\n",
    "RNG_SEED = 8"
   ]
  },
  {
   "cell_type": "code",
   "execution_count": 2,
   "id": "2f105fcd-f731-4c6c-8444-b4879e63f126",
   "metadata": {},
   "outputs": [],
   "source": [
    "# Import packages\n",
    "import os\n",
    "import pandas as pd\n",
    "from datetime import datetime\n",
    "from sklearn.model_selection import train_test_split\n",
    "\n",
    "import tensorflow as tf\n",
    "import tempfile, urllib, zipfile\n",
    "import tensorflow_data_validation as tfdv\n",
    "from tensorflow.python.lib.io import file_io\n",
    "from tensorflow_data_validation.utils import slicing_util\n",
    "from tensorflow_metadata.proto.v0.statistics_pb2 import DatasetFeatureStatisticsList, DatasetFeatureStatistics\n",
    "from tensorflow_metadata.proto.v0 import schema_pb2"
   ]
  },
  {
   "cell_type": "markdown",
   "id": "d0b0062e-f08b-43dc-81e1-916f5d821c7e",
   "metadata": {},
   "source": [
    "### 1.b) Set up the controlling parameters and functions"
   ]
  },
  {
   "cell_type": "code",
   "execution_count": 3,
   "id": "4ecc6b48-be75-4078-a0a8-9d34610d231c",
   "metadata": {},
   "outputs": [
    {
     "name": "stdout",
     "output_type": "stream",
     "text": [
      "TFDV version: 1.0.0\n"
     ]
    }
   ],
   "source": [
    "# Begin the timer for the script processing\n",
    "start_time_script = datetime.now()\n",
    "\n",
    "# Set the percentage sizes for splitting the dataset\n",
    "TEST_SET_RATIO = 0.5\n",
    "VAL_SET_RATIO = 0.2\n",
    "\n",
    "# Set TF's logger to only display errors to avoid internal warnings being shown\n",
    "tf.get_logger().setLevel('ERROR')\n",
    "print('TFDV version: {}'.format(tfdv.version.__version__))"
   ]
  },
  {
   "cell_type": "markdown",
   "id": "0fd0e037-fc89-4013-a2b3-772204f39950",
   "metadata": {},
   "source": [
    "### 1.c) Load dataset"
   ]
  },
  {
   "cell_type": "code",
   "execution_count": 4,
   "id": "2bb89d11-705e-4efd-8449-87e5bf3dcb9b",
   "metadata": {},
   "outputs": [
    {
     "name": "stdout",
     "output_type": "stream",
     "text": [
      "   pickup_community_area   fare  trip_start_month  trip_start_hour  \\\n",
      "0                     22  12.85                 3               11   \n",
      "1                     22   5.45                 8               21   \n",
      "2                     33   0.00                 5               10   \n",
      "3                     33  11.05                 3               15   \n",
      "4                     33  11.05                 5               15   \n",
      "\n",
      "   trip_start_day  trip_start_timestamp  pickup_latitude  pickup_longitude  \\\n",
      "0               7            1393673400        41.920452        -87.679955   \n",
      "1               7            1439675100        41.920452        -87.679955   \n",
      "2               4            1432118700        41.849247        -87.624135   \n",
      "3               1            1427037300        41.849247        -87.624135   \n",
      "4               6            1401464700        41.849247        -87.624135   \n",
      "\n",
      "   dropoff_latitude  dropoff_longitude  trip_miles  pickup_census_tract  \\\n",
      "0         41.877406         -87.621972         0.0                  NaN   \n",
      "1         41.906771         -87.681025         1.2                  NaN   \n",
      "2         41.849247         -87.624135         0.0                  NaN   \n",
      "3         41.892508         -87.626215         0.0                  NaN   \n",
      "4         41.892508         -87.626215         3.2                  NaN   \n",
      "\n",
      "   dropoff_census_tract payment_type                    company  trip_seconds  \\\n",
      "0          1.703132e+10         Cash  Taxi Affiliation Services           720   \n",
      "1          1.703124e+10         Cash  Dispatch Taxi Affiliation           360   \n",
      "2          1.703184e+10         Cash   Northwest Management LLC             0   \n",
      "3          1.703108e+10         Cash  Taxi Affiliation Services           900   \n",
      "4          1.703108e+10         Cash                        NaN           960   \n",
      "\n",
      "   dropoff_community_area  tips  \n",
      "0                    32.0   0.0  \n",
      "1                    24.0   0.0  \n",
      "2                    33.0   0.0  \n",
      "3                     8.0   0.0  \n",
      "4                     8.0   0.0  \n"
     ]
    }
   ],
   "source": [
    "# Read CSV data into a dataframe and mark the missing data as NaN\n",
    "dataset_path = 'https://dainesanalytics.com/datasets/tensorflow-chicago-taxi-trips/train_data.csv'\n",
    "df_train = pd.read_csv(dataset_path, header=0)\n",
    "\n",
    "# Take a peek at the dataframe after import\n",
    "print(df_train.head())"
   ]
  },
  {
   "cell_type": "code",
   "execution_count": 5,
   "id": "117edd99-d09d-48a8-8a90-1fcee1d7a9f4",
   "metadata": {},
   "outputs": [
    {
     "name": "stdout",
     "output_type": "stream",
     "text": [
      "<class 'pandas.core.frame.DataFrame'>\n",
      "RangeIndex: 10000 entries, 0 to 9999\n",
      "Data columns (total 18 columns):\n",
      " #   Column                  Non-Null Count  Dtype  \n",
      "---  ------                  --------------  -----  \n",
      " 0   pickup_community_area   10000 non-null  int64  \n",
      " 1   fare                    10000 non-null  float64\n",
      " 2   trip_start_month        10000 non-null  int64  \n",
      " 3   trip_start_hour         10000 non-null  int64  \n",
      " 4   trip_start_day          10000 non-null  int64  \n",
      " 5   trip_start_timestamp    10000 non-null  int64  \n",
      " 6   pickup_latitude         10000 non-null  float64\n",
      " 7   pickup_longitude        10000 non-null  float64\n",
      " 8   dropoff_latitude        9693 non-null   float64\n",
      " 9   dropoff_longitude       9693 non-null   float64\n",
      " 10  trip_miles              10000 non-null  float64\n",
      " 11  pickup_census_tract     0 non-null      float64\n",
      " 12  dropoff_census_tract    7148 non-null   float64\n",
      " 13  payment_type            10000 non-null  object \n",
      " 14  company                 6558 non-null   object \n",
      " 15  trip_seconds            10000 non-null  int64  \n",
      " 16  dropoff_community_area  9677 non-null   float64\n",
      " 17  tips                    10000 non-null  float64\n",
      "dtypes: float64(10), int64(6), object(2)\n",
      "memory usage: 1.4+ MB\n"
     ]
    }
   ],
   "source": [
    "df_train.info(verbose=True)"
   ]
  },
  {
   "cell_type": "code",
   "execution_count": 6,
   "id": "2dfb86a1-4807-4f01-9265-4f3a70dc9464",
   "metadata": {},
   "outputs": [
    {
     "name": "stdout",
     "output_type": "stream",
     "text": [
      "   pickup_community_area   fare  trip_start_month  trip_start_hour  \\\n",
      "0                     60  27.05                10                2   \n",
      "1                     10   5.85                10                1   \n",
      "2                     14  16.65                 5                7   \n",
      "3                     13  16.45                11               12   \n",
      "4                     16  32.05                12                1   \n",
      "\n",
      "   trip_start_day  trip_start_timestamp  pickup_latitude  pickup_longitude  \\\n",
      "0               3            1380593700        41.836150        -87.648788   \n",
      "1               2            1382319000        41.985015        -87.804532   \n",
      "2               5            1369897200        41.968069        -87.721559   \n",
      "3               3            1446554700        41.983636        -87.723583   \n",
      "4               1            1417916700        41.953582        -87.723452   \n",
      "\n",
      "   dropoff_latitude  dropoff_longitude  trip_miles  pickup_census_tract  \\\n",
      "0               NaN                NaN        12.6                  NaN   \n",
      "1               NaN                NaN         0.0                  NaN   \n",
      "2               NaN                NaN         0.0                  NaN   \n",
      "3               NaN                NaN         6.9                  NaN   \n",
      "4               NaN                NaN        15.4                  NaN   \n",
      "\n",
      "   dropoff_census_tract payment_type                    company  trip_seconds  \\\n",
      "0                   NaN         Cash  Taxi Affiliation Services          1380   \n",
      "1                   NaN         Cash  Taxi Affiliation Services           180   \n",
      "2                   NaN         Cash  Dispatch Taxi Affiliation          1080   \n",
      "3                   NaN         Cash                        NaN           780   \n",
      "4                   NaN         Cash                        NaN          1200   \n",
      "\n",
      "   dropoff_community_area  tips  \n",
      "0                     NaN   0.0  \n",
      "1                     NaN   0.0  \n",
      "2                     NaN   0.0  \n",
      "3                     NaN   0.0  \n",
      "4                     NaN   0.0  \n"
     ]
    }
   ],
   "source": [
    "# Read CSV data into a dataframe and mark the missing data as NaN\n",
    "dataset_path = 'https://dainesanalytics.com/datasets/tensorflow-chicago-taxi-trips/eval_data.csv'\n",
    "df_val = pd.read_csv(dataset_path, header=0)\n",
    "\n",
    "# Take a peek at the dataframe after import\n",
    "print(df_val.head())"
   ]
  },
  {
   "cell_type": "code",
   "execution_count": 7,
   "id": "8d465f54-0d2d-4911-b54b-ce8157952294",
   "metadata": {},
   "outputs": [
    {
     "name": "stdout",
     "output_type": "stream",
     "text": [
      "<class 'pandas.core.frame.DataFrame'>\n",
      "RangeIndex: 5000 entries, 0 to 4999\n",
      "Data columns (total 18 columns):\n",
      " #   Column                  Non-Null Count  Dtype  \n",
      "---  ------                  --------------  -----  \n",
      " 0   pickup_community_area   5000 non-null   int64  \n",
      " 1   fare                    5000 non-null   float64\n",
      " 2   trip_start_month        5000 non-null   int64  \n",
      " 3   trip_start_hour         5000 non-null   int64  \n",
      " 4   trip_start_day          5000 non-null   int64  \n",
      " 5   trip_start_timestamp    5000 non-null   int64  \n",
      " 6   pickup_latitude         5000 non-null   float64\n",
      " 7   pickup_longitude        5000 non-null   float64\n",
      " 8   dropoff_latitude        4827 non-null   float64\n",
      " 9   dropoff_longitude       4827 non-null   float64\n",
      " 10  trip_miles              5000 non-null   float64\n",
      " 11  pickup_census_tract     0 non-null      float64\n",
      " 12  dropoff_census_tract    3613 non-null   float64\n",
      " 13  payment_type            5000 non-null   object \n",
      " 14  company                 3302 non-null   object \n",
      " 15  trip_seconds            5000 non-null   int64  \n",
      " 16  dropoff_community_area  4819 non-null   float64\n",
      " 17  tips                    5000 non-null   float64\n",
      "dtypes: float64(10), int64(6), object(2)\n",
      "memory usage: 703.2+ KB\n"
     ]
    }
   ],
   "source": [
    "df_val.info(verbose=True)"
   ]
  },
  {
   "cell_type": "code",
   "execution_count": 8,
   "id": "7e318626-8e62-495c-8066-516dd321d490",
   "metadata": {},
   "outputs": [
    {
     "name": "stdout",
     "output_type": "stream",
     "text": [
      "   pickup_community_area   fare  trip_start_month  trip_start_hour  \\\n",
      "0                      8   6.45                 9               17   \n",
      "1                      8   8.05                10               20   \n",
      "2                     32   7.65                 3               20   \n",
      "3                      8  36.05                 6               17   \n",
      "4                     32   4.45                 4               12   \n",
      "\n",
      "   trip_start_day  trip_start_timestamp  pickup_latitude  pickup_longitude  \\\n",
      "0               4            1441213200        41.892073        -87.628874   \n",
      "1               7            1414269000        41.899156        -87.626211   \n",
      "2               2            1395087300        41.880994        -87.632746   \n",
      "3               7            1370713500        41.890922        -87.618868   \n",
      "4               3            1398775500        41.880994        -87.632746   \n",
      "\n",
      "   dropoff_latitude  dropoff_longitude  trip_miles  pickup_census_tract  \\\n",
      "0         41.880994         -87.632746         0.9                  NaN   \n",
      "1         41.880994         -87.632746         0.0                  NaN   \n",
      "2         41.877406         -87.621972         1.9                  NaN   \n",
      "3         41.979071         -87.903040        17.4                  NaN   \n",
      "4         41.880994         -87.632746         0.3                  NaN   \n",
      "\n",
      "   dropoff_census_tract payment_type                    company  trip_seconds  \\\n",
      "0          1.703184e+10  Credit Card  Taxi Affiliation Services           540   \n",
      "1          1.703184e+10         Cash  Taxi Affiliation Services           840   \n",
      "2          1.703132e+10         Cash                        NaN           480   \n",
      "3          1.703198e+10         Cash  Dispatch Taxi Affiliation          2280   \n",
      "4          1.703184e+10         Cash                        NaN           240   \n",
      "\n",
      "   dropoff_community_area  \n",
      "0                    32.0  \n",
      "1                    32.0  \n",
      "2                    32.0  \n",
      "3                    76.0  \n",
      "4                    32.0  \n"
     ]
    }
   ],
   "source": [
    "# Read CSV data into a dataframe and mark the missing data as NaN\n",
    "dataset_path = 'https://dainesanalytics.com/datasets/tensorflow-chicago-taxi-trips/serving_data.csv'\n",
    "df_test = pd.read_csv(dataset_path, header=0)\n",
    "\n",
    "# Take a peek at the dataframe after import\n",
    "print(df_test.head())"
   ]
  },
  {
   "cell_type": "code",
   "execution_count": 9,
   "id": "18adb086-8a3c-4fae-876d-47873fca56bb",
   "metadata": {},
   "outputs": [
    {
     "name": "stdout",
     "output_type": "stream",
     "text": [
      "<class 'pandas.core.frame.DataFrame'>\n",
      "RangeIndex: 100 entries, 0 to 99\n",
      "Data columns (total 17 columns):\n",
      " #   Column                  Non-Null Count  Dtype  \n",
      "---  ------                  --------------  -----  \n",
      " 0   pickup_community_area   100 non-null    int64  \n",
      " 1   fare                    100 non-null    float64\n",
      " 2   trip_start_month        100 non-null    int64  \n",
      " 3   trip_start_hour         100 non-null    int64  \n",
      " 4   trip_start_day          100 non-null    int64  \n",
      " 5   trip_start_timestamp    100 non-null    int64  \n",
      " 6   pickup_latitude         100 non-null    float64\n",
      " 7   pickup_longitude        100 non-null    float64\n",
      " 8   dropoff_latitude        98 non-null     float64\n",
      " 9   dropoff_longitude       98 non-null     float64\n",
      " 10  trip_miles              100 non-null    float64\n",
      " 11  pickup_census_tract     0 non-null      float64\n",
      " 12  dropoff_census_tract    74 non-null     float64\n",
      " 13  payment_type            100 non-null    object \n",
      " 14  company                 66 non-null     object \n",
      " 15  trip_seconds            100 non-null    int64  \n",
      " 16  dropoff_community_area  98 non-null     float64\n",
      "dtypes: float64(9), int64(6), object(2)\n",
      "memory usage: 13.4+ KB\n"
     ]
    }
   ],
   "source": [
    "df_test.info(verbose=True)"
   ]
  },
  {
   "cell_type": "markdown",
   "id": "c448f006-0dc3-4f42-907d-a5ce52efd0d1",
   "metadata": {},
   "source": [
    "### 1.d) Splitting Data into Sets"
   ]
  },
  {
   "cell_type": "code",
   "execution_count": 10,
   "id": "d6a95c31-98a6-433e-b8cb-d992fbcc136c",
   "metadata": {},
   "outputs": [
    {
     "name": "stdout",
     "output_type": "stream",
     "text": [
      "Training dataset has 10000 records and 18 columns.\n",
      "Validation dataset has 5000 records and 18 columns.\n",
      "Test dataset has 100 records and 17 columns\n"
     ]
    }
   ],
   "source": [
    "# Split the data further into training, validation, and test datasets\n",
    "# df_train, df_val = train_test_split(df_dataset_import, test_size=VAL_SET_RATIO, random_state=RNG_SEED)\n",
    "\n",
    "print(\"Training dataset has {} records and {} columns.\".format(df_train.shape[0], df_train.shape[1]))\n",
    "print(\"Validation dataset has {} records and {} columns.\".format(df_val.shape[0], df_val.shape[1]))\n",
    "print(\"Test dataset has {} records and {} columns\".format(df_test.shape[0], df_test.shape[1]))"
   ]
  },
  {
   "cell_type": "markdown",
   "id": "48cb1f6b-de19-47d7-8039-0bb9ca193645",
   "metadata": {},
   "source": [
    "## Task 2 - Generate and Visualize Training Data Statistics"
   ]
  },
  {
   "cell_type": "markdown",
   "id": "9e54a76f-3710-449f-a085-c693fa99ae05",
   "metadata": {},
   "source": [
    "### 2.a) Removing Irrelevant Features"
   ]
  },
  {
   "cell_type": "code",
   "execution_count": 11,
   "id": "1c1d3dda-f84c-4d26-b7b1-a16a575f4c57",
   "metadata": {},
   "outputs": [
    {
     "name": "stdout",
     "output_type": "stream",
     "text": [
      "['pickup_community_area', 'fare', 'trip_start_month', 'trip_start_hour', 'trip_start_day', 'trip_start_timestamp', 'pickup_latitude', 'pickup_longitude', 'dropoff_latitude', 'dropoff_longitude', 'trip_miles', 'pickup_census_tract', 'dropoff_census_tract', 'payment_type', 'trip_seconds', 'dropoff_community_area', 'tips']\n"
     ]
    }
   ],
   "source": [
    "# Define features to remove\n",
    "features_to_remove = {'company'}\n",
    "\n",
    "# Collect features to whitelist while computing the statistics\n",
    "features_to_keep = [col for col in df_train.columns if (col not in features_to_remove)]\n",
    "\n",
    "# Instantiate a StatsOptions class and define the feature_whitelist property\n",
    "options_train = tfdv.StatsOptions(feature_allowlist=features_to_keep)\n",
    "\n",
    "# Review the features to generate the statistics\n",
    "print(options_train.feature_allowlist)"
   ]
  },
  {
   "cell_type": "markdown",
   "id": "b413c352-aa1e-4786-9c44-2827da5d4326",
   "metadata": {},
   "source": [
    "### 2.b) Generate Statistics for Training Data"
   ]
  },
  {
   "cell_type": "code",
   "execution_count": 12,
   "id": "704c07bb-584d-44a6-ba3e-bc3d7db5ec0b",
   "metadata": {},
   "outputs": [
    {
     "name": "stdout",
     "output_type": "stream",
     "text": [
      "Number of features used: 17\n",
      "Number of examples used: 10000\n",
      "First feature: pickup_community_area\n",
      "Last feature: tips\n"
     ]
    }
   ],
   "source": [
    "train_stats = tfdv.generate_statistics_from_dataframe(df_train, stats_options=options_train)\n",
    "\n",
    "# get the number of features used to compute statistics\n",
    "print(f\"Number of features used: {len(train_stats.datasets[0].features)}\")\n",
    "\n",
    "# check the number of examples used\n",
    "print(f\"Number of examples used: {train_stats.datasets[0].num_examples}\")\n",
    "\n",
    "# check the column names of the first and last feature\n",
    "print(f\"First feature: {train_stats.datasets[0].features[0].path.step[0]}\")\n",
    "print(f\"Last feature: {train_stats.datasets[0].features[-1].path.step[0]}\")"
   ]
  },
  {
   "cell_type": "markdown",
   "id": "53fa62ba-ccd1-4f2a-b4d4-b0e986ac1623",
   "metadata": {},
   "source": [
    "### 2.c) Visualize Training Statistics"
   ]
  },
  {
   "cell_type": "code",
   "execution_count": 13,
   "id": "2e4a9dd6-9ef6-423d-84c5-a185a30be7bc",
   "metadata": {},
   "outputs": [
    {
     "data": {
      "text/html": [
       "<iframe id='facets-iframe' width=\"100%\" height=\"500px\"></iframe>\n",
       "        <script>\n",
       "        facets_iframe = document.getElementById('facets-iframe');\n",
       "        facets_html = '<script src=\"https://cdnjs.cloudflare.com/ajax/libs/webcomponentsjs/1.3.3/webcomponents-lite.js\"><\\/script><link rel=\"import\" href=\"https://raw.githubusercontent.com/PAIR-code/facets/master/facets-dist/facets-jupyter.html\"><facets-overview proto-input=\"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\"></facets-overview>';\n",
       "        facets_iframe.srcdoc = facets_html;\n",
       "         facets_iframe.id = \"\";\n",
       "         setTimeout(() => {\n",
       "           facets_iframe.setAttribute('height', facets_iframe.contentWindow.document.body.offsetHeight + 'px')\n",
       "         }, 1500)\n",
       "         </script>"
      ],
      "text/plain": [
       "<IPython.core.display.HTML object>"
      ]
     },
     "metadata": {},
     "output_type": "display_data"
    }
   ],
   "source": [
    "tfdv.visualize_statistics(train_stats)"
   ]
  },
  {
   "cell_type": "markdown",
   "id": "08b1f16a-f4f7-48b0-be68-accd9a517db3",
   "metadata": {},
   "source": [
    "### 2.d) Infer Training Schema"
   ]
  },
  {
   "cell_type": "code",
   "execution_count": 14,
   "id": "766ae304-b443-4e28-b3ed-8cd2595f2e45",
   "metadata": {},
   "outputs": [
    {
     "data": {
      "text/html": [
       "<div>\n",
       "<style scoped>\n",
       "    .dataframe tbody tr th:only-of-type {\n",
       "        vertical-align: middle;\n",
       "    }\n",
       "\n",
       "    .dataframe tbody tr th {\n",
       "        vertical-align: top;\n",
       "    }\n",
       "\n",
       "    .dataframe thead th {\n",
       "        text-align: right;\n",
       "    }\n",
       "</style>\n",
       "<table border=\"1\" class=\"dataframe\">\n",
       "  <thead>\n",
       "    <tr style=\"text-align: right;\">\n",
       "      <th></th>\n",
       "      <th>Type</th>\n",
       "      <th>Presence</th>\n",
       "      <th>Valency</th>\n",
       "      <th>Domain</th>\n",
       "    </tr>\n",
       "    <tr>\n",
       "      <th>Feature name</th>\n",
       "      <th></th>\n",
       "      <th></th>\n",
       "      <th></th>\n",
       "      <th></th>\n",
       "    </tr>\n",
       "  </thead>\n",
       "  <tbody>\n",
       "    <tr>\n",
       "      <th>'pickup_community_area'</th>\n",
       "      <td>INT</td>\n",
       "      <td>required</td>\n",
       "      <td></td>\n",
       "      <td>-</td>\n",
       "    </tr>\n",
       "    <tr>\n",
       "      <th>'fare'</th>\n",
       "      <td>FLOAT</td>\n",
       "      <td>required</td>\n",
       "      <td></td>\n",
       "      <td>-</td>\n",
       "    </tr>\n",
       "    <tr>\n",
       "      <th>'trip_start_month'</th>\n",
       "      <td>INT</td>\n",
       "      <td>required</td>\n",
       "      <td></td>\n",
       "      <td>-</td>\n",
       "    </tr>\n",
       "    <tr>\n",
       "      <th>'trip_start_hour'</th>\n",
       "      <td>INT</td>\n",
       "      <td>required</td>\n",
       "      <td></td>\n",
       "      <td>-</td>\n",
       "    </tr>\n",
       "    <tr>\n",
       "      <th>'trip_start_day'</th>\n",
       "      <td>INT</td>\n",
       "      <td>required</td>\n",
       "      <td></td>\n",
       "      <td>-</td>\n",
       "    </tr>\n",
       "    <tr>\n",
       "      <th>'trip_start_timestamp'</th>\n",
       "      <td>INT</td>\n",
       "      <td>required</td>\n",
       "      <td></td>\n",
       "      <td>-</td>\n",
       "    </tr>\n",
       "    <tr>\n",
       "      <th>'pickup_latitude'</th>\n",
       "      <td>FLOAT</td>\n",
       "      <td>required</td>\n",
       "      <td></td>\n",
       "      <td>-</td>\n",
       "    </tr>\n",
       "    <tr>\n",
       "      <th>'pickup_longitude'</th>\n",
       "      <td>FLOAT</td>\n",
       "      <td>required</td>\n",
       "      <td></td>\n",
       "      <td>-</td>\n",
       "    </tr>\n",
       "    <tr>\n",
       "      <th>'dropoff_latitude'</th>\n",
       "      <td>FLOAT</td>\n",
       "      <td>optional</td>\n",
       "      <td>single</td>\n",
       "      <td>-</td>\n",
       "    </tr>\n",
       "    <tr>\n",
       "      <th>'dropoff_longitude'</th>\n",
       "      <td>FLOAT</td>\n",
       "      <td>optional</td>\n",
       "      <td>single</td>\n",
       "      <td>-</td>\n",
       "    </tr>\n",
       "    <tr>\n",
       "      <th>'trip_miles'</th>\n",
       "      <td>FLOAT</td>\n",
       "      <td>required</td>\n",
       "      <td></td>\n",
       "      <td>-</td>\n",
       "    </tr>\n",
       "    <tr>\n",
       "      <th>'pickup_census_tract'</th>\n",
       "      <td>FLOAT</td>\n",
       "      <td>optional</td>\n",
       "      <td></td>\n",
       "      <td>-</td>\n",
       "    </tr>\n",
       "    <tr>\n",
       "      <th>'dropoff_census_tract'</th>\n",
       "      <td>FLOAT</td>\n",
       "      <td>optional</td>\n",
       "      <td>single</td>\n",
       "      <td>-</td>\n",
       "    </tr>\n",
       "    <tr>\n",
       "      <th>'payment_type'</th>\n",
       "      <td>STRING</td>\n",
       "      <td>required</td>\n",
       "      <td></td>\n",
       "      <td>'payment_type'</td>\n",
       "    </tr>\n",
       "    <tr>\n",
       "      <th>'trip_seconds'</th>\n",
       "      <td>INT</td>\n",
       "      <td>required</td>\n",
       "      <td></td>\n",
       "      <td>-</td>\n",
       "    </tr>\n",
       "    <tr>\n",
       "      <th>'dropoff_community_area'</th>\n",
       "      <td>FLOAT</td>\n",
       "      <td>optional</td>\n",
       "      <td>single</td>\n",
       "      <td>-</td>\n",
       "    </tr>\n",
       "    <tr>\n",
       "      <th>'tips'</th>\n",
       "      <td>FLOAT</td>\n",
       "      <td>required</td>\n",
       "      <td></td>\n",
       "      <td>-</td>\n",
       "    </tr>\n",
       "  </tbody>\n",
       "</table>\n",
       "</div>"
      ],
      "text/plain": [
       "                            Type  Presence Valency          Domain\n",
       "Feature name                                                      \n",
       "'pickup_community_area'      INT  required                       -\n",
       "'fare'                     FLOAT  required                       -\n",
       "'trip_start_month'           INT  required                       -\n",
       "'trip_start_hour'            INT  required                       -\n",
       "'trip_start_day'             INT  required                       -\n",
       "'trip_start_timestamp'       INT  required                       -\n",
       "'pickup_latitude'          FLOAT  required                       -\n",
       "'pickup_longitude'         FLOAT  required                       -\n",
       "'dropoff_latitude'         FLOAT  optional  single               -\n",
       "'dropoff_longitude'        FLOAT  optional  single               -\n",
       "'trip_miles'               FLOAT  required                       -\n",
       "'pickup_census_tract'      FLOAT  optional                       -\n",
       "'dropoff_census_tract'     FLOAT  optional  single               -\n",
       "'payment_type'            STRING  required          'payment_type'\n",
       "'trip_seconds'               INT  required                       -\n",
       "'dropoff_community_area'   FLOAT  optional  single               -\n",
       "'tips'                     FLOAT  required                       -"
      ]
     },
     "metadata": {},
     "output_type": "display_data"
    },
    {
     "name": "stderr",
     "output_type": "stream",
     "text": [
      "/home/tensorflowml/appdev/lib/python3.8/site-packages/tensorflow_data_validation/utils/display_util.py:180: FutureWarning: Passing a negative integer is deprecated in version 1.0 and will not be supported in future version. Instead, use None to not limit the column width.\n",
      "  pd.set_option('max_colwidth', -1)\n"
     ]
    },
    {
     "data": {
      "text/html": [
       "<div>\n",
       "<style scoped>\n",
       "    .dataframe tbody tr th:only-of-type {\n",
       "        vertical-align: middle;\n",
       "    }\n",
       "\n",
       "    .dataframe tbody tr th {\n",
       "        vertical-align: top;\n",
       "    }\n",
       "\n",
       "    .dataframe thead th {\n",
       "        text-align: right;\n",
       "    }\n",
       "</style>\n",
       "<table border=\"1\" class=\"dataframe\">\n",
       "  <thead>\n",
       "    <tr style=\"text-align: right;\">\n",
       "      <th></th>\n",
       "      <th>Values</th>\n",
       "    </tr>\n",
       "    <tr>\n",
       "      <th>Domain</th>\n",
       "      <th></th>\n",
       "    </tr>\n",
       "  </thead>\n",
       "  <tbody>\n",
       "    <tr>\n",
       "      <th>'payment_type'</th>\n",
       "      <td>'Cash', 'Credit Card', 'Dispute', 'No Charge', 'Pcard', 'Unknown'</td>\n",
       "    </tr>\n",
       "  </tbody>\n",
       "</table>\n",
       "</div>"
      ],
      "text/plain": [
       "                                                                           Values\n",
       "Domain                                                                           \n",
       "'payment_type'  'Cash', 'Credit Card', 'Dispute', 'No Charge', 'Pcard', 'Unknown'"
      ]
     },
     "metadata": {},
     "output_type": "display_data"
    }
   ],
   "source": [
    "# Infer the data schema by using the training statistics previously generated\n",
    "dataset_schema = tfdv.infer_schema(train_stats)\n",
    "\n",
    "# Display the data schema\n",
    "tfdv.display_schema(dataset_schema)"
   ]
  },
  {
   "cell_type": "markdown",
   "id": "b90fbcbf-0380-4cd5-a857-53b4efe91414",
   "metadata": {},
   "source": [
    "## Task 3 - Check Anomalies in Validation Dataset"
   ]
  },
  {
   "cell_type": "markdown",
   "id": "83c57d90-be71-4414-af4c-d56ae5eb0fa7",
   "metadata": {},
   "source": [
    "### 3.a) Generate Statistics for Validation Data"
   ]
  },
  {
   "cell_type": "code",
   "execution_count": 15,
   "id": "d17b303b-ca88-4324-9b4f-28a164d42b27",
   "metadata": {},
   "outputs": [
    {
     "name": "stdout",
     "output_type": "stream",
     "text": [
      "Number of features used: 17\n",
      "Number of examples used: 5000\n",
      "First feature: pickup_community_area\n",
      "Last feature: tips\n"
     ]
    }
   ],
   "source": [
    "val_stats = tfdv.generate_statistics_from_dataframe(df_val, stats_options=options_train)\n",
    "\n",
    "# get the number of features used to compute statistics\n",
    "print(f\"Number of features used: {len(val_stats.datasets[0].features)}\")\n",
    "\n",
    "# check the number of examples used\n",
    "print(f\"Number of examples used: {val_stats.datasets[0].num_examples}\")\n",
    "\n",
    "# check the column names of the first and last feature\n",
    "print(f\"First feature: {val_stats.datasets[0].features[0].path.step[0]}\")\n",
    "print(f\"Last feature: {val_stats.datasets[0].features[-1].path.step[0]}\")"
   ]
  },
  {
   "cell_type": "markdown",
   "id": "f369a2a9-2052-4d73-ae6e-141be055c48b",
   "metadata": {},
   "source": [
    "### 3.b) Compare Validation with Training Statistics"
   ]
  },
  {
   "cell_type": "code",
   "execution_count": 16,
   "id": "a82f821b-bc4a-40d0-9802-eac3e81ecab2",
   "metadata": {
    "tags": []
   },
   "outputs": [
    {
     "data": {
      "text/html": [
       "<iframe id='facets-iframe' width=\"100%\" height=\"500px\"></iframe>\n",
       "        <script>\n",
       "        facets_iframe = document.getElementById('facets-iframe');\n",
       "        facets_html = '<script src=\"https://cdnjs.cloudflare.com/ajax/libs/webcomponentsjs/1.3.3/webcomponents-lite.js\"><\\/script><link rel=\"import\" href=\"https://raw.githubusercontent.com/PAIR-code/facets/master/facets-dist/facets-jupyter.html\"><facets-overview proto-input=\"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\"></facets-overview>';\n",
       "        facets_iframe.srcdoc = facets_html;\n",
       "         facets_iframe.id = \"\";\n",
       "         setTimeout(() => {\n",
       "           facets_iframe.setAttribute('height', facets_iframe.contentWindow.document.body.offsetHeight + 'px')\n",
       "         }, 1500)\n",
       "         </script>"
      ],
      "text/plain": [
       "<IPython.core.display.HTML object>"
      ]
     },
     "metadata": {},
     "output_type": "display_data"
    }
   ],
   "source": [
    "tfdv.visualize_statistics(lhs_statistics=val_stats, rhs_statistics=train_stats,\n",
    "                          lhs_name='VAL_DATASET', rhs_name='TRAIN_DATASET')"
   ]
  },
  {
   "cell_type": "markdown",
   "id": "cab3434b-befe-4b26-965d-23b1d9b5fe5f",
   "metadata": {},
   "source": [
    "### 3.c) Detect Anomalies"
   ]
  },
  {
   "cell_type": "code",
   "execution_count": 17,
   "id": "ed5a6e17-da7e-4ab6-9c75-7ebd8bab1e67",
   "metadata": {},
   "outputs": [
    {
     "name": "stderr",
     "output_type": "stream",
     "text": [
      "/home/tensorflowml/appdev/lib/python3.8/site-packages/tensorflow_data_validation/utils/display_util.py:217: FutureWarning: Passing a negative integer is deprecated in version 1.0 and will not be supported in future version. Instead, use None to not limit the column width.\n",
      "  pd.set_option('max_colwidth', -1)\n"
     ]
    },
    {
     "data": {
      "text/html": [
       "<div>\n",
       "<style scoped>\n",
       "    .dataframe tbody tr th:only-of-type {\n",
       "        vertical-align: middle;\n",
       "    }\n",
       "\n",
       "    .dataframe tbody tr th {\n",
       "        vertical-align: top;\n",
       "    }\n",
       "\n",
       "    .dataframe thead th {\n",
       "        text-align: right;\n",
       "    }\n",
       "</style>\n",
       "<table border=\"1\" class=\"dataframe\">\n",
       "  <thead>\n",
       "    <tr style=\"text-align: right;\">\n",
       "      <th></th>\n",
       "      <th>Anomaly short description</th>\n",
       "      <th>Anomaly long description</th>\n",
       "    </tr>\n",
       "    <tr>\n",
       "      <th>Feature name</th>\n",
       "      <th></th>\n",
       "      <th></th>\n",
       "    </tr>\n",
       "  </thead>\n",
       "  <tbody>\n",
       "    <tr>\n",
       "      <th>'payment_type'</th>\n",
       "      <td>Unexpected string values</td>\n",
       "      <td>Examples contain values missing from the schema: Prcard (&lt;1%).</td>\n",
       "    </tr>\n",
       "  </tbody>\n",
       "</table>\n",
       "</div>"
      ],
      "text/plain": [
       "               Anomaly short description  \\\n",
       "Feature name                               \n",
       "'payment_type'  Unexpected string values   \n",
       "\n",
       "                                                       Anomaly long description  \n",
       "Feature name                                                                     \n",
       "'payment_type'  Examples contain values missing from the schema: Prcard (<1%).   "
      ]
     },
     "metadata": {},
     "output_type": "display_data"
    }
   ],
   "source": [
    "val_anomalies = tfdv.validate_statistics(statistics=val_stats, schema=dataset_schema)\n",
    "tfdv.display_anomalies(val_anomalies)"
   ]
  },
  {
   "cell_type": "markdown",
   "id": "fac7dbd6-c584-4111-b4d5-8c80ab46de3f",
   "metadata": {},
   "source": [
    "### 3.d) Fix Validation Data Anomalies in Schema"
   ]
  },
  {
   "cell_type": "code",
   "execution_count": 18,
   "id": "5bc71224-b3b4-4363-98a9-cd8cf2838f6c",
   "metadata": {},
   "outputs": [
    {
     "name": "stderr",
     "output_type": "stream",
     "text": [
      "/home/tensorflowml/appdev/lib/python3.8/site-packages/tensorflow_data_validation/utils/display_util.py:217: FutureWarning: Passing a negative integer is deprecated in version 1.0 and will not be supported in future version. Instead, use None to not limit the column width.\n",
      "  pd.set_option('max_colwidth', -1)\n"
     ]
    },
    {
     "data": {
      "text/html": [
       "<h4 style=\"color:green;\">No anomalies found.</h4>"
      ],
      "text/plain": [
       "<IPython.core.display.HTML object>"
      ]
     },
     "metadata": {},
     "output_type": "display_data"
    }
   ],
   "source": [
    "# Add new value to the domain of feature payment_type.\n",
    "payment_type_domain = tfdv.get_domain(dataset_schema, 'payment_type')\n",
    "payment_type_domain.value.append('Prcard')\n",
    "\n",
    "# Validate eval stats after updating the schema \n",
    "updated_anomalies = tfdv.validate_statistics(val_stats, dataset_schema)\n",
    "tfdv.display_anomalies(updated_anomalies)"
   ]
  },
  {
   "cell_type": "markdown",
   "id": "4198cf99-8c3b-4b5e-9a48-8d41ebdcd0b0",
   "metadata": {},
   "source": [
    "## Task 4 - Check Anomalies in Test Dataset"
   ]
  },
  {
   "cell_type": "markdown",
   "id": "1ff9f8c8-b3e7-44cf-b90c-42de6f6490df",
   "metadata": {},
   "source": [
    "### 4.a) Generate Statistics for Test Data"
   ]
  },
  {
   "cell_type": "code",
   "execution_count": 19,
   "id": "6a7950b4-7edc-4457-b8c2-908fa4383337",
   "metadata": {},
   "outputs": [],
   "source": [
    "# Define a new statistics options by the tfdv.StatsOptions class for the serving data by passing the previously inferred schema\n",
    "options_test = tfdv.StatsOptions(schema=dataset_schema, infer_type_from_schema=True, feature_allowlist=features_to_keep)"
   ]
  },
  {
   "cell_type": "code",
   "execution_count": 20,
   "id": "ed65ef38-e3fd-4c01-b1d0-c3e3b18ad45d",
   "metadata": {},
   "outputs": [
    {
     "name": "stdout",
     "output_type": "stream",
     "text": [
      "Number of features used: 16\n",
      "Number of examples used: 100\n",
      "First feature: pickup_community_area\n",
      "Last feature: dropoff_community_area\n"
     ]
    }
   ],
   "source": [
    "# Generate serving dataset statistics\n",
    "test_stats = tfdv.generate_statistics_from_dataframe(df_test, stats_options=options_test)\n",
    "\n",
    "# get the number of features used to compute statistics\n",
    "print(f\"Number of features used: {len(test_stats.datasets[0].features)}\")\n",
    "\n",
    "# check the number of examples used\n",
    "print(f\"Number of examples used: {test_stats.datasets[0].num_examples}\")\n",
    "\n",
    "# check the column names of the first and last feature\n",
    "print(f\"First feature: {test_stats.datasets[0].features[0].path.step[0]}\")\n",
    "print(f\"Last feature: {test_stats.datasets[0].features[-1].path.step[0]}\")"
   ]
  },
  {
   "cell_type": "markdown",
   "id": "65914f4b-b357-4a6e-ae26-a311e9d28a1e",
   "metadata": {},
   "source": [
    "### 4.b) Compare Test with Training Statistics"
   ]
  },
  {
   "cell_type": "code",
   "execution_count": 21,
   "id": "9018bcd4-58a9-4a07-a1e1-453da72566e8",
   "metadata": {},
   "outputs": [
    {
     "data": {
      "text/html": [
       "<div>\n",
       "<style scoped>\n",
       "    .dataframe tbody tr th:only-of-type {\n",
       "        vertical-align: middle;\n",
       "    }\n",
       "\n",
       "    .dataframe tbody tr th {\n",
       "        vertical-align: top;\n",
       "    }\n",
       "\n",
       "    .dataframe thead th {\n",
       "        text-align: right;\n",
       "    }\n",
       "</style>\n",
       "<table border=\"1\" class=\"dataframe\">\n",
       "  <thead>\n",
       "    <tr style=\"text-align: right;\">\n",
       "      <th></th>\n",
       "      <th>Anomaly short description</th>\n",
       "      <th>Anomaly long description</th>\n",
       "    </tr>\n",
       "    <tr>\n",
       "      <th>Feature name</th>\n",
       "      <th></th>\n",
       "      <th></th>\n",
       "    </tr>\n",
       "  </thead>\n",
       "  <tbody>\n",
       "    <tr>\n",
       "      <th>'tips'</th>\n",
       "      <td>Column dropped</td>\n",
       "      <td>Column is completely missing</td>\n",
       "    </tr>\n",
       "  </tbody>\n",
       "</table>\n",
       "</div>"
      ],
      "text/plain": [
       "             Anomaly short description      Anomaly long description\n",
       "Feature name                                                        \n",
       "'tips'        Column dropped            Column is completely missing"
      ]
     },
     "metadata": {},
     "output_type": "display_data"
    }
   ],
   "source": [
    "test_anomalies = tfdv.validate_statistics(statistics=test_stats, schema=dataset_schema)\n",
    "tfdv.display_anomalies(test_anomalies)"
   ]
  },
  {
   "cell_type": "markdown",
   "id": "f1720d5d-a943-4828-b44d-044e7e2c6100",
   "metadata": {},
   "source": [
    "### 4.c) Fix Test Data Anomalies in Schema"
   ]
  },
  {
   "cell_type": "code",
   "execution_count": 22,
   "id": "b7ee8af5-7030-4bd7-88e7-d9a6a37ad7fc",
   "metadata": {},
   "outputs": [],
   "source": [
    "# Not applicable in this iteration of the data validation exercise"
   ]
  },
  {
   "cell_type": "markdown",
   "id": "d50be62d-0e6f-46c3-a89b-1fa13e53c233",
   "metadata": {},
   "source": [
    "### 4.d) Organize Schema based on Environment"
   ]
  },
  {
   "cell_type": "code",
   "execution_count": 23,
   "id": "c15562ed-2cdd-4c60-b1d0-c67e8b03c770",
   "metadata": {},
   "outputs": [],
   "source": [
    "# All features are by default in both TRAINING and SERVING environments.\n",
    "dataset_schema.default_environment.append('TRAINING')\n",
    "dataset_schema.default_environment.append('TESTING')"
   ]
  },
  {
   "cell_type": "code",
   "execution_count": 24,
   "id": "ab17939b-cf24-4af9-8598-5df82abc25f9",
   "metadata": {},
   "outputs": [
    {
     "name": "stderr",
     "output_type": "stream",
     "text": [
      "/home/tensorflowml/appdev/lib/python3.8/site-packages/tensorflow_data_validation/utils/display_util.py:217: FutureWarning: Passing a negative integer is deprecated in version 1.0 and will not be supported in future version. Instead, use None to not limit the column width.\n",
      "  pd.set_option('max_colwidth', -1)\n"
     ]
    },
    {
     "data": {
      "text/html": [
       "<h4 style=\"color:green;\">No anomalies found.</h4>"
      ],
      "text/plain": [
       "<IPython.core.display.HTML object>"
      ]
     },
     "metadata": {},
     "output_type": "display_data"
    }
   ],
   "source": [
    "# Specify that 'target' feature is not in TEST environment.\n",
    "tfdv.get_feature(dataset_schema, 'tips').not_in_environment.append('TESTING')\n",
    "\n",
    "# Re-calculate and re-display anomalies with the new environment parameters\n",
    "test_anomalies = tfdv.validate_statistics(statistics=test_stats, schema=dataset_schema, environment='TESTING')\n",
    "tfdv.display_anomalies(test_anomalies)"
   ]
  },
  {
   "cell_type": "markdown",
   "id": "b2a4e751-e1dc-4554-b22a-342ea1dfbec3",
   "metadata": {},
   "source": [
    "## Task 5 - Check for Data Drift and Skew"
   ]
  },
  {
   "cell_type": "code",
   "execution_count": 25,
   "id": "50c68e40-0a9e-41ef-850b-e1cd55ee1227",
   "metadata": {},
   "outputs": [
    {
     "data": {
      "text/html": [
       "<div>\n",
       "<style scoped>\n",
       "    .dataframe tbody tr th:only-of-type {\n",
       "        vertical-align: middle;\n",
       "    }\n",
       "\n",
       "    .dataframe tbody tr th {\n",
       "        vertical-align: top;\n",
       "    }\n",
       "\n",
       "    .dataframe thead th {\n",
       "        text-align: right;\n",
       "    }\n",
       "</style>\n",
       "<table border=\"1\" class=\"dataframe\">\n",
       "  <thead>\n",
       "    <tr style=\"text-align: right;\">\n",
       "      <th></th>\n",
       "      <th>Anomaly short description</th>\n",
       "      <th>Anomaly long description</th>\n",
       "    </tr>\n",
       "    <tr>\n",
       "      <th>Feature name</th>\n",
       "      <th></th>\n",
       "      <th></th>\n",
       "    </tr>\n",
       "  </thead>\n",
       "  <tbody>\n",
       "    <tr>\n",
       "      <th>'payment_type'</th>\n",
       "      <td>High Linfty distance between training and serving</td>\n",
       "      <td>The Linfty distance between training and serving is 0.0225 (up to six significant digits), above the threshold 0.01. The feature value with maximum difference is: Credit Card</td>\n",
       "    </tr>\n",
       "  </tbody>\n",
       "</table>\n",
       "</div>"
      ],
      "text/plain": [
       "                                        Anomaly short description  \\\n",
       "Feature name                                                        \n",
       "'payment_type'  High Linfty distance between training and serving   \n",
       "\n",
       "                                                                                                                                                                      Anomaly long description  \n",
       "Feature name                                                                                                                                                                                    \n",
       "'payment_type'  The Linfty distance between training and serving is 0.0225 (up to six significant digits), above the threshold 0.01. The feature value with maximum difference is: Credit Card  "
      ]
     },
     "metadata": {},
     "output_type": "display_data"
    }
   ],
   "source": [
    "# Add skew comparator for 'payment_type' feature.\n",
    "payment_type = tfdv.get_feature(dataset_schema, 'payment_type')\n",
    "payment_type.skew_comparator.infinity_norm.threshold = 0.01\n",
    "\n",
    "skew_anomalies = tfdv.validate_statistics(train_stats, dataset_schema,\n",
    "                                          previous_statistics=val_stats,\n",
    "                                          serving_statistics=test_stats)\n",
    "\n",
    "tfdv.display_anomalies(skew_anomalies)"
   ]
  },
  {
   "cell_type": "markdown",
   "id": "43c3a21b-0f2d-4dad-a9f0-39d1be601a2b",
   "metadata": {},
   "source": [
    "## Task 6 - Display Stats for Data Slices"
   ]
  },
  {
   "cell_type": "code",
   "execution_count": 26,
   "id": "d589c757-2ed1-4672-bc11-a734a1276949",
   "metadata": {},
   "outputs": [],
   "source": [
    "def split_datasets(dataset_list):\n",
    "    '''\n",
    "    split datasets.\n",
    "\n",
    "            Parameters:\n",
    "                    dataset_list: List of datasets to split\n",
    "\n",
    "            Returns:\n",
    "                    datasets: sliced data\n",
    "    '''\n",
    "    datasets = []\n",
    "    for dataset in dataset_list.datasets:\n",
    "        proto_list = DatasetFeatureStatisticsList()\n",
    "        proto_list.datasets.extend([dataset])\n",
    "        datasets.append(proto_list)\n",
    "    return datasets"
   ]
  },
  {
   "cell_type": "code",
   "execution_count": 27,
   "id": "74008891-61b4-4e96-917d-c6b380406be3",
   "metadata": {},
   "outputs": [],
   "source": [
    "def display_stats_at_index(index, datasets):\n",
    "    '''\n",
    "    display statistics at the specified data index\n",
    "\n",
    "            Parameters:\n",
    "                    index : index to show the anomalies\n",
    "                    datasets: split data\n",
    "\n",
    "            Returns:\n",
    "                    display of generated sliced data statistics at the specified index\n",
    "    '''\n",
    "    if index < len(datasets):\n",
    "        print(datasets[index].datasets[0].name)\n",
    "        tfdv.visualize_statistics(datasets[index])"
   ]
  },
  {
   "cell_type": "code",
   "execution_count": 28,
   "id": "bcc6ecb6-d0bd-4802-8c17-90773710b6dd",
   "metadata": {},
   "outputs": [],
   "source": [
    "def sliced_stats_for_slice_fn(slice_fn, approved_cols, dataframe, schema):\n",
    "    '''\n",
    "    generate statistics for the sliced data.\n",
    "\n",
    "            Parameters:\n",
    "                    slice_fn : slicing definition\n",
    "                    approved_cols: list of features to pass to the statistics options\n",
    "                    dataframe: pandas dataframe to slice\n",
    "                    schema: the schema\n",
    "\n",
    "            Returns:\n",
    "                    slice_info_datasets: statistics for the sliced dataset\n",
    "    '''\n",
    "    # Set the StatsOptions\n",
    "    slice_stats_options = tfdv.StatsOptions(schema=schema,\n",
    "                                            slice_functions=[slice_fn],\n",
    "                                            infer_type_from_schema=True,\n",
    "                                            feature_allowlist=approved_cols)\n",
    "    \n",
    "    # Convert Dataframe to CSV since `slice_functions` works only with `tfdv.generate_statistics_from_csv`\n",
    "    CSV_PATH = 'slice_sample.csv'\n",
    "    dataframe.to_csv(CSV_PATH)\n",
    "    \n",
    "    # Calculate statistics for the sliced dataset\n",
    "    sliced_stats = tfdv.generate_statistics_from_csv(CSV_PATH, stats_options=slice_stats_options)\n",
    "    \n",
    "    # Split the dataset using the previously defined split_datasets function\n",
    "    slice_info_datasets = split_datasets(sliced_stats)\n",
    "    \n",
    "    return slice_info_datasets"
   ]
  },
  {
   "cell_type": "code",
   "execution_count": 29,
   "id": "94016e8e-8adf-4667-a323-f117f2fbcb30",
   "metadata": {},
   "outputs": [
    {
     "name": "stderr",
     "output_type": "stream",
     "text": [
      "WARNING:apache_beam.runners.interactive.interactive_environment:Dependencies required for Interactive Beam PCollection visualization are not available, please use: `pip install apache-beam[interactive]` to install necessary dependencies to enable all data visualization features.\n"
     ]
    },
    {
     "data": {
      "application/javascript": [
       "\n",
       "        if (typeof window.interactive_beam_jquery == 'undefined') {\n",
       "          var jqueryScript = document.createElement('script');\n",
       "          jqueryScript.src = 'https://code.jquery.com/jquery-3.4.1.slim.min.js';\n",
       "          jqueryScript.type = 'text/javascript';\n",
       "          jqueryScript.onload = function() {\n",
       "            var datatableScript = document.createElement('script');\n",
       "            datatableScript.src = 'https://cdn.datatables.net/1.10.20/js/jquery.dataTables.min.js';\n",
       "            datatableScript.type = 'text/javascript';\n",
       "            datatableScript.onload = function() {\n",
       "              window.interactive_beam_jquery = jQuery.noConflict(true);\n",
       "              window.interactive_beam_jquery(document).ready(function($){\n",
       "                \n",
       "              });\n",
       "            }\n",
       "            document.head.appendChild(datatableScript);\n",
       "          };\n",
       "          document.head.appendChild(jqueryScript);\n",
       "        } else {\n",
       "          window.interactive_beam_jquery(document).ready(function($){\n",
       "            \n",
       "          });\n",
       "        }"
      ]
     },
     "metadata": {},
     "output_type": "display_data"
    },
    {
     "name": "stderr",
     "output_type": "stream",
     "text": [
      "WARNING:apache_beam.io.tfrecordio:Couldn't find python-snappy so the implementation of _TFRecordUtil._masked_crc32c is not as fast as it could be.\n"
     ]
    },
    {
     "name": "stdout",
     "output_type": "stream",
     "text": [
      "Statistics generated for:\n",
      "\n",
      "All Examples\n",
      "payment_type_Cash\n",
      "payment_type_Credit Card\n",
      "payment_type_No Charge\n",
      "payment_type_Unknown\n",
      "payment_type_Dispute\n",
      "payment_type_Pcard\n",
      "payment_type_Cash\n"
     ]
    },
    {
     "data": {
      "text/html": [
       "<iframe id='facets-iframe' width=\"100%\" height=\"500px\"></iframe>\n",
       "        <script>\n",
       "        facets_iframe = document.getElementById('facets-iframe');\n",
       "        facets_html = '<script src=\"https://cdnjs.cloudflare.com/ajax/libs/webcomponentsjs/1.3.3/webcomponents-lite.js\"><\\/script><link rel=\"import\" href=\"https://raw.githubusercontent.com/PAIR-code/facets/master/facets-dist/facets-jupyter.html\"><facets-overview proto-input=\"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\"></facets-overview>';\n",
       "        facets_iframe.srcdoc = facets_html;\n",
       "         facets_iframe.id = \"\";\n",
       "         setTimeout(() => {\n",
       "           facets_iframe.setAttribute('height', facets_iframe.contentWindow.document.body.offsetHeight + 'px')\n",
       "         }, 1500)\n",
       "         </script>"
      ],
      "text/plain": [
       "<IPython.core.display.HTML object>"
      ]
     },
     "metadata": {},
     "output_type": "display_data"
    }
   ],
   "source": [
    "# Generate slice function for one of the features\n",
    "slice_fn = slicing_util.get_feature_value_slicer(features={'payment_type': None})\n",
    "\n",
    "# Generate stats for the sliced dataset\n",
    "slice_datasets = sliced_stats_for_slice_fn(slice_fn, features_to_keep, dataframe=df_train, schema=dataset_schema)\n",
    "\n",
    "# Print name of slices for reference\n",
    "print(f'Statistics generated for:\\n')\n",
    "print('\\n'.join([sliced.datasets[0].name for sliced in slice_datasets]))\n",
    "\n",
    "# Display at index 1 as an example\n",
    "display_stats_at_index(1, slice_datasets) "
   ]
  },
  {
   "cell_type": "markdown",
   "id": "334a2d9b-b089-4029-bc5e-f3144bc8db6f",
   "metadata": {},
   "source": [
    "## Task 7 - Finalize the Schema"
   ]
  },
  {
   "cell_type": "code",
   "execution_count": 30,
   "id": "0402e421-d17b-49a2-ab94-ca48fc585316",
   "metadata": {},
   "outputs": [],
   "source": [
    "# Create output directory\n",
    "OUTPUT_DIR = \"output\"\n",
    "file_io.recursive_create_dir(OUTPUT_DIR)\n",
    "\n",
    "# Use TensorFlow text output format pbtxt to store the schema\n",
    "schema_file = os.path.join(OUTPUT_DIR, 'schema.pbtxt')\n",
    "\n",
    "# write_schema_text function expect the defined schema and output path as parameters\n",
    "tfdv.write_schema_text(dataset_schema, schema_file) "
   ]
  },
  {
   "cell_type": "code",
   "execution_count": 31,
   "id": "7e5a3a5c-9372-4f0c-b3eb-d205661b23c2",
   "metadata": {},
   "outputs": [
    {
     "name": "stdout",
     "output_type": "stream",
     "text": [
      "Total time for the script: 0:00:09.833700\n"
     ]
    }
   ],
   "source": [
    "print ('Total time for the script:',(datetime.now() - start_time_script))"
   ]
  }
 ],
 "metadata": {
  "kernelspec": {
   "display_name": "Python 3",
   "language": "python",
   "name": "python3"
  },
  "language_info": {
   "codemirror_mode": {
    "name": "ipython",
    "version": 3
   },
   "file_extension": ".py",
   "mimetype": "text/x-python",
   "name": "python",
   "nbconvert_exporter": "python",
   "pygments_lexer": "ipython3",
   "version": "3.8.10"
  }
 },
 "nbformat": 4,
 "nbformat_minor": 5
}
