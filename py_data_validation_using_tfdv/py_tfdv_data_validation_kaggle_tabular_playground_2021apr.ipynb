{
 "cells": [
  {
   "cell_type": "markdown",
   "id": "346f3f6b-b7f7-46c7-bdbe-c6406b99ea88",
   "metadata": {},
   "source": [
    "# Data Validation for Kaggle Tabular Playground Series Apr 2021 Using Python and TensorFlow Data Validation\n",
    "### David Lowe\n",
    "### June 9, 2021\n",
    "\n",
    "SUMMARY: The project aims to construct a data validation flow using TensorFlow Data Validation (TFDV) and document the end-to-end steps using a template. The Kaggle Tabular Playground Series Apr 2021 dataset is a binary classification situation where we attempt to predict one of the two possible outcomes.\n",
    "\n",
    "INTRODUCTION: Kaggle wants to provide an approachable environment for relatively new people in their data science journey. Since January 2021, they have hosted playground-style competitions on Kaggle with fun but less complex, tabular datasets. The dataset used for this competition is synthetic but based on the real Titanic dataset and generated using a CTGAN. The statistical properties of this dataset are very similar to the original Titanic dataset, but there is no shortcut to cheat by using public labels for predictions.\n",
    "\n",
    "Additional Notes: I adapted this workflow from the TensorFlow Data Validation tutorial on TensorFlow.org (https://www.tensorflow.org/tfx/tutorials/data_validation/tfdv_basic). I also plan to build a TFDV script for validating future datasets and building machine learning models.\n",
    "\n",
    "CONCLUSION: In this iteration, the data validation workflow helped to validate the features and structures of the training, validation, and test datasets. The workflow also generated statistics over different slices of data which can help track model and anomaly metrics.\n",
    "\n",
    "Dataset Used: Kaggle Tabular Playground 2021 Apr Data Set\n",
    "\n",
    "Dataset ML Model: Binary classification with numerical and categorical attributes\n",
    "\n",
    "Dataset Reference: https://www.kaggle.com/c/tabular-playground-series-apr-2021\n",
    "\n",
    "Data validation for a machine learning project generally can be broken down into the following tasks:\n",
    "\n",
    "1. Prepare Environment\n",
    "2. Generate and Visualize Training Data Statistics\n",
    "3. Check Anomalies in Validation Dataset\n",
    "4. Check Anomalies in Test Dataset\n",
    "5. Check for Data Drift and Skew\n",
    "6. Display Stats for Data Slices\n",
    "7. Finalize the Schema"
   ]
  },
  {
   "cell_type": "markdown",
   "id": "a66f38a3-9ee9-4348-9985-d790c25a675f",
   "metadata": {},
   "source": [
    "## Task 1 - Prepare Environment"
   ]
  },
  {
   "cell_type": "markdown",
   "id": "f900ef05-3896-4e50-bd73-cabdc8121644",
   "metadata": {},
   "source": [
    "### 1.a) Load libraries and modules"
   ]
  },
  {
   "cell_type": "code",
   "execution_count": 1,
   "id": "0222c3eb-b4ab-4fa6-b494-c48bb5bfdd21",
   "metadata": {},
   "outputs": [],
   "source": [
    "# Set the random seed number for reproducible results\n",
    "RNG_SEED = 8"
   ]
  },
  {
   "cell_type": "code",
   "execution_count": 2,
   "id": "2f105fcd-f731-4c6c-8444-b4879e63f126",
   "metadata": {},
   "outputs": [],
   "source": [
    "# Import packages\n",
    "import os\n",
    "import pandas as pd\n",
    "from datetime import datetime\n",
    "from sklearn.model_selection import train_test_split\n",
    "\n",
    "import tensorflow as tf\n",
    "import tempfile, urllib, zipfile\n",
    "import tensorflow_data_validation as tfdv\n",
    "from tensorflow.python.lib.io import file_io\n",
    "from tensorflow_data_validation.utils import slicing_util\n",
    "from tensorflow_metadata.proto.v0.statistics_pb2 import DatasetFeatureStatisticsList, DatasetFeatureStatistics\n",
    "from tensorflow_metadata.proto.v0 import schema_pb2"
   ]
  },
  {
   "cell_type": "markdown",
   "id": "d0b0062e-f08b-43dc-81e1-916f5d821c7e",
   "metadata": {},
   "source": [
    "### 1.b) Set up the controlling parameters and functions"
   ]
  },
  {
   "cell_type": "code",
   "execution_count": 3,
   "id": "4ecc6b48-be75-4078-a0a8-9d34610d231c",
   "metadata": {},
   "outputs": [
    {
     "name": "stdout",
     "output_type": "stream",
     "text": [
      "TFDV version: 1.0.0\n"
     ]
    }
   ],
   "source": [
    "# Begin the timer for the script processing\n",
    "start_time_script = datetime.now()\n",
    "\n",
    "# Set the percentage sizes for splitting the dataset\n",
    "TEST_SET_RATIO = 0.5\n",
    "VAL_SET_RATIO = 0.2\n",
    "\n",
    "# Set TF's logger to only display errors to avoid internal warnings being shown\n",
    "tf.get_logger().setLevel('ERROR')\n",
    "print('TFDV version: {}'.format(tfdv.version.__version__))"
   ]
  },
  {
   "cell_type": "markdown",
   "id": "0fd0e037-fc89-4013-a2b3-772204f39950",
   "metadata": {},
   "source": [
    "### 1.c) Load dataset"
   ]
  },
  {
   "cell_type": "code",
   "execution_count": 4,
   "id": "2bb89d11-705e-4efd-8449-87e5bf3dcb9b",
   "metadata": {},
   "outputs": [
    {
     "name": "stdout",
     "output_type": "stream",
     "text": [
      "   PassengerId  Survived  Pclass              Name   Sex    Age  SibSp  Parch  \\\n",
      "0            0         1       1  Oconnor, Frankie  male    NaN      2      0   \n",
      "1            1         0       3       Bryan, Drew  male    NaN      0      0   \n",
      "2            2         0       3    Owens, Kenneth  male   0.33      1      2   \n",
      "3            3         0       3     Kramer, James  male  19.00      0      0   \n",
      "4            4         1       3     Bond, Michael  male  25.00      0      0   \n",
      "\n",
      "      Ticket   Fare   Cabin Embarked  \n",
      "0     209245  27.14  C12239        S  \n",
      "1      27323  13.35     NaN        S  \n",
      "2  CA 457703  71.29     NaN        S  \n",
      "3   A. 10866  13.04     NaN        S  \n",
      "4     427635   7.76     NaN        S  \n"
     ]
    }
   ],
   "source": [
    "# Read CSV data into a dataframe and mark the missing data as NaN\n",
    "dataset_path = 'https://dainesanalytics.com/datasets/kaggle-tabular-playground-2021apr/train.csv'\n",
    "df_dataset_import = pd.read_csv(dataset_path, header=0)\n",
    "\n",
    "# Take a peek at the dataframe after import\n",
    "print(df_dataset_import.head())"
   ]
  },
  {
   "cell_type": "code",
   "execution_count": 5,
   "id": "117edd99-d09d-48a8-8a90-1fcee1d7a9f4",
   "metadata": {},
   "outputs": [
    {
     "name": "stdout",
     "output_type": "stream",
     "text": [
      "<class 'pandas.core.frame.DataFrame'>\n",
      "RangeIndex: 100000 entries, 0 to 99999\n",
      "Data columns (total 12 columns):\n",
      " #   Column       Non-Null Count   Dtype  \n",
      "---  ------       --------------   -----  \n",
      " 0   PassengerId  100000 non-null  int64  \n",
      " 1   Survived     100000 non-null  int64  \n",
      " 2   Pclass       100000 non-null  int64  \n",
      " 3   Name         100000 non-null  object \n",
      " 4   Sex          100000 non-null  object \n",
      " 5   Age          96708 non-null   float64\n",
      " 6   SibSp        100000 non-null  int64  \n",
      " 7   Parch        100000 non-null  int64  \n",
      " 8   Ticket       95377 non-null   object \n",
      " 9   Fare         99866 non-null   float64\n",
      " 10  Cabin        32134 non-null   object \n",
      " 11  Embarked     99750 non-null   object \n",
      "dtypes: float64(2), int64(5), object(5)\n",
      "memory usage: 9.2+ MB\n"
     ]
    }
   ],
   "source": [
    "df_dataset_import.info(verbose=True)"
   ]
  },
  {
   "cell_type": "code",
   "execution_count": 6,
   "id": "7e318626-8e62-495c-8066-516dd321d490",
   "metadata": {},
   "outputs": [
    {
     "name": "stdout",
     "output_type": "stream",
     "text": [
      "   PassengerId  Pclass              Name     Sex   Age  SibSp  Parch  Ticket  \\\n",
      "0       100000       3  Holliday, Daniel    male  19.0      0      0   24745   \n",
      "1       100001       3  Nguyen, Lorraine  female  53.0      0      0   13264   \n",
      "2       100002       1   Harris, Heather  female  19.0      0      0   25990   \n",
      "3       100003       2      Larsen, Eric    male  25.0      0      0  314011   \n",
      "4       100004       1     Cleary, Sarah  female  17.0      0      2   26203   \n",
      "\n",
      "    Fare   Cabin Embarked  \n",
      "0  63.01     NaN        S  \n",
      "1   5.81     NaN        S  \n",
      "2  38.91  B15315        C  \n",
      "3  12.93     NaN        S  \n",
      "4  26.89  B22515        C  \n"
     ]
    }
   ],
   "source": [
    "# Read CSV data into a dataframe and mark the missing data as NaN\n",
    "dataset_path = 'https://dainesanalytics.com/datasets/kaggle-tabular-playground-2021apr/test.csv'\n",
    "df_test = pd.read_csv(dataset_path, header=0, na_values = '?')\n",
    "\n",
    "# Take a peek at the dataframe after import\n",
    "print(df_test.head())"
   ]
  },
  {
   "cell_type": "code",
   "execution_count": 7,
   "id": "18adb086-8a3c-4fae-876d-47873fca56bb",
   "metadata": {},
   "outputs": [
    {
     "name": "stdout",
     "output_type": "stream",
     "text": [
      "<class 'pandas.core.frame.DataFrame'>\n",
      "RangeIndex: 100000 entries, 0 to 99999\n",
      "Data columns (total 11 columns):\n",
      " #   Column       Non-Null Count   Dtype  \n",
      "---  ------       --------------   -----  \n",
      " 0   PassengerId  100000 non-null  int64  \n",
      " 1   Pclass       100000 non-null  int64  \n",
      " 2   Name         100000 non-null  object \n",
      " 3   Sex          100000 non-null  object \n",
      " 4   Age          96513 non-null   float64\n",
      " 5   SibSp        100000 non-null  int64  \n",
      " 6   Parch        100000 non-null  int64  \n",
      " 7   Ticket       94819 non-null   object \n",
      " 8   Fare         99867 non-null   float64\n",
      " 9   Cabin        29169 non-null   object \n",
      " 10  Embarked     99723 non-null   object \n",
      "dtypes: float64(2), int64(4), object(5)\n",
      "memory usage: 8.4+ MB\n"
     ]
    }
   ],
   "source": [
    "df_test.info(verbose=True)"
   ]
  },
  {
   "cell_type": "markdown",
   "id": "c448f006-0dc3-4f42-907d-a5ce52efd0d1",
   "metadata": {},
   "source": [
    "### 1.d) Splitting Data into Sets"
   ]
  },
  {
   "cell_type": "code",
   "execution_count": 8,
   "id": "d6a95c31-98a6-433e-b8cb-d992fbcc136c",
   "metadata": {},
   "outputs": [
    {
     "name": "stdout",
     "output_type": "stream",
     "text": [
      "Training dataset has 80000 records and 12 columns.\n",
      "Validation dataset has 20000 records and 12 columns.\n",
      "Test dataset has 100000 records and 11 columns\n"
     ]
    }
   ],
   "source": [
    "# Split the data further into training, validation, and test datasets\n",
    "df_train, df_val = train_test_split(df_dataset_import, test_size=VAL_SET_RATIO, random_state=RNG_SEED)\n",
    "\n",
    "print(\"Training dataset has {} records and {} columns.\".format(df_train.shape[0], df_train.shape[1]))\n",
    "print(\"Validation dataset has {} records and {} columns.\".format(df_val.shape[0], df_val.shape[1]))\n",
    "print(\"Test dataset has {} records and {} columns\".format(df_test.shape[0], df_test.shape[1]))"
   ]
  },
  {
   "cell_type": "markdown",
   "id": "48cb1f6b-de19-47d7-8039-0bb9ca193645",
   "metadata": {},
   "source": [
    "## Task 2 - Generate and Visualize Training Data Statistics"
   ]
  },
  {
   "cell_type": "markdown",
   "id": "9e54a76f-3710-449f-a085-c693fa99ae05",
   "metadata": {},
   "source": [
    "### 2.a) Removing Irrelevant Features"
   ]
  },
  {
   "cell_type": "code",
   "execution_count": 9,
   "id": "1c1d3dda-f84c-4d26-b7b1-a16a575f4c57",
   "metadata": {},
   "outputs": [
    {
     "name": "stdout",
     "output_type": "stream",
     "text": [
      "['Survived', 'Pclass', 'Sex', 'Age', 'SibSp', 'Parch', 'Fare', 'Embarked']\n"
     ]
    }
   ],
   "source": [
    "# Define features to remove\n",
    "features_to_remove = {'PassengerId','Name','Ticket','Cabin'}\n",
    "\n",
    "# Collect features to whitelist while computing the statistics\n",
    "features_to_keep = [col for col in df_dataset_import.columns if (col not in features_to_remove)]\n",
    "\n",
    "# Instantiate a StatsOptions class and define the feature_whitelist property\n",
    "options_train = tfdv.StatsOptions(feature_allowlist=features_to_keep)\n",
    "\n",
    "# Review the features to generate the statistics\n",
    "print(options_train.feature_allowlist)"
   ]
  },
  {
   "cell_type": "markdown",
   "id": "b413c352-aa1e-4786-9c44-2827da5d4326",
   "metadata": {},
   "source": [
    "### 2.b) Generate Statistics for Training Data"
   ]
  },
  {
   "cell_type": "code",
   "execution_count": 10,
   "id": "704c07bb-584d-44a6-ba3e-bc3d7db5ec0b",
   "metadata": {},
   "outputs": [
    {
     "name": "stdout",
     "output_type": "stream",
     "text": [
      "Number of features used: 8\n",
      "Number of examples used: 80000\n",
      "First feature: Survived\n",
      "Last feature: Embarked\n"
     ]
    }
   ],
   "source": [
    "train_stats = tfdv.generate_statistics_from_dataframe(df_train, stats_options=options_train)\n",
    "\n",
    "# get the number of features used to compute statistics\n",
    "print(f\"Number of features used: {len(train_stats.datasets[0].features)}\")\n",
    "\n",
    "# check the number of examples used\n",
    "print(f\"Number of examples used: {train_stats.datasets[0].num_examples}\")\n",
    "\n",
    "# check the column names of the first and last feature\n",
    "print(f\"First feature: {train_stats.datasets[0].features[0].path.step[0]}\")\n",
    "print(f\"Last feature: {train_stats.datasets[0].features[-1].path.step[0]}\")"
   ]
  },
  {
   "cell_type": "markdown",
   "id": "53fa62ba-ccd1-4f2a-b4d4-b0e986ac1623",
   "metadata": {},
   "source": [
    "### 2.c) Visualize Training Statistics"
   ]
  },
  {
   "cell_type": "code",
   "execution_count": 11,
   "id": "2e4a9dd6-9ef6-423d-84c5-a185a30be7bc",
   "metadata": {},
   "outputs": [
    {
     "data": {
      "text/html": [
       "<iframe id='facets-iframe' width=\"100%\" height=\"500px\"></iframe>\n",
       "        <script>\n",
       "        facets_iframe = document.getElementById('facets-iframe');\n",
       "        facets_html = '<script src=\"https://cdnjs.cloudflare.com/ajax/libs/webcomponentsjs/1.3.3/webcomponents-lite.js\"><\\/script><link rel=\"import\" href=\"https://raw.githubusercontent.com/PAIR-code/facets/master/facets-dist/facets-jupyter.html\"><facets-overview proto-input=\"CtAwCg5saHNfc3RhdGlzdGljcxCA8QQayQYaugYKuAIIgPEEGAEgAS0AAIA/MqQCGhsJAAAAAAAA8D8RAAAAAAAA8D8hAAAAAABAv0AaGwkAAAAAAADwPxEAAAAAAADwPyEAAAAAAEC/QBobCQAAAAAAAPA/EQAAAAAAAPA/IQAAAAAAQL9AGhsJAAAAAAAA8D8RAAAAAAAA8D8hAAAAAABAv0AaGwkAAAAAAADwPxEAAAAAAADwPyEAAAAAAEC/QBobCQAAAAAAAPA/EQAAAAAAAPA/IQAAAAAAQL9AGhsJAAAAAAAA8D8RAAAAAAAA8D8hAAAAAABAv0AaGwkAAAAAAADwPxEAAAAAAADwPyEAAAAAAEC/QBobCQAAAAAAAPA/EQAAAAAAAPA/IQAAAAAAQL9AGhsJAAAAAAAA8D8RAAAAAAAA8D8hAAAAAABAv0AgAUCA8QQRbcX+snty2z8Zcn3pBqqs3z8g++QCOQAAAAAAAPA/QpkCGhIRmpmZmZmZuT8hAAAAAABP5kAaGwmamZmZmZm5PxGamZmZmZnJPyEAAAAAAAAgQBobCZqZmZmZmck/ETQzMzMzM9M/IQIAAAAAACBAGhsJNDMzMzMz0z8RmpmZmZmZ2T8h/v//////H0AaGwmamZmZmZnZPxEAAAAAAADgPyH+//////8fQBobCQAAAAAAAOA/ETQzMzMzM+M/IQQAAAAAACBAGhsJNDMzMzMz4z8RZ2ZmZmZm5j8h/v//////H0AaGwlnZmZmZmbmPxGamZmZmZnpPyH+//////8fQBobCZqZmZmZmek/Ec3MzMzMzOw/If7//////x9AGhsJzczMzMzM7D8RAAAAAAAA8D8hAAAAAAC54EBCwQEaCSEAAAAAAEC/QBoJIQAAAAAAQL9AGgkhAAAAAABAv0AaCSEAAAAAAEC/QBoJIQAAAAAAQL9AGhIRAAAAAAAA8D8hAAAAAABAv0AaGwkAAAAAAADwPxEAAAAAAADwPyEAAAAAAEC/QBobCQAAAAAAAPA/EQAAAAAAAPA/IQAAAAAAQL9AGhsJAAAAAAAA8D8RAAAAAAAA8D8hAAAAAABAv0AaGwkAAAAAAADwPxEAAAAAAADwPyEAAAAAAEC/QCABQgoKCFN1cnZpdmVkGsEHGrQHCrgCCIDxBBgBIAEtAACAPzKkAhobCQAAAAAAAPA/EQAAAAAAAPA/IQAAAAAAQL9AGhsJAAAAAAAA8D8RAAAAAAAA8D8hAAAAAABAv0AaGwkAAAAAAADwPxEAAAAAAADwPyEAAAAAAEC/QBobCQAAAAAAAPA/EQAAAAAAAPA/IQAAAAAAQL9AGhsJAAAAAAAA8D8RAAAAAAAA8D8hAAAAAABAv0AaGwkAAAAAAADwPxEAAAAAAADwPyEAAAAAAEC/QBobCQAAAAAAAPA/EQAAAAAAAPA/IQAAAAAAQL9AGhsJAAAAAAAA8D8RAAAAAAAA8D8hAAAAAABAv0AaGwkAAAAAAADwPxEAAAAAAADwPyEAAAAAAEC/QBobCQAAAAAAAPA/EQAAAAAAAPA/IQAAAAAAQL9AIAFAgPEEEfRsVn2u1gBAGQWL5CRwzeo/KQAAAAAAAPA/MQAAAAAAAABAOQAAAAAAAAhAQqICGhsJAAAAAAAA8D8RMzMzMzMz8z8hAAAAAACw10AaGwkzMzMzMzPzPxFmZmZmZmb2PyH+//////8vQBobCWZmZmZmZvY/EZqZmZmZmfk/IQQAAAAAADBAGhsJmpmZmZmZ+T8RzczMzMzM/D8h/v//////L0AaGwnNzMzMzMz8PxEAAAAAAAAAQCH+//////8vQBobCQAAAAAAAABAEZqZmZmZmQFAIQAAAAAAcNZAGhsJmpmZmZmZAUARNDMzMzMzA0AhBAAAAAAAMEAaGwk0MzMzMzMDQBHNzMzMzMwEQCH0//////8vQBobCc3MzMzMzARAEWZmZmZmZgZAIfT//////y9AGhsJZmZmZmZmBkARAAAAAAAACEAhAAAAAADk30BCpAIaGwkAAAAAAADwPxEAAAAAAADwPyEAAAAAAEC/QBobCQAAAAAAAPA/EQAAAAAAAPA/IQAAAAAAQL9AGhsJAAAAAAAA8D8RAAAAAAAA8D8hAAAAAABAv0AaGwkAAAAAAADwPxEAAAAAAAAAQCEAAAAAAEC/QBobCQAAAAAAAABAEQAAAAAAAABAIQAAAAAAQL9AGhsJAAAAAAAAAEARAAAAAAAACEAhAAAAAABAv0AaGwkAAAAAAAAIQBEAAAAAAAAIQCEAAAAAAEC/QBobCQAAAAAAAAhAEQAAAAAAAAhAIQAAAAAAQL9AGhsJAAAAAAAACEARAAAAAAAACEAhAAAAAABAv0AaGwkAAAAAAAAIQBEAAAAAAAAIQCEAAAAAAEC/QCABQggKBlBjbGFzcxqcAxACIpADCrgCCIDxBBgBIAEtAACAPzKkAhobCQAAAAAAAPA/EQAAAAAAAPA/IQAAAAAAQL9AGhsJAAAAAAAA8D8RAAAAAAAA8D8hAAAAAABAv0AaGwkAAAAAAADwPxEAAAAAAADwPyEAAAAAAEC/QBobCQAAAAAAAPA/EQAAAAAAAPA/IQAAAAAAQL9AGhsJAAAAAAAA8D8RAAAAAAAA8D8hAAAAAABAv0AaGwkAAAAAAADwPxEAAAAAAADwPyEAAAAAAEC/QBobCQAAAAAAAPA/EQAAAAAAAPA/IQAAAAAAQL9AGhsJAAAAAAAA8D8RAAAAAAAA8D8hAAAAAABAv0AaGwkAAAAAAADwPxEAAAAAAADwPyEAAAAAAEC/QBobCQAAAAAAAPA/EQAAAAAAAPA/IQAAAAAAQL9AIAFAgPEEEAIaDxIEbWFsZRkAAAAA4NrlQBoREgZmZW1hbGUZAAAAACA14UAlWzGcQCooCg8iBG1hbGUpAAAAAODa5UAKFQgBEAEiBmZlbWFsZSkAAAAAIDXhQEIFCgNTZXgawwcQARq3Bwq7Agjs3AQQlBQYASABLQAAgD8ypAIaGwkAAAAAAADwPxEAAAAAAADwPyEAAAAAAD6+QBobCQAAAAAAAPA/EQAAAAAAAPA/IQAAAAAAPr5AGhsJAAAAAAAA8D8RAAAAAAAA8D8hAAAAAAA+vkAaGwkAAAAAAADwPxEAAAAAAADwPyEAAAAAAD6+QBobCQAAAAAAAPA/EQAAAAAAAPA/IQAAAAAAPr5AGhsJAAAAAAAA8D8RAAAAAAAA8D8hAAAAAAA+vkAaGwkAAAAAAADwPxEAAAAAAADwPyEAAAAAAD6+QBobCQAAAAAAAPA/EQAAAAAAAPA/IQAAAAAAPr5AGhsJAAAAAAAA8D8RAAAAAAAA8D8hAAAAAAA+vkAaGwkAAAAAAADwPxEAAAAAAADwPyEAAAAAAD6+QCABQOzcBBEfVmBdRjNDQBmlIiUvv1QyQCl7FK5H4Xq0PzEAAAAAAIBDQDkAAAAAAMBVQEKiAhobCXsUrkfherQ/ESUGgZVDiyFAIWe9GMrJurhAGhsJJQaBlUOLIUAREFg5tMh2MUAhMNgN25Y3qUAaGwkQWDm0yHYxQBEOLbKd7yc6QCHkGTT07w3JQBobCQ4tsp3vJzpAEQaBlUOLbEFAIYaKcf4G4cVAGhsJBoGVQ4tsQUARhetRuB7FRUAhu72kMXofxUAaGwmF61G4HsVFQBEEVg4tsh1KQCGbOLnfQdjHQBobCQRWDi2yHUpAEYPAyqFFdk5AIQKfH0YoVcZAGhsJg8DKoUV2TkARgZVDi2xnUUAhX80BgnnwvEAaGwmBlUOLbGdRQBHByqFFtpNTQCFX2XdF8KicQBobCcHKoUW2k1NAEQAAAAAAwFVAIVHpQxfUX2BAQqQCGhsJexSuR+F6tD8RAAAAAAAAJkAhAAAAAAA+vkAaGwkAAAAAAAAmQBEAAAAAAAA3QCEAAAAAAD6+QBobCQAAAAAAADdAEQAAAAAAADtAIQAAAAAAPr5AGhsJAAAAAAAAO0ARAAAAAAAAQEAhAAAAAAA+vkAaGwkAAAAAAABAQBEAAAAAAIBDQCEAAAAAAD6+QBobCQAAAAAAgENAEQAAAAAAgEZAIQAAAAAAPr5AGhsJAAAAAACARkARAAAAAACASUAhAAAAAAA+vkAaGwkAAAAAAIBJQBEAAAAAAABMQCEAAAAAAD6+QBobCQAAAAAAAExAEQAAAAAAAE9AIQAAAAAAPr5AGhsJAAAAAAAAT0ARAAAAAADAVUAhAAAAAAA+vkAgAUIFCgNBZ2UaogYalgYKuAIIgPEEGAEgAS0AAIA/MqQCGhsJAAAAAAAA8D8RAAAAAAAA8D8hAAAAAABAv0AaGwkAAAAAAADwPxEAAAAAAADwPyEAAAAAAEC/QBobCQAAAAAAAPA/EQAAAAAAAPA/IQAAAAAAQL9AGhsJAAAAAAAA8D8RAAAAAAAA8D8hAAAAAABAv0AaGwkAAAAAAADwPxEAAAAAAADwPyEAAAAAAEC/QBobCQAAAAAAAPA/EQAAAAAAAPA/IQAAAAAAQL9AGhsJAAAAAAAA8D8RAAAAAAAA8D8hAAAAAABAv0AaGwkAAAAAAADwPxEAAAAAAADwPyEAAAAAAEC/QBobCQAAAAAAAPA/EQAAAAAAAPA/IQAAAAAAQL9AGhsJAAAAAAAA8D8RAAAAAAAA8D8hAAAAAABAv0AgAUCA8QQRUPwYc9eS2T8ZuUtIY57E6z8g7ckDOQAAAAAAACBAQpkCGhIRmpmZmZmZ6T8hAAAAAACg7EAaGwmamZmZmZnpPxGamZmZmZn5PyEAAAAAAOjOQBobCZqZmZmZmfk/ETQzMzMzMwNAIQAAAAAAAKdAGhsJNDMzMzMzA0ARmpmZmZmZCUAhAAAAAADAk0AaGwmamZmZmZkJQBEAAAAAAAAQQCH+//////9PQBobCQAAAAAAABBAETQzMzMzMxNAIQAAAAAAgI1AGhsJNDMzMzMzE0ARZ2ZmZmZmFkAh9P//////P0AaGwlnZmZmZmYWQBGamZmZmZkZQCFUVVVVVVU1QBobCZqZmZmZmRlAEc3MzMzMzBxAIVRVVVVVVTVAGhsJzczMzMzMHEARAAAAAAAAIEAhVVVVVVVVcEBCnQEaCSEAAAAAAEC/QBoJIQAAAAAAQL9AGgkhAAAAAABAv0AaCSEAAAAAAEC/QBoJIQAAAAAAQL9AGgkhAAAAAABAv0AaCSEAAAAAAEC/QBoSEQAAAAAAAPA/IQAAAAAAQL9AGhsJAAAAAAAA8D8RAAAAAAAA8D8hAAAAAABAv0AaGwkAAAAAAADwPxEAAAAAAAAgQCEAAAAAAEC/QCABQgcKBVNpYlNwGqIGGpYGCrgCCIDxBBgBIAEtAACAPzKkAhobCQAAAAAAAPA/EQAAAAAAAPA/IQAAAAAAQL9AGhsJAAAAAAAA8D8RAAAAAAAA8D8hAAAAAABAv0AaGwkAAAAAAADwPxEAAAAAAADwPyEAAAAAAEC/QBobCQAAAAAAAPA/EQAAAAAAAPA/IQAAAAAAQL9AGhsJAAAAAAAA8D8RAAAAAAAA8D8hAAAAAABAv0AaGwkAAAAAAADwPxEAAAAAAADwPyEAAAAAAEC/QBobCQAAAAAAAPA/EQAAAAAAAPA/IQAAAAAAQL9AGhsJAAAAAAAA8D8RAAAAAAAA8D8hAAAAAABAv0AaGwkAAAAAAADwPxEAAAAAAADwPyEAAAAAAEC/QBobCQAAAAAAAPA/EQAAAAAAAPA/IQAAAAAAQL9AIAFAgPEEEW+BBMWPMd0/GUh4c3JcZO4/IPzKAzkAAAAAAAAiQEKZAhoSEc3MzMzMzOw/IQAAAAAAtexAGhsJzczMzMzM7D8RzczMzMzM/D8hAAAAAABMxEAaGwnNzMzMzMz8PxGamZmZmZkFQCEAAAAAAKTBQBobCZqZmZmZmQVAEc3MzMzMzAxAIQAAAAAAwIhAGhsJzczMzMzMDEARAAAAAAAAEkAhAAAAAACAeEAaGwkAAAAAAAASQBGamZmZmZkVQCEBAAAAAABtQBobCZqZmZmZmRVAETMzMzMzMxlAIf///////2BAGhsJMzMzMzMzGUARzczMzMzMHEAhAwAAAAAAOEAaGwnNzMzMzMwcQBEzMzMzMzMgQCH8//////83QBobCTMzMzMzMyBAEQAAAAAAACJAIQAAAAAAAGdAQp0BGgkhAAAAAABAv0AaCSEAAAAAAEC/QBoJIQAAAAAAQL9AGgkhAAAAAABAv0AaCSEAAAAAAEC/QBoJIQAAAAAAQL9AGgkhAAAAAABAv0AaEhEAAAAAAADwPyEAAAAAAEC/QBobCQAAAAAAAPA/EQAAAAAAAABAIQAAAAAAQL9AGhsJAAAAAAAAAEARAAAAAAAAIkAhAAAAAABAv0AgAUIHCgVQYXJjaBrDBxABGrYHCroCCInwBBB3GAEgAS0AAIA/MqQCGhsJAAAAAAAA8D8RAAAAAAAA8D8hmpmZmRk0v0AaGwkAAAAAAADwPxEAAAAAAADwPyGamZmZGTS/QBobCQAAAAAAAPA/EQAAAAAAAPA/IZqZmZkZNL9AGhsJAAAAAAAA8D8RAAAAAAAA8D8hmpmZmRk0v0AaGwkAAAAAAADwPxEAAAAAAADwPyGamZmZGTS/QBobCQAAAAAAAPA/EQAAAAAAAPA/IZqZmZkZNL9AGhsJAAAAAAAA8D8RAAAAAAAA8D8hmpmZmRk0v0AaGwkAAAAAAADwPxEAAAAAAADwPyGamZmZGTS/QBobCQAAAAAAAPA/EQAAAAAAAPA/IZqZmZkZNL9AGhsJAAAAAAAA8D8RAAAAAAAA8D8hmpmZmRk0v0AgAUCJ8AQRj/AlhY8BRkAZX1VD+C5ZUUApexSuR+F69D8xPQrXo3B9OEA54XoUrkdFh0BCogIaGwl7FK5H4Xr0PxFkO99PjedSQCFPHhZqobPwQBobCWQ730+N51JAETvfT42XvmJAIWLAuZlxdLhAGhsJO99PjZe+YkARxCCwcmgJbEAhcO0vzvjioUAaGwnEILByaAlsQBEmMQisHKpyQCH0963sSGucQBobCSYxCKwcqnJAEepRuB6FT3dAIQFx9XKg+HJAGhsJ6lG4HoVPd0ARr3Joke30e0AhsoD7HS5/c0AaGwmvcmiR7fR7QBG6SQwCK02AQCFyyk2fDnhxQBobCbpJDAIrTYBAERxaZDvfn4JAIQesOzxIymBAGhsJHFpkO9+fgkARfmq8dJPyhEAhhjTHbkM2QkAaGwl+arx0k/KEQBHhehSuR0WHQCGONMduQzZCQEKkAhobCXsUrkfhevQ/EexRuB6F6x5AIZqZmZkZNL9AGhsJ7FG4HoXrHkARKVyPwvWoIkAhmpmZmRk0v0AaGwkpXI/C9agiQBEpXI/C9aglQCGamZmZGTS/QBobCSlcj8L1qCVAEaRwPQrXIytAIZqZmZkZNL9AGhsJpHA9CtcjK0ARPQrXo3B9OEAhmpmZmRk0v0AaGwk9CtejcH04QBEfhetRuN47QCGamZmZGTS/QBobCR+F61G43jtAEVyPwvUoHD9AIZqZmZkZNL9AGhsJXI/C9SgcP0ARw/UoXI9CTkAhmpmZmRk0v0AaGwnD9Shcj0JOQBH2KFyPwkVYQCGamZmZGTS/QBobCfYoXI/CRVhAEeF6FK5HRYdAIZqZmZkZNL9AIAFCBgoERmFyZRq0AxACIqMDCrsCCMDvBBDAARgBIAEtAACAPzKkAhobCQAAAAAAAPA/EQAAAAAAAPA/Ic3MzMzMLL9AGhsJAAAAAAAA8D8RAAAAAAAA8D8hzczMzMwsv0AaGwkAAAAAAADwPxEAAAAAAADwPyHNzMzMzCy/QBobCQAAAAAAAPA/EQAAAAAAAPA/Ic3MzMzMLL9AGhsJAAAAAAAA8D8RAAAAAAAA8D8hzczMzMwsv0AaGwkAAAAAAADwPxEAAAAAAADwPyHNzMzMzCy/QBobCQAAAAAAAPA/EQAAAAAAAPA/Ic3MzMzMLL9AGhsJAAAAAAAA8D8RAAAAAAAA8D8hzczMzMwsv0AaGwkAAAAAAADwPxEAAAAAAADwPyHNzMzMzCy/QBobCQAAAAAAAPA/EQAAAAAAAPA/Ic3MzMzMLL9AIAFAwO8EEAMaDBIBUxkAAAAAgBzsQBoMEgFDGQAAAADAb9FAGgwSAVEZAAAAAAAdsUAlAACAPyoyCgwiAVMpAAAAAIAc7EAKEAgBEAEiAUMpAAAAAMBv0UAKEAgCEAIiAVEpAAAAAAAdsUBCCgoIRW1iYXJrZWQ=\"></facets-overview>';\n",
       "        facets_iframe.srcdoc = facets_html;\n",
       "         facets_iframe.id = \"\";\n",
       "         setTimeout(() => {\n",
       "           facets_iframe.setAttribute('height', facets_iframe.contentWindow.document.body.offsetHeight + 'px')\n",
       "         }, 1500)\n",
       "         </script>"
      ],
      "text/plain": [
       "<IPython.core.display.HTML object>"
      ]
     },
     "metadata": {},
     "output_type": "display_data"
    }
   ],
   "source": [
    "tfdv.visualize_statistics(train_stats)"
   ]
  },
  {
   "cell_type": "markdown",
   "id": "08b1f16a-f4f7-48b0-be68-accd9a517db3",
   "metadata": {},
   "source": [
    "### 2.d) Infer Training Schema"
   ]
  },
  {
   "cell_type": "code",
   "execution_count": 12,
   "id": "766ae304-b443-4e28-b3ed-8cd2595f2e45",
   "metadata": {},
   "outputs": [
    {
     "data": {
      "text/html": [
       "<div>\n",
       "<style scoped>\n",
       "    .dataframe tbody tr th:only-of-type {\n",
       "        vertical-align: middle;\n",
       "    }\n",
       "\n",
       "    .dataframe tbody tr th {\n",
       "        vertical-align: top;\n",
       "    }\n",
       "\n",
       "    .dataframe thead th {\n",
       "        text-align: right;\n",
       "    }\n",
       "</style>\n",
       "<table border=\"1\" class=\"dataframe\">\n",
       "  <thead>\n",
       "    <tr style=\"text-align: right;\">\n",
       "      <th></th>\n",
       "      <th>Type</th>\n",
       "      <th>Presence</th>\n",
       "      <th>Valency</th>\n",
       "      <th>Domain</th>\n",
       "    </tr>\n",
       "    <tr>\n",
       "      <th>Feature name</th>\n",
       "      <th></th>\n",
       "      <th></th>\n",
       "      <th></th>\n",
       "      <th></th>\n",
       "    </tr>\n",
       "  </thead>\n",
       "  <tbody>\n",
       "    <tr>\n",
       "      <th>'Survived'</th>\n",
       "      <td>INT</td>\n",
       "      <td>required</td>\n",
       "      <td></td>\n",
       "      <td>-</td>\n",
       "    </tr>\n",
       "    <tr>\n",
       "      <th>'Pclass'</th>\n",
       "      <td>INT</td>\n",
       "      <td>required</td>\n",
       "      <td></td>\n",
       "      <td>-</td>\n",
       "    </tr>\n",
       "    <tr>\n",
       "      <th>'Sex'</th>\n",
       "      <td>STRING</td>\n",
       "      <td>required</td>\n",
       "      <td></td>\n",
       "      <td>'Sex'</td>\n",
       "    </tr>\n",
       "    <tr>\n",
       "      <th>'Age'</th>\n",
       "      <td>FLOAT</td>\n",
       "      <td>optional</td>\n",
       "      <td>single</td>\n",
       "      <td>-</td>\n",
       "    </tr>\n",
       "    <tr>\n",
       "      <th>'SibSp'</th>\n",
       "      <td>INT</td>\n",
       "      <td>required</td>\n",
       "      <td></td>\n",
       "      <td>-</td>\n",
       "    </tr>\n",
       "    <tr>\n",
       "      <th>'Parch'</th>\n",
       "      <td>INT</td>\n",
       "      <td>required</td>\n",
       "      <td></td>\n",
       "      <td>-</td>\n",
       "    </tr>\n",
       "    <tr>\n",
       "      <th>'Fare'</th>\n",
       "      <td>FLOAT</td>\n",
       "      <td>optional</td>\n",
       "      <td>single</td>\n",
       "      <td>-</td>\n",
       "    </tr>\n",
       "    <tr>\n",
       "      <th>'Embarked'</th>\n",
       "      <td>STRING</td>\n",
       "      <td>optional</td>\n",
       "      <td>single</td>\n",
       "      <td>'Embarked'</td>\n",
       "    </tr>\n",
       "  </tbody>\n",
       "</table>\n",
       "</div>"
      ],
      "text/plain": [
       "                Type  Presence Valency      Domain\n",
       "Feature name                                      \n",
       "'Survived'       INT  required                   -\n",
       "'Pclass'         INT  required                   -\n",
       "'Sex'         STRING  required               'Sex'\n",
       "'Age'          FLOAT  optional  single           -\n",
       "'SibSp'          INT  required                   -\n",
       "'Parch'          INT  required                   -\n",
       "'Fare'         FLOAT  optional  single           -\n",
       "'Embarked'    STRING  optional  single  'Embarked'"
      ]
     },
     "metadata": {},
     "output_type": "display_data"
    },
    {
     "name": "stderr",
     "output_type": "stream",
     "text": [
      "/home/tensorflowml/appdev/lib/python3.8/site-packages/tensorflow_data_validation/utils/display_util.py:180: FutureWarning: Passing a negative integer is deprecated in version 1.0 and will not be supported in future version. Instead, use None to not limit the column width.\n",
      "  pd.set_option('max_colwidth', -1)\n"
     ]
    },
    {
     "data": {
      "text/html": [
       "<div>\n",
       "<style scoped>\n",
       "    .dataframe tbody tr th:only-of-type {\n",
       "        vertical-align: middle;\n",
       "    }\n",
       "\n",
       "    .dataframe tbody tr th {\n",
       "        vertical-align: top;\n",
       "    }\n",
       "\n",
       "    .dataframe thead th {\n",
       "        text-align: right;\n",
       "    }\n",
       "</style>\n",
       "<table border=\"1\" class=\"dataframe\">\n",
       "  <thead>\n",
       "    <tr style=\"text-align: right;\">\n",
       "      <th></th>\n",
       "      <th>Values</th>\n",
       "    </tr>\n",
       "    <tr>\n",
       "      <th>Domain</th>\n",
       "      <th></th>\n",
       "    </tr>\n",
       "  </thead>\n",
       "  <tbody>\n",
       "    <tr>\n",
       "      <th>'Sex'</th>\n",
       "      <td>'female', 'male'</td>\n",
       "    </tr>\n",
       "    <tr>\n",
       "      <th>'Embarked'</th>\n",
       "      <td>'C', 'Q', 'S'</td>\n",
       "    </tr>\n",
       "  </tbody>\n",
       "</table>\n",
       "</div>"
      ],
      "text/plain": [
       "                      Values\n",
       "Domain                      \n",
       "'Sex'       'female', 'male'\n",
       "'Embarked'  'C', 'Q', 'S'   "
      ]
     },
     "metadata": {},
     "output_type": "display_data"
    }
   ],
   "source": [
    "# Infer the data schema by using the training statistics previously generated\n",
    "dataset_schema = tfdv.infer_schema(train_stats)\n",
    "\n",
    "# Display the data schema\n",
    "tfdv.display_schema(dataset_schema)"
   ]
  },
  {
   "cell_type": "markdown",
   "id": "b90fbcbf-0380-4cd5-a857-53b4efe91414",
   "metadata": {},
   "source": [
    "## Task 3 - Check Anomalies in Validation Dataset"
   ]
  },
  {
   "cell_type": "markdown",
   "id": "83c57d90-be71-4414-af4c-d56ae5eb0fa7",
   "metadata": {},
   "source": [
    "### 3.a) Generate Statistics for Validation Data"
   ]
  },
  {
   "cell_type": "code",
   "execution_count": 13,
   "id": "d17b303b-ca88-4324-9b4f-28a164d42b27",
   "metadata": {},
   "outputs": [
    {
     "name": "stdout",
     "output_type": "stream",
     "text": [
      "Number of features used: 8\n",
      "Number of examples used: 20000\n",
      "First feature: Survived\n",
      "Last feature: Embarked\n"
     ]
    }
   ],
   "source": [
    "val_stats = tfdv.generate_statistics_from_dataframe(df_val, stats_options=options_train)\n",
    "\n",
    "# get the number of features used to compute statistics\n",
    "print(f\"Number of features used: {len(val_stats.datasets[0].features)}\")\n",
    "\n",
    "# check the number of examples used\n",
    "print(f\"Number of examples used: {val_stats.datasets[0].num_examples}\")\n",
    "\n",
    "# check the column names of the first and last feature\n",
    "print(f\"First feature: {val_stats.datasets[0].features[0].path.step[0]}\")\n",
    "print(f\"Last feature: {val_stats.datasets[0].features[-1].path.step[0]}\")"
   ]
  },
  {
   "cell_type": "markdown",
   "id": "f369a2a9-2052-4d73-ae6e-141be055c48b",
   "metadata": {},
   "source": [
    "### 3.b) Compare Validation with Training Statistics"
   ]
  },
  {
   "cell_type": "code",
   "execution_count": 14,
   "id": "a82f821b-bc4a-40d0-9802-eac3e81ecab2",
   "metadata": {
    "tags": []
   },
   "outputs": [
    {
     "data": {
      "text/html": [
       "<iframe id='facets-iframe' width=\"100%\" height=\"500px\"></iframe>\n",
       "        <script>\n",
       "        facets_iframe = document.getElementById('facets-iframe');\n",
       "        facets_html = '<script src=\"https://cdnjs.cloudflare.com/ajax/libs/webcomponentsjs/1.3.3/webcomponents-lite.js\"><\\/script><link rel=\"import\" href=\"https://raw.githubusercontent.com/PAIR-code/facets/master/facets-dist/facets-jupyter.html\"><facets-overview proto-input=\"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\"></facets-overview>';\n",
       "        facets_iframe.srcdoc = facets_html;\n",
       "         facets_iframe.id = \"\";\n",
       "         setTimeout(() => {\n",
       "           facets_iframe.setAttribute('height', facets_iframe.contentWindow.document.body.offsetHeight + 'px')\n",
       "         }, 1500)\n",
       "         </script>"
      ],
      "text/plain": [
       "<IPython.core.display.HTML object>"
      ]
     },
     "metadata": {},
     "output_type": "display_data"
    }
   ],
   "source": [
    "tfdv.visualize_statistics(lhs_statistics=val_stats, rhs_statistics=train_stats,\n",
    "                          lhs_name='VAL_DATASET', rhs_name='TRAIN_DATASET')"
   ]
  },
  {
   "cell_type": "markdown",
   "id": "cab3434b-befe-4b26-965d-23b1d9b5fe5f",
   "metadata": {},
   "source": [
    "### 3.c) Detect Anomalies"
   ]
  },
  {
   "cell_type": "code",
   "execution_count": 15,
   "id": "ed5a6e17-da7e-4ab6-9c75-7ebd8bab1e67",
   "metadata": {},
   "outputs": [
    {
     "name": "stderr",
     "output_type": "stream",
     "text": [
      "/home/tensorflowml/appdev/lib/python3.8/site-packages/tensorflow_data_validation/utils/display_util.py:217: FutureWarning: Passing a negative integer is deprecated in version 1.0 and will not be supported in future version. Instead, use None to not limit the column width.\n",
      "  pd.set_option('max_colwidth', -1)\n"
     ]
    },
    {
     "data": {
      "text/html": [
       "<h4 style=\"color:green;\">No anomalies found.</h4>"
      ],
      "text/plain": [
       "<IPython.core.display.HTML object>"
      ]
     },
     "metadata": {},
     "output_type": "display_data"
    }
   ],
   "source": [
    "val_anomalies = tfdv.validate_statistics(statistics=val_stats, schema=dataset_schema)\n",
    "tfdv.display_anomalies(val_anomalies)"
   ]
  },
  {
   "cell_type": "markdown",
   "id": "fac7dbd6-c584-4111-b4d5-8c80ab46de3f",
   "metadata": {},
   "source": [
    "### 3.d) Fix Validation Data Anomalies in Schema"
   ]
  },
  {
   "cell_type": "code",
   "execution_count": 16,
   "id": "5bc71224-b3b4-4363-98a9-cd8cf2838f6c",
   "metadata": {},
   "outputs": [],
   "source": [
    "# Not applicable in this iteration of the data validation exercise"
   ]
  },
  {
   "cell_type": "markdown",
   "id": "4198cf99-8c3b-4b5e-9a48-8d41ebdcd0b0",
   "metadata": {},
   "source": [
    "## Task 4 - Check Anomalies in Test Dataset"
   ]
  },
  {
   "cell_type": "markdown",
   "id": "1ff9f8c8-b3e7-44cf-b90c-42de6f6490df",
   "metadata": {},
   "source": [
    "### 4.a) Generate Statistics for Test Data"
   ]
  },
  {
   "cell_type": "code",
   "execution_count": 17,
   "id": "6a7950b4-7edc-4457-b8c2-908fa4383337",
   "metadata": {},
   "outputs": [],
   "source": [
    "# Define a new statistics options by the tfdv.StatsOptions class for the serving data by passing the previously inferred schema\n",
    "options_test = tfdv.StatsOptions(schema=dataset_schema, infer_type_from_schema=True, feature_allowlist=features_to_keep)"
   ]
  },
  {
   "cell_type": "code",
   "execution_count": 18,
   "id": "ed65ef38-e3fd-4c01-b1d0-c3e3b18ad45d",
   "metadata": {},
   "outputs": [
    {
     "name": "stdout",
     "output_type": "stream",
     "text": [
      "Number of features used: 7\n",
      "Number of examples used: 100000\n",
      "First feature: Pclass\n",
      "Last feature: Embarked\n"
     ]
    }
   ],
   "source": [
    "# Generate serving dataset statistics\n",
    "test_stats = tfdv.generate_statistics_from_dataframe(df_test, stats_options=options_test)\n",
    "\n",
    "# get the number of features used to compute statistics\n",
    "print(f\"Number of features used: {len(test_stats.datasets[0].features)}\")\n",
    "\n",
    "# check the number of examples used\n",
    "print(f\"Number of examples used: {test_stats.datasets[0].num_examples}\")\n",
    "\n",
    "# check the column names of the first and last feature\n",
    "print(f\"First feature: {test_stats.datasets[0].features[0].path.step[0]}\")\n",
    "print(f\"Last feature: {test_stats.datasets[0].features[-1].path.step[0]}\")"
   ]
  },
  {
   "cell_type": "markdown",
   "id": "65914f4b-b357-4a6e-ae26-a311e9d28a1e",
   "metadata": {},
   "source": [
    "### 4.b) Compare Test with Training Statistics"
   ]
  },
  {
   "cell_type": "code",
   "execution_count": 19,
   "id": "9018bcd4-58a9-4a07-a1e1-453da72566e8",
   "metadata": {},
   "outputs": [
    {
     "data": {
      "text/html": [
       "<div>\n",
       "<style scoped>\n",
       "    .dataframe tbody tr th:only-of-type {\n",
       "        vertical-align: middle;\n",
       "    }\n",
       "\n",
       "    .dataframe tbody tr th {\n",
       "        vertical-align: top;\n",
       "    }\n",
       "\n",
       "    .dataframe thead th {\n",
       "        text-align: right;\n",
       "    }\n",
       "</style>\n",
       "<table border=\"1\" class=\"dataframe\">\n",
       "  <thead>\n",
       "    <tr style=\"text-align: right;\">\n",
       "      <th></th>\n",
       "      <th>Anomaly short description</th>\n",
       "      <th>Anomaly long description</th>\n",
       "    </tr>\n",
       "    <tr>\n",
       "      <th>Feature name</th>\n",
       "      <th></th>\n",
       "      <th></th>\n",
       "    </tr>\n",
       "  </thead>\n",
       "  <tbody>\n",
       "    <tr>\n",
       "      <th>'Survived'</th>\n",
       "      <td>Column dropped</td>\n",
       "      <td>Column is completely missing</td>\n",
       "    </tr>\n",
       "  </tbody>\n",
       "</table>\n",
       "</div>"
      ],
      "text/plain": [
       "             Anomaly short description      Anomaly long description\n",
       "Feature name                                                        \n",
       "'Survived'    Column dropped            Column is completely missing"
      ]
     },
     "metadata": {},
     "output_type": "display_data"
    }
   ],
   "source": [
    "test_anomalies = tfdv.validate_statistics(statistics=test_stats, schema=dataset_schema)\n",
    "tfdv.display_anomalies(test_anomalies)"
   ]
  },
  {
   "cell_type": "markdown",
   "id": "f1720d5d-a943-4828-b44d-044e7e2c6100",
   "metadata": {},
   "source": [
    "### 4.c) Fix Test Data Anomalies in Schema"
   ]
  },
  {
   "cell_type": "code",
   "execution_count": 20,
   "id": "b7ee8af5-7030-4bd7-88e7-d9a6a37ad7fc",
   "metadata": {},
   "outputs": [],
   "source": [
    "# Not applicable in this iteration of the data validation exercise"
   ]
  },
  {
   "cell_type": "markdown",
   "id": "d50be62d-0e6f-46c3-a89b-1fa13e53c233",
   "metadata": {},
   "source": [
    "### 4.d) Organize Schema based on Environment"
   ]
  },
  {
   "cell_type": "code",
   "execution_count": 21,
   "id": "c15562ed-2cdd-4c60-b1d0-c67e8b03c770",
   "metadata": {},
   "outputs": [],
   "source": [
    "# All features are by default in both TRAINING and SERVING environments.\n",
    "dataset_schema.default_environment.append('TRAINING')\n",
    "dataset_schema.default_environment.append('TESTING')"
   ]
  },
  {
   "cell_type": "code",
   "execution_count": 22,
   "id": "ab17939b-cf24-4af9-8598-5df82abc25f9",
   "metadata": {},
   "outputs": [
    {
     "name": "stderr",
     "output_type": "stream",
     "text": [
      "/home/tensorflowml/appdev/lib/python3.8/site-packages/tensorflow_data_validation/utils/display_util.py:217: FutureWarning: Passing a negative integer is deprecated in version 1.0 and will not be supported in future version. Instead, use None to not limit the column width.\n",
      "  pd.set_option('max_colwidth', -1)\n"
     ]
    },
    {
     "data": {
      "text/html": [
       "<h4 style=\"color:green;\">No anomalies found.</h4>"
      ],
      "text/plain": [
       "<IPython.core.display.HTML object>"
      ]
     },
     "metadata": {},
     "output_type": "display_data"
    }
   ],
   "source": [
    "# Specify that 'target' feature is not in TEST environment.\n",
    "tfdv.get_feature(dataset_schema, 'Survived').not_in_environment.append('TESTING')\n",
    "\n",
    "# Re-calculate and re-display anomalies with the new environment parameters\n",
    "test_anomalies = tfdv.validate_statistics(statistics=test_stats, schema=dataset_schema, environment='TESTING')\n",
    "tfdv.display_anomalies(test_anomalies)"
   ]
  },
  {
   "cell_type": "markdown",
   "id": "b2a4e751-e1dc-4554-b22a-342ea1dfbec3",
   "metadata": {},
   "source": [
    "## Task 5 - Check for Data Drift and Skew"
   ]
  },
  {
   "cell_type": "code",
   "execution_count": 23,
   "id": "50c68e40-0a9e-41ef-850b-e1cd55ee1227",
   "metadata": {},
   "outputs": [],
   "source": [
    "# Not applicable in this iteration of the data validation exercise"
   ]
  },
  {
   "cell_type": "markdown",
   "id": "43c3a21b-0f2d-4dad-a9f0-39d1be601a2b",
   "metadata": {},
   "source": [
    "## Task 6 - Display Stats for Data Slices"
   ]
  },
  {
   "cell_type": "code",
   "execution_count": 24,
   "id": "d589c757-2ed1-4672-bc11-a734a1276949",
   "metadata": {},
   "outputs": [],
   "source": [
    "def split_datasets(dataset_list):\n",
    "    '''\n",
    "    split datasets.\n",
    "\n",
    "            Parameters:\n",
    "                    dataset_list: List of datasets to split\n",
    "\n",
    "            Returns:\n",
    "                    datasets: sliced data\n",
    "    '''\n",
    "    datasets = []\n",
    "    for dataset in dataset_list.datasets:\n",
    "        proto_list = DatasetFeatureStatisticsList()\n",
    "        proto_list.datasets.extend([dataset])\n",
    "        datasets.append(proto_list)\n",
    "    return datasets"
   ]
  },
  {
   "cell_type": "code",
   "execution_count": 25,
   "id": "74008891-61b4-4e96-917d-c6b380406be3",
   "metadata": {},
   "outputs": [],
   "source": [
    "def display_stats_at_index(index, datasets):\n",
    "    '''\n",
    "    display statistics at the specified data index\n",
    "\n",
    "            Parameters:\n",
    "                    index : index to show the anomalies\n",
    "                    datasets: split data\n",
    "\n",
    "            Returns:\n",
    "                    display of generated sliced data statistics at the specified index\n",
    "    '''\n",
    "    if index < len(datasets):\n",
    "        print(datasets[index].datasets[0].name)\n",
    "        tfdv.visualize_statistics(datasets[index])"
   ]
  },
  {
   "cell_type": "code",
   "execution_count": 26,
   "id": "bcc6ecb6-d0bd-4802-8c17-90773710b6dd",
   "metadata": {},
   "outputs": [],
   "source": [
    "def sliced_stats_for_slice_fn(slice_fn, approved_cols, dataframe, schema):\n",
    "    '''\n",
    "    generate statistics for the sliced data.\n",
    "\n",
    "            Parameters:\n",
    "                    slice_fn : slicing definition\n",
    "                    approved_cols: list of features to pass to the statistics options\n",
    "                    dataframe: pandas dataframe to slice\n",
    "                    schema: the schema\n",
    "\n",
    "            Returns:\n",
    "                    slice_info_datasets: statistics for the sliced dataset\n",
    "    '''\n",
    "    # Set the StatsOptions\n",
    "    slice_stats_options = tfdv.StatsOptions(schema=schema,\n",
    "                                            slice_functions=[slice_fn],\n",
    "                                            infer_type_from_schema=True,\n",
    "                                            feature_allowlist=approved_cols)\n",
    "    \n",
    "    # Convert Dataframe to CSV since `slice_functions` works only with `tfdv.generate_statistics_from_csv`\n",
    "    CSV_PATH = 'slice_sample.csv'\n",
    "    dataframe.to_csv(CSV_PATH)\n",
    "    \n",
    "    # Calculate statistics for the sliced dataset\n",
    "    sliced_stats = tfdv.generate_statistics_from_csv(CSV_PATH, stats_options=slice_stats_options)\n",
    "    \n",
    "    # Split the dataset using the previously defined split_datasets function\n",
    "    slice_info_datasets = split_datasets(sliced_stats)\n",
    "    \n",
    "    return slice_info_datasets"
   ]
  },
  {
   "cell_type": "code",
   "execution_count": 27,
   "id": "94016e8e-8adf-4667-a323-f117f2fbcb30",
   "metadata": {},
   "outputs": [
    {
     "name": "stderr",
     "output_type": "stream",
     "text": [
      "WARNING:apache_beam.runners.interactive.interactive_environment:Dependencies required for Interactive Beam PCollection visualization are not available, please use: `pip install apache-beam[interactive]` to install necessary dependencies to enable all data visualization features.\n"
     ]
    },
    {
     "data": {
      "application/javascript": [
       "\n",
       "        if (typeof window.interactive_beam_jquery == 'undefined') {\n",
       "          var jqueryScript = document.createElement('script');\n",
       "          jqueryScript.src = 'https://code.jquery.com/jquery-3.4.1.slim.min.js';\n",
       "          jqueryScript.type = 'text/javascript';\n",
       "          jqueryScript.onload = function() {\n",
       "            var datatableScript = document.createElement('script');\n",
       "            datatableScript.src = 'https://cdn.datatables.net/1.10.20/js/jquery.dataTables.min.js';\n",
       "            datatableScript.type = 'text/javascript';\n",
       "            datatableScript.onload = function() {\n",
       "              window.interactive_beam_jquery = jQuery.noConflict(true);\n",
       "              window.interactive_beam_jquery(document).ready(function($){\n",
       "                \n",
       "              });\n",
       "            }\n",
       "            document.head.appendChild(datatableScript);\n",
       "          };\n",
       "          document.head.appendChild(jqueryScript);\n",
       "        } else {\n",
       "          window.interactive_beam_jquery(document).ready(function($){\n",
       "            \n",
       "          });\n",
       "        }"
      ]
     },
     "metadata": {},
     "output_type": "display_data"
    },
    {
     "name": "stderr",
     "output_type": "stream",
     "text": [
      "WARNING:apache_beam.io.tfrecordio:Couldn't find python-snappy so the implementation of _TFRecordUtil._masked_crc32c is not as fast as it could be.\n"
     ]
    },
    {
     "name": "stdout",
     "output_type": "stream",
     "text": [
      "Statistics generated for:\n",
      "\n",
      "All Examples\n",
      "Sex_female\n",
      "Sex_male\n",
      "Sex_female\n"
     ]
    },
    {
     "data": {
      "text/html": [
       "<iframe id='facets-iframe' width=\"100%\" height=\"500px\"></iframe>\n",
       "        <script>\n",
       "        facets_iframe = document.getElementById('facets-iframe');\n",
       "        facets_html = '<script src=\"https://cdnjs.cloudflare.com/ajax/libs/webcomponentsjs/1.3.3/webcomponents-lite.js\"><\\/script><link rel=\"import\" href=\"https://raw.githubusercontent.com/PAIR-code/facets/master/facets-dist/facets-jupyter.html\"><facets-overview proto-input=\"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\"></facets-overview>';\n",
       "        facets_iframe.srcdoc = facets_html;\n",
       "         facets_iframe.id = \"\";\n",
       "         setTimeout(() => {\n",
       "           facets_iframe.setAttribute('height', facets_iframe.contentWindow.document.body.offsetHeight + 'px')\n",
       "         }, 1500)\n",
       "         </script>"
      ],
      "text/plain": [
       "<IPython.core.display.HTML object>"
      ]
     },
     "metadata": {},
     "output_type": "display_data"
    }
   ],
   "source": [
    "# Generate slice function for one of the features\n",
    "slice_fn = slicing_util.get_feature_value_slicer(features={'Sex': None})\n",
    "\n",
    "# Generate stats for the sliced dataset\n",
    "slice_datasets = sliced_stats_for_slice_fn(slice_fn, features_to_keep, dataframe=df_train, schema=dataset_schema)\n",
    "\n",
    "# Print name of slices for reference\n",
    "print(f'Statistics generated for:\\n')\n",
    "print('\\n'.join([sliced.datasets[0].name for sliced in slice_datasets]))\n",
    "\n",
    "# Display at index 1 as an example\n",
    "display_stats_at_index(1, slice_datasets) "
   ]
  },
  {
   "cell_type": "markdown",
   "id": "334a2d9b-b089-4029-bc5e-f3144bc8db6f",
   "metadata": {},
   "source": [
    "## Task 7 - Finalize the Schema"
   ]
  },
  {
   "cell_type": "code",
   "execution_count": 28,
   "id": "0402e421-d17b-49a2-ab94-ca48fc585316",
   "metadata": {},
   "outputs": [],
   "source": [
    "# Create output directory\n",
    "OUTPUT_DIR = \"output\"\n",
    "file_io.recursive_create_dir(OUTPUT_DIR)\n",
    "\n",
    "# Use TensorFlow text output format pbtxt to store the schema\n",
    "schema_file = os.path.join(OUTPUT_DIR, 'schema.pbtxt')\n",
    "\n",
    "# write_schema_text function expect the defined schema and output path as parameters\n",
    "tfdv.write_schema_text(dataset_schema, schema_file) "
   ]
  },
  {
   "cell_type": "code",
   "execution_count": 29,
   "id": "7e5a3a5c-9372-4f0c-b3eb-d205661b23c2",
   "metadata": {},
   "outputs": [
    {
     "name": "stdout",
     "output_type": "stream",
     "text": [
      "Total time for the script: 0:00:19.207370\n"
     ]
    }
   ],
   "source": [
    "print ('Total time for the script:',(datetime.now() - start_time_script))"
   ]
  }
 ],
 "metadata": {
  "kernelspec": {
   "display_name": "Python 3",
   "language": "python",
   "name": "python3"
  },
  "language_info": {
   "codemirror_mode": {
    "name": "ipython",
    "version": 3
   },
   "file_extension": ".py",
   "mimetype": "text/x-python",
   "name": "python",
   "nbconvert_exporter": "python",
   "pygments_lexer": "ipython3",
   "version": "3.8.10"
  }
 },
 "nbformat": 4,
 "nbformat_minor": 5
}
