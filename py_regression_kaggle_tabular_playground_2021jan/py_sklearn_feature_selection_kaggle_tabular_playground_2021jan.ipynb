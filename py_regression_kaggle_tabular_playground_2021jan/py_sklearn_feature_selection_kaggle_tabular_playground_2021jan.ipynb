{
 "cells": [
  {
   "cell_type": "markdown",
   "metadata": {},
   "source": [
    "# Feature Selection for Kaggle Tabular Playground Series Jan 2021 Using Python and Scikit-learn\n",
    "### David Lowe\n",
    "### May 25, 2021\n",
    "\n",
    "Template Credit: Adapted from a template made available by Dr. Jason Brownlee of Machine Learning Mastery. [https://machinelearningmastery.com/]\n",
    "\n",
    "SUMMARY: Feature selection involves picking the set of features that are most relevant to the target variable. This can help reduce the complexity of our model and minimize the resources required for training and inference. The Kaggle Tabular Playground Series Jan 2021 dataset is a regression situation where we are trying to predict the value of a continuous variable.\n",
    "\n",
    "INTRODUCTION: In this notebook, we will run through the different techniques in performing feature selection on the dataset. We will leverage the Scikit-learn library which features various machine learning algorithms and has built-in implementations of various feature selection methods. We will compare which method works best for this particular dataset.\n",
    "\n",
    "ANALYSIS: The feature selection technique that yielded the best RMSE score was Recursive Feature Elimination (RFE). Its RMSE for the training dataset was 0.7082.\n",
    "\n",
    "CONCLUSION: In this iteration, the RFE technique appeared to be suitable for modeling this dataset. We should follow up on the feature selection exercise by modeling the whole dataset using the selected attributes.\n",
    "\n",
    "Dataset Used: Kaggle Tabular Playground Series Jan 2021 Data Set\n",
    "\n",
    "Dataset ML Model: Regression with numerical attributes\n",
    "\n",
    "Dataset Reference: https://www.kaggle.com/c/tabular-playground-series-jan-2021\n",
    "\n",
    "One potential source of performance benchmarks: https://www.kaggle.com/c/tabular-playground-series-jan-2021/leaderboard\n",
    "\n",
    "Any predictive modeling machine learning project generally can be broken down into about six major tasks:\n",
    "\n",
    "1. Prepare Environment\n",
    "2. Summarize and Visualize Data\n",
    "3. Pre-process Data\n",
    "4. Train and Evaluate Models\n",
    "5. Fine-tune and Improve Models\n",
    "6. Finalize Model and Present Analysis"
   ]
  },
  {
   "cell_type": "markdown",
   "metadata": {},
   "source": [
    "## Task 1 - Prepare Environment"
   ]
  },
  {
   "cell_type": "code",
   "execution_count": 1,
   "metadata": {},
   "outputs": [],
   "source": [
    "# Install the necessary packages for Colab\n",
    "# !pip install python-dotenv PyMySQL"
   ]
  },
  {
   "cell_type": "code",
   "execution_count": 2,
   "metadata": {},
   "outputs": [],
   "source": [
    "# Retrieve the GPU information from Colab\n",
    "# gpu_info = !nvidia-smi\n",
    "# gpu_info = '\\n'.join(gpu_info)\n",
    "# if gpu_info.find('failed') >= 0:\n",
    "#     print('Select the Runtime → \"Change runtime type\" menu to enable a GPU accelerator, ')\n",
    "#     print('and then re-execute this cell.')\n",
    "# else:\n",
    "#     print(gpu_info)"
   ]
  },
  {
   "cell_type": "code",
   "execution_count": 3,
   "metadata": {},
   "outputs": [],
   "source": [
    "# Retrieve the memory configuration from Colab\n",
    "# from psutil import virtual_memory\n",
    "# ram_gb = virtual_memory().total / 1e9\n",
    "# print('Your runtime has {:.1f} gigabytes of available RAM\\n'.format(ram_gb))\n",
    "\n",
    "# if ram_gb < 20:\n",
    "#     print('To enable a high-RAM runtime, select the Runtime → \"Change runtime type\"')\n",
    "#     print('menu, and then select High-RAM in the Runtime shape dropdown. Then, ')\n",
    "#     print('re-execute this cell.')\n",
    "# else:\n",
    "#     print('You are using a high-RAM runtime!')"
   ]
  },
  {
   "cell_type": "code",
   "execution_count": 4,
   "metadata": {},
   "outputs": [
    {
     "name": "stdout",
     "output_type": "stream",
     "text": [
      "The number of available CPUs is: 8\n"
     ]
    }
   ],
   "source": [
    "# Retrieve the CPU information\n",
    "ncpu = !nproc\n",
    "print(\"The number of available CPUs is:\", ncpu[0])"
   ]
  },
  {
   "cell_type": "markdown",
   "metadata": {},
   "source": [
    "### 1.a) Load libraries and modules"
   ]
  },
  {
   "cell_type": "code",
   "execution_count": 5,
   "metadata": {},
   "outputs": [],
   "source": [
    "# Set the random seed number for reproducible results\n",
    "RNG_SEED = 888"
   ]
  },
  {
   "cell_type": "code",
   "execution_count": 6,
   "metadata": {},
   "outputs": [],
   "source": [
    "import numpy as np\n",
    "import pandas as pd\n",
    "import seaborn as sns\n",
    "import matplotlib\n",
    "import matplotlib.pyplot as plt\n",
    "import os\n",
    "import sys\n",
    "import math\n",
    "from datetime import datetime\n",
    "# import boto3\n",
    "# from dotenv import load_dotenv\n",
    "from sklearn import preprocessing\n",
    "from sklearn.model_selection import train_test_split\n",
    "from sklearn.model_selection import KFold\n",
    "from sklearn.model_selection import cross_val_score\n",
    "from sklearn.model_selection import GridSearchCV\n",
    "from sklearn.metrics import mean_squared_error, median_absolute_error, r2_score\n",
    "from sklearn.feature_selection import SelectKBest, f_regression, mutual_info_regression\n",
    "from sklearn.feature_selection import RFE, SequentialFeatureSelector, SelectFromModel\n",
    "# from sklearn.pipeline import Pipeline\n",
    "# from sklearn import compose\n",
    "# from sklearn import impute\n",
    "\n",
    "from sklearn.linear_model import Lasso\n",
    "from sklearn.linear_model import LogisticRegression\n",
    "from sklearn.ensemble import ExtraTreesRegressor"
   ]
  },
  {
   "cell_type": "markdown",
   "metadata": {},
   "source": [
    "### 1.b) Set up the controlling parameters and functions"
   ]
  },
  {
   "cell_type": "code",
   "execution_count": 7,
   "metadata": {},
   "outputs": [],
   "source": [
    "# Begin the timer for the script processing\n",
    "start_time_script = datetime.now()\n",
    "\n",
    "# Set up the number of CPU cores available for multi-thread processing\n",
    "N_JOBS = 4\n",
    "\n",
    "# Set up the flag to stop sending progress emails (setting to True will send status emails!)\n",
    "NOTIFY_STATUS = False\n",
    "\n",
    "# Set the percentage sizes for splitting the dataset\n",
    "TEST_SET_RATIO = 0.2\n",
    "VAL_SET_RATIO = 0.2\n",
    "\n",
    "# Set the number of folds for cross validation\n",
    "N_FOLDS = 5\n",
    "\n",
    "# Set various default modeling parameters\n",
    "SCORING_METRIC = 'neg_mean_squared_error'\n",
    "\n",
    "# Set Pandas options\n",
    "pd.set_option(\"display.max_rows\", 500)\n",
    "pd.set_option(\"display.width\", 140)"
   ]
  },
  {
   "cell_type": "code",
   "execution_count": 8,
   "metadata": {},
   "outputs": [],
   "source": [
    "# Set up the email notification function\n",
    "def status_notify(msg_text):\n",
    "    access_key = os.environ.get('SNS_ACCESS_KEY')\n",
    "    secret_key = os.environ.get('SNS_SECRET_KEY')\n",
    "    aws_region = os.environ.get('SNS_AWS_REGION')\n",
    "    topic_arn = os.environ.get('SNS_TOPIC_ARN')\n",
    "    if (access_key is None) or (secret_key is None) or (aws_region is None):\n",
    "        sys.exit(\"Incomplete notification setup info. Script Processing Aborted!!!\")\n",
    "    sns = boto3.client('sns', aws_access_key_id=access_key, aws_secret_access_key=secret_key, region_name=aws_region)\n",
    "    response = sns.publish(TopicArn=topic_arn, Message=msg_text)\n",
    "    if response['ResponseMetadata']['HTTPStatusCode'] != 200 :\n",
    "        print('Status notification not OK with HTTP status code:', response['ResponseMetadata']['HTTPStatusCode'])"
   ]
  },
  {
   "cell_type": "code",
   "execution_count": 9,
   "metadata": {},
   "outputs": [],
   "source": [
    "if NOTIFY_STATUS: status_notify(\"Task 1 - Prepare Environment has begun! \" + datetime.now().strftime('%a %B %d, %Y %I:%M:%S %p'))"
   ]
  },
  {
   "cell_type": "markdown",
   "metadata": {},
   "source": [
    "### 1.c) Load dataset"
   ]
  },
  {
   "cell_type": "code",
   "execution_count": 10,
   "metadata": {},
   "outputs": [
    {
     "name": "stdout",
     "output_type": "stream",
     "text": [
      "   id     cont1     cont2     cont3     cont4     cont5     cont6     cont7     cont8     cont9    cont10    cont11    cont12    cont13  \\\n",
      "0   1  0.670390  0.811300  0.643968  0.291791  0.284117  0.855953  0.890700  0.285542  0.558245  0.779418  0.921832  0.866772  0.878733   \n",
      "1   3  0.388053  0.621104  0.686102  0.501149  0.643790  0.449805  0.510824  0.580748  0.418335  0.432632  0.439872  0.434971  0.369957   \n",
      "2   4  0.834950  0.227436  0.301584  0.293408  0.606839  0.829175  0.506143  0.558771  0.587603  0.823312  0.567007  0.677708  0.882938   \n",
      "3   5  0.820708  0.160155  0.546887  0.726104  0.282444  0.785108  0.752758  0.823267  0.574466  0.580843  0.769594  0.818143  0.914281   \n",
      "4   8  0.935278  0.421235  0.303801  0.880214  0.665610  0.830131  0.487113  0.604157  0.874658  0.863427  0.983575  0.900464  0.935918   \n",
      "\n",
      "     cont14    target  \n",
      "0  0.305411  7.243043  \n",
      "1  0.369484  8.203331  \n",
      "2  0.303047  7.776091  \n",
      "3  0.279528  6.957716  \n",
      "4  0.435772  7.951046  \n"
     ]
    }
   ],
   "source": [
    "dataset_path = 'https://dainesanalytics.com/datasets/kaggle-tabular-playground-2021jan/train.csv'\n",
    "df_dataset_import = pd.read_csv(dataset_path, index_col=False)\n",
    "\n",
    "# Take a peek at the dataframe after import\n",
    "print(df_dataset_import.head())"
   ]
  },
  {
   "cell_type": "code",
   "execution_count": 11,
   "metadata": {},
   "outputs": [
    {
     "name": "stdout",
     "output_type": "stream",
     "text": [
      "<class 'pandas.core.frame.DataFrame'>\n",
      "RangeIndex: 300000 entries, 0 to 299999\n",
      "Data columns (total 16 columns):\n",
      " #   Column  Non-Null Count   Dtype  \n",
      "---  ------  --------------   -----  \n",
      " 0   id      300000 non-null  int64  \n",
      " 1   cont1   300000 non-null  float64\n",
      " 2   cont2   300000 non-null  float64\n",
      " 3   cont3   300000 non-null  float64\n",
      " 4   cont4   300000 non-null  float64\n",
      " 5   cont5   300000 non-null  float64\n",
      " 6   cont6   300000 non-null  float64\n",
      " 7   cont7   300000 non-null  float64\n",
      " 8   cont8   300000 non-null  float64\n",
      " 9   cont9   300000 non-null  float64\n",
      " 10  cont10  300000 non-null  float64\n",
      " 11  cont11  300000 non-null  float64\n",
      " 12  cont12  300000 non-null  float64\n",
      " 13  cont13  300000 non-null  float64\n",
      " 14  cont14  300000 non-null  float64\n",
      " 15  target  300000 non-null  float64\n",
      "dtypes: float64(15), int64(1)\n",
      "memory usage: 36.6 MB\n"
     ]
    }
   ],
   "source": [
    "df_dataset_import.info(verbose=True)"
   ]
  },
  {
   "cell_type": "code",
   "execution_count": 12,
   "metadata": {},
   "outputs": [
    {
     "name": "stdout",
     "output_type": "stream",
     "text": [
      "                  id          cont1          cont2          cont3          cont4          cont5          cont6          cont7  \\\n",
      "count  300000.000000  300000.000000  300000.000000  300000.000000  300000.000000  300000.000000  300000.000000  300000.000000   \n",
      "mean   249825.145857       0.506873       0.497898       0.521557       0.515683       0.502022       0.526515       0.487890   \n",
      "std    144476.732562       0.203976       0.228159       0.200770       0.233035       0.220701       0.217909       0.181096   \n",
      "min         1.000000      -0.082263      -0.031397       0.020967       0.152761       0.276377       0.066166      -0.097666   \n",
      "25%    124656.500000       0.343078       0.319170       0.344096       0.294935       0.284108       0.356163       0.346600   \n",
      "50%    249738.500000       0.484005       0.553209       0.551471       0.482880       0.451733       0.470988       0.466825   \n",
      "75%    374836.250000       0.643789       0.731263       0.648315       0.748705       0.670660       0.694043       0.581292   \n",
      "max    499999.000000       1.016227       0.859697       1.006955       1.010402       1.034261       1.043858       1.066167   \n",
      "\n",
      "               cont8          cont9         cont10         cont11         cont12         cont13         cont14         target  \n",
      "count  300000.000000  300000.000000  300000.000000  300000.000000  300000.000000  300000.000000  300000.000000  300000.000000  \n",
      "mean        0.525163       0.459857       0.520532       0.483926       0.506877       0.553442       0.503713       7.905661  \n",
      "std         0.216221       0.196685       0.201854       0.220082       0.218947       0.229730       0.208238       0.733071  \n",
      "min         0.217260      -0.240604      -0.085046       0.083277       0.088635       0.029950       0.166367       0.000000  \n",
      "25%         0.341486       0.330832       0.375465       0.300474       0.310166       0.350472       0.308673       7.329367  \n",
      "50%         0.483460       0.416843       0.458877       0.441916       0.486599       0.487707       0.431845       7.940571  \n",
      "75%         0.685250       0.575041       0.700292       0.679128       0.694453       0.768479       0.712653       8.470084  \n",
      "max         1.024427       1.004114       1.199951       1.022620       1.049025       0.977845       0.868506      10.267569  \n"
     ]
    }
   ],
   "source": [
    "print(df_dataset_import.describe(include='all'))"
   ]
  },
  {
   "cell_type": "code",
   "execution_count": 13,
   "metadata": {},
   "outputs": [
    {
     "name": "stdout",
     "output_type": "stream",
     "text": [
      "id        0\n",
      "cont1     0\n",
      "cont2     0\n",
      "cont3     0\n",
      "cont4     0\n",
      "cont5     0\n",
      "cont6     0\n",
      "cont7     0\n",
      "cont8     0\n",
      "cont9     0\n",
      "cont10    0\n",
      "cont11    0\n",
      "cont12    0\n",
      "cont13    0\n",
      "cont14    0\n",
      "target    0\n",
      "dtype: int64\n",
      "Total number of NaN in the dataframe:  0\n"
     ]
    }
   ],
   "source": [
    "print(df_dataset_import.isna().sum())\n",
    "print('Total number of NaN in the dataframe: ', df_dataset_import.isna().sum().sum())"
   ]
  },
  {
   "cell_type": "markdown",
   "metadata": {},
   "source": [
    "### 1.d) Data Cleaning"
   ]
  },
  {
   "cell_type": "code",
   "execution_count": 14,
   "metadata": {},
   "outputs": [
    {
     "name": "stdout",
     "output_type": "stream",
     "text": [
      "      cont1     cont2     cont3     cont4     cont5     cont6     cont7     cont8     cont9    cont10    cont11    cont12    cont13  \\\n",
      "0  0.670390  0.811300  0.643968  0.291791  0.284117  0.855953  0.890700  0.285542  0.558245  0.779418  0.921832  0.866772  0.878733   \n",
      "1  0.388053  0.621104  0.686102  0.501149  0.643790  0.449805  0.510824  0.580748  0.418335  0.432632  0.439872  0.434971  0.369957   \n",
      "2  0.834950  0.227436  0.301584  0.293408  0.606839  0.829175  0.506143  0.558771  0.587603  0.823312  0.567007  0.677708  0.882938   \n",
      "3  0.820708  0.160155  0.546887  0.726104  0.282444  0.785108  0.752758  0.823267  0.574466  0.580843  0.769594  0.818143  0.914281   \n",
      "4  0.935278  0.421235  0.303801  0.880214  0.665610  0.830131  0.487113  0.604157  0.874658  0.863427  0.983575  0.900464  0.935918   \n",
      "\n",
      "     cont14    target  \n",
      "0  0.305411  7.243043  \n",
      "1  0.369484  8.203331  \n",
      "2  0.303047  7.776091  \n",
      "3  0.279528  6.957716  \n",
      "4  0.435772  7.951046  \n"
     ]
    }
   ],
   "source": [
    "# Dropping features\n",
    "df_dataset_import.drop(columns=['id'], inplace=True)\n",
    "\n",
    "# Take a peek at the dataframe after cleaning\n",
    "print(df_dataset_import.head())"
   ]
  },
  {
   "cell_type": "code",
   "execution_count": 15,
   "metadata": {},
   "outputs": [
    {
     "name": "stdout",
     "output_type": "stream",
     "text": [
      "<class 'pandas.core.frame.DataFrame'>\n",
      "RangeIndex: 300000 entries, 0 to 299999\n",
      "Data columns (total 15 columns):\n",
      " #   Column  Non-Null Count   Dtype  \n",
      "---  ------  --------------   -----  \n",
      " 0   cont1   300000 non-null  float64\n",
      " 1   cont2   300000 non-null  float64\n",
      " 2   cont3   300000 non-null  float64\n",
      " 3   cont4   300000 non-null  float64\n",
      " 4   cont5   300000 non-null  float64\n",
      " 5   cont6   300000 non-null  float64\n",
      " 6   cont7   300000 non-null  float64\n",
      " 7   cont8   300000 non-null  float64\n",
      " 8   cont9   300000 non-null  float64\n",
      " 9   cont10  300000 non-null  float64\n",
      " 10  cont11  300000 non-null  float64\n",
      " 11  cont12  300000 non-null  float64\n",
      " 12  cont13  300000 non-null  float64\n",
      " 13  cont14  300000 non-null  float64\n",
      " 14  target  300000 non-null  float64\n",
      "dtypes: float64(15)\n",
      "memory usage: 34.3 MB\n"
     ]
    }
   ],
   "source": [
    "df_dataset_import.info(verbose=True)"
   ]
  },
  {
   "cell_type": "code",
   "execution_count": 16,
   "metadata": {},
   "outputs": [
    {
     "name": "stdout",
     "output_type": "stream",
     "text": [
      "               cont1          cont2          cont3          cont4          cont5          cont6          cont7          cont8  \\\n",
      "count  300000.000000  300000.000000  300000.000000  300000.000000  300000.000000  300000.000000  300000.000000  300000.000000   \n",
      "mean        0.506873       0.497898       0.521557       0.515683       0.502022       0.526515       0.487890       0.525163   \n",
      "std         0.203976       0.228159       0.200770       0.233035       0.220701       0.217909       0.181096       0.216221   \n",
      "min        -0.082263      -0.031397       0.020967       0.152761       0.276377       0.066166      -0.097666       0.217260   \n",
      "25%         0.343078       0.319170       0.344096       0.294935       0.284108       0.356163       0.346600       0.341486   \n",
      "50%         0.484005       0.553209       0.551471       0.482880       0.451733       0.470988       0.466825       0.483460   \n",
      "75%         0.643789       0.731263       0.648315       0.748705       0.670660       0.694043       0.581292       0.685250   \n",
      "max         1.016227       0.859697       1.006955       1.010402       1.034261       1.043858       1.066167       1.024427   \n",
      "\n",
      "               cont9         cont10         cont11         cont12         cont13         cont14         target  \n",
      "count  300000.000000  300000.000000  300000.000000  300000.000000  300000.000000  300000.000000  300000.000000  \n",
      "mean        0.459857       0.520532       0.483926       0.506877       0.553442       0.503713       7.905661  \n",
      "std         0.196685       0.201854       0.220082       0.218947       0.229730       0.208238       0.733071  \n",
      "min        -0.240604      -0.085046       0.083277       0.088635       0.029950       0.166367       0.000000  \n",
      "25%         0.330832       0.375465       0.300474       0.310166       0.350472       0.308673       7.329367  \n",
      "50%         0.416843       0.458877       0.441916       0.486599       0.487707       0.431845       7.940571  \n",
      "75%         0.575041       0.700292       0.679128       0.694453       0.768479       0.712653       8.470084  \n",
      "max         1.004114       1.199951       1.022620       1.049025       0.977845       0.868506      10.267569  \n"
     ]
    }
   ],
   "source": [
    "print(df_dataset_import.describe(include='all'))"
   ]
  },
  {
   "cell_type": "code",
   "execution_count": 17,
   "metadata": {},
   "outputs": [
    {
     "name": "stdout",
     "output_type": "stream",
     "text": [
      "cont1     0\n",
      "cont2     0\n",
      "cont3     0\n",
      "cont4     0\n",
      "cont5     0\n",
      "cont6     0\n",
      "cont7     0\n",
      "cont8     0\n",
      "cont9     0\n",
      "cont10    0\n",
      "cont11    0\n",
      "cont12    0\n",
      "cont13    0\n",
      "cont14    0\n",
      "target    0\n",
      "dtype: int64\n",
      "Total number of NaN in the dataframe:  0\n"
     ]
    }
   ],
   "source": [
    "print(df_dataset_import.isna().sum())\n",
    "print('Total number of NaN in the dataframe: ', df_dataset_import.isna().sum().sum())"
   ]
  },
  {
   "cell_type": "markdown",
   "metadata": {},
   "source": [
    "### 1.e) Splitting Data into Sets"
   ]
  },
  {
   "cell_type": "code",
   "execution_count": 18,
   "metadata": {},
   "outputs": [],
   "source": [
    "# Use variable total_column_count to hold the number of columns in the dataframe\n",
    "total_column_count = len(df_dataset_import.columns)\n",
    "\n",
    "# Set up variable total_feature_count for the total number of attribute columns\n",
    "total_feature_count = total_column_count-1\n",
    "\n",
    "# target_column_position variable indicates the column location of the target/class variable\n",
    "# If the first column, set target_column_position to 1. If the last column, set target_column_position to total_column_count\n",
    "# If (target_column_position <> 1) and (target_column_position <> total_column_count), be aware when slicing up the dataframes for visualization\n",
    "target_column_position = total_column_count"
   ]
  },
  {
   "cell_type": "code",
   "execution_count": 19,
   "metadata": {},
   "outputs": [
    {
     "name": "stdout",
     "output_type": "stream",
     "text": [
      "df_dataset_import.shape: (300000, 15) df_features_train.shape: (300000, 14) df_target_train.shape: (300000,)\n"
     ]
    }
   ],
   "source": [
    "# We create attribute-only and target-only datasets (df_features_train and df_target_train)\n",
    "# for various visualization and cleaning/transformation operations\n",
    "\n",
    "if target_column_position == total_column_count:\n",
    "    df_features_train = df_dataset_import.iloc[:,0:total_feature_count]\n",
    "    df_target_train = df_dataset_import.iloc[:,total_feature_count]\n",
    "else:\n",
    "    df_features_train = df_dataset_import.iloc[:,1:total_column_count]\n",
    "    df_target_train = df_dataset_import.iloc[:,0]\n",
    "\n",
    "print(\"df_dataset_import.shape: {} df_features_train.shape: {} df_target_train.shape: {}\".format(df_dataset_import.shape, df_features_train.shape, df_target_train.shape))"
   ]
  },
  {
   "cell_type": "markdown",
   "metadata": {},
   "source": [
    "### 1.f) Set up the parameters for data visualization"
   ]
  },
  {
   "cell_type": "code",
   "execution_count": 20,
   "metadata": {},
   "outputs": [],
   "source": [
    "# Set up the number of row and columns for visualization display. display_rows * display_columns should be >= total_feature_count\n",
    "display_columns = 4\n",
    "if total_feature_count % display_columns == 0 :\n",
    "    display_rows = total_feature_count // display_columns\n",
    "else :\n",
    "    display_rows = (total_feature_count // display_columns) + 1\n",
    "    \n",
    "# Set figure width to display the data visualization plots\n",
    "fig_size = plt.rcParams[\"figure.figsize\"]\n",
    "fig_size[0] = display_columns * 4\n",
    "fig_size[1] = display_rows * 4\n",
    "plt.rcParams[\"figure.figsize\"] = fig_size"
   ]
  },
  {
   "cell_type": "code",
   "execution_count": 21,
   "metadata": {},
   "outputs": [],
   "source": [
    "if NOTIFY_STATUS: status_notify(\"Task 1 - Prepare Environment completed! \"+datetime.now().strftime('%a %B %d, %Y %I:%M:%S %p'))"
   ]
  },
  {
   "cell_type": "markdown",
   "metadata": {},
   "source": [
    "## Task 2 - Summarize and Visualize Data"
   ]
  },
  {
   "cell_type": "code",
   "execution_count": 22,
   "metadata": {},
   "outputs": [],
   "source": [
    "if NOTIFY_STATUS: status_notify(\"Task 2 - Summarize and Visualize Data has begun! \"+datetime.now().strftime('%a %B %d, %Y %I:%M:%S %p'))"
   ]
  },
  {
   "cell_type": "code",
   "execution_count": 23,
   "metadata": {
    "tags": []
   },
   "outputs": [
    {
     "name": "stderr",
     "output_type": "stream",
     "text": [
      "/usr/local/lib/python3.8/site-packages/pandas/plotting/_matplotlib/tools.py:400: MatplotlibDeprecationWarning: \n",
      "The is_first_col function was deprecated in Matplotlib 3.4 and will be removed two minor releases later. Use ax.get_subplotspec().is_first_col() instead.\n",
      "  if ax.is_first_col():\n"
     ]
    },
    {
     "data": {
      "image/png": "[encoded data removed]",
      "text/plain": [
       "<Figure size 1152x1152 with 16 Axes>"
      ]
     },
     "metadata": {
      "needs_background": "light"
     },
     "output_type": "display_data"
    }
   ],
   "source": [
    "# Histograms for each attribute\n",
    "df_features_train.plot(kind='hist', subplots=True, layout=(display_rows, display_columns))\n",
    "plt.show()"
   ]
  },
  {
   "cell_type": "code",
   "execution_count": 24,
   "metadata": {},
   "outputs": [
    {
     "name": "stderr",
     "output_type": "stream",
     "text": [
      "/usr/local/lib/python3.8/site-packages/pandas/plotting/_matplotlib/tools.py:400: MatplotlibDeprecationWarning: \n",
      "The is_first_col function was deprecated in Matplotlib 3.4 and will be removed two minor releases later. Use ax.get_subplotspec().is_first_col() instead.\n",
      "  if ax.is_first_col():\n"
     ]
    },
    {
     "data": {
      "image/png": "[encoded data removed]",
      "text/plain": [
       "<Figure size 1152x1152 with 16 Axes>"
      ]
     },
     "metadata": {
      "needs_background": "light"
     },
     "output_type": "display_data"
    }
   ],
   "source": [
    "# Box and Whisker plot for each attribute\n",
    "df_features_train.plot(kind='box', subplots=True, layout=(display_rows, display_columns))\n",
    "plt.show()"
   ]
  },
  {
   "cell_type": "code",
   "execution_count": 25,
   "metadata": {},
   "outputs": [
    {
     "data": {
      "image/png": "[encoded data removed]",
      "text/plain": [
       "<Figure size 1440x1440 with 2 Axes>"
      ]
     },
     "metadata": {
      "needs_background": "light"
     },
     "output_type": "display_data"
    }
   ],
   "source": [
    "# Correlation matrix\n",
    "fig = plt.figure(figsize=(20, 20))\n",
    "correlations = df_features_train.corr(method='pearson')\n",
    "sns.heatmap(correlations, annot=True, cmap=plt.cm.PuBu)\n",
    "plt.show()"
   ]
  },
  {
   "cell_type": "code",
   "execution_count": 26,
   "metadata": {},
   "outputs": [],
   "source": [
    "if NOTIFY_STATUS: status_notify(\"Task 2 - Summarize and Visualize Data completed! \"+datetime.now().strftime('%a %B %d, %Y %I:%M:%S %p'))"
   ]
  },
  {
   "cell_type": "markdown",
   "metadata": {},
   "source": [
    "## Task 3 - Pre-process Data"
   ]
  },
  {
   "cell_type": "code",
   "execution_count": 27,
   "metadata": {},
   "outputs": [],
   "source": [
    "if NOTIFY_STATUS: status_notify(\"Task 3 - Pre-process Data has begun! \"+datetime.now().strftime('%a %B %d, %Y %I:%M:%S %p'))"
   ]
  },
  {
   "cell_type": "markdown",
   "metadata": {},
   "source": [
    "### 3.a) Splitting Data into Training, Validation, and Test Sets"
   ]
  },
  {
   "cell_type": "code",
   "execution_count": 28,
   "metadata": {},
   "outputs": [],
   "source": [
    "# Not applicable for this iteration of the project"
   ]
  },
  {
   "cell_type": "markdown",
   "metadata": {},
   "source": [
    "### 3.b) Feature Scaling and Data Pre-Processing"
   ]
  },
  {
   "cell_type": "code",
   "execution_count": 29,
   "metadata": {},
   "outputs": [],
   "source": [
    "# Not applicable for this iteration of the project"
   ]
  },
  {
   "cell_type": "markdown",
   "metadata": {},
   "source": [
    "### 3.c) Training Data Balancing"
   ]
  },
  {
   "cell_type": "code",
   "execution_count": 30,
   "metadata": {},
   "outputs": [],
   "source": [
    "# Not applicable for this iteration of the project"
   ]
  },
  {
   "cell_type": "markdown",
   "metadata": {},
   "source": [
    "### 3.d) Feature Selection"
   ]
  },
  {
   "cell_type": "code",
   "execution_count": 31,
   "metadata": {},
   "outputs": [],
   "source": [
    "def fit_model(X, Y):\n",
    "    '''Use an ExtraTreesRegressor model for measuring performance.'''\n",
    "    \n",
    "    # define the model to use\n",
    "    model = ExtraTreesRegressor(random_state=RNG_SEED, n_jobs=N_JOBS)\n",
    "    \n",
    "    # Train the model\n",
    "    model.fit(X, Y)\n",
    "    \n",
    "    return model"
   ]
  },
  {
   "cell_type": "code",
   "execution_count": 32,
   "metadata": {},
   "outputs": [],
   "source": [
    "def calculate_metrics(model, X_val, y_val):\n",
    "    '''Get model evaluation metrics on the test set.'''\n",
    "    \n",
    "    # Get model predictions\n",
    "    y_predict = model.predict(X_val)\n",
    "    \n",
    "    # Calculate evaluation metrics for assesing performance of the model.\n",
    "    mae = median_absolute_error(y_val, y_predict)\n",
    "    mse = mean_squared_error(y_val, y_predict)\n",
    "    rmse = math.sqrt(mean_squared_error(y_val, y_predict))\n",
    "    r2 = r2_score(y_val, y_predict)\n",
    "    \n",
    "    return mae, mse, rmse, r2"
   ]
  },
  {
   "cell_type": "code",
   "execution_count": 33,
   "metadata": {},
   "outputs": [],
   "source": [
    "def train_and_get_metrics(df_features, df_target):\n",
    "    '''Train a Random Forest Regressor and get evaluation metrics'''\n",
    "\n",
    "    # Split train and validation sets\n",
    "    features_train, features_val, target_train, target_val = train_test_split(df_features, df_target, test_size=VAL_SET_RATIO, random_state=RNG_SEED)\n",
    "#     print(\"features_train.shape: {} target_train.shape: {}\".format(features_train.shape, target_train.shape))\n",
    "#     print(\"features_val.shape: {} target_val.shape: {}\".format(features_val.shape, target_val.shape))\n",
    "\n",
    "    # Finalize the training and validation datasets for the feature selection activities\n",
    "    features_train_values = features_train.to_numpy()\n",
    "    target_train_values = target_train.ravel()\n",
    "#     print(\"features_train_values.shape: {} target_train_values.shape: {}\".format(features_train_values.shape, target_train_values.shape))\n",
    "    features_val_values = features_val.to_numpy()\n",
    "    target_val_values = target_val.ravel()\n",
    "#     print(\"features_val_values.shape: {} target_val_values.shape: {}\".format(features_val_values.shape, target_val_values.shape))\n",
    "\n",
    "    # Call the fit model function to train the model on the normalized features and the diagnosis values\n",
    "    fs_model = fit_model(features_train_values, target_train_values)\n",
    "\n",
    "    # Make predictions on test dataset and calculate metrics.\n",
    "    mae, mse, rmse, r2 = calculate_metrics(fs_model, features_val_values, target_val_values)\n",
    "\n",
    "    return mae, mse, rmse, r2"
   ]
  },
  {
   "cell_type": "code",
   "execution_count": 34,
   "metadata": {},
   "outputs": [],
   "source": [
    "def evaluate_model_on_features(df_features, df_target):\n",
    "    '''Train model and display evaluation metrics.'''\n",
    "    \n",
    "    # Train the model, predict values and get metrics\n",
    "    mae, mse, rmse, r2 = train_and_get_metrics(df_features, df_target)\n",
    "\n",
    "    # Construct a dataframe to display metrics.\n",
    "    display_df = pd.DataFrame([[mae, mse, rmse, r2, df_features.shape[1]]], columns=['MAE', 'MSE', 'RMSE', 'R2', 'Feature Count'])\n",
    "    \n",
    "    return display_df"
   ]
  },
  {
   "cell_type": "code",
   "execution_count": 35,
   "metadata": {},
   "outputs": [
    {
     "name": "stdout",
     "output_type": "stream",
     "text": [
      "                   MAE       MSE      RMSE        R2  Feature Count\n",
      "All features  0.542461  0.498791  0.706251  0.071549             14\n"
     ]
    }
   ],
   "source": [
    "# Calculate evaluation metrics\n",
    "all_features_eval_df = evaluate_model_on_features(df_features_train, df_target_train)\n",
    "all_features_eval_df.index = ['All features']\n",
    "\n",
    "# Initialize results dataframe\n",
    "results = all_features_eval_df\n",
    "\n",
    "# Check the metrics\n",
    "print(results.head())"
   ]
  },
  {
   "cell_type": "markdown",
   "metadata": {},
   "source": [
    "#### 3.d.i) Filter Method: Correlation"
   ]
  },
  {
   "cell_type": "code",
   "execution_count": 36,
   "metadata": {},
   "outputs": [],
   "source": [
    "def findCorrelated(corrmat, cutoff=0.75):    \n",
    "\n",
    "### search correlation matrix and identify pairs that if removed would reduce pair-wise correlations\n",
    "# args:\n",
    "    # corrmat: a correlation matrix\n",
    "    # cutoff: pairwise absolute correlation cutoff\n",
    "# returns:\n",
    "    # variables to removed\n",
    "\n",
    "    if(len(corrmat) != len(corrmat.columns)) : return 'Correlation matrix is not square'\n",
    "    averageCorr = corrmat.abs().mean(axis = 1)\n",
    "\n",
    "    # set lower triangle and diagonal of correlation matrix to NA\n",
    "    for row in range(0, len(corrmat)):\n",
    "        for col in range(0, (row+1)):\n",
    "            corrmat.iloc[row, col] = None\n",
    "\n",
    "    # where a pairwise correlation is greater than the cutoff value, check whether mean abs.corr of a or b is greater and cut it\n",
    "    to_delete = list()\n",
    "    for col in range(0, len(corrmat.columns)):\n",
    "        for row in range(0, len(corrmat)):\n",
    "            if(abs(corrmat.iloc[row, col]) > cutoff):\n",
    "                if(averageCorr.iloc[row] > averageCorr.iloc[col]): to_delete.append(row)\n",
    "                else: to_delete.append(col)\n",
    "\n",
    "    to_delete = list(set(to_delete))\n",
    "    return to_delete"
   ]
  },
  {
   "cell_type": "code",
   "execution_count": 37,
   "metadata": {},
   "outputs": [
    {
     "name": "stdout",
     "output_type": "stream",
     "text": [
      "Time used for feature selection: 0:00:00.093254\n",
      "Attributes to keep:\n",
      "['cont1', 'cont2', 'cont3', 'cont4', 'cont5', 'cont7', 'cont8', 'cont10', 'cont11', 'cont13', 'cont14']\n"
     ]
    }
   ],
   "source": [
    "start_time_module = datetime.now()\n",
    "collinear = findCorrelated(correlations)\n",
    "features_to_drop = list(df_features_train.columns[collinear])\n",
    "corr_features_names = list(df_features_train.columns)\n",
    "if len(features_to_drop) > 0:\n",
    "    for redundant_feature in features_to_drop:\n",
    "        corr_features_names.remove(redundant_feature)\n",
    "print ('Time used for feature selection:', (datetime.now() - start_time_module))\n",
    "print('Attributes to keep:')\n",
    "print(corr_features_names)"
   ]
  },
  {
   "cell_type": "code",
   "execution_count": 38,
   "metadata": {},
   "outputs": [
    {
     "name": "stdout",
     "output_type": "stream",
     "text": [
      "                          MAE       MSE      RMSE        R2  Feature Count\n",
      "All features         0.542461  0.498791  0.706251  0.071549             14\n",
      "Correlated features  0.542962  0.504777  0.710477  0.060406             11\n"
     ]
    }
   ],
   "source": [
    "# Evaluate the model with new features\n",
    "correlated_features_eval_df = evaluate_model_on_features(df_features_train[corr_features_names], df_target_train)\n",
    "correlated_features_eval_df.index = ['Correlated features']\n",
    "\n",
    "# Append to results and display\n",
    "results = results.append(correlated_features_eval_df)\n",
    "print(results.head(10))"
   ]
  },
  {
   "cell_type": "markdown",
   "metadata": {},
   "source": [
    "#### 3.d.ii) Filter Method: Univariate Feature Selection"
   ]
  },
  {
   "cell_type": "code",
   "execution_count": 39,
   "metadata": {},
   "outputs": [],
   "source": [
    "def univariate_selection(df_features, df_target):\n",
    "\n",
    "    # Split train and validation sets\n",
    "    features_train, features_val, target_train, target_val = train_test_split(df_features, df_target, test_size=VAL_SET_RATIO, random_state=RNG_SEED)\n",
    "#     print(\"features_train.shape: {} target_train.shape: {}\".format(features_train.shape, target_train.shape))\n",
    "#     print(\"features_val.shape: {} target_val.shape: {}\".format(features_val.shape, target_val.shape))\n",
    "\n",
    "    # Use transformer to select top features based on a scoring function\n",
    "    selector = SelectKBest(mutual_info_regression, k=12)\n",
    "\n",
    "    # Fit to scaled data, then transform it\n",
    "#     X_new = selector.fit_transform(features_train, target_train)\n",
    "    selector.fit(features_train, target_train)\n",
    "    feature_idx = selector.get_support()\n",
    "    feature_names = features_train.columns[feature_idx]\n",
    "\n",
    "    return feature_names"
   ]
  },
  {
   "cell_type": "code",
   "execution_count": 40,
   "metadata": {},
   "outputs": [
    {
     "name": "stdout",
     "output_type": "stream",
     "text": [
      "Time used for feature selection: 0:02:40.795571\n",
      "Attributes to keep:\n",
      "['cont1', 'cont2', 'cont3', 'cont5', 'cont7', 'cont8', 'cont9', 'cont10', 'cont11', 'cont12', 'cont13', 'cont14']\n"
     ]
    }
   ],
   "source": [
    "start_time_module = datetime.now()\n",
    "univariate_feature_names = list(univariate_selection(df_features_train, df_target_train))\n",
    "print ('Time used for feature selection:', (datetime.now() - start_time_module))\n",
    "print('Attributes to keep:')\n",
    "print(univariate_feature_names)"
   ]
  },
  {
   "cell_type": "code",
   "execution_count": 41,
   "metadata": {},
   "outputs": [
    {
     "name": "stdout",
     "output_type": "stream",
     "text": [
      "                           MAE       MSE      RMSE        R2  Feature Count\n",
      "All features          0.542461  0.498791  0.706251  0.071549             14\n",
      "Correlated features   0.542962  0.504777  0.710477  0.060406             11\n",
      "Univariate selection  0.548988  0.506564  0.711733  0.057080             12\n"
     ]
    }
   ],
   "source": [
    "# Evaluate the model with new features\n",
    "univariate_features_eval_df = evaluate_model_on_features(df_features_train[univariate_feature_names], df_target_train)\n",
    "univariate_features_eval_df.index = ['Univariate selection']\n",
    "\n",
    "# Append to results and display\n",
    "results = results.append(univariate_features_eval_df)\n",
    "print(results.head(10))"
   ]
  },
  {
   "cell_type": "markdown",
   "metadata": {},
   "source": [
    "#### 3.d.iii) Wrapper Method: Sequential (Forward) Feature Selection"
   ]
  },
  {
   "cell_type": "code",
   "execution_count": 42,
   "metadata": {},
   "outputs": [],
   "source": [
    "def sequential_selection(df_features, df_target):\n",
    "\n",
    "    # Split train and validation sets\n",
    "    features_train, features_val, target_train, target_val = train_test_split(df_features, df_target, test_size=VAL_SET_RATIO, random_state=RNG_SEED)\n",
    "#     print(\"features_train.shape: {} target_train.shape: {}\".format(features_train.shape, target_train.shape))\n",
    "#     print(\"features_val.shape: {} target_val.shape: {}\".format(features_val.shape, target_val.shape))\n",
    "\n",
    "    # Define the estimator for the wrapper mechanism\n",
    "    model = ExtraTreesRegressor(random_state=RNG_SEED, n_jobs=N_JOBS)\n",
    "\n",
    "    # Wrap transformer around the model\n",
    "    selector = SequentialFeatureSelector(model, n_jobs=N_JOBS, n_features_to_select=12)\n",
    "\n",
    "    # Fit to scaled data, then transform it\n",
    "    selector.fit(features_train, target_train)\n",
    "    feature_idx = selector.get_support()\n",
    "    feature_names = features_train.columns[feature_idx]\n",
    "\n",
    "    return feature_names"
   ]
  },
  {
   "cell_type": "code",
   "execution_count": 43,
   "metadata": {},
   "outputs": [
    {
     "name": "stdout",
     "output_type": "stream",
     "text": [
      "Time used for feature selection: 2:32:07.433235\n",
      "Attributes to keep:\n",
      "['cont1', 'cont2', 'cont3', 'cont4', 'cont5', 'cont6', 'cont7', 'cont10', 'cont11', 'cont12', 'cont13', 'cont14']\n"
     ]
    }
   ],
   "source": [
    "start_time_module = datetime.now()\n",
    "sequential_feature_names = list(sequential_selection(df_features_train, df_target_train))\n",
    "print ('Time used for feature selection:', (datetime.now() - start_time_module))\n",
    "print('Attributes to keep:')\n",
    "print(sequential_feature_names)"
   ]
  },
  {
   "cell_type": "code",
   "execution_count": 44,
   "metadata": {},
   "outputs": [
    {
     "name": "stdout",
     "output_type": "stream",
     "text": [
      "                           MAE       MSE      RMSE        R2  Feature Count\n",
      "All features          0.542461  0.498791  0.706251  0.071549             14\n",
      "Correlated features   0.542962  0.504777  0.710477  0.060406             11\n",
      "Univariate selection  0.548988  0.506564  0.711733  0.057080             12\n",
      "Sequential selection  0.541635  0.503089  0.709288  0.063547             12\n"
     ]
    }
   ],
   "source": [
    "# Evaluate the model with new features\n",
    "sequential_features_eval_df = evaluate_model_on_features(df_features_train[sequential_feature_names], df_target_train)\n",
    "sequential_features_eval_df.index = ['Sequential selection']\n",
    "\n",
    "# Append to results and display\n",
    "results = results.append(sequential_features_eval_df)\n",
    "print(results.head(10))"
   ]
  },
  {
   "cell_type": "markdown",
   "metadata": {},
   "source": [
    "#### 3.d.iv) Wrapper Method: Recursive Feature Elimination"
   ]
  },
  {
   "cell_type": "code",
   "execution_count": 45,
   "metadata": {},
   "outputs": [],
   "source": [
    "def rfe_selection(df_features, df_target):\n",
    "\n",
    "    # Split train and validation sets\n",
    "    features_train, features_val, target_train, target_val = train_test_split(df_features, df_target, test_size=VAL_SET_RATIO, random_state=RNG_SEED)\n",
    "#     print(\"features_train.shape: {} target_train.shape: {}\".format(features_train.shape, target_train.shape))\n",
    "#     print(\"features_val.shape: {} target_val.shape: {}\".format(features_val.shape, target_val.shape))\n",
    "\n",
    "    # Define the estimator for the wrapper mechanism\n",
    "    model = ExtraTreesRegressor(random_state=RNG_SEED, n_jobs=N_JOBS)\n",
    "\n",
    "    # Wrap transformer around the model\n",
    "    selector = RFE(model, n_features_to_select=12)\n",
    "\n",
    "    # Fit to scaled data, then transform it\n",
    "    selector.fit(features_train, target_train)\n",
    "    feature_idx = selector.get_support()\n",
    "    feature_names = features_train.columns[feature_idx]\n",
    "\n",
    "    return feature_names"
   ]
  },
  {
   "cell_type": "code",
   "execution_count": 46,
   "metadata": {},
   "outputs": [
    {
     "name": "stdout",
     "output_type": "stream",
     "text": [
      "Time used for feature selection: 0:03:38.324073\n",
      "Attributes to keep:\n",
      "['cont1', 'cont2', 'cont3', 'cont4', 'cont6', 'cont7', 'cont8', 'cont10', 'cont11', 'cont12', 'cont13', 'cont14']\n"
     ]
    }
   ],
   "source": [
    "start_time_module = datetime.now()\n",
    "rfe_feature_names = list(rfe_selection(df_features_train, df_target_train))\n",
    "print ('Time used for feature selection:', (datetime.now() - start_time_module))\n",
    "print('Attributes to keep:')\n",
    "print(rfe_feature_names)"
   ]
  },
  {
   "cell_type": "code",
   "execution_count": 47,
   "metadata": {},
   "outputs": [
    {
     "name": "stdout",
     "output_type": "stream",
     "text": [
      "                           MAE       MSE      RMSE        R2  Feature Count\n",
      "All features          0.542461  0.498791  0.706251  0.071549             14\n",
      "Correlated features   0.542962  0.504777  0.710477  0.060406             11\n",
      "Univariate selection  0.548988  0.506564  0.711733  0.057080             12\n",
      "Sequential selection  0.541635  0.503089  0.709288  0.063547             12\n",
      "RFE selection         0.542120  0.501667  0.708284  0.066195             12\n"
     ]
    }
   ],
   "source": [
    "# Evaluate the model with new features\n",
    "rfe_features_eval_df = evaluate_model_on_features(df_features_train[rfe_feature_names], df_target_train)\n",
    "rfe_features_eval_df.index = ['RFE selection']\n",
    "\n",
    "# Append to results and display\n",
    "results = results.append(rfe_features_eval_df)\n",
    "print(results.head(10))"
   ]
  },
  {
   "cell_type": "markdown",
   "metadata": {},
   "source": [
    "#### 3.d.v) Embedded Method: L1-based Feature Selection (L1 Regularization)"
   ]
  },
  {
   "cell_type": "code",
   "execution_count": 48,
   "metadata": {},
   "outputs": [],
   "source": [
    "def l1reg_selection(df_features, df_target):\n",
    "\n",
    "    # Split train and validation sets\n",
    "    features_train, features_val, target_train, target_val = train_test_split(df_features, df_target, test_size=VAL_SET_RATIO, random_state=RNG_SEED)\n",
    "#     print(\"features_train.shape: {} target_train.shape: {}\".format(features_train.shape, target_train.shape))\n",
    "#     print(\"features_val.shape: {} target_val.shape: {}\".format(features_val.shape, target_val.shape))\n",
    "\n",
    "    # Define the estimator for the wrapper mechanism\n",
    "    model = Lasso(random_state=RNG_SEED)\n",
    "\n",
    "    # Wrap transformer around the model\n",
    "    selector = SelectFromModel(model, threshold=-np.inf, max_features=12)\n",
    "\n",
    "    # Fit to scaled data, then transform it\n",
    "    selector.fit(features_train, target_train)\n",
    "    feature_idx = selector.get_support()\n",
    "    feature_names = features_train.columns[feature_idx]\n",
    "\n",
    "    return feature_names"
   ]
  },
  {
   "cell_type": "code",
   "execution_count": 49,
   "metadata": {},
   "outputs": [
    {
     "name": "stdout",
     "output_type": "stream",
     "text": [
      "Time used for feature selection: 0:00:00.151369\n",
      "Attributes to keep:\n",
      "['cont1', 'cont2', 'cont3', 'cont4', 'cont5', 'cont6', 'cont7', 'cont8', 'cont9', 'cont10', 'cont11', 'cont12']\n"
     ]
    }
   ],
   "source": [
    "start_time_module = datetime.now()\n",
    "l1reg_feature_names = list(l1reg_selection(df_features_train, df_target_train))\n",
    "print ('Time used for feature selection:', (datetime.now() - start_time_module))\n",
    "print('Attributes to keep:')\n",
    "print(l1reg_feature_names)"
   ]
  },
  {
   "cell_type": "code",
   "execution_count": 50,
   "metadata": {},
   "outputs": [
    {
     "name": "stdout",
     "output_type": "stream",
     "text": [
      "                           MAE       MSE      RMSE        R2  Feature Count\n",
      "All features          0.542461  0.498791  0.706251  0.071549             14\n",
      "Correlated features   0.542962  0.504777  0.710477  0.060406             11\n",
      "Univariate selection  0.548988  0.506564  0.711733  0.057080             12\n",
      "Sequential selection  0.541635  0.503089  0.709288  0.063547             12\n",
      "RFE selection         0.542120  0.501667  0.708284  0.066195             12\n",
      "L1 regularization     0.546096  0.505130  0.710725  0.059748             12\n"
     ]
    }
   ],
   "source": [
    "# Evaluate the model with new features\n",
    "l1reg_features_eval_df = evaluate_model_on_features(df_features_train[l1reg_feature_names], df_target_train)\n",
    "l1reg_features_eval_df.index = ['L1 regularization']\n",
    "\n",
    "# Append to results and display\n",
    "results = results.append(l1reg_features_eval_df)\n",
    "print(results.head(10))"
   ]
  },
  {
   "cell_type": "markdown",
   "metadata": {},
   "source": [
    "#### 3.d.vi) Embedded Method: Tree-based Feature Selection (Feature Importance)"
   ]
  },
  {
   "cell_type": "code",
   "execution_count": 51,
   "metadata": {},
   "outputs": [],
   "source": [
    "def tree_based_selection(df_features, df_target):\n",
    "\n",
    "    # Split train and validation sets\n",
    "    features_train, features_val, target_train, target_val = train_test_split(df_features, df_target, test_size=VAL_SET_RATIO, random_state=RNG_SEED)\n",
    "#     print(\"features_train.shape: {} target_train.shape: {}\".format(features_train.shape, target_train.shape))\n",
    "#     print(\"features_val.shape: {} target_val.shape: {}\".format(features_val.shape, target_val.shape))\n",
    "\n",
    "    # Define the estimator for the wrapper mechanism\n",
    "    model = ExtraTreesRegressor(random_state=RNG_SEED, n_jobs=N_JOBS)\n",
    "    model.fit(features_train, target_train)\n",
    "\n",
    "    # Plot feature importance\n",
    "    plt.figure(figsize=(10, 12))\n",
    "    feat_importances = pd.Series(model.feature_importances_, index=features_train.columns)\n",
    "    feat_importances.sort_values(ascending=False).plot(kind='barh')\n",
    "    plt.show()\n",
    "\n",
    "    # Wrap transformer around the model\n",
    "    selector = SelectFromModel(model, prefit=True, threshold=-np.inf, max_features=12)\n",
    "\n",
    "    # Fit to scaled data, then transform it\n",
    "    feature_idx = selector.get_support()\n",
    "    feature_names = features_train.columns[feature_idx]\n",
    "\n",
    "    return feature_names"
   ]
  },
  {
   "cell_type": "code",
   "execution_count": 52,
   "metadata": {},
   "outputs": [
    {
     "data": {
      "image/png": "[encoded data removed]",
      "text/plain": [
       "<Figure size 720x864 with 1 Axes>"
      ]
     },
     "metadata": {
      "needs_background": "light"
     },
     "output_type": "display_data"
    },
    {
     "name": "stdout",
     "output_type": "stream",
     "text": [
      "Time used for feature selection: 0:01:18.963581\n",
      "Attributes to keep:\n",
      "['cont1', 'cont2', 'cont3', 'cont4', 'cont6', 'cont7', 'cont8', 'cont10', 'cont11', 'cont12', 'cont13', 'cont14']\n"
     ]
    }
   ],
   "source": [
    "start_time_module = datetime.now()\n",
    "tree_based_feature_names = list(tree_based_selection(df_features_train, df_target_train))\n",
    "print ('Time used for feature selection:', (datetime.now() - start_time_module))\n",
    "print('Attributes to keep:')\n",
    "print(tree_based_feature_names)"
   ]
  },
  {
   "cell_type": "code",
   "execution_count": 53,
   "metadata": {},
   "outputs": [
    {
     "name": "stdout",
     "output_type": "stream",
     "text": [
      "                           MAE       MSE      RMSE        R2  Feature Count\n",
      "All features          0.542461  0.498791  0.706251  0.071549             14\n",
      "Correlated features   0.542962  0.504777  0.710477  0.060406             11\n",
      "Univariate selection  0.548988  0.506564  0.711733  0.057080             12\n",
      "Sequential selection  0.541635  0.503089  0.709288  0.063547             12\n",
      "RFE selection         0.542120  0.501667  0.708284  0.066195             12\n",
      "L1 regularization     0.546096  0.505130  0.710725  0.059748             12\n",
      "Feature importance    0.542120  0.501667  0.708284  0.066195             12\n"
     ]
    }
   ],
   "source": [
    "# Evaluate the model with new features\n",
    "tree_based_features_eval_df = evaluate_model_on_features(df_features_train[tree_based_feature_names], df_target_train)\n",
    "tree_based_features_eval_df.index = ['Feature importance']\n",
    "\n",
    "# Append to results and display\n",
    "results = results.append(tree_based_features_eval_df)\n",
    "print(results.head(10))"
   ]
  },
  {
   "cell_type": "markdown",
   "metadata": {},
   "source": [
    "### 3.e) Display the Final Datasets for Model-Building"
   ]
  },
  {
   "cell_type": "code",
   "execution_count": 54,
   "metadata": {},
   "outputs": [
    {
     "name": "stdout",
     "output_type": "stream",
     "text": [
      "array_features_train.shape: (300000, 12) array_target_train.shape: (300000,)\n"
     ]
    }
   ],
   "source": [
    "# Finalize the training and validation datasets for the modeling activities\n",
    "array_features_train = df_features_train[rfe_feature_names].to_numpy()\n",
    "array_target_train = df_target_train.ravel()\n",
    "print(\"array_features_train.shape: {} array_target_train.shape: {}\".format(array_features_train.shape, array_target_train.shape))"
   ]
  },
  {
   "cell_type": "code",
   "execution_count": 55,
   "metadata": {},
   "outputs": [],
   "source": [
    "if NOTIFY_STATUS: status_notify(\"Task 3 - Pre-process Data completed! \"+datetime.now().strftime('%a %B %d, %Y %I:%M:%S %p'))"
   ]
  },
  {
   "cell_type": "markdown",
   "metadata": {},
   "source": [
    "## Task 4 - Train and Evaluate Models"
   ]
  },
  {
   "cell_type": "code",
   "execution_count": 56,
   "metadata": {},
   "outputs": [],
   "source": [
    "if NOTIFY_STATUS: status_notify(\"Task 4 - Train and Evaluate Models has begun! \"+datetime.now().strftime('%a %B %d, %Y %I:%M:%S %p'))"
   ]
  },
  {
   "cell_type": "code",
   "execution_count": 57,
   "metadata": {},
   "outputs": [],
   "source": [
    "# Not applicable for this iteration of the project"
   ]
  },
  {
   "cell_type": "code",
   "execution_count": 58,
   "metadata": {},
   "outputs": [],
   "source": [
    "if NOTIFY_STATUS: status_notify(\"Task 4 - Train and Evaluate Models completed! \"+datetime.now().strftime('%a %B %d, %Y %I:%M:%S %p'))"
   ]
  },
  {
   "cell_type": "markdown",
   "metadata": {},
   "source": [
    "## Task 5 - Fine-tune and Improve Models"
   ]
  },
  {
   "cell_type": "code",
   "execution_count": 59,
   "metadata": {},
   "outputs": [],
   "source": [
    "if NOTIFY_STATUS: status_notify(\"Task 5 - Fine-tune and Improve Models has begun! \"+datetime.now().strftime('%a %B %d, %Y %I:%M:%S %p'))"
   ]
  },
  {
   "cell_type": "code",
   "execution_count": 60,
   "metadata": {},
   "outputs": [],
   "source": [
    "# Not applicable for this iteration of the project"
   ]
  },
  {
   "cell_type": "code",
   "execution_count": 61,
   "metadata": {},
   "outputs": [],
   "source": [
    "if NOTIFY_STATUS: status_notify(\"Task 5 - Fine-tune and Improve Models completed! \"+datetime.now().strftime('%a %B %d, %Y %I:%M:%S %p'))"
   ]
  },
  {
   "cell_type": "markdown",
   "metadata": {},
   "source": [
    "## Task 6 - Finalize Model and Present Analysis"
   ]
  },
  {
   "cell_type": "code",
   "execution_count": 62,
   "metadata": {},
   "outputs": [],
   "source": [
    "if NOTIFY_STATUS: status_notify(\"Task 6 - Finalize Model and Present Analysis has begun! \"+datetime.now().strftime('%a %B %d, %Y %I:%M:%S %p'))"
   ]
  },
  {
   "cell_type": "code",
   "execution_count": 63,
   "metadata": {},
   "outputs": [],
   "source": [
    "# Not applicable for this iteration of the project"
   ]
  },
  {
   "cell_type": "code",
   "execution_count": 64,
   "metadata": {},
   "outputs": [],
   "source": [
    "if NOTIFY_STATUS: status_notify(\"Task 6 - Finalize Model and Present Analysis completed! \"+datetime.now().strftime('%a %B %d, %Y %I:%M:%S %p'))"
   ]
  },
  {
   "cell_type": "code",
   "execution_count": 65,
   "metadata": {},
   "outputs": [
    {
     "name": "stdout",
     "output_type": "stream",
     "text": [
      "Total time for the script: 2:48:33.040815\n"
     ]
    }
   ],
   "source": [
    "print ('Total time for the script:',(datetime.now() - start_time_script))"
   ]
  }
 ],
 "metadata": {
  "kernelspec": {
   "display_name": "Python 3",
   "language": "python",
   "name": "python3"
  },
  "language_info": {
   "codemirror_mode": {
    "name": "ipython",
    "version": 3
   },
   "file_extension": ".py",
   "mimetype": "text/x-python",
   "name": "python",
   "nbconvert_exporter": "python",
   "pygments_lexer": "ipython3",
   "version": "3.8.8"
  }
 },
 "nbformat": 4,
 "nbformat_minor": 4
}
