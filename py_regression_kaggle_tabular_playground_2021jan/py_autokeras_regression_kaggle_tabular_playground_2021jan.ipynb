{
  "nbformat": 4,
  "nbformat_minor": 0,
  "metadata": {
    "kernelspec": {
      "display_name": "Python 3",
      "language": "python",
      "name": "python3"
    },
    "language_info": {
      "codemirror_mode": {
        "name": "ipython",
        "version": 3
      },
      "file_extension": ".py",
      "mimetype": "text/x-python",
      "name": "python",
      "nbconvert_exporter": "python",
      "pygments_lexer": "ipython3",
      "version": "3.8.8"
    },
    "colab": {
      "name": "py_autokeras_regression_kaggle_tabular_playground_2021jan.ipynb",
      "provenance": [],
      "collapsed_sections": [],
      "toc_visible": true,
      "machine_shape": "hm"
    },
    "accelerator": "GPU"
  },
  "cells": [
    {
      "cell_type": "markdown",
      "metadata": {
        "id": "2sQmc7MlwXit"
      },
      "source": [
        "# Regression Model for Kaggle Tabular Playground Series Jan 2021 Using Python and AutoKeras\n",
        "### David Lowe\n",
        "### May 24, 2021\n",
        "\n",
        "Template Credit: Adapted from a template made available by Dr. Jason Brownlee of Machine Learning Mastery. [https://machinelearningmastery.com/]\n",
        "\n",
        "SUMMARY: This project aims to construct a predictive model using various machine learning algorithms and document the end-to-end steps using a template. The Kaggle Tabular Playground Jan 2021 dataset is a regression modeling situation where we are trying to predict the value of a continuous variable.\n",
        "\n",
        "INTRODUCTION: Kaggle wants to provide an approachable environment for relatively new people in their data science journey. Since January 2021, they have been hosting playground-style competitions on Kaggle with fun but less complex, tabular datasets. These competitions will be great for people looking for something between the Titanic Getting Started competition and a Featured competition.\n",
        "\n",
        "ANALYSIS:  The performance of the best, preliminary AutoKeras model achieved an RMSE benchmark of 0.7084. When we applied the final model to Kaggle's test dataset, the model achieved an RMSE score of 0.7092.\n",
        "\n",
        "CONCLUSION: In this iteration, the TensorFlow model from AutoKeras appeared to be a suitable algorithm for modeling this dataset.\n",
        "\n",
        "Dataset Used: Kaggle Tabular Playground Series 2021 Jan Data Set\n",
        "\n",
        "Dataset ML Model: Regression with numerical attributes\n",
        "\n",
        "Dataset Reference: https://www.kaggle.com/c/tabular-playground-series-jan-2021\n",
        "\n",
        "One potential source of performance benchmarks: https://www.kaggle.com/c/tabular-playground-series-jan-2021/leaderboard\n",
        "\n",
        "Any predictive modeling machine learning project generally can be broken down into about six major tasks:\n",
        "\n",
        "1. Prepare Environment\n",
        "2. Summarize and Visualize Data\n",
        "3. Pre-process Data\n",
        "4. Train and Evaluate Models\n",
        "5. Fine-tune and Improve Models\n",
        "6. Finalize Model and Present Analysis"
      ]
    },
    {
      "cell_type": "markdown",
      "metadata": {
        "id": "2pu8nWBYwXi9"
      },
      "source": [
        "## Task 1 - Prepare Environment"
      ]
    },
    {
      "cell_type": "code",
      "metadata": {
        "id": "oucRIOhVwXi9",
        "colab": {
          "base_uri": "https://localhost:8080/"
        },
        "outputId": "080dd512-a913-4889-b038-95d1c165ad32"
      },
      "source": [
        "# Install the necessary packages for Colab\n",
        "# !pip install python-dotenv PyMySQL\n",
        "!pip install git+https://github.com/keras-team/keras-tuner.git\n",
        "!pip install autokeras"
      ],
      "execution_count": 1,
      "outputs": [
        {
          "output_type": "stream",
          "text": [
            "Collecting git+https://github.com/keras-team/keras-tuner.git\n",
            "  Cloning https://github.com/keras-team/keras-tuner.git to /tmp/pip-req-build-e92jlz0n\n",
            "  Running command git clone -q https://github.com/keras-team/keras-tuner.git /tmp/pip-req-build-e92jlz0n\n",
            "Requirement already satisfied (use --upgrade to upgrade): keras-tuner==1.0.3 from git+https://github.com/keras-team/keras-tuner.git in /usr/local/lib/python3.7/dist-packages\n",
            "Requirement already satisfied: packaging in /usr/local/lib/python3.7/dist-packages (from keras-tuner==1.0.3) (20.9)\n",
            "Requirement already satisfied: numpy in /usr/local/lib/python3.7/dist-packages (from keras-tuner==1.0.3) (1.19.5)\n",
            "Requirement already satisfied: requests in /usr/local/lib/python3.7/dist-packages (from keras-tuner==1.0.3) (2.23.0)\n",
            "Requirement already satisfied: scipy in /usr/local/lib/python3.7/dist-packages (from keras-tuner==1.0.3) (1.4.1)\n",
            "Requirement already satisfied: tensorboard in /usr/local/lib/python3.7/dist-packages (from keras-tuner==1.0.3) (2.4.1)\n",
            "Requirement already satisfied: ipython in /usr/local/lib/python3.7/dist-packages (from keras-tuner==1.0.3) (5.5.0)\n",
            "Requirement already satisfied: pyparsing>=2.0.2 in /usr/local/lib/python3.7/dist-packages (from packaging->keras-tuner==1.0.3) (2.4.7)\n",
            "Requirement already satisfied: chardet<4,>=3.0.2 in /usr/local/lib/python3.7/dist-packages (from requests->keras-tuner==1.0.3) (3.0.4)\n",
            "Requirement already satisfied: certifi>=2017.4.17 in /usr/local/lib/python3.7/dist-packages (from requests->keras-tuner==1.0.3) (2020.12.5)\n",
            "Requirement already satisfied: urllib3!=1.25.0,!=1.25.1,<1.26,>=1.21.1 in /usr/local/lib/python3.7/dist-packages (from requests->keras-tuner==1.0.3) (1.24.3)\n",
            "Requirement already satisfied: idna<3,>=2.5 in /usr/local/lib/python3.7/dist-packages (from requests->keras-tuner==1.0.3) (2.10)\n",
            "Requirement already satisfied: wheel>=0.26; python_version >= \"3\" in /usr/local/lib/python3.7/dist-packages (from tensorboard->keras-tuner==1.0.3) (0.36.2)\n",
            "Requirement already satisfied: absl-py>=0.4 in /usr/local/lib/python3.7/dist-packages (from tensorboard->keras-tuner==1.0.3) (0.12.0)\n",
            "Requirement already satisfied: markdown>=2.6.8 in /usr/local/lib/python3.7/dist-packages (from tensorboard->keras-tuner==1.0.3) (3.3.4)\n",
            "Requirement already satisfied: werkzeug>=0.11.15 in /usr/local/lib/python3.7/dist-packages (from tensorboard->keras-tuner==1.0.3) (2.0.0)\n",
            "Requirement already satisfied: setuptools>=41.0.0 in /usr/local/lib/python3.7/dist-packages (from tensorboard->keras-tuner==1.0.3) (56.1.0)\n",
            "Requirement already satisfied: protobuf>=3.6.0 in /usr/local/lib/python3.7/dist-packages (from tensorboard->keras-tuner==1.0.3) (3.12.4)\n",
            "Requirement already satisfied: tensorboard-plugin-wit>=1.6.0 in /usr/local/lib/python3.7/dist-packages (from tensorboard->keras-tuner==1.0.3) (1.8.0)\n",
            "Requirement already satisfied: google-auth<2,>=1.6.3 in /usr/local/lib/python3.7/dist-packages (from tensorboard->keras-tuner==1.0.3) (1.30.0)\n",
            "Requirement already satisfied: grpcio>=1.24.3 in /usr/local/lib/python3.7/dist-packages (from tensorboard->keras-tuner==1.0.3) (1.32.0)\n",
            "Requirement already satisfied: google-auth-oauthlib<0.5,>=0.4.1 in /usr/local/lib/python3.7/dist-packages (from tensorboard->keras-tuner==1.0.3) (0.4.4)\n",
            "Requirement already satisfied: six>=1.10.0 in /usr/local/lib/python3.7/dist-packages (from tensorboard->keras-tuner==1.0.3) (1.15.0)\n",
            "Requirement already satisfied: simplegeneric>0.8 in /usr/local/lib/python3.7/dist-packages (from ipython->keras-tuner==1.0.3) (0.8.1)\n",
            "Requirement already satisfied: decorator in /usr/local/lib/python3.7/dist-packages (from ipython->keras-tuner==1.0.3) (4.4.2)\n",
            "Requirement already satisfied: pexpect; sys_platform != \"win32\" in /usr/local/lib/python3.7/dist-packages (from ipython->keras-tuner==1.0.3) (4.8.0)\n",
            "Requirement already satisfied: prompt-toolkit<2.0.0,>=1.0.4 in /usr/local/lib/python3.7/dist-packages (from ipython->keras-tuner==1.0.3) (1.0.18)\n",
            "Requirement already satisfied: traitlets>=4.2 in /usr/local/lib/python3.7/dist-packages (from ipython->keras-tuner==1.0.3) (5.0.5)\n",
            "Requirement already satisfied: pickleshare in /usr/local/lib/python3.7/dist-packages (from ipython->keras-tuner==1.0.3) (0.7.5)\n",
            "Requirement already satisfied: pygments in /usr/local/lib/python3.7/dist-packages (from ipython->keras-tuner==1.0.3) (2.6.1)\n",
            "Requirement already satisfied: importlib-metadata; python_version < \"3.8\" in /usr/local/lib/python3.7/dist-packages (from markdown>=2.6.8->tensorboard->keras-tuner==1.0.3) (4.0.1)\n",
            "Requirement already satisfied: pyasn1-modules>=0.2.1 in /usr/local/lib/python3.7/dist-packages (from google-auth<2,>=1.6.3->tensorboard->keras-tuner==1.0.3) (0.2.8)\n",
            "Requirement already satisfied: cachetools<5.0,>=2.0.0 in /usr/local/lib/python3.7/dist-packages (from google-auth<2,>=1.6.3->tensorboard->keras-tuner==1.0.3) (4.2.2)\n",
            "Requirement already satisfied: rsa<5,>=3.1.4; python_version >= \"3.6\" in /usr/local/lib/python3.7/dist-packages (from google-auth<2,>=1.6.3->tensorboard->keras-tuner==1.0.3) (4.7.2)\n",
            "Requirement already satisfied: requests-oauthlib>=0.7.0 in /usr/local/lib/python3.7/dist-packages (from google-auth-oauthlib<0.5,>=0.4.1->tensorboard->keras-tuner==1.0.3) (1.3.0)\n",
            "Requirement already satisfied: ptyprocess>=0.5 in /usr/local/lib/python3.7/dist-packages (from pexpect; sys_platform != \"win32\"->ipython->keras-tuner==1.0.3) (0.7.0)\n",
            "Requirement already satisfied: wcwidth in /usr/local/lib/python3.7/dist-packages (from prompt-toolkit<2.0.0,>=1.0.4->ipython->keras-tuner==1.0.3) (0.2.5)\n",
            "Requirement already satisfied: ipython-genutils in /usr/local/lib/python3.7/dist-packages (from traitlets>=4.2->ipython->keras-tuner==1.0.3) (0.2.0)\n",
            "Requirement already satisfied: typing-extensions>=3.6.4; python_version < \"3.8\" in /usr/local/lib/python3.7/dist-packages (from importlib-metadata; python_version < \"3.8\"->markdown>=2.6.8->tensorboard->keras-tuner==1.0.3) (3.7.4.3)\n",
            "Requirement already satisfied: zipp>=0.5 in /usr/local/lib/python3.7/dist-packages (from importlib-metadata; python_version < \"3.8\"->markdown>=2.6.8->tensorboard->keras-tuner==1.0.3) (3.4.1)\n",
            "Requirement already satisfied: pyasn1<0.5.0,>=0.4.6 in /usr/local/lib/python3.7/dist-packages (from pyasn1-modules>=0.2.1->google-auth<2,>=1.6.3->tensorboard->keras-tuner==1.0.3) (0.4.8)\n",
            "Requirement already satisfied: oauthlib>=3.0.0 in /usr/local/lib/python3.7/dist-packages (from requests-oauthlib>=0.7.0->google-auth-oauthlib<0.5,>=0.4.1->tensorboard->keras-tuner==1.0.3) (3.1.0)\n",
            "Building wheels for collected packages: keras-tuner\n",
            "  Building wheel for keras-tuner (setup.py) ... \u001b[?25l\u001b[?25hdone\n",
            "  Created wheel for keras-tuner: filename=keras_tuner-1.0.3-cp37-none-any.whl size=93799 sha256=a8614d15fcfb3cfde58d59f7953feb047d97eb515522b796004a7248a3fc9682\n",
            "  Stored in directory: /tmp/pip-ephem-wheel-cache-konn8rsg/wheels/33/f9/be/250538026c0381bfee3fe34b533f483c15dbfde8fbb61c8bbd\n",
            "Successfully built keras-tuner\n",
            "Requirement already satisfied: autokeras in /usr/local/lib/python3.7/dist-packages (1.0.13)\n",
            "Requirement already satisfied: keras-tuner>=1.0.2 in /usr/local/lib/python3.7/dist-packages (from autokeras) (1.0.3)\n",
            "Requirement already satisfied: scikit-learn in /usr/local/lib/python3.7/dist-packages (from autokeras) (0.22.2.post1)\n",
            "Requirement already satisfied: packaging in /usr/local/lib/python3.7/dist-packages (from autokeras) (20.9)\n",
            "Requirement already satisfied: pandas in /usr/local/lib/python3.7/dist-packages (from autokeras) (1.1.5)\n",
            "Requirement already satisfied: tensorflow>=2.3.0 in /usr/local/lib/python3.7/dist-packages (from autokeras) (2.4.1)\n",
            "Requirement already satisfied: scipy in /usr/local/lib/python3.7/dist-packages (from keras-tuner>=1.0.2->autokeras) (1.4.1)\n",
            "Requirement already satisfied: tensorboard in /usr/local/lib/python3.7/dist-packages (from keras-tuner>=1.0.2->autokeras) (2.4.1)\n",
            "Requirement already satisfied: requests in /usr/local/lib/python3.7/dist-packages (from keras-tuner>=1.0.2->autokeras) (2.23.0)\n",
            "Requirement already satisfied: numpy in /usr/local/lib/python3.7/dist-packages (from keras-tuner>=1.0.2->autokeras) (1.19.5)\n",
            "Requirement already satisfied: ipython in /usr/local/lib/python3.7/dist-packages (from keras-tuner>=1.0.2->autokeras) (5.5.0)\n",
            "Requirement already satisfied: joblib>=0.11 in /usr/local/lib/python3.7/dist-packages (from scikit-learn->autokeras) (1.0.1)\n",
            "Requirement already satisfied: pyparsing>=2.0.2 in /usr/local/lib/python3.7/dist-packages (from packaging->autokeras) (2.4.7)\n",
            "Requirement already satisfied: python-dateutil>=2.7.3 in /usr/local/lib/python3.7/dist-packages (from pandas->autokeras) (2.8.1)\n",
            "Requirement already satisfied: pytz>=2017.2 in /usr/local/lib/python3.7/dist-packages (from pandas->autokeras) (2018.9)\n",
            "Requirement already satisfied: google-pasta~=0.2 in /usr/local/lib/python3.7/dist-packages (from tensorflow>=2.3.0->autokeras) (0.2.0)\n",
            "Requirement already satisfied: protobuf>=3.9.2 in /usr/local/lib/python3.7/dist-packages (from tensorflow>=2.3.0->autokeras) (3.12.4)\n",
            "Requirement already satisfied: absl-py~=0.10 in /usr/local/lib/python3.7/dist-packages (from tensorflow>=2.3.0->autokeras) (0.12.0)\n",
            "Requirement already satisfied: flatbuffers~=1.12.0 in /usr/local/lib/python3.7/dist-packages (from tensorflow>=2.3.0->autokeras) (1.12)\n",
            "Requirement already satisfied: opt-einsum~=3.3.0 in /usr/local/lib/python3.7/dist-packages (from tensorflow>=2.3.0->autokeras) (3.3.0)\n",
            "Requirement already satisfied: tensorflow-estimator<2.5.0,>=2.4.0 in /usr/local/lib/python3.7/dist-packages (from tensorflow>=2.3.0->autokeras) (2.4.0)\n",
            "Requirement already satisfied: six~=1.15.0 in /usr/local/lib/python3.7/dist-packages (from tensorflow>=2.3.0->autokeras) (1.15.0)\n",
            "Requirement already satisfied: typing-extensions~=3.7.4 in /usr/local/lib/python3.7/dist-packages (from tensorflow>=2.3.0->autokeras) (3.7.4.3)\n",
            "Requirement already satisfied: h5py~=2.10.0 in /usr/local/lib/python3.7/dist-packages (from tensorflow>=2.3.0->autokeras) (2.10.0)\n",
            "Requirement already satisfied: astunparse~=1.6.3 in /usr/local/lib/python3.7/dist-packages (from tensorflow>=2.3.0->autokeras) (1.6.3)\n",
            "Requirement already satisfied: wrapt~=1.12.1 in /usr/local/lib/python3.7/dist-packages (from tensorflow>=2.3.0->autokeras) (1.12.1)\n",
            "Requirement already satisfied: keras-preprocessing~=1.1.2 in /usr/local/lib/python3.7/dist-packages (from tensorflow>=2.3.0->autokeras) (1.1.2)\n",
            "Requirement already satisfied: grpcio~=1.32.0 in /usr/local/lib/python3.7/dist-packages (from tensorflow>=2.3.0->autokeras) (1.32.0)\n",
            "Requirement already satisfied: termcolor~=1.1.0 in /usr/local/lib/python3.7/dist-packages (from tensorflow>=2.3.0->autokeras) (1.1.0)\n",
            "Requirement already satisfied: wheel~=0.35 in /usr/local/lib/python3.7/dist-packages (from tensorflow>=2.3.0->autokeras) (0.36.2)\n",
            "Requirement already satisfied: gast==0.3.3 in /usr/local/lib/python3.7/dist-packages (from tensorflow>=2.3.0->autokeras) (0.3.3)\n",
            "Requirement already satisfied: markdown>=2.6.8 in /usr/local/lib/python3.7/dist-packages (from tensorboard->keras-tuner>=1.0.2->autokeras) (3.3.4)\n",
            "Requirement already satisfied: google-auth<2,>=1.6.3 in /usr/local/lib/python3.7/dist-packages (from tensorboard->keras-tuner>=1.0.2->autokeras) (1.30.0)\n",
            "Requirement already satisfied: werkzeug>=0.11.15 in /usr/local/lib/python3.7/dist-packages (from tensorboard->keras-tuner>=1.0.2->autokeras) (2.0.0)\n",
            "Requirement already satisfied: tensorboard-plugin-wit>=1.6.0 in /usr/local/lib/python3.7/dist-packages (from tensorboard->keras-tuner>=1.0.2->autokeras) (1.8.0)\n",
            "Requirement already satisfied: google-auth-oauthlib<0.5,>=0.4.1 in /usr/local/lib/python3.7/dist-packages (from tensorboard->keras-tuner>=1.0.2->autokeras) (0.4.4)\n",
            "Requirement already satisfied: setuptools>=41.0.0 in /usr/local/lib/python3.7/dist-packages (from tensorboard->keras-tuner>=1.0.2->autokeras) (56.1.0)\n",
            "Requirement already satisfied: idna<3,>=2.5 in /usr/local/lib/python3.7/dist-packages (from requests->keras-tuner>=1.0.2->autokeras) (2.10)\n",
            "Requirement already satisfied: certifi>=2017.4.17 in /usr/local/lib/python3.7/dist-packages (from requests->keras-tuner>=1.0.2->autokeras) (2020.12.5)\n",
            "Requirement already satisfied: urllib3!=1.25.0,!=1.25.1,<1.26,>=1.21.1 in /usr/local/lib/python3.7/dist-packages (from requests->keras-tuner>=1.0.2->autokeras) (1.24.3)\n",
            "Requirement already satisfied: chardet<4,>=3.0.2 in /usr/local/lib/python3.7/dist-packages (from requests->keras-tuner>=1.0.2->autokeras) (3.0.4)\n",
            "Requirement already satisfied: simplegeneric>0.8 in /usr/local/lib/python3.7/dist-packages (from ipython->keras-tuner>=1.0.2->autokeras) (0.8.1)\n",
            "Requirement already satisfied: pickleshare in /usr/local/lib/python3.7/dist-packages (from ipython->keras-tuner>=1.0.2->autokeras) (0.7.5)\n",
            "Requirement already satisfied: traitlets>=4.2 in /usr/local/lib/python3.7/dist-packages (from ipython->keras-tuner>=1.0.2->autokeras) (5.0.5)\n",
            "Requirement already satisfied: pexpect; sys_platform != \"win32\" in /usr/local/lib/python3.7/dist-packages (from ipython->keras-tuner>=1.0.2->autokeras) (4.8.0)\n",
            "Requirement already satisfied: pygments in /usr/local/lib/python3.7/dist-packages (from ipython->keras-tuner>=1.0.2->autokeras) (2.6.1)\n",
            "Requirement already satisfied: prompt-toolkit<2.0.0,>=1.0.4 in /usr/local/lib/python3.7/dist-packages (from ipython->keras-tuner>=1.0.2->autokeras) (1.0.18)\n",
            "Requirement already satisfied: decorator in /usr/local/lib/python3.7/dist-packages (from ipython->keras-tuner>=1.0.2->autokeras) (4.4.2)\n",
            "Requirement already satisfied: importlib-metadata; python_version < \"3.8\" in /usr/local/lib/python3.7/dist-packages (from markdown>=2.6.8->tensorboard->keras-tuner>=1.0.2->autokeras) (4.0.1)\n",
            "Requirement already satisfied: rsa<5,>=3.1.4; python_version >= \"3.6\" in /usr/local/lib/python3.7/dist-packages (from google-auth<2,>=1.6.3->tensorboard->keras-tuner>=1.0.2->autokeras) (4.7.2)\n",
            "Requirement already satisfied: pyasn1-modules>=0.2.1 in /usr/local/lib/python3.7/dist-packages (from google-auth<2,>=1.6.3->tensorboard->keras-tuner>=1.0.2->autokeras) (0.2.8)\n",
            "Requirement already satisfied: cachetools<5.0,>=2.0.0 in /usr/local/lib/python3.7/dist-packages (from google-auth<2,>=1.6.3->tensorboard->keras-tuner>=1.0.2->autokeras) (4.2.2)\n",
            "Requirement already satisfied: requests-oauthlib>=0.7.0 in /usr/local/lib/python3.7/dist-packages (from google-auth-oauthlib<0.5,>=0.4.1->tensorboard->keras-tuner>=1.0.2->autokeras) (1.3.0)\n",
            "Requirement already satisfied: ipython-genutils in /usr/local/lib/python3.7/dist-packages (from traitlets>=4.2->ipython->keras-tuner>=1.0.2->autokeras) (0.2.0)\n",
            "Requirement already satisfied: ptyprocess>=0.5 in /usr/local/lib/python3.7/dist-packages (from pexpect; sys_platform != \"win32\"->ipython->keras-tuner>=1.0.2->autokeras) (0.7.0)\n",
            "Requirement already satisfied: wcwidth in /usr/local/lib/python3.7/dist-packages (from prompt-toolkit<2.0.0,>=1.0.4->ipython->keras-tuner>=1.0.2->autokeras) (0.2.5)\n",
            "Requirement already satisfied: zipp>=0.5 in /usr/local/lib/python3.7/dist-packages (from importlib-metadata; python_version < \"3.8\"->markdown>=2.6.8->tensorboard->keras-tuner>=1.0.2->autokeras) (3.4.1)\n",
            "Requirement already satisfied: pyasn1>=0.1.3 in /usr/local/lib/python3.7/dist-packages (from rsa<5,>=3.1.4; python_version >= \"3.6\"->google-auth<2,>=1.6.3->tensorboard->keras-tuner>=1.0.2->autokeras) (0.4.8)\n",
            "Requirement already satisfied: oauthlib>=3.0.0 in /usr/local/lib/python3.7/dist-packages (from requests-oauthlib>=0.7.0->google-auth-oauthlib<0.5,>=0.4.1->tensorboard->keras-tuner>=1.0.2->autokeras) (3.1.0)\n"
          ],
          "name": "stdout"
        }
      ]
    },
    {
      "cell_type": "code",
      "metadata": {
        "id": "tvspnMqBwXi-",
        "colab": {
          "base_uri": "https://localhost:8080/"
        },
        "outputId": "fb46ab31-1e44-4c48-cbef-1e61ca23033a"
      },
      "source": [
        "# Retrieve the GPU information from Colab\n",
        "gpu_info = !nvidia-smi\n",
        "gpu_info = '\\n'.join(gpu_info)\n",
        "if gpu_info.find('failed') >= 0:\n",
        "    print('Select the Runtime → \"Change runtime type\" menu to enable a GPU accelerator, ')\n",
        "    print('and then re-execute this cell.')\n",
        "else:\n",
        "    print(gpu_info)"
      ],
      "execution_count": 2,
      "outputs": [
        {
          "output_type": "stream",
          "text": [
            "Wed May 19 00:16:54 2021       \n",
            "+-----------------------------------------------------------------------------+\n",
            "| NVIDIA-SMI 465.19.01    Driver Version: 460.32.03    CUDA Version: 11.2     |\n",
            "|-------------------------------+----------------------+----------------------+\n",
            "| GPU  Name        Persistence-M| Bus-Id        Disp.A | Volatile Uncorr. ECC |\n",
            "| Fan  Temp  Perf  Pwr:Usage/Cap|         Memory-Usage | GPU-Util  Compute M. |\n",
            "|                               |                      |               MIG M. |\n",
            "|===============================+======================+======================|\n",
            "|   0  Tesla P100-PCIE...  Off  | 00000000:00:04.0 Off |                    0 |\n",
            "| N/A   36C    P0    28W / 250W |      0MiB / 16280MiB |      0%      Default |\n",
            "|                               |                      |                  N/A |\n",
            "+-------------------------------+----------------------+----------------------+\n",
            "                                                                               \n",
            "+-----------------------------------------------------------------------------+\n",
            "| Processes:                                                                  |\n",
            "|  GPU   GI   CI        PID   Type   Process name                  GPU Memory |\n",
            "|        ID   ID                                                   Usage      |\n",
            "|=============================================================================|\n",
            "|  No running processes found                                                 |\n",
            "+-----------------------------------------------------------------------------+\n"
          ],
          "name": "stdout"
        }
      ]
    },
    {
      "cell_type": "code",
      "metadata": {
        "id": "TanXkkQxwXi-",
        "colab": {
          "base_uri": "https://localhost:8080/"
        },
        "outputId": "7c8e3fad-24f0-4418-f86c-8a7cde6e1ee8"
      },
      "source": [
        "# Retrieve the memory configuration from Colab\n",
        "from psutil import virtual_memory\n",
        "ram_gb = virtual_memory().total / 1e9\n",
        "print('Your runtime has {:.1f} gigabytes of available RAM\\n'.format(ram_gb))\n",
        "\n",
        "if ram_gb < 20:\n",
        "    print('To enable a high-RAM runtime, select the Runtime → \"Change runtime type\"')\n",
        "    print('menu, and then select High-RAM in the Runtime shape dropdown. Then, ')\n",
        "    print('re-execute this cell.')\n",
        "else:\n",
        "    print('You are using a high-RAM runtime!')"
      ],
      "execution_count": 3,
      "outputs": [
        {
          "output_type": "stream",
          "text": [
            "Your runtime has 27.3 gigabytes of available RAM\n",
            "\n",
            "You are using a high-RAM runtime!\n"
          ],
          "name": "stdout"
        }
      ]
    },
    {
      "cell_type": "code",
      "metadata": {
        "id": "ZOOVxnGCwXi_",
        "colab": {
          "base_uri": "https://localhost:8080/"
        },
        "outputId": "22a1b7bb-24f9-49eb-a73d-6811e95686e9"
      },
      "source": [
        "# Retrieve the CPU information\n",
        "ncpu = !nproc\n",
        "print(\"The number of available CPUs is:\", ncpu[0])"
      ],
      "execution_count": 4,
      "outputs": [
        {
          "output_type": "stream",
          "text": [
            "The number of available CPUs is: 4\n"
          ],
          "name": "stdout"
        }
      ]
    },
    {
      "cell_type": "markdown",
      "metadata": {
        "id": "6UZqFeojwXjA"
      },
      "source": [
        "### 1.a) Load libraries and modules"
      ]
    },
    {
      "cell_type": "code",
      "metadata": {
        "id": "9_ovTGbJwXjA"
      },
      "source": [
        "# Set the random seed number for reproducible results\n",
        "RNG_SEED = 888"
      ],
      "execution_count": 5,
      "outputs": []
    },
    {
      "cell_type": "code",
      "metadata": {
        "id": "vDmif-v8wXjB"
      },
      "source": [
        "import random\n",
        "random.seed(RNG_SEED)\n",
        "import numpy as np\n",
        "np.random.seed(RNG_SEED)\n",
        "import pandas as pd\n",
        "import matplotlib.pyplot as plt\n",
        "import os\n",
        "import sys\n",
        "import math\n",
        "from datetime import datetime\n",
        "# import boto3\n",
        "# from dotenv import load_dotenv\n",
        "from sklearn import preprocessing\n",
        "from sklearn.model_selection import train_test_split\n",
        "from sklearn.model_selection import RepeatedKFold\n",
        "import tensorflow as tf\n",
        "tf.random.set_seed(RNG_SEED)\n",
        "from tensorflow import keras\n",
        "import kerastuner as kt\n",
        "from autokeras import StructuredDataRegressor"
      ],
      "execution_count": 6,
      "outputs": []
    },
    {
      "cell_type": "markdown",
      "metadata": {
        "id": "M0TRB7j0wXjB"
      },
      "source": [
        "### 1.b) Set up the controlling parameters and functions"
      ]
    },
    {
      "cell_type": "code",
      "metadata": {
        "id": "JCurALWEwXjB",
        "colab": {
          "base_uri": "https://localhost:8080/"
        },
        "outputId": "5dfa8904-5718-4ac3-fdce-2a9982ebc38e"
      },
      "source": [
        "# Begin the timer for the script processing\n",
        "start_time_script = datetime.now()\n",
        "\n",
        "# Set up the number of CPU cores available for multi-thread processing\n",
        "N_JOBS = 1\n",
        "\n",
        "# Set up the flag to stop sending progress emails (setting to True will send status emails!)\n",
        "NOTIFY_STATUS = False\n",
        "\n",
        "# Set the percentage sizes for splitting the dataset\n",
        "TEST_SET_SIZE = 0.2\n",
        "VAL_SET_SIZE = 0.25\n",
        "\n",
        "# Set the number of folds for cross validation\n",
        "N_FOLDS = 10\n",
        "N_ITERATIONS = 1\n",
        "\n",
        "# Set various default modeling parameters\n",
        "DEFAULT_LOSS = 'mean_squared_error'\n",
        "DEFAULT_METRICS = [tf.keras.metrics.RootMeanSquaredError(name='rmse')]\n",
        "DEFAULT_OPTIMIZER = tf.keras.optimizers.Adam(learning_rate=0.001)\n",
        "DEFAULT_INITIALIZER = tf.keras.initializers.RandomNormal(seed=RNG_SEED)\n",
        "MAX_EPOCHS = 15\n",
        "BATCH_SIZE = 64\n",
        "MAX_TRIALS = 50\n",
        "\n",
        "# Set Pandas options\n",
        "pd.set_option(\"display.max_rows\", 500)\n",
        "pd.set_option(\"display.width\", 140)\n",
        "\n",
        "# Check the number of GPUs accessible through TensorFlow\n",
        "print('Num GPUs Available:', len(tf.config.list_physical_devices('GPU')))\n",
        "\n",
        "# Print out the TensorFlow version for confirmation\n",
        "print('TensorFlow version:', tf.__version__)"
      ],
      "execution_count": 7,
      "outputs": [
        {
          "output_type": "stream",
          "text": [
            "Num GPUs Available: 1\n",
            "TensorFlow version: 2.4.1\n"
          ],
          "name": "stdout"
        }
      ]
    },
    {
      "cell_type": "code",
      "metadata": {
        "id": "GcX8w0cpwXjC"
      },
      "source": [
        "# Set up the parent directory location for loading the dotenv files\n",
        "# Mount Google Drive locally for storing files\n",
        "# from google.colab import drive\n",
        "# drive.mount('/content/gdrive')\n",
        "# gdrivePrefix = '/content/gdrive/My Drive/Colab_Downloads/'\n",
        "# env_path = '/content/gdrive/My Drive/Colab Notebooks/'\n",
        "# dotenv_path = env_path + \"python_script.env\"\n",
        "# load_dotenv(dotenv_path=dotenv_path)\n",
        "\n",
        "# Set up the dotenv file for retrieving environment variables\n",
        "# env_path = \"/Users/david/PycharmProjects/\"\n",
        "# dotenv_path = env_path + \"python_script.env\"\n",
        "# load_dotenv(dotenv_path=dotenv_path)"
      ],
      "execution_count": 8,
      "outputs": []
    },
    {
      "cell_type": "code",
      "metadata": {
        "id": "IBDJ6B40wXjC"
      },
      "source": [
        "# Set up the email notification function\n",
        "def status_notify(msg_text):\n",
        "    access_key = os.environ.get('SNS_ACCESS_KEY')\n",
        "    secret_key = os.environ.get('SNS_SECRET_KEY')\n",
        "    aws_region = os.environ.get('SNS_AWS_REGION')\n",
        "    topic_arn = os.environ.get('SNS_TOPIC_ARN')\n",
        "    if (access_key is None) or (secret_key is None) or (aws_region is None):\n",
        "        sys.exit(\"Incomplete notification setup info. Script Processing Aborted!!!\")\n",
        "    sns = boto3.client('sns', aws_access_key_id=access_key, aws_secret_access_key=secret_key, region_name=aws_region)\n",
        "    response = sns.publish(TopicArn=topic_arn, Message=msg_text)\n",
        "    if response['ResponseMetadata']['HTTPStatusCode'] != 200 :\n",
        "        print('Status notification not OK with HTTP status code:', response['ResponseMetadata']['HTTPStatusCode'])"
      ],
      "execution_count": 9,
      "outputs": []
    },
    {
      "cell_type": "code",
      "metadata": {
        "id": "e3tPi3k7wyTv"
      },
      "source": [
        "# Reset the random number generators\n",
        "def reset_random(x=RNG_SEED):\n",
        "    random.seed(x)\n",
        "    np.random.seed(x)\n",
        "    tf.random.set_seed(x)"
      ],
      "execution_count": 10,
      "outputs": []
    },
    {
      "cell_type": "code",
      "metadata": {
        "id": "p2F2r8QswXjD"
      },
      "source": [
        "if NOTIFY_STATUS: status_notify(\"Task 1 - Prepare Environment has begun! \" + datetime.now().strftime('%a %B %d, %Y %I:%M:%S %p'))"
      ],
      "execution_count": 11,
      "outputs": []
    },
    {
      "cell_type": "markdown",
      "metadata": {
        "id": "yk2I_AhawXjD"
      },
      "source": [
        "### 1.c) Load dataset"
      ]
    },
    {
      "cell_type": "code",
      "metadata": {
        "id": "E7G2_4zawXjE",
        "colab": {
          "base_uri": "https://localhost:8080/"
        },
        "outputId": "3d4d6849-8472-4165-cb3a-6cfc0cafe39d"
      },
      "source": [
        "dataset_path = 'https://dainesanalytics.com/datasets/kaggle-tabular-playground-2021jan/train.csv'\n",
        "df_dataset_import = pd.read_csv(dataset_path, index_col=False)\n",
        "\n",
        "# Take a peek at the dataframe after import\n",
        "print(df_dataset_import.head())"
      ],
      "execution_count": 12,
      "outputs": [
        {
          "output_type": "stream",
          "text": [
            "   id     cont1     cont2     cont3  ...    cont12    cont13    cont14    target\n",
            "0   1  0.670390  0.811300  0.643968  ...  0.866772  0.878733  0.305411  7.243043\n",
            "1   3  0.388053  0.621104  0.686102  ...  0.434971  0.369957  0.369484  8.203331\n",
            "2   4  0.834950  0.227436  0.301584  ...  0.677708  0.882938  0.303047  7.776091\n",
            "3   5  0.820708  0.160155  0.546887  ...  0.818143  0.914281  0.279528  6.957716\n",
            "4   8  0.935278  0.421235  0.303801  ...  0.900464  0.935918  0.435772  7.951046\n",
            "\n",
            "[5 rows x 16 columns]\n"
          ],
          "name": "stdout"
        }
      ]
    },
    {
      "cell_type": "code",
      "metadata": {
        "id": "3dl-LDdfwXjE",
        "colab": {
          "base_uri": "https://localhost:8080/"
        },
        "outputId": "46cac1b5-77e1-4182-d0fc-a98f8052f89f"
      },
      "source": [
        "df_dataset_import.info(verbose=True)"
      ],
      "execution_count": 13,
      "outputs": [
        {
          "output_type": "stream",
          "text": [
            "<class 'pandas.core.frame.DataFrame'>\n",
            "RangeIndex: 300000 entries, 0 to 299999\n",
            "Data columns (total 16 columns):\n",
            " #   Column  Non-Null Count   Dtype  \n",
            "---  ------  --------------   -----  \n",
            " 0   id      300000 non-null  int64  \n",
            " 1   cont1   300000 non-null  float64\n",
            " 2   cont2   300000 non-null  float64\n",
            " 3   cont3   300000 non-null  float64\n",
            " 4   cont4   300000 non-null  float64\n",
            " 5   cont5   300000 non-null  float64\n",
            " 6   cont6   300000 non-null  float64\n",
            " 7   cont7   300000 non-null  float64\n",
            " 8   cont8   300000 non-null  float64\n",
            " 9   cont9   300000 non-null  float64\n",
            " 10  cont10  300000 non-null  float64\n",
            " 11  cont11  300000 non-null  float64\n",
            " 12  cont12  300000 non-null  float64\n",
            " 13  cont13  300000 non-null  float64\n",
            " 14  cont14  300000 non-null  float64\n",
            " 15  target  300000 non-null  float64\n",
            "dtypes: float64(15), int64(1)\n",
            "memory usage: 36.6 MB\n"
          ],
          "name": "stdout"
        }
      ]
    },
    {
      "cell_type": "code",
      "metadata": {
        "id": "3eB_rvlwwXjF",
        "colab": {
          "base_uri": "https://localhost:8080/"
        },
        "outputId": "7f789766-2ac6-4b82-fde6-c24ef99645ad"
      },
      "source": [
        "print(df_dataset_import.describe())"
      ],
      "execution_count": 14,
      "outputs": [
        {
          "output_type": "stream",
          "text": [
            "                  id          cont1  ...         cont14         target\n",
            "count  300000.000000  300000.000000  ...  300000.000000  300000.000000\n",
            "mean   249825.145857       0.506873  ...       0.503713       7.905661\n",
            "std    144476.732562       0.203976  ...       0.208238       0.733071\n",
            "min         1.000000      -0.082263  ...       0.166367       0.000000\n",
            "25%    124656.500000       0.343078  ...       0.308673       7.329367\n",
            "50%    249738.500000       0.484005  ...       0.431845       7.940571\n",
            "75%    374836.250000       0.643789  ...       0.712653       8.470084\n",
            "max    499999.000000       1.016227  ...       0.868506      10.267569\n",
            "\n",
            "[8 rows x 16 columns]\n"
          ],
          "name": "stdout"
        }
      ]
    },
    {
      "cell_type": "code",
      "metadata": {
        "id": "SRyVb81UwXjF",
        "colab": {
          "base_uri": "https://localhost:8080/"
        },
        "outputId": "36c48b17-b7b1-4549-8420-f8834054c97f"
      },
      "source": [
        "print(df_dataset_import.isnull().sum())\n",
        "print('Total number of NaN in the dataframe: ', df_dataset_import.isnull().sum().sum())"
      ],
      "execution_count": 15,
      "outputs": [
        {
          "output_type": "stream",
          "text": [
            "id        0\n",
            "cont1     0\n",
            "cont2     0\n",
            "cont3     0\n",
            "cont4     0\n",
            "cont5     0\n",
            "cont6     0\n",
            "cont7     0\n",
            "cont8     0\n",
            "cont9     0\n",
            "cont10    0\n",
            "cont11    0\n",
            "cont12    0\n",
            "cont13    0\n",
            "cont14    0\n",
            "target    0\n",
            "dtype: int64\n",
            "Total number of NaN in the dataframe:  0\n"
          ],
          "name": "stdout"
        }
      ]
    },
    {
      "cell_type": "markdown",
      "metadata": {
        "id": "wfaoKiSdwXjG"
      },
      "source": [
        "### 1.d) Data Cleaning"
      ]
    },
    {
      "cell_type": "code",
      "metadata": {
        "id": "KujRTYu5wXjG",
        "colab": {
          "base_uri": "https://localhost:8080/"
        },
        "outputId": "43774e3d-9173-4492-ec38-067a87f20e02"
      },
      "source": [
        "# Standardize the class column to the name of targetVar if required\n",
        "df_dataset_import = df_dataset_import.rename(columns={'target': 'targetVar'})\n",
        "\n",
        "# Dropping features\n",
        "df_dataset_import.drop(columns=['id'], inplace=True)\n",
        "\n",
        "# Take a peek at the dataframe after cleaning\n",
        "print(df_dataset_import.head())"
      ],
      "execution_count": 16,
      "outputs": [
        {
          "output_type": "stream",
          "text": [
            "      cont1     cont2     cont3  ...    cont13    cont14  targetVar\n",
            "0  0.670390  0.811300  0.643968  ...  0.878733  0.305411   7.243043\n",
            "1  0.388053  0.621104  0.686102  ...  0.369957  0.369484   8.203331\n",
            "2  0.834950  0.227436  0.301584  ...  0.882938  0.303047   7.776091\n",
            "3  0.820708  0.160155  0.546887  ...  0.914281  0.279528   6.957716\n",
            "4  0.935278  0.421235  0.303801  ...  0.935918  0.435772   7.951046\n",
            "\n",
            "[5 rows x 15 columns]\n"
          ],
          "name": "stdout"
        }
      ]
    },
    {
      "cell_type": "code",
      "metadata": {
        "id": "ZprOE1B0wXjH",
        "colab": {
          "base_uri": "https://localhost:8080/"
        },
        "outputId": "e558faa2-7652-47a0-b2d7-d90e97ea6174"
      },
      "source": [
        "df_dataset_import.info(verbose=True)"
      ],
      "execution_count": 17,
      "outputs": [
        {
          "output_type": "stream",
          "text": [
            "<class 'pandas.core.frame.DataFrame'>\n",
            "RangeIndex: 300000 entries, 0 to 299999\n",
            "Data columns (total 15 columns):\n",
            " #   Column     Non-Null Count   Dtype  \n",
            "---  ------     --------------   -----  \n",
            " 0   cont1      300000 non-null  float64\n",
            " 1   cont2      300000 non-null  float64\n",
            " 2   cont3      300000 non-null  float64\n",
            " 3   cont4      300000 non-null  float64\n",
            " 4   cont5      300000 non-null  float64\n",
            " 5   cont6      300000 non-null  float64\n",
            " 6   cont7      300000 non-null  float64\n",
            " 7   cont8      300000 non-null  float64\n",
            " 8   cont9      300000 non-null  float64\n",
            " 9   cont10     300000 non-null  float64\n",
            " 10  cont11     300000 non-null  float64\n",
            " 11  cont12     300000 non-null  float64\n",
            " 12  cont13     300000 non-null  float64\n",
            " 13  cont14     300000 non-null  float64\n",
            " 14  targetVar  300000 non-null  float64\n",
            "dtypes: float64(15)\n",
            "memory usage: 34.3 MB\n"
          ],
          "name": "stdout"
        }
      ]
    },
    {
      "cell_type": "code",
      "metadata": {
        "id": "QgyI5VZ1wXjH",
        "colab": {
          "base_uri": "https://localhost:8080/"
        },
        "outputId": "fb86bf23-6e56-4a2c-accd-fc1367a54d3c"
      },
      "source": [
        "print(df_dataset_import.describe())"
      ],
      "execution_count": 18,
      "outputs": [
        {
          "output_type": "stream",
          "text": [
            "               cont1          cont2  ...         cont14      targetVar\n",
            "count  300000.000000  300000.000000  ...  300000.000000  300000.000000\n",
            "mean        0.506873       0.497898  ...       0.503713       7.905661\n",
            "std         0.203976       0.228159  ...       0.208238       0.733071\n",
            "min        -0.082263      -0.031397  ...       0.166367       0.000000\n",
            "25%         0.343078       0.319170  ...       0.308673       7.329367\n",
            "50%         0.484005       0.553209  ...       0.431845       7.940571\n",
            "75%         0.643789       0.731263  ...       0.712653       8.470084\n",
            "max         1.016227       0.859697  ...       0.868506      10.267569\n",
            "\n",
            "[8 rows x 15 columns]\n"
          ],
          "name": "stdout"
        }
      ]
    },
    {
      "cell_type": "code",
      "metadata": {
        "id": "wz9iKsUswXjI",
        "colab": {
          "base_uri": "https://localhost:8080/"
        },
        "outputId": "8d20ec54-13c1-4eb1-ce0f-6f9500988662"
      },
      "source": [
        "print(df_dataset_import.isnull().sum())\n",
        "print('Total number of NaN in the dataframe: ', df_dataset_import.isnull().sum().sum())"
      ],
      "execution_count": 19,
      "outputs": [
        {
          "output_type": "stream",
          "text": [
            "cont1        0\n",
            "cont2        0\n",
            "cont3        0\n",
            "cont4        0\n",
            "cont5        0\n",
            "cont6        0\n",
            "cont7        0\n",
            "cont8        0\n",
            "cont9        0\n",
            "cont10       0\n",
            "cont11       0\n",
            "cont12       0\n",
            "cont13       0\n",
            "cont14       0\n",
            "targetVar    0\n",
            "dtype: int64\n",
            "Total number of NaN in the dataframe:  0\n"
          ],
          "name": "stdout"
        }
      ]
    },
    {
      "cell_type": "markdown",
      "metadata": {
        "id": "0ZBQ1s2bwXjI"
      },
      "source": [
        "### 1.e) Splitting Data into Sets"
      ]
    },
    {
      "cell_type": "code",
      "metadata": {
        "id": "QNydPt1uwXjI"
      },
      "source": [
        "# Use variable total_column_count to hold the number of columns in the dataframe\n",
        "total_column_count = len(df_dataset_import.columns)\n",
        "\n",
        "# Set up variable total_feature_count for the total number of attribute columns\n",
        "total_feature_count = total_column_count-1\n",
        "\n",
        "# target_column_position variable indicates the column location of the target/class variable\n",
        "# If the first column, set target_column_position to 1. If the last column, set target_column_position to total_column_count\n",
        "# If (target_column_position <> 1) and (target_column_position <> total_column_count), be aware when slicing up the dataframes for visualization\n",
        "target_column_position = total_column_count"
      ],
      "execution_count": 20,
      "outputs": []
    },
    {
      "cell_type": "code",
      "metadata": {
        "id": "rseM1Ef3wXjJ",
        "colab": {
          "base_uri": "https://localhost:8080/"
        },
        "outputId": "6cfeb9db-cdb4-47b9-cf2a-2973752d9513"
      },
      "source": [
        "# We create attribute-only and target-only datasets (df_features_train and df_target_train)\n",
        "# for various visualization and cleaning/transformation operations\n",
        "\n",
        "if target_column_position == total_column_count:\n",
        "    df_features_train = df_dataset_import.iloc[:,0:total_feature_count]\n",
        "    df_target_train = df_dataset_import.iloc[:,total_feature_count]\n",
        "else:\n",
        "    df_features_train = df_dataset_import.iloc[:,1:total_column_count]\n",
        "    df_target_train = df_dataset_import.iloc[:,0]\n",
        "\n",
        "print(\"df_dataset_import.shape: {} df_features_train.shape: {} df_target_train.shape: {}\".format(df_dataset_import.shape, df_features_train.shape, df_target_train.shape))"
      ],
      "execution_count": 21,
      "outputs": [
        {
          "output_type": "stream",
          "text": [
            "df_dataset_import.shape: (300000, 15) df_features_train.shape: (300000, 14) df_target_train.shape: (300000,)\n"
          ],
          "name": "stdout"
        }
      ]
    },
    {
      "cell_type": "markdown",
      "metadata": {
        "id": "VKU_2CL74vh-"
      },
      "source": [
        "### 1.f) Set up the parameters for data visualization"
      ]
    },
    {
      "cell_type": "code",
      "metadata": {
        "id": "7D9OChW94yP0"
      },
      "source": [
        "# Set up the number of row and columns for visualization display. display_rows * display_columns should be >= total_feature_count\n",
        "display_columns = 4\n",
        "if total_feature_count % display_columns == 0 :\n",
        "    display_rows = total_feature_count // display_columns\n",
        "else :\n",
        "    display_rows = (total_feature_count // display_columns) + 1\n",
        "    \n",
        "# Set figure width to display the data visualization plots\n",
        "fig_size = plt.rcParams[\"figure.figsize\"]\n",
        "fig_size[0] = display_columns * 4\n",
        "fig_size[1] = display_rows * 4\n",
        "plt.rcParams[\"figure.figsize\"] = fig_size"
      ],
      "execution_count": 22,
      "outputs": []
    },
    {
      "cell_type": "code",
      "metadata": {
        "id": "YLRgAYnMwXjJ"
      },
      "source": [
        "if NOTIFY_STATUS: status_notify(\"Task 1 - Prepare Environment completed! \"+datetime.now().strftime('%a %B %d, %Y %I:%M:%S %p'))"
      ],
      "execution_count": 23,
      "outputs": []
    },
    {
      "cell_type": "markdown",
      "metadata": {
        "id": "ZivQJCZowXjK"
      },
      "source": [
        "## Task 2 - Summarize and Visualize Data"
      ]
    },
    {
      "cell_type": "code",
      "metadata": {
        "id": "F5H90pxZwXjK"
      },
      "source": [
        "if NOTIFY_STATUS: status_notify(\"Task 2 - Summarize and Visualize Data has begun! \"+datetime.now().strftime('%a %B %d, %Y %I:%M:%S %p'))"
      ],
      "execution_count": 24,
      "outputs": []
    },
    {
      "cell_type": "code",
      "metadata": {
        "scrolled": true,
        "id": "OBhr7SGRwXjK",
        "colab": {
          "base_uri": "https://localhost:8080/",
          "height": 934
        },
        "outputId": "cdb259de-ea07-4805-b885-93dfd9d6b170"
      },
      "source": [
        "# Histograms for each attribute\n",
        "df_features_train.hist(layout=(display_rows, display_columns))\n",
        "plt.show()"
      ],
      "execution_count": 25,
      "outputs": [
        {
          "output_type": "display_data",
          "data": {
            "image/png": "[encoded data removed]",
            "text/plain": [
              "<Figure size 1152x1152 with 16 Axes>"
            ]
          },
          "metadata": {
            "tags": [],
            "needs_background": "light"
          }
        }
      ]
    },
    {
      "cell_type": "code",
      "metadata": {
        "id": "NHtCofAgwXjL",
        "colab": {
          "base_uri": "https://localhost:8080/",
          "height": 918
        },
        "outputId": "4466a8b8-b73e-4f5a-c3f1-b7533548c838"
      },
      "source": [
        "# Box and Whisker plot for each attribute\n",
        "df_features_train.plot(kind='box', subplots=True, layout=(display_rows, display_columns))\n",
        "plt.show()"
      ],
      "execution_count": 26,
      "outputs": [
        {
          "output_type": "display_data",
          "data": {
            "image/png": "[encoded data removed]",
            "text/plain": [
              "<Figure size 1152x1152 with 16 Axes>"
            ]
          },
          "metadata": {
            "tags": [],
            "needs_background": "light"
          }
        }
      ]
    },
    {
      "cell_type": "code",
      "metadata": {
        "id": "HXUm5_nkwXjL",
        "colab": {
          "base_uri": "https://localhost:8080/",
          "height": 706
        },
        "outputId": "9e11bde0-66f5-406f-d1b8-ec19b29928be"
      },
      "source": [
        "# Correlation matrix\n",
        "fig = plt.figure(figsize=(16,12))\n",
        "ax = fig.add_subplot(111)\n",
        "correlations = df_features_train.corr(method='pearson')\n",
        "cax = ax.matshow(correlations, vmin=-1, vmax=1)\n",
        "fig.colorbar(cax)\n",
        "plt.show()"
      ],
      "execution_count": 27,
      "outputs": [
        {
          "output_type": "display_data",
          "data": {
            "image/png": "[encoded data removed]",
            "text/plain": [
              "<Figure size 1152x864 with 2 Axes>"
            ]
          },
          "metadata": {
            "tags": [],
            "needs_background": "light"
          }
        }
      ]
    },
    {
      "cell_type": "code",
      "metadata": {
        "id": "yHcRjiadwXjL"
      },
      "source": [
        "if NOTIFY_STATUS: status_notify(\"Task 2 - Summarize and Visualize Data completed! \"+datetime.now().strftime('%a %B %d, %Y %I:%M:%S %p'))"
      ],
      "execution_count": 28,
      "outputs": []
    },
    {
      "cell_type": "markdown",
      "metadata": {
        "id": "-8rH-HXuwXjM"
      },
      "source": [
        "## Task 3 - Pre-process Data"
      ]
    },
    {
      "cell_type": "code",
      "metadata": {
        "id": "UnD36SUzwXjM"
      },
      "source": [
        "if NOTIFY_STATUS: status_notify(\"Task 3 - Pre-process Data has begun! \"+datetime.now().strftime('%a %B %d, %Y %I:%M:%S %p'))"
      ],
      "execution_count": 29,
      "outputs": []
    },
    {
      "cell_type": "markdown",
      "metadata": {
        "id": "cozmoI-z6GPK"
      },
      "source": [
        "### 3.a) Splitting Data into Training and Test Sets"
      ]
    },
    {
      "cell_type": "code",
      "metadata": {
        "id": "AI2yMOlA6PwG"
      },
      "source": [
        "# Not applicable for this iteration of the project"
      ],
      "execution_count": 30,
      "outputs": []
    },
    {
      "cell_type": "markdown",
      "metadata": {
        "id": "R8kdIf_lwXjM"
      },
      "source": [
        "### 3.b) Feature Scaling and Data Pre-Processing"
      ]
    },
    {
      "cell_type": "code",
      "metadata": {
        "id": "aX6sb-howXjM"
      },
      "source": [
        "# Not applicable for this iteration of the project"
      ],
      "execution_count": 31,
      "outputs": []
    },
    {
      "cell_type": "markdown",
      "metadata": {
        "id": "s9jShFtuwXjN"
      },
      "source": [
        "### 3.c) Training Data Balancing"
      ]
    },
    {
      "cell_type": "code",
      "metadata": {
        "id": "RbmwSe3HwXjN"
      },
      "source": [
        "# Not applicable for this iteration of the project"
      ],
      "execution_count": 32,
      "outputs": []
    },
    {
      "cell_type": "markdown",
      "metadata": {
        "id": "wR_s0wbywXjO"
      },
      "source": [
        "### 3.d) Feature Selection"
      ]
    },
    {
      "cell_type": "code",
      "metadata": {
        "id": "HKxw-seZwXjO"
      },
      "source": [
        "# Not applicable for this iteration of the project"
      ],
      "execution_count": 33,
      "outputs": []
    },
    {
      "cell_type": "markdown",
      "metadata": {
        "id": "_5FtDxaSwXjR"
      },
      "source": [
        "### 3.e) Display the Final Datasets for Model-Building"
      ]
    },
    {
      "cell_type": "code",
      "metadata": {
        "id": "QY2ulFc8wXjR",
        "colab": {
          "base_uri": "https://localhost:8080/"
        },
        "outputId": "e06d756f-87e6-4e10-8b14-265eb3e20f60"
      },
      "source": [
        "# Finalize the training and validation datasets for the modeling activities\n",
        "array_features_train = df_features_train.to_numpy()\n",
        "array_target_train = df_target_train.ravel()\n",
        "print(\"array_features_train.shape: {} array_target_train.shape: {}\".format(array_features_train.shape, array_target_train.shape))"
      ],
      "execution_count": 34,
      "outputs": [
        {
          "output_type": "stream",
          "text": [
            "array_features_train.shape: (300000, 14) array_target_train.shape: (300000,)\n"
          ],
          "name": "stdout"
        }
      ]
    },
    {
      "cell_type": "code",
      "metadata": {
        "id": "CjUzjvmqwXjS"
      },
      "source": [
        "if NOTIFY_STATUS: status_notify(\"Task 3 - Pre-process Data completed! \"+datetime.now().strftime('%a %B %d, %Y %I:%M:%S %p'))"
      ],
      "execution_count": 35,
      "outputs": []
    },
    {
      "cell_type": "markdown",
      "metadata": {
        "id": "wSgdTHFAwXjS"
      },
      "source": [
        "## Task 4 - Train and Evaluate Models"
      ]
    },
    {
      "cell_type": "code",
      "metadata": {
        "id": "GWRUUYN6wXjS"
      },
      "source": [
        "if NOTIFY_STATUS: status_notify(\"Task 4 - Train and Evaluate Models has begun! \"+datetime.now().strftime('%a %B %d, %Y %I:%M:%S %p'))"
      ],
      "execution_count": 36,
      "outputs": []
    },
    {
      "cell_type": "code",
      "metadata": {
        "colab": {
          "base_uri": "https://localhost:8080/"
        },
        "id": "XWSwbaBet4SQ",
        "outputId": "fec9b10f-0c53-42f9-9863-9fa2b6a07449"
      },
      "source": [
        "# Initialize the default model and get a baseline result\n",
        "start_time_module = datetime.now()\n",
        "auto_model = StructuredDataRegressor(loss=DEFAULT_LOSS, metrics=DEFAULT_METRICS, max_trials=MAX_TRIALS,\n",
        "                                     objective=kt.Objective(\"val_rmse\", direction=\"min\"), seed=RNG_SEED)\n",
        "auto_model.fit(array_features_train, array_target_train, epochs=MAX_EPOCHS, validation_split=VAL_SET_SIZE, batch_size=BATCH_SIZE, verbose=2)\n",
        "print('Total time for model fitting:', (datetime.now() - start_time_module))"
      ],
      "execution_count": 37,
      "outputs": [
        {
          "output_type": "stream",
          "text": [
            "Trial 50 Complete [00h 03m 16s]\n",
            "val_rmse: 0.7118636965751648\n",
            "\n",
            "Best val_rmse So Far: 0.7084618806838989\n",
            "Total elapsed time: 02h 33m 09s\n",
            "INFO:tensorflow:Oracle triggered exit\n",
            "Epoch 1/15\n",
            "4688/4688 [==============================] - 17s 3ms/step - loss: 13.1673 - rmse: 2.4155\n",
            "Epoch 2/15\n",
            "4688/4688 [==============================] - 16s 3ms/step - loss: 1.6564 - rmse: 1.2858\n",
            "Epoch 3/15\n",
            "4688/4688 [==============================] - 16s 3ms/step - loss: 0.8598 - rmse: 0.9265\n",
            "Epoch 4/15\n",
            "4688/4688 [==============================] - 16s 3ms/step - loss: 0.5761 - rmse: 0.7589\n",
            "Epoch 5/15\n",
            "4688/4688 [==============================] - 16s 3ms/step - loss: 0.5242 - rmse: 0.7240\n",
            "Epoch 6/15\n",
            "4688/4688 [==============================] - 16s 3ms/step - loss: 0.5173 - rmse: 0.7192\n",
            "Epoch 7/15\n",
            "4688/4688 [==============================] - 16s 3ms/step - loss: 0.5159 - rmse: 0.7182\n",
            "Epoch 8/15\n",
            "4688/4688 [==============================] - 16s 3ms/step - loss: 0.5145 - rmse: 0.7173\n",
            "Epoch 9/15\n",
            "4688/4688 [==============================] - 16s 3ms/step - loss: 0.5133 - rmse: 0.7164\n",
            "Epoch 10/15\n",
            "4688/4688 [==============================] - 16s 3ms/step - loss: 0.5126 - rmse: 0.7159\n",
            "Epoch 11/15\n",
            "4688/4688 [==============================] - 16s 3ms/step - loss: 0.5122 - rmse: 0.7157\n",
            "Epoch 12/15\n",
            "4688/4688 [==============================] - 16s 3ms/step - loss: 0.5112 - rmse: 0.7150\n",
            "Epoch 13/15\n",
            "4688/4688 [==============================] - 16s 3ms/step - loss: 0.5108 - rmse: 0.7147\n",
            "Epoch 14/15\n",
            "4688/4688 [==============================] - 16s 3ms/step - loss: 0.5102 - rmse: 0.7143\n",
            "Epoch 15/15\n",
            "4688/4688 [==============================] - 16s 3ms/step - loss: 0.5094 - rmse: 0.7137\n",
            "INFO:tensorflow:Assets written to: ./structured_data_regressor/best_model/assets\n",
            "Total time for model fitting: 2:37:24.226740\n"
          ],
          "name": "stdout"
        }
      ]
    },
    {
      "cell_type": "code",
      "metadata": {
        "jupyter": {
          "outputs_hidden": false
        },
        "pycharm": {
          "name": "#%%\n"
        },
        "id": "g2ZPK8-5wXjU"
      },
      "source": [
        "if NOTIFY_STATUS: status_notify(\"Task 4 - Train and Evaluate Models completed! \"+datetime.now().strftime('%a %B %d, %Y %I:%M:%S %p'))"
      ],
      "execution_count": 38,
      "outputs": []
    },
    {
      "cell_type": "markdown",
      "metadata": {
        "id": "ISyQ5uNrwXjU"
      },
      "source": [
        "## Task 5 - Finalize Model and Present Analysis"
      ]
    },
    {
      "cell_type": "code",
      "metadata": {
        "id": "BhuD5C56wXjV"
      },
      "source": [
        "if NOTIFY_STATUS: status_notify(\"Task 5 - Finalize Model and Present Analysis has begun! \"+datetime.now().strftime('%a %B %d, %Y %I:%M:%S %p'))"
      ],
      "execution_count": 39,
      "outputs": []
    },
    {
      "cell_type": "markdown",
      "metadata": {
        "id": "xDcJ2kVE8xNI"
      },
      "source": [
        "### 6.a) Train the Final Model"
      ]
    },
    {
      "cell_type": "code",
      "metadata": {
        "id": "dsntMWlJwXjV",
        "colab": {
          "base_uri": "https://localhost:8080/"
        },
        "outputId": "1d9f3ead-5ed4-417d-eb97-4e1a03ab0405"
      },
      "source": [
        "final_model = auto_model.export_model()\n",
        "final_model.summary()"
      ],
      "execution_count": 40,
      "outputs": [
        {
          "output_type": "stream",
          "text": [
            "Model: \"model\"\n",
            "_________________________________________________________________\n",
            "Layer (type)                 Output Shape              Param #   \n",
            "=================================================================\n",
            "input_1 (InputLayer)         [(None, 14)]              0         \n",
            "_________________________________________________________________\n",
            "multi_category_encoding (Mul (None, 14)                0         \n",
            "_________________________________________________________________\n",
            "normalization (Normalization (None, 14)                29        \n",
            "_________________________________________________________________\n",
            "dense (Dense)                (None, 256)               3840      \n",
            "_________________________________________________________________\n",
            "batch_normalization (BatchNo (None, 256)               1024      \n",
            "_________________________________________________________________\n",
            "re_lu (ReLU)                 (None, 256)               0         \n",
            "_________________________________________________________________\n",
            "dropout (Dropout)            (None, 256)               0         \n",
            "_________________________________________________________________\n",
            "dense_1 (Dense)              (None, 512)               131584    \n",
            "_________________________________________________________________\n",
            "batch_normalization_1 (Batch (None, 512)               2048      \n",
            "_________________________________________________________________\n",
            "re_lu_1 (ReLU)               (None, 512)               0         \n",
            "_________________________________________________________________\n",
            "dropout_1 (Dropout)          (None, 512)               0         \n",
            "_________________________________________________________________\n",
            "dense_2 (Dense)              (None, 16)                8208      \n",
            "_________________________________________________________________\n",
            "batch_normalization_2 (Batch (None, 16)                64        \n",
            "_________________________________________________________________\n",
            "re_lu_2 (ReLU)               (None, 16)                0         \n",
            "_________________________________________________________________\n",
            "dropout_2 (Dropout)          (None, 16)                0         \n",
            "_________________________________________________________________\n",
            "regression_head_1 (Dense)    (None, 1)                 17        \n",
            "=================================================================\n",
            "Total params: 146,814\n",
            "Trainable params: 145,217\n",
            "Non-trainable params: 1,597\n",
            "_________________________________________________________________\n"
          ],
          "name": "stdout"
        }
      ]
    },
    {
      "cell_type": "markdown",
      "metadata": {
        "id": "vAzsJd7g9Oqi"
      },
      "source": [
        "### 6.b) Load Test Dataset and Prepare the Submission File"
      ]
    },
    {
      "cell_type": "code",
      "metadata": {
        "id": "U8jDH1CW9QBI",
        "colab": {
          "base_uri": "https://localhost:8080/"
        },
        "outputId": "8172e089-20f4-4198-91e4-60315105f905"
      },
      "source": [
        "dataset_path = 'https://dainesanalytics.com/datasets/kaggle-tabular-playground-2021jan/test.csv'\n",
        "df_features_test = pd.read_csv(dataset_path, index_col=False)\n",
        "\n",
        "# Take a peek at the dataframe after import\n",
        "print(df_features_test.head())"
      ],
      "execution_count": 41,
      "outputs": [
        {
          "output_type": "stream",
          "text": [
            "   id     cont1     cont2     cont3  ...    cont11    cont12    cont13    cont14\n",
            "0   0  0.353600  0.738780  0.600939  ...  0.550540  0.699134  0.286864  0.364515\n",
            "1   2  0.907222  0.189756  0.215531  ...  0.446475  0.449037  0.916964  0.513002\n",
            "2   6  0.179287  0.355353  0.623972  ...  0.211913  0.222651  0.327164  0.827941\n",
            "3   7  0.359385  0.181049  0.551368  ...  0.445276  0.518485  0.299028  0.598166\n",
            "4  10  0.335791  0.682607  0.676481  ...  0.817721  0.805895  0.790591  0.249275\n",
            "\n",
            "[5 rows x 15 columns]\n"
          ],
          "name": "stdout"
        }
      ]
    },
    {
      "cell_type": "code",
      "metadata": {
        "id": "sEys8on49SGC",
        "colab": {
          "base_uri": "https://localhost:8080/"
        },
        "outputId": "20700e06-3f26-4f1b-a3ab-75b51b632bea"
      },
      "source": [
        "df_kaggle_submission = pd.DataFrame()\n",
        "df_kaggle_submission['id'] = df_features_test['id']\n",
        "print(df_kaggle_submission.head())"
      ],
      "execution_count": 42,
      "outputs": [
        {
          "output_type": "stream",
          "text": [
            "   id\n",
            "0   0\n",
            "1   2\n",
            "2   6\n",
            "3   7\n",
            "4  10\n"
          ],
          "name": "stdout"
        }
      ]
    },
    {
      "cell_type": "code",
      "metadata": {
        "id": "M_Q32_pF9UJF",
        "colab": {
          "base_uri": "https://localhost:8080/"
        },
        "outputId": "59ebcd14-af05-4c46-e030-30f67af9ed04"
      },
      "source": [
        "# Dropping features\n",
        "df_features_test.drop(columns=['id'], inplace=True)\n",
        "\n",
        "# Take a peek at the dataframe after cleaning\n",
        "print(df_features_test.head())"
      ],
      "execution_count": 43,
      "outputs": [
        {
          "output_type": "stream",
          "text": [
            "      cont1     cont2     cont3  ...    cont12    cont13    cont14\n",
            "0  0.353600  0.738780  0.600939  ...  0.699134  0.286864  0.364515\n",
            "1  0.907222  0.189756  0.215531  ...  0.449037  0.916964  0.513002\n",
            "2  0.179287  0.355353  0.623972  ...  0.222651  0.327164  0.827941\n",
            "3  0.359385  0.181049  0.551368  ...  0.518485  0.299028  0.598166\n",
            "4  0.335791  0.682607  0.676481  ...  0.805895  0.790591  0.249275\n",
            "\n",
            "[5 rows x 14 columns]\n"
          ],
          "name": "stdout"
        }
      ]
    },
    {
      "cell_type": "code",
      "metadata": {
        "id": "9hPuYzYP9VZ9",
        "colab": {
          "base_uri": "https://localhost:8080/"
        },
        "outputId": "e84352d0-0177-4089-b906-a6aa15eb270c"
      },
      "source": [
        "# Finalize the test dataset for the modeling testing\n",
        "array_features_test = df_features_test.to_numpy()\n",
        "print(\"array_features_test.shape: {}\".format(array_features_test.shape))"
      ],
      "execution_count": 44,
      "outputs": [
        {
          "output_type": "stream",
          "text": [
            "array_features_test.shape: (200000, 14)\n"
          ],
          "name": "stdout"
        }
      ]
    },
    {
      "cell_type": "code",
      "metadata": {
        "id": "-fvgenmXwXjV",
        "colab": {
          "base_uri": "https://localhost:8080/"
        },
        "outputId": "f5fd552d-5a5a-4ca8-d96d-9983968b5888"
      },
      "source": [
        "# Make batched predictions\n",
        "test_predictions = final_model.predict(array_features_test)\n",
        "print(test_predictions)"
      ],
      "execution_count": 45,
      "outputs": [
        {
          "output_type": "stream",
          "text": [
            "[[8.080986 ]\n",
            " [7.7953553]\n",
            " [7.960967 ]\n",
            " ...\n",
            " [8.109383 ]\n",
            " [7.9833374]\n",
            " [7.875575 ]]\n"
          ],
          "name": "stdout"
        }
      ]
    },
    {
      "cell_type": "code",
      "metadata": {
        "id": "URcNcruf9r8w",
        "colab": {
          "base_uri": "https://localhost:8080/"
        },
        "outputId": "a1d076b7-33f7-465a-89d7-194a85b252a3"
      },
      "source": [
        "df_kaggle_submission['target'] = test_predictions\n",
        "print(df_kaggle_submission.head())"
      ],
      "execution_count": 46,
      "outputs": [
        {
          "output_type": "stream",
          "text": [
            "   id    target\n",
            "0   0  8.080986\n",
            "1   2  7.795355\n",
            "2   6  7.960967\n",
            "3   7  8.043534\n",
            "4  10  8.161701\n"
          ],
          "name": "stdout"
        }
      ]
    },
    {
      "cell_type": "code",
      "metadata": {
        "id": "OWRZ-ue59uM5",
        "colab": {
          "base_uri": "https://localhost:8080/"
        },
        "outputId": "d39521f8-0835-403a-ed7d-c9a745387dcc"
      },
      "source": [
        "submission_file = df_kaggle_submission.to_csv(header=True, index=False)\n",
        "filename = 'submission_' + datetime.now().strftime('%Y%m%d-%H%M') + '.csv'\n",
        "with open(filename, 'w') as f:\n",
        "    f.write(submission_file)\n",
        "    print('Completed writing output file: ' + filename)"
      ],
      "execution_count": 47,
      "outputs": [
        {
          "output_type": "stream",
          "text": [
            "Completed writing output file: submission_20210519-0254.csv\n"
          ],
          "name": "stdout"
        }
      ]
    },
    {
      "cell_type": "code",
      "metadata": {
        "id": "YB2v5Iq9wXjV"
      },
      "source": [
        "if NOTIFY_STATUS: status_notify(\"Task 5 - Finalize Model and Present Analysis completed! \"+datetime.now().strftime('%a %B %d, %Y %I:%M:%S %p'))"
      ],
      "execution_count": 48,
      "outputs": []
    },
    {
      "cell_type": "code",
      "metadata": {
        "id": "piIVF1NIwXjW",
        "colab": {
          "base_uri": "https://localhost:8080/"
        },
        "outputId": "da70d26d-6c98-43b9-96c2-0512adddfc30"
      },
      "source": [
        "print ('Total time for the script:',(datetime.now() - start_time_script))"
      ],
      "execution_count": 49,
      "outputs": [
        {
          "output_type": "stream",
          "text": [
            "Total time for the script: 2:37:38.708650\n"
          ],
          "name": "stdout"
        }
      ]
    }
  ]
}