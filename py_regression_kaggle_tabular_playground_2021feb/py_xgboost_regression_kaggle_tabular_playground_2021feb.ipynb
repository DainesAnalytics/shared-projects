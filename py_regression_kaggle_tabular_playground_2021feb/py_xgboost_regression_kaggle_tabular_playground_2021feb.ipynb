{
  "nbformat": 4,
  "nbformat_minor": 0,
  "metadata": {
    "kernelspec": {
      "display_name": "Python 3",
      "language": "python",
      "name": "python3"
    },
    "language_info": {
      "codemirror_mode": {
        "name": "ipython",
        "version": 3
      },
      "file_extension": ".py",
      "mimetype": "text/x-python",
      "name": "python",
      "nbconvert_exporter": "python",
      "pygments_lexer": "ipython3",
      "version": "3.8.8"
    },
    "colab": {
      "name": "py_xgboost_regression_kaggle_tabular_playground_2021feb.ipynb",
      "provenance": [],
      "collapsed_sections": [],
      "toc_visible": true
    },
    "accelerator": "GPU"
  },
  "cells": [
    {
      "cell_type": "markdown",
      "metadata": {
        "id": "2sQmc7MlwXit"
      },
      "source": [
        "# Regression Model for Kaggle Tabular Playground Series Feb 2021 Using Python and XGBoost\n",
        "### David Lowe\n",
        "### May 27, 2021\n",
        "\n",
        "Template Credit: Adapted from a template made available by Dr. Jason Brownlee of Machine Learning Mastery. [https://machinelearningmastery.com/]\n",
        "\n",
        "SUMMARY: This project aims to construct a predictive model using various machine learning algorithms and document the end-to-end steps using a template. The Kaggle Tabular Playground Feb 2021 dataset is a regression modeling situation where we are trying to predict the value of a continuous variable.\n",
        "\n",
        "INTRODUCTION: Kaggle wants to provide an approachable environment for relatively new people in their data science journey. Since January 2021, they have hosted playground-style competitions on Kaggle with fun but less complex, tabular datasets. The February dataset may be synthetic but is based on a real dataset and generated using a CTGAN. The original dataset tries to predict the amount of an insurance claim. Although the features are anonymized, they have properties relating to real-world features.\n",
        "\n",
        "ANALYSIS:  The performance of the preliminary XGBoost model achieved an RMSE benchmark of 0.8531. After a series of tuning trials, the refined XGBoost model processed the training dataset with a final RMSE score of 0.8434. When we applied the last model to Kaggle's test dataset, the model achieved an RMSE score of 0.8443.\n",
        "\n",
        "CONCLUSION: In this iteration, the XGBoost model appeared to be a suitable algorithm for modeling this dataset.\n",
        "\n",
        "Dataset Used: Kaggle Tabular Playground Series 2021 Feb Data Set\n",
        "\n",
        "Dataset ML Model: Regression with numerical and categorical attributes\n",
        "\n",
        "Dataset Reference: https://www.kaggle.com/c/tabular-playground-series-feb-2021\n",
        "\n",
        "One potential source of performance benchmarks: https://www.kaggle.com/c/tabular-playground-series-feb-2021/leaderboard\n",
        "\n",
        "Any predictive modeling machine learning project generally can be broken down into about six major tasks:\n",
        "\n",
        "1. Prepare Environment\n",
        "2. Summarize and Visualize Data\n",
        "3. Pre-process Data\n",
        "4. Train and Evaluate Models\n",
        "5. Fine-tune and Improve Models\n",
        "6. Finalize Model and Present Analysis"
      ]
    },
    {
      "cell_type": "markdown",
      "metadata": {
        "id": "2pu8nWBYwXi9"
      },
      "source": [
        "## Task 1 - Prepare Environment"
      ]
    },
    {
      "cell_type": "code",
      "metadata": {
        "id": "oucRIOhVwXi9"
      },
      "source": [
        "# Install the necessary packages for Colab\n",
        "# !pip install python-dotenv PyMySQL"
      ],
      "execution_count": 1,
      "outputs": []
    },
    {
      "cell_type": "code",
      "metadata": {
        "id": "tvspnMqBwXi-",
        "colab": {
          "base_uri": "https://localhost:8080/"
        },
        "outputId": "5e7a3ad5-5adb-4d9b-ed83-953e677c7bbe"
      },
      "source": [
        "# Retrieve the GPU information from Colab\n",
        "gpu_info = !nvidia-smi\n",
        "gpu_info = '\\n'.join(gpu_info)\n",
        "if gpu_info.find('failed') >= 0:\n",
        "    print('Select the Runtime → \"Change runtime type\" menu to enable a GPU accelerator, ')\n",
        "    print('and then re-execute this cell.')\n",
        "else:\n",
        "    print(gpu_info)"
      ],
      "execution_count": 2,
      "outputs": [
        {
          "output_type": "stream",
          "text": [
            "Mon May 24 20:27:10 2021       \n",
            "+-----------------------------------------------------------------------------+\n",
            "| NVIDIA-SMI 465.19.01    Driver Version: 460.32.03    CUDA Version: 11.2     |\n",
            "|-------------------------------+----------------------+----------------------+\n",
            "| GPU  Name        Persistence-M| Bus-Id        Disp.A | Volatile Uncorr. ECC |\n",
            "| Fan  Temp  Perf  Pwr:Usage/Cap|         Memory-Usage | GPU-Util  Compute M. |\n",
            "|                               |                      |               MIG M. |\n",
            "|===============================+======================+======================|\n",
            "|   0  Tesla V100-SXM2...  Off  | 00000000:00:04.0 Off |                    0 |\n",
            "| N/A   34C    P0    23W / 300W |      0MiB / 16160MiB |      0%      Default |\n",
            "|                               |                      |                  N/A |\n",
            "+-------------------------------+----------------------+----------------------+\n",
            "                                                                               \n",
            "+-----------------------------------------------------------------------------+\n",
            "| Processes:                                                                  |\n",
            "|  GPU   GI   CI        PID   Type   Process name                  GPU Memory |\n",
            "|        ID   ID                                                   Usage      |\n",
            "|=============================================================================|\n",
            "|  No running processes found                                                 |\n",
            "+-----------------------------------------------------------------------------+\n"
          ],
          "name": "stdout"
        }
      ]
    },
    {
      "cell_type": "code",
      "metadata": {
        "id": "TanXkkQxwXi-",
        "colab": {
          "base_uri": "https://localhost:8080/"
        },
        "outputId": "13032459-3305-4072-aab4-42040d1e9917"
      },
      "source": [
        "# Retrieve the memory configuration from Colab\n",
        "from psutil import virtual_memory\n",
        "ram_gb = virtual_memory().total / 1e9\n",
        "print('Your runtime has {:.1f} gigabytes of available RAM\\n'.format(ram_gb))\n",
        "\n",
        "if ram_gb < 20:\n",
        "    print('To enable a high-RAM runtime, select the Runtime → \"Change runtime type\"')\n",
        "    print('menu, and then select High-RAM in the Runtime shape dropdown. Then, ')\n",
        "    print('re-execute this cell.')\n",
        "else:\n",
        "    print('You are using a high-RAM runtime!')"
      ],
      "execution_count": 3,
      "outputs": [
        {
          "output_type": "stream",
          "text": [
            "Your runtime has 13.6 gigabytes of available RAM\n",
            "\n",
            "To enable a high-RAM runtime, select the Runtime → \"Change runtime type\"\n",
            "menu, and then select High-RAM in the Runtime shape dropdown. Then, \n",
            "re-execute this cell.\n"
          ],
          "name": "stdout"
        }
      ]
    },
    {
      "cell_type": "code",
      "metadata": {
        "id": "ZOOVxnGCwXi_",
        "colab": {
          "base_uri": "https://localhost:8080/"
        },
        "outputId": "8b3b7835-b77c-4e17-966a-a0dbafb97127"
      },
      "source": [
        "# Retrieve the CPU information\n",
        "ncpu = !nproc\n",
        "print(\"The number of available CPUs is:\", ncpu[0])"
      ],
      "execution_count": 4,
      "outputs": [
        {
          "output_type": "stream",
          "text": [
            "The number of available CPUs is: 2\n"
          ],
          "name": "stdout"
        }
      ]
    },
    {
      "cell_type": "markdown",
      "metadata": {
        "id": "6UZqFeojwXjA"
      },
      "source": [
        "### 1.a) Load libraries and modules"
      ]
    },
    {
      "cell_type": "code",
      "metadata": {
        "id": "9_ovTGbJwXjA"
      },
      "source": [
        "# Set the random seed number for reproducible results\n",
        "RNG_SEED = 888"
      ],
      "execution_count": 5,
      "outputs": []
    },
    {
      "cell_type": "code",
      "metadata": {
        "id": "vDmif-v8wXjB"
      },
      "source": [
        "import numpy as np\n",
        "import pandas as pd\n",
        "import seaborn as sns\n",
        "import matplotlib\n",
        "import matplotlib.pyplot as plt\n",
        "import os\n",
        "import sys\n",
        "import math\n",
        "from datetime import datetime\n",
        "# import boto3\n",
        "# from dotenv import load_dotenv\n",
        "from sklearn import preprocessing\n",
        "from sklearn.model_selection import train_test_split\n",
        "from sklearn.model_selection import KFold\n",
        "from sklearn.model_selection import cross_val_score\n",
        "from sklearn.model_selection import GridSearchCV\n",
        "from sklearn.metrics import mean_squared_error\n",
        "from sklearn.metrics import r2_score\n",
        "from sklearn.pipeline import Pipeline\n",
        "from sklearn import compose\n",
        "from sklearn import impute\n",
        "from xgboost import XGBRegressor"
      ],
      "execution_count": 6,
      "outputs": []
    },
    {
      "cell_type": "markdown",
      "metadata": {
        "id": "M0TRB7j0wXjB"
      },
      "source": [
        "### 1.b) Set up the controlling parameters and functions"
      ]
    },
    {
      "cell_type": "code",
      "metadata": {
        "id": "JCurALWEwXjB"
      },
      "source": [
        "# Begin the timer for the script processing\n",
        "start_time_script = datetime.now()\n",
        "\n",
        "# Set up the number of CPU cores available for multi-thread processing\n",
        "N_JOBS = 1\n",
        "\n",
        "# Set up the flag to stop sending progress emails (setting to True will send status emails!)\n",
        "NOTIFY_STATUS = False\n",
        "\n",
        "# Set the percentage sizes for splitting the dataset\n",
        "TEST_SET_SIZE = 0.2\n",
        "VAL_SET_SIZE = 0.25\n",
        "\n",
        "# Set the number of folds for cross validation\n",
        "N_FOLDS = 5\n",
        "\n",
        "# Set various default modeling parameters\n",
        "SCORING_METRIC = 'neg_mean_squared_error'\n",
        "\n",
        "# Set Pandas options\n",
        "pd.set_option(\"display.max_rows\", 500)\n",
        "pd.set_option(\"display.width\", 140)"
      ],
      "execution_count": 7,
      "outputs": []
    },
    {
      "cell_type": "code",
      "metadata": {
        "id": "IBDJ6B40wXjC"
      },
      "source": [
        "# Set up the email notification function\n",
        "def status_notify(msg_text):\n",
        "    access_key = os.environ.get('SNS_ACCESS_KEY')\n",
        "    secret_key = os.environ.get('SNS_SECRET_KEY')\n",
        "    aws_region = os.environ.get('SNS_AWS_REGION')\n",
        "    topic_arn = os.environ.get('SNS_TOPIC_ARN')\n",
        "    if (access_key is None) or (secret_key is None) or (aws_region is None):\n",
        "        sys.exit(\"Incomplete notification setup info. Script Processing Aborted!!!\")\n",
        "    sns = boto3.client('sns', aws_access_key_id=access_key, aws_secret_access_key=secret_key, region_name=aws_region)\n",
        "    response = sns.publish(TopicArn=topic_arn, Message=msg_text)\n",
        "    if response['ResponseMetadata']['HTTPStatusCode'] != 200 :\n",
        "        print('Status notification not OK with HTTP status code:', response['ResponseMetadata']['HTTPStatusCode'])"
      ],
      "execution_count": 8,
      "outputs": []
    },
    {
      "cell_type": "code",
      "metadata": {
        "id": "p2F2r8QswXjD"
      },
      "source": [
        "if NOTIFY_STATUS: status_notify(\"Task 1 - Prepare Environment has begun! \" + datetime.now().strftime('%a %B %d, %Y %I:%M:%S %p'))"
      ],
      "execution_count": 9,
      "outputs": []
    },
    {
      "cell_type": "markdown",
      "metadata": {
        "id": "yk2I_AhawXjD"
      },
      "source": [
        "### 1.c) Load dataset"
      ]
    },
    {
      "cell_type": "code",
      "metadata": {
        "id": "E7G2_4zawXjE",
        "colab": {
          "base_uri": "https://localhost:8080/"
        },
        "outputId": "b6934a28-b340-44ff-e9a4-27e16f7ffa86"
      },
      "source": [
        "dataset_path = 'https://dainesanalytics.com/datasets/kaggle-tabular-playground-2021feb/train.csv'\n",
        "df_dataset_import = pd.read_csv(dataset_path, index_col=False)\n",
        "\n",
        "# Take a peek at the dataframe after import\n",
        "print(df_dataset_import.head())"
      ],
      "execution_count": 10,
      "outputs": [
        {
          "output_type": "stream",
          "text": [
            "   id cat0 cat1 cat2 cat3  ...    cont10    cont11    cont12    cont13    target\n",
            "0   1    A    B    A    A  ...  0.724417  0.701915  0.877618  0.719903  6.994023\n",
            "1   2    B    A    A    A  ...  0.613252  0.741289  0.326679  0.808464  8.071256\n",
            "2   3    A    A    A    C  ...  0.264104  0.695561  0.869133  0.828352  5.760456\n",
            "3   4    A    A    A    C  ...  0.494269  0.698125  0.809799  0.614766  7.806457\n",
            "4   6    A    B    A    A  ...  0.724447  0.683073  0.343457  0.297743  6.868974\n",
            "\n",
            "[5 rows x 26 columns]\n"
          ],
          "name": "stdout"
        }
      ]
    },
    {
      "cell_type": "code",
      "metadata": {
        "id": "3dl-LDdfwXjE",
        "colab": {
          "base_uri": "https://localhost:8080/"
        },
        "outputId": "b6336dc6-ecd1-4163-d2bd-cca91c36e0b4"
      },
      "source": [
        "df_dataset_import.info(verbose=True)"
      ],
      "execution_count": 11,
      "outputs": [
        {
          "output_type": "stream",
          "text": [
            "<class 'pandas.core.frame.DataFrame'>\n",
            "RangeIndex: 300000 entries, 0 to 299999\n",
            "Data columns (total 26 columns):\n",
            " #   Column  Non-Null Count   Dtype  \n",
            "---  ------  --------------   -----  \n",
            " 0   id      300000 non-null  int64  \n",
            " 1   cat0    300000 non-null  object \n",
            " 2   cat1    300000 non-null  object \n",
            " 3   cat2    300000 non-null  object \n",
            " 4   cat3    300000 non-null  object \n",
            " 5   cat4    300000 non-null  object \n",
            " 6   cat5    300000 non-null  object \n",
            " 7   cat6    300000 non-null  object \n",
            " 8   cat7    300000 non-null  object \n",
            " 9   cat8    300000 non-null  object \n",
            " 10  cat9    300000 non-null  object \n",
            " 11  cont0   300000 non-null  float64\n",
            " 12  cont1   300000 non-null  float64\n",
            " 13  cont2   300000 non-null  float64\n",
            " 14  cont3   300000 non-null  float64\n",
            " 15  cont4   300000 non-null  float64\n",
            " 16  cont5   300000 non-null  float64\n",
            " 17  cont6   300000 non-null  float64\n",
            " 18  cont7   300000 non-null  float64\n",
            " 19  cont8   300000 non-null  float64\n",
            " 20  cont9   300000 non-null  float64\n",
            " 21  cont10  300000 non-null  float64\n",
            " 22  cont11  300000 non-null  float64\n",
            " 23  cont12  300000 non-null  float64\n",
            " 24  cont13  300000 non-null  float64\n",
            " 25  target  300000 non-null  float64\n",
            "dtypes: float64(15), int64(1), object(10)\n",
            "memory usage: 59.5+ MB\n"
          ],
          "name": "stdout"
        }
      ]
    },
    {
      "cell_type": "code",
      "metadata": {
        "id": "3eB_rvlwwXjF",
        "colab": {
          "base_uri": "https://localhost:8080/"
        },
        "outputId": "adc36b73-a952-4cbc-911b-c473a4cfebb0"
      },
      "source": [
        "print(df_dataset_import.describe(include='all'))"
      ],
      "execution_count": 12,
      "outputs": [
        {
          "output_type": "stream",
          "text": [
            "                   id    cat0  ...         cont13         target\n",
            "count   300000.000000  300000  ...  300000.000000  300000.000000\n",
            "unique            NaN       2  ...            NaN            NaN\n",
            "top               NaN       A  ...            NaN            NaN\n",
            "freq              NaN  281471  ...            NaN            NaN\n",
            "mean    250018.576947     NaN  ...       0.503349       7.456260\n",
            "std     144450.150010     NaN  ...       0.225218       0.887295\n",
            "min          1.000000     NaN  ...       0.158121       0.000000\n",
            "25%     124772.500000     NaN  ...       0.291289       6.798341\n",
            "50%     250002.500000     NaN  ...       0.433909       7.496503\n",
            "75%     375226.500000     NaN  ...       0.730870       8.161166\n",
            "max     499999.000000     NaN  ...       0.873579      10.309208\n",
            "\n",
            "[11 rows x 26 columns]\n"
          ],
          "name": "stdout"
        }
      ]
    },
    {
      "cell_type": "code",
      "metadata": {
        "id": "SRyVb81UwXjF",
        "colab": {
          "base_uri": "https://localhost:8080/"
        },
        "outputId": "8a5815ae-548f-48b8-e816-dde89c370d4d"
      },
      "source": [
        "print(df_dataset_import.isnull().sum())\n",
        "print('Total number of NaN in the dataframe: ', df_dataset_import.isnull().sum().sum())"
      ],
      "execution_count": 13,
      "outputs": [
        {
          "output_type": "stream",
          "text": [
            "id        0\n",
            "cat0      0\n",
            "cat1      0\n",
            "cat2      0\n",
            "cat3      0\n",
            "cat4      0\n",
            "cat5      0\n",
            "cat6      0\n",
            "cat7      0\n",
            "cat8      0\n",
            "cat9      0\n",
            "cont0     0\n",
            "cont1     0\n",
            "cont2     0\n",
            "cont3     0\n",
            "cont4     0\n",
            "cont5     0\n",
            "cont6     0\n",
            "cont7     0\n",
            "cont8     0\n",
            "cont9     0\n",
            "cont10    0\n",
            "cont11    0\n",
            "cont12    0\n",
            "cont13    0\n",
            "target    0\n",
            "dtype: int64\n",
            "Total number of NaN in the dataframe:  0\n"
          ],
          "name": "stdout"
        }
      ]
    },
    {
      "cell_type": "markdown",
      "metadata": {
        "id": "wfaoKiSdwXjG"
      },
      "source": [
        "### 1.d) Data Cleaning"
      ]
    },
    {
      "cell_type": "code",
      "metadata": {
        "id": "KujRTYu5wXjG",
        "colab": {
          "base_uri": "https://localhost:8080/"
        },
        "outputId": "8b520ef4-3627-4804-c84e-d2a63f7f2136"
      },
      "source": [
        "# Dropping features\n",
        "df_dataset_import.drop(columns=['id'], inplace=True)\n",
        "\n",
        "# Take a peek at the dataframe after cleaning\n",
        "print(df_dataset_import.head())"
      ],
      "execution_count": 14,
      "outputs": [
        {
          "output_type": "stream",
          "text": [
            "  cat0 cat1 cat2 cat3 cat4  ...    cont10    cont11    cont12    cont13    target\n",
            "0    A    B    A    A    B  ...  0.724417  0.701915  0.877618  0.719903  6.994023\n",
            "1    B    A    A    A    B  ...  0.613252  0.741289  0.326679  0.808464  8.071256\n",
            "2    A    A    A    C    B  ...  0.264104  0.695561  0.869133  0.828352  5.760456\n",
            "3    A    A    A    C    B  ...  0.494269  0.698125  0.809799  0.614766  7.806457\n",
            "4    A    B    A    A    B  ...  0.724447  0.683073  0.343457  0.297743  6.868974\n",
            "\n",
            "[5 rows x 25 columns]\n"
          ],
          "name": "stdout"
        }
      ]
    },
    {
      "cell_type": "code",
      "metadata": {
        "id": "ZprOE1B0wXjH",
        "colab": {
          "base_uri": "https://localhost:8080/"
        },
        "outputId": "6689df09-b695-4a8d-944a-3dae5fcfcc73"
      },
      "source": [
        "df_dataset_import.info(verbose=True)"
      ],
      "execution_count": 15,
      "outputs": [
        {
          "output_type": "stream",
          "text": [
            "<class 'pandas.core.frame.DataFrame'>\n",
            "RangeIndex: 300000 entries, 0 to 299999\n",
            "Data columns (total 25 columns):\n",
            " #   Column  Non-Null Count   Dtype  \n",
            "---  ------  --------------   -----  \n",
            " 0   cat0    300000 non-null  object \n",
            " 1   cat1    300000 non-null  object \n",
            " 2   cat2    300000 non-null  object \n",
            " 3   cat3    300000 non-null  object \n",
            " 4   cat4    300000 non-null  object \n",
            " 5   cat5    300000 non-null  object \n",
            " 6   cat6    300000 non-null  object \n",
            " 7   cat7    300000 non-null  object \n",
            " 8   cat8    300000 non-null  object \n",
            " 9   cat9    300000 non-null  object \n",
            " 10  cont0   300000 non-null  float64\n",
            " 11  cont1   300000 non-null  float64\n",
            " 12  cont2   300000 non-null  float64\n",
            " 13  cont3   300000 non-null  float64\n",
            " 14  cont4   300000 non-null  float64\n",
            " 15  cont5   300000 non-null  float64\n",
            " 16  cont6   300000 non-null  float64\n",
            " 17  cont7   300000 non-null  float64\n",
            " 18  cont8   300000 non-null  float64\n",
            " 19  cont9   300000 non-null  float64\n",
            " 20  cont10  300000 non-null  float64\n",
            " 21  cont11  300000 non-null  float64\n",
            " 22  cont12  300000 non-null  float64\n",
            " 23  cont13  300000 non-null  float64\n",
            " 24  target  300000 non-null  float64\n",
            "dtypes: float64(15), object(10)\n",
            "memory usage: 57.2+ MB\n"
          ],
          "name": "stdout"
        }
      ]
    },
    {
      "cell_type": "code",
      "metadata": {
        "id": "QgyI5VZ1wXjH",
        "colab": {
          "base_uri": "https://localhost:8080/"
        },
        "outputId": "0e1fb8a7-ac14-44b6-c379-bebc9ca3dd1f"
      },
      "source": [
        "print(df_dataset_import.describe(include='all'))"
      ],
      "execution_count": 16,
      "outputs": [
        {
          "output_type": "stream",
          "text": [
            "          cat0    cat1    cat2  ...         cont12         cont13         target\n",
            "count   300000  300000  300000  ...  300000.000000  300000.000000  300000.000000\n",
            "unique       2       2       2  ...            NaN            NaN            NaN\n",
            "top          A       A       A  ...            NaN            NaN            NaN\n",
            "freq    281471  162678  276551  ...            NaN            NaN            NaN\n",
            "mean       NaN     NaN     NaN  ...       0.524549       0.503349       7.456260\n",
            "std        NaN     NaN     NaN  ...       0.220892       0.225218       0.887295\n",
            "min        NaN     NaN     NaN  ...      -0.005600       0.158121       0.000000\n",
            "25%        NaN     NaN     NaN  ...       0.332143       0.291289       6.798341\n",
            "50%        NaN     NaN     NaN  ...       0.407365       0.433909       7.496503\n",
            "75%        NaN     NaN     NaN  ...       0.732431       0.730870       8.161166\n",
            "max        NaN     NaN     NaN  ...       0.961370       0.873579      10.309208\n",
            "\n",
            "[11 rows x 25 columns]\n"
          ],
          "name": "stdout"
        }
      ]
    },
    {
      "cell_type": "code",
      "metadata": {
        "id": "wz9iKsUswXjI",
        "colab": {
          "base_uri": "https://localhost:8080/"
        },
        "outputId": "ae83fb39-9dfb-4213-ce51-900533709f4e"
      },
      "source": [
        "print(df_dataset_import.isnull().sum())\n",
        "print('Total number of NaN in the dataframe: ', df_dataset_import.isnull().sum().sum())"
      ],
      "execution_count": 17,
      "outputs": [
        {
          "output_type": "stream",
          "text": [
            "cat0      0\n",
            "cat1      0\n",
            "cat2      0\n",
            "cat3      0\n",
            "cat4      0\n",
            "cat5      0\n",
            "cat6      0\n",
            "cat7      0\n",
            "cat8      0\n",
            "cat9      0\n",
            "cont0     0\n",
            "cont1     0\n",
            "cont2     0\n",
            "cont3     0\n",
            "cont4     0\n",
            "cont5     0\n",
            "cont6     0\n",
            "cont7     0\n",
            "cont8     0\n",
            "cont9     0\n",
            "cont10    0\n",
            "cont11    0\n",
            "cont12    0\n",
            "cont13    0\n",
            "target    0\n",
            "dtype: int64\n",
            "Total number of NaN in the dataframe:  0\n"
          ],
          "name": "stdout"
        }
      ]
    },
    {
      "cell_type": "markdown",
      "metadata": {
        "id": "0ZBQ1s2bwXjI"
      },
      "source": [
        "### 1.e) Splitting Data into Sets"
      ]
    },
    {
      "cell_type": "code",
      "metadata": {
        "id": "QNydPt1uwXjI"
      },
      "source": [
        "# Use variable total_column_count to hold the number of columns in the dataframe\n",
        "total_column_count = len(df_dataset_import.columns)\n",
        "\n",
        "# Set up variable total_feature_count for the total number of attribute columns\n",
        "total_feature_count = total_column_count-1\n",
        "\n",
        "# target_column_position variable indicates the column location of the target/class variable\n",
        "# If the first column, set target_column_position to 1. If the last column, set target_column_position to total_column_count\n",
        "# If (target_column_position <> 1) and (target_column_position <> total_column_count), be aware when slicing up the dataframes for visualization\n",
        "target_column_position = total_column_count"
      ],
      "execution_count": 18,
      "outputs": []
    },
    {
      "cell_type": "code",
      "metadata": {
        "id": "rseM1Ef3wXjJ",
        "colab": {
          "base_uri": "https://localhost:8080/"
        },
        "outputId": "93411c81-2984-44e3-b4f3-353efa84bffc"
      },
      "source": [
        "# We create attribute-only and target-only datasets (df_features_train and df_target_train)\n",
        "# for various visualization and cleaning/transformation operations\n",
        "\n",
        "if target_column_position == total_column_count:\n",
        "    df_features_train = df_dataset_import.iloc[:,0:total_feature_count]\n",
        "    df_target_train = df_dataset_import.iloc[:,total_feature_count]\n",
        "else:\n",
        "    df_features_train = df_dataset_import.iloc[:,1:total_column_count]\n",
        "    df_target_train = df_dataset_import.iloc[:,0]\n",
        "\n",
        "print(\"df_dataset_import.shape: {} df_features_train.shape: {} df_target_train.shape: {}\".format(df_dataset_import.shape, df_features_train.shape, df_target_train.shape))"
      ],
      "execution_count": 19,
      "outputs": [
        {
          "output_type": "stream",
          "text": [
            "df_dataset_import.shape: (300000, 25) df_features_train.shape: (300000, 24) df_target_train.shape: (300000,)\n"
          ],
          "name": "stdout"
        }
      ]
    },
    {
      "cell_type": "markdown",
      "metadata": {
        "id": "VKU_2CL74vh-"
      },
      "source": [
        "### 1.f) Set up the parameters for data visualization"
      ]
    },
    {
      "cell_type": "code",
      "metadata": {
        "id": "7D9OChW94yP0"
      },
      "source": [
        "# Set up the number of row and columns for visualization display. display_rows * display_columns should be >= total_feature_count\n",
        "display_columns = 4\n",
        "if total_feature_count % display_columns == 0 :\n",
        "    display_rows = total_feature_count // display_columns\n",
        "else :\n",
        "    display_rows = (total_feature_count // display_columns) + 1\n",
        "    \n",
        "# Set figure width to display the data visualization plots\n",
        "fig_size = plt.rcParams[\"figure.figsize\"]\n",
        "fig_size[0] = display_columns * 4\n",
        "fig_size[1] = display_rows * 4\n",
        "plt.rcParams[\"figure.figsize\"] = fig_size"
      ],
      "execution_count": 20,
      "outputs": []
    },
    {
      "cell_type": "code",
      "metadata": {
        "id": "YLRgAYnMwXjJ"
      },
      "source": [
        "if NOTIFY_STATUS: status_notify(\"Task 1 - Prepare Environment completed! \"+datetime.now().strftime('%a %B %d, %Y %I:%M:%S %p'))"
      ],
      "execution_count": 21,
      "outputs": []
    },
    {
      "cell_type": "markdown",
      "metadata": {
        "id": "ZivQJCZowXjK"
      },
      "source": [
        "## Task 2 - Summarize and Visualize Data"
      ]
    },
    {
      "cell_type": "code",
      "metadata": {
        "id": "F5H90pxZwXjK"
      },
      "source": [
        "if NOTIFY_STATUS: status_notify(\"Task 2 - Summarize and Visualize Data has begun! \"+datetime.now().strftime('%a %B %d, %Y %I:%M:%S %p'))"
      ],
      "execution_count": 22,
      "outputs": []
    },
    {
      "cell_type": "code",
      "metadata": {
        "scrolled": true,
        "id": "OBhr7SGRwXjK",
        "colab": {
          "base_uri": "https://localhost:8080/",
          "height": 905
        },
        "outputId": "31a457ce-c003-462e-f987-84ce8a1b7715"
      },
      "source": [
        "# Histograms for each attribute\n",
        "df_features_train.plot(kind='hist', subplots=True, layout=(display_rows, display_columns))\n",
        "plt.show()"
      ],
      "execution_count": 23,
      "outputs": [
        {
          "output_type": "display_data",
          "data": {
            "image/png": "[encoded data removed]",
            "text/plain": [
              "<Figure size 1152x1728 with 24 Axes>"
            ]
          },
          "metadata": {
            "tags": [],
            "needs_background": "light"
          }
        }
      ]
    },
    {
      "cell_type": "code",
      "metadata": {
        "id": "NHtCofAgwXjL",
        "colab": {
          "base_uri": "https://localhost:8080/",
          "height": 905
        },
        "outputId": "78992b4e-3665-4585-ec8e-ca74021b4be7"
      },
      "source": [
        "# Box and Whisker plot for each attribute\n",
        "df_features_train.plot(kind='box', subplots=True, layout=(display_rows, display_columns))\n",
        "plt.show()"
      ],
      "execution_count": 24,
      "outputs": [
        {
          "output_type": "display_data",
          "data": {
            "image/png": "[encoded data removed]",
            "text/plain": [
              "<Figure size 1152x1728 with 24 Axes>"
            ]
          },
          "metadata": {
            "tags": [],
            "needs_background": "light"
          }
        }
      ]
    },
    {
      "cell_type": "code",
      "metadata": {
        "id": "HXUm5_nkwXjL",
        "colab": {
          "base_uri": "https://localhost:8080/",
          "height": 1000
        },
        "outputId": "7b8ff13d-3396-4f92-c53e-dd1d51e9c912"
      },
      "source": [
        "# Correlation matrix\n",
        "fig = plt.figure(figsize=(20, 20))\n",
        "correlations = df_features_train.corr(method='pearson')\n",
        "sns.heatmap(correlations, annot=True, cmap=plt.cm.PuBu)\n",
        "plt.show()"
      ],
      "execution_count": 25,
      "outputs": [
        {
          "output_type": "display_data",
          "data": {
            "image/png": "[encoded data removed]",
            "text/plain": [
              "<Figure size 1440x1440 with 2 Axes>"
            ]
          },
          "metadata": {
            "tags": [],
            "needs_background": "light"
          }
        }
      ]
    },
    {
      "cell_type": "code",
      "metadata": {
        "id": "yHcRjiadwXjL"
      },
      "source": [
        "if NOTIFY_STATUS: status_notify(\"Task 2 - Summarize and Visualize Data completed! \"+datetime.now().strftime('%a %B %d, %Y %I:%M:%S %p'))"
      ],
      "execution_count": 26,
      "outputs": []
    },
    {
      "cell_type": "markdown",
      "metadata": {
        "id": "-8rH-HXuwXjM"
      },
      "source": [
        "## Task 3 - Pre-process Data"
      ]
    },
    {
      "cell_type": "code",
      "metadata": {
        "id": "UnD36SUzwXjM"
      },
      "source": [
        "if NOTIFY_STATUS: status_notify(\"Task 3 - Pre-process Data has begun! \"+datetime.now().strftime('%a %B %d, %Y %I:%M:%S %p'))"
      ],
      "execution_count": 27,
      "outputs": []
    },
    {
      "cell_type": "markdown",
      "metadata": {
        "id": "cozmoI-z6GPK"
      },
      "source": [
        "### 3.a) Splitting Data into Training and Test Sets"
      ]
    },
    {
      "cell_type": "code",
      "metadata": {
        "id": "AI2yMOlA6PwG"
      },
      "source": [
        "# Not applicable for this iteration of the project"
      ],
      "execution_count": 28,
      "outputs": []
    },
    {
      "cell_type": "markdown",
      "metadata": {
        "id": "R8kdIf_lwXjM"
      },
      "source": [
        "### 3.b) Feature Scaling and Data Pre-Processing"
      ]
    },
    {
      "cell_type": "code",
      "metadata": {
        "id": "aX6sb-howXjM",
        "colab": {
          "base_uri": "https://localhost:8080/"
        },
        "outputId": "2e49b78b-ed57-4bff-80dd-877b745d74ab"
      },
      "source": [
        "# Compose pipeline for the numerical and categorical features (Block #1 of 2)\n",
        "numeric_columns = df_features_train.select_dtypes(include=['int64','float64']).columns\n",
        "numeric_transformer = Pipeline(steps=[\n",
        "    ('imputer', impute.SimpleImputer(strategy='constant', fill_value=0))\n",
        "#     ('scaler', preprocessing.StandardScaler())\n",
        "])\n",
        "categorical_columns = df_features_train.select_dtypes(include=['object','bool']).columns\n",
        "categorical_transformer = Pipeline(steps=[\n",
        "#     ('imputer', impute.SimpleImputer(strategy='constant', fill_value='NA')),\n",
        "    ('onehot', preprocessing.OneHotEncoder(sparse=False, handle_unknown='ignore'))\n",
        "])\n",
        "\n",
        "print(\"Number of numerical columns:\", len(numeric_columns))\n",
        "print(\"Number of categorical columns:\", len(categorical_columns))\n",
        "print(\"Total number of columns in the feature dataframe:\", df_features_train.shape[1])"
      ],
      "execution_count": 29,
      "outputs": [
        {
          "output_type": "stream",
          "text": [
            "Number of numerical columns: 14\n",
            "Number of categorical columns: 10\n",
            "Total number of columns in the feature dataframe: 24\n"
          ],
          "name": "stdout"
        }
      ]
    },
    {
      "cell_type": "code",
      "metadata": {
        "colab": {
          "base_uri": "https://localhost:8080/"
        },
        "id": "iqp7LkIj0yqG",
        "outputId": "d6497ac7-95e6-4784-feb9-f9d41632dfb8"
      },
      "source": [
        "# Compose pipeline for the numerical and categorical features (Block #2 of 2)\n",
        "preprocessor = compose.ColumnTransformer(transformers=[\n",
        "    ('num', numeric_transformer, numeric_columns),\n",
        "    ('cat', categorical_transformer, categorical_columns)\n",
        "])\n",
        "\n",
        "# Display the shapes of the training dataset for final inspection\n",
        "array_features_train = preprocessor.fit_transform(df_features_train)\n",
        "print(\"Transformed features from df_features_train.shape: {} to array_features_train.shape: {}\".format(df_features_train.shape, array_features_train.shape))"
      ],
      "execution_count": 30,
      "outputs": [
        {
          "output_type": "stream",
          "text": [
            "Transformed features from df_features_train.shape: (300000, 24) to array_features_train.shape: (300000, 70)\n"
          ],
          "name": "stdout"
        }
      ]
    },
    {
      "cell_type": "markdown",
      "metadata": {
        "id": "s9jShFtuwXjN"
      },
      "source": [
        "### 3.c) Training Data Balancing"
      ]
    },
    {
      "cell_type": "code",
      "metadata": {
        "id": "RbmwSe3HwXjN"
      },
      "source": [
        "# Not applicable for this iteration of the project"
      ],
      "execution_count": 31,
      "outputs": []
    },
    {
      "cell_type": "markdown",
      "metadata": {
        "id": "wR_s0wbywXjO"
      },
      "source": [
        "### 3.d) Feature Selection"
      ]
    },
    {
      "cell_type": "code",
      "metadata": {
        "id": "HKxw-seZwXjO"
      },
      "source": [
        "# Not applicable for this iteration of the project"
      ],
      "execution_count": 32,
      "outputs": []
    },
    {
      "cell_type": "markdown",
      "metadata": {
        "id": "_5FtDxaSwXjR"
      },
      "source": [
        "### 3.e) Display the Final Datasets for Model-Building"
      ]
    },
    {
      "cell_type": "code",
      "metadata": {
        "id": "QY2ulFc8wXjR",
        "colab": {
          "base_uri": "https://localhost:8080/"
        },
        "outputId": "8d8e0fd0-b8ed-44e4-e238-7a0a362acc39"
      },
      "source": [
        "# Finalize the training and validation datasets for the modeling activities\n",
        "# array_features_train = df_features_train.to_numpy()\n",
        "array_target_train = df_target_train.ravel()\n",
        "print(\"array_features_train.shape: {} array_target_train.shape: {}\".format(array_features_train.shape, array_target_train.shape))"
      ],
      "execution_count": 33,
      "outputs": [
        {
          "output_type": "stream",
          "text": [
            "array_features_train.shape: (300000, 70) array_target_train.shape: (300000,)\n"
          ],
          "name": "stdout"
        }
      ]
    },
    {
      "cell_type": "code",
      "metadata": {
        "id": "CjUzjvmqwXjS"
      },
      "source": [
        "if NOTIFY_STATUS: status_notify(\"Task 3 - Pre-process Data completed! \"+datetime.now().strftime('%a %B %d, %Y %I:%M:%S %p'))"
      ],
      "execution_count": 34,
      "outputs": []
    },
    {
      "cell_type": "markdown",
      "metadata": {
        "id": "wSgdTHFAwXjS"
      },
      "source": [
        "## Task 4 - Train and Evaluate Models"
      ]
    },
    {
      "cell_type": "code",
      "metadata": {
        "id": "GWRUUYN6wXjS"
      },
      "source": [
        "if NOTIFY_STATUS: status_notify(\"Task 4 - Train and Evaluate Models has begun! \"+datetime.now().strftime('%a %B %d, %Y %I:%M:%S %p'))"
      ],
      "execution_count": 35,
      "outputs": []
    },
    {
      "cell_type": "markdown",
      "metadata": {
        "id": "y8gX4SKSwXjS"
      },
      "source": [
        "### 4.a) Set test options and evaluation metric"
      ]
    },
    {
      "cell_type": "code",
      "metadata": {
        "id": "iEONmnizwXjS"
      },
      "source": [
        "# Set up Algorithms Spot-Checking Array\n",
        "start_time_module = datetime.now()\n",
        "train_models = [('XGB', XGBRegressor(random_state=RNG_SEED, n_jobs=N_JOBS, objective='reg:squarederror', tree_method='gpu_hist'))]"
      ],
      "execution_count": 36,
      "outputs": []
    },
    {
      "cell_type": "code",
      "metadata": {
        "id": "EqvO-REawXjS",
        "colab": {
          "base_uri": "https://localhost:8080/"
        },
        "outputId": "5c0fa8ad-7bac-4eb7-b181-67ca18d1e8bc"
      },
      "source": [
        "# Generate model in turn\n",
        "for name, model in train_models:\n",
        "\tif NOTIFY_STATUS: status_notify(\"Algorithm \"+name+\" modeling has begun! \"+datetime.now().strftime('%a %B %d, %Y %I:%M:%S %p'))\n",
        "\tstart_time_module = datetime.now()\n",
        "\tkfold = KFold(n_splits=N_FOLDS, shuffle=True, random_state=RNG_SEED)\n",
        "\tcv_results = cross_val_score(model, array_features_train, array_target_train, cv=kfold, scoring=SCORING_METRIC, n_jobs=N_JOBS, verbose=1)\n",
        "\tprint(\"%s: %f (%f)\" % (name, cv_results.mean(), cv_results.std()))\n",
        "\tprint(model)\n",
        "\tprint ('Model training time:', (datetime.now() - start_time_module))\n",
        "\tprint ('RMSE for the model is:', math.sqrt((np.mean(cv_results.mean())*-1)))\n",
        "\tif NOTIFY_STATUS: status_notify(\"Algorithm \"+name+\" modeling completed! \"+datetime.now().strftime('%a %B %d, %Y %I:%M:%S %p'))"
      ],
      "execution_count": 37,
      "outputs": [
        {
          "output_type": "stream",
          "text": [
            "[Parallel(n_jobs=1)]: Using backend SequentialBackend with 1 concurrent workers.\n"
          ],
          "name": "stderr"
        },
        {
          "output_type": "stream",
          "text": [
            "XGB: -0.727821 (0.006872)\n",
            "XGBRegressor(base_score=0.5, booster='gbtree', colsample_bylevel=1,\n",
            "             colsample_bynode=1, colsample_bytree=1, gamma=0,\n",
            "             importance_type='gain', learning_rate=0.1, max_delta_step=0,\n",
            "             max_depth=3, min_child_weight=1, missing=None, n_estimators=100,\n",
            "             n_jobs=1, nthread=None, objective='reg:squarederror',\n",
            "             random_state=888, reg_alpha=0, reg_lambda=1, scale_pos_weight=1,\n",
            "             seed=None, silent=None, subsample=1, tree_method='gpu_hist',\n",
            "             verbosity=1)\n",
            "Model training time: 0:00:07.775855\n",
            "RMSE for the model is: 0.8531245493700672\n"
          ],
          "name": "stdout"
        },
        {
          "output_type": "stream",
          "text": [
            "[Parallel(n_jobs=1)]: Done   5 out of   5 | elapsed:    7.8s finished\n"
          ],
          "name": "stderr"
        }
      ]
    },
    {
      "cell_type": "markdown",
      "metadata": {
        "id": "AV0m0APywXjT"
      },
      "source": [
        "### 4.b) Algorithm Tuning"
      ]
    },
    {
      "cell_type": "code",
      "metadata": {
        "id": "0sxQaDPtwXjT"
      },
      "source": [
        "# Set up the comparison array\n",
        "tune_results = []\n",
        "tune_model_names = []"
      ],
      "execution_count": 38,
      "outputs": []
    },
    {
      "cell_type": "code",
      "metadata": {
        "id": "hGeS5WhZwXjT",
        "colab": {
          "base_uri": "https://localhost:8080/"
        },
        "outputId": "a54bc1ca-292d-4c0b-b421-e643bbde5248"
      },
      "source": [
        "# Tuning XGBoost n_estimators, max_depth, and min_child_weight parameters\n",
        "start_time_module = datetime.now()\n",
        "if NOTIFY_STATUS: status_notify(\"Algorithm tuning iteration #1 has begun! \"+datetime.now().strftime('%a %B %d, %Y %I:%M:%S %p'))\n",
        "\n",
        "tune_model1 = XGBRegressor(random_state=RNG_SEED, n_jobs=N_JOBS, objective='reg:squarederror', tree_method='gpu_hist')\n",
        "tune_model_names.append('XGB_1')\n",
        "paramGrid1 = dict(n_estimators=range(500, 1001, 100),\n",
        "                  max_depth=np.array([3, 6, 9]),\n",
        "                  min_child_weight=np.array([3, 4, 5]))\n",
        "\n",
        "kfold = KFold(n_splits=N_FOLDS, shuffle=True, random_state=RNG_SEED)\n",
        "grid1 = GridSearchCV(estimator=tune_model1, param_grid=paramGrid1, scoring=SCORING_METRIC, cv=kfold, n_jobs=N_JOBS, verbose=1)\n",
        "grid_result1 = grid1.fit(array_features_train, array_target_train)\n",
        "\n",
        "print(\"Best: %f using %s\" % (grid_result1.best_score_, grid_result1.best_params_))\n",
        "tune_results.append(grid_result1.cv_results_['mean_test_score'])\n",
        "means = grid_result1.cv_results_['mean_test_score']\n",
        "stds = grid_result1.cv_results_['std_test_score']\n",
        "params = grid_result1.cv_results_['params']\n",
        "for mean, stdev, param in zip(means, stds, params):\n",
        "    print(\"%f (%f) with: %r\" % (mean, stdev, param))\n",
        "print ('Best RMSE from all models is:', math.sqrt((np.mean(grid_result1.best_score_)*-1)))\n",
        "print ('Model training time:',(datetime.now() - start_time_module))\n",
        "if NOTIFY_STATUS: status_notify(\"Algorithm tuning iteration #1 completed! \"+datetime.now().strftime('%a %B %d, %Y %I:%M:%S %p'))"
      ],
      "execution_count": 39,
      "outputs": [
        {
          "output_type": "stream",
          "text": [
            "[Parallel(n_jobs=1)]: Using backend SequentialBackend with 1 concurrent workers.\n"
          ],
          "name": "stderr"
        },
        {
          "output_type": "stream",
          "text": [
            "Fitting 5 folds for each of 54 candidates, totalling 270 fits\n"
          ],
          "name": "stdout"
        },
        {
          "output_type": "stream",
          "text": [
            "[Parallel(n_jobs=1)]: Done 270 out of 270 | elapsed: 61.8min finished\n"
          ],
          "name": "stderr"
        },
        {
          "output_type": "stream",
          "text": [
            "Best: -0.711781 using {'max_depth': 3, 'min_child_weight': 4, 'n_estimators': 1000}\n",
            "-0.713110 (0.006379) with: {'max_depth': 3, 'min_child_weight': 3, 'n_estimators': 500}\n",
            "-0.712509 (0.006275) with: {'max_depth': 3, 'min_child_weight': 3, 'n_estimators': 600}\n",
            "-0.712100 (0.006230) with: {'max_depth': 3, 'min_child_weight': 3, 'n_estimators': 700}\n",
            "-0.712005 (0.006123) with: {'max_depth': 3, 'min_child_weight': 3, 'n_estimators': 800}\n",
            "-0.711919 (0.006070) with: {'max_depth': 3, 'min_child_weight': 3, 'n_estimators': 900}\n",
            "-0.711895 (0.006061) with: {'max_depth': 3, 'min_child_weight': 3, 'n_estimators': 1000}\n",
            "-0.713096 (0.006385) with: {'max_depth': 3, 'min_child_weight': 4, 'n_estimators': 500}\n",
            "-0.712466 (0.006286) with: {'max_depth': 3, 'min_child_weight': 4, 'n_estimators': 600}\n",
            "-0.712054 (0.006230) with: {'max_depth': 3, 'min_child_weight': 4, 'n_estimators': 700}\n",
            "-0.711830 (0.006148) with: {'max_depth': 3, 'min_child_weight': 4, 'n_estimators': 800}\n",
            "-0.711782 (0.006109) with: {'max_depth': 3, 'min_child_weight': 4, 'n_estimators': 900}\n",
            "-0.711781 (0.006091) with: {'max_depth': 3, 'min_child_weight': 4, 'n_estimators': 1000}\n",
            "-0.713200 (0.006328) with: {'max_depth': 3, 'min_child_weight': 5, 'n_estimators': 500}\n",
            "-0.712477 (0.006243) with: {'max_depth': 3, 'min_child_weight': 5, 'n_estimators': 600}\n",
            "-0.712175 (0.006222) with: {'max_depth': 3, 'min_child_weight': 5, 'n_estimators': 700}\n",
            "-0.711949 (0.006072) with: {'max_depth': 3, 'min_child_weight': 5, 'n_estimators': 800}\n",
            "-0.711856 (0.006071) with: {'max_depth': 3, 'min_child_weight': 5, 'n_estimators': 900}\n",
            "-0.711827 (0.006103) with: {'max_depth': 3, 'min_child_weight': 5, 'n_estimators': 1000}\n",
            "-0.716609 (0.005708) with: {'max_depth': 6, 'min_child_weight': 3, 'n_estimators': 500}\n",
            "-0.717875 (0.005735) with: {'max_depth': 6, 'min_child_weight': 3, 'n_estimators': 600}\n",
            "-0.719291 (0.005617) with: {'max_depth': 6, 'min_child_weight': 3, 'n_estimators': 700}\n",
            "-0.720632 (0.005584) with: {'max_depth': 6, 'min_child_weight': 3, 'n_estimators': 800}\n",
            "-0.721943 (0.005610) with: {'max_depth': 6, 'min_child_weight': 3, 'n_estimators': 900}\n",
            "-0.723283 (0.005565) with: {'max_depth': 6, 'min_child_weight': 3, 'n_estimators': 1000}\n",
            "-0.716754 (0.005915) with: {'max_depth': 6, 'min_child_weight': 4, 'n_estimators': 500}\n",
            "-0.718068 (0.005683) with: {'max_depth': 6, 'min_child_weight': 4, 'n_estimators': 600}\n",
            "-0.719421 (0.005746) with: {'max_depth': 6, 'min_child_weight': 4, 'n_estimators': 700}\n",
            "-0.720755 (0.005694) with: {'max_depth': 6, 'min_child_weight': 4, 'n_estimators': 800}\n",
            "-0.722205 (0.005684) with: {'max_depth': 6, 'min_child_weight': 4, 'n_estimators': 900}\n",
            "-0.723618 (0.005594) with: {'max_depth': 6, 'min_child_weight': 4, 'n_estimators': 1000}\n",
            "-0.717106 (0.005724) with: {'max_depth': 6, 'min_child_weight': 5, 'n_estimators': 500}\n",
            "-0.718391 (0.005757) with: {'max_depth': 6, 'min_child_weight': 5, 'n_estimators': 600}\n",
            "-0.719659 (0.005694) with: {'max_depth': 6, 'min_child_weight': 5, 'n_estimators': 700}\n",
            "-0.721028 (0.005666) with: {'max_depth': 6, 'min_child_weight': 5, 'n_estimators': 800}\n",
            "-0.722367 (0.005687) with: {'max_depth': 6, 'min_child_weight': 5, 'n_estimators': 900}\n",
            "-0.723902 (0.005816) with: {'max_depth': 6, 'min_child_weight': 5, 'n_estimators': 1000}\n",
            "-0.733799 (0.005627) with: {'max_depth': 9, 'min_child_weight': 3, 'n_estimators': 500}\n",
            "-0.737242 (0.005750) with: {'max_depth': 9, 'min_child_weight': 3, 'n_estimators': 600}\n",
            "-0.740569 (0.005817) with: {'max_depth': 9, 'min_child_weight': 3, 'n_estimators': 700}\n",
            "-0.743613 (0.005676) with: {'max_depth': 9, 'min_child_weight': 3, 'n_estimators': 800}\n",
            "-0.746465 (0.005865) with: {'max_depth': 9, 'min_child_weight': 3, 'n_estimators': 900}\n",
            "-0.748976 (0.005655) with: {'max_depth': 9, 'min_child_weight': 3, 'n_estimators': 1000}\n",
            "-0.734588 (0.005544) with: {'max_depth': 9, 'min_child_weight': 4, 'n_estimators': 500}\n",
            "-0.738212 (0.005341) with: {'max_depth': 9, 'min_child_weight': 4, 'n_estimators': 600}\n",
            "-0.741455 (0.005105) with: {'max_depth': 9, 'min_child_weight': 4, 'n_estimators': 700}\n",
            "-0.744485 (0.005145) with: {'max_depth': 9, 'min_child_weight': 4, 'n_estimators': 800}\n",
            "-0.747144 (0.005154) with: {'max_depth': 9, 'min_child_weight': 4, 'n_estimators': 900}\n",
            "-0.749853 (0.005359) with: {'max_depth': 9, 'min_child_weight': 4, 'n_estimators': 1000}\n",
            "-0.734513 (0.005938) with: {'max_depth': 9, 'min_child_weight': 5, 'n_estimators': 500}\n",
            "-0.738046 (0.005936) with: {'max_depth': 9, 'min_child_weight': 5, 'n_estimators': 600}\n",
            "-0.741527 (0.006060) with: {'max_depth': 9, 'min_child_weight': 5, 'n_estimators': 700}\n",
            "-0.744776 (0.006239) with: {'max_depth': 9, 'min_child_weight': 5, 'n_estimators': 800}\n",
            "-0.747353 (0.006293) with: {'max_depth': 9, 'min_child_weight': 5, 'n_estimators': 900}\n",
            "-0.749792 (0.006319) with: {'max_depth': 9, 'min_child_weight': 5, 'n_estimators': 1000}\n",
            "Best RMSE from all models is: 0.8436710026741137\n",
            "Model training time: 1:02:03.157516\n"
          ],
          "name": "stdout"
        }
      ]
    },
    {
      "cell_type": "code",
      "metadata": {
        "id": "TDIsaZoWwXjT",
        "colab": {
          "base_uri": "https://localhost:8080/"
        },
        "outputId": "37ebb39e-84fd-403d-a405-fa2e1f016659"
      },
      "source": [
        "# Tuning XGBoost subsample and colsample_bytree parameters\n",
        "start_time_module = datetime.now()\n",
        "if NOTIFY_STATUS: status_notify(\"Algorithm tuning iteration #2 has begun! \"+datetime.now().strftime('%a %B %d, %Y %I:%M:%S %p'))\n",
        "\n",
        "tune_model2 = XGBRegressor(n_estimators=1000, max_depth=3, min_child_weight=4, random_state=RNG_SEED, n_jobs=N_JOBS, objective='reg:squarederror', tree_method='gpu_hist')\n",
        "tune_model_names.append('XGB_2')\n",
        "paramGrid2 = dict(subsample=np.array([0.7, 0.8, 0.9, 1.0]), colsample_bytree=np.array([0.7, 0.8, 0.9, 1.0]))\n",
        "\n",
        "kfold = KFold(n_splits=N_FOLDS, shuffle=True, random_state=RNG_SEED)\n",
        "grid2 = GridSearchCV(estimator=tune_model2, param_grid=paramGrid2, scoring=SCORING_METRIC, cv=kfold, n_jobs=N_JOBS, verbose=1)\n",
        "grid_result2 = grid2.fit(array_features_train, array_target_train)\n",
        "\n",
        "print(\"Best: %f using %s\" % (grid_result2.best_score_, grid_result2.best_params_))\n",
        "tune_results.append(grid_result2.cv_results_['mean_test_score'])\n",
        "means = grid_result2.cv_results_['mean_test_score']\n",
        "stds = grid_result2.cv_results_['std_test_score']\n",
        "params = grid_result2.cv_results_['params']\n",
        "for mean, stdev, param in zip(means, stds, params):\n",
        "    print(\"%f (%f) with: %r\" % (mean, stdev, param))\n",
        "print ('Best RMSE from all models is:', math.sqrt((np.mean(grid_result2.best_score_)*-1)))\n",
        "print ('Model training time:',(datetime.now() - start_time_module))\n",
        "if NOTIFY_STATUS: status_notify(\"Algorithm tuning iteration #2 completed! \"+datetime.now().strftime('%a %B %d, %Y %I:%M:%S %p'))"
      ],
      "execution_count": 40,
      "outputs": [
        {
          "output_type": "stream",
          "text": [
            "Fitting 5 folds for each of 16 candidates, totalling 80 fits\n"
          ],
          "name": "stdout"
        },
        {
          "output_type": "stream",
          "text": [
            "[Parallel(n_jobs=1)]: Using backend SequentialBackend with 1 concurrent workers.\n",
            "[Parallel(n_jobs=1)]: Done  80 out of  80 | elapsed: 14.6min finished\n"
          ],
          "name": "stderr"
        },
        {
          "output_type": "stream",
          "text": [
            "Best: -0.711414 using {'colsample_bytree': 0.7, 'subsample': 0.8}\n",
            "-0.711476 (0.006136) with: {'colsample_bytree': 0.7, 'subsample': 0.7}\n",
            "-0.711414 (0.006102) with: {'colsample_bytree': 0.7, 'subsample': 0.8}\n",
            "-0.711638 (0.006149) with: {'colsample_bytree': 0.7, 'subsample': 0.9}\n",
            "-0.711686 (0.006117) with: {'colsample_bytree': 0.7, 'subsample': 1.0}\n",
            "-0.711469 (0.006226) with: {'colsample_bytree': 0.8, 'subsample': 0.7}\n",
            "-0.711435 (0.006047) with: {'colsample_bytree': 0.8, 'subsample': 0.8}\n",
            "-0.711659 (0.005972) with: {'colsample_bytree': 0.8, 'subsample': 0.9}\n",
            "-0.711706 (0.005981) with: {'colsample_bytree': 0.8, 'subsample': 1.0}\n",
            "-0.711620 (0.005874) with: {'colsample_bytree': 0.9, 'subsample': 0.7}\n",
            "-0.711657 (0.005957) with: {'colsample_bytree': 0.9, 'subsample': 0.8}\n",
            "-0.711671 (0.006061) with: {'colsample_bytree': 0.9, 'subsample': 0.9}\n",
            "-0.711745 (0.006083) with: {'colsample_bytree': 0.9, 'subsample': 1.0}\n",
            "-0.711589 (0.006122) with: {'colsample_bytree': 1.0, 'subsample': 0.7}\n",
            "-0.711611 (0.006118) with: {'colsample_bytree': 1.0, 'subsample': 0.8}\n",
            "-0.711784 (0.006014) with: {'colsample_bytree': 1.0, 'subsample': 0.9}\n",
            "-0.711781 (0.006091) with: {'colsample_bytree': 1.0, 'subsample': 1.0}\n",
            "Best RMSE from all models is: 0.8434534035049915\n",
            "Model training time: 0:14:51.535343\n"
          ],
          "name": "stdout"
        }
      ]
    },
    {
      "cell_type": "markdown",
      "metadata": {
        "id": "VwgtvrkIwXjU"
      },
      "source": [
        "### 4.c) Compare Algorithms After Tuning"
      ]
    },
    {
      "cell_type": "code",
      "metadata": {
        "id": "wlqo4rL0wXjU",
        "colab": {
          "base_uri": "https://localhost:8080/",
          "height": 842
        },
        "outputId": "520c70c9-5714-4787-ef8a-077c837f4320"
      },
      "source": [
        "fig = plt.figure(figsize=(16,12))\n",
        "fig.suptitle('Algorithm Comparison - Post Tuning')\n",
        "ax = fig.add_subplot(111)\n",
        "plt.boxplot(tune_results)\n",
        "ax.set_xticklabels(tune_model_names)\n",
        "plt.show()"
      ],
      "execution_count": 41,
      "outputs": [
        {
          "output_type": "stream",
          "text": [
            "/usr/local/lib/python3.7/dist-packages/numpy/core/_asarray.py:83: VisibleDeprecationWarning: Creating an ndarray from ragged nested sequences (which is a list-or-tuple of lists-or-tuples-or ndarrays with different lengths or shapes) is deprecated. If you meant to do this, you must specify 'dtype=object' when creating the ndarray\n",
            "  return array(a, dtype, copy=False, order=order)\n"
          ],
          "name": "stderr"
        },
        {
          "output_type": "display_data",
          "data": {
            "image/png": "[encoded data removed]",
            "text/plain": [
              "<Figure size 1152x864 with 1 Axes>"
            ]
          },
          "metadata": {
            "tags": [],
            "needs_background": "light"
          }
        }
      ]
    },
    {
      "cell_type": "code",
      "metadata": {
        "jupyter": {
          "outputs_hidden": false
        },
        "pycharm": {
          "name": "#%%\n"
        },
        "id": "g2ZPK8-5wXjU"
      },
      "source": [
        "if NOTIFY_STATUS: status_notify(\"Task 4 - Train and Evaluate Models completed! \"+datetime.now().strftime('%a %B %d, %Y %I:%M:%S %p'))"
      ],
      "execution_count": 42,
      "outputs": []
    },
    {
      "cell_type": "markdown",
      "metadata": {
        "id": "ISyQ5uNrwXjU"
      },
      "source": [
        "## Task 5 - Finalize Model and Present Analysis"
      ]
    },
    {
      "cell_type": "code",
      "metadata": {
        "id": "BhuD5C56wXjV"
      },
      "source": [
        "if NOTIFY_STATUS: status_notify(\"Task 5 - Finalize Model and Present Analysis has begun! \"+datetime.now().strftime('%a %B %d, %Y %I:%M:%S %p'))"
      ],
      "execution_count": 43,
      "outputs": []
    },
    {
      "cell_type": "markdown",
      "metadata": {
        "id": "xDcJ2kVE8xNI"
      },
      "source": [
        "### 6.a) Train the Final Model"
      ]
    },
    {
      "cell_type": "code",
      "metadata": {
        "id": "dsntMWlJwXjV",
        "colab": {
          "base_uri": "https://localhost:8080/"
        },
        "outputId": "0a5c0c73-6c27-432d-b7cd-fa8bf852ec57"
      },
      "source": [
        "final_model = XGBRegressor(n_estimators=1000, max_depth=3, min_child_weight=4, colsample_bytree=0.7, subsample=0.8, random_state=RNG_SEED, n_jobs=N_JOBS, objective='reg:squarederror', tree_method='gpu_hist')\n",
        "final_model.fit(array_features_train, array_target_train)\n",
        "print(final_model)"
      ],
      "execution_count": 44,
      "outputs": [
        {
          "output_type": "stream",
          "text": [
            "XGBRegressor(base_score=0.5, booster='gbtree', colsample_bylevel=1,\n",
            "             colsample_bynode=1, colsample_bytree=0.7, gamma=0,\n",
            "             importance_type='gain', learning_rate=0.1, max_delta_step=0,\n",
            "             max_depth=3, min_child_weight=4, missing=None, n_estimators=1000,\n",
            "             n_jobs=1, nthread=None, objective='reg:squarederror',\n",
            "             random_state=888, reg_alpha=0, reg_lambda=1, scale_pos_weight=1,\n",
            "             seed=None, silent=None, subsample=0.8, tree_method='gpu_hist',\n",
            "             verbosity=1)\n"
          ],
          "name": "stdout"
        }
      ]
    },
    {
      "cell_type": "markdown",
      "metadata": {
        "id": "vAzsJd7g9Oqi"
      },
      "source": [
        "### 6.b) Load Test Dataset and Prepare the Submission File"
      ]
    },
    {
      "cell_type": "code",
      "metadata": {
        "id": "U8jDH1CW9QBI",
        "colab": {
          "base_uri": "https://localhost:8080/"
        },
        "outputId": "64855938-fdb9-44f0-b35c-9f639d42f164"
      },
      "source": [
        "dataset_path = 'https://dainesanalytics.com/datasets/kaggle-tabular-playground-2021feb/test.csv'\n",
        "df_features_test = pd.read_csv(dataset_path, index_col=False)\n",
        "\n",
        "# Take a peek at the dataframe after import\n",
        "print(df_features_test.head())"
      ],
      "execution_count": 45,
      "outputs": [
        {
          "output_type": "stream",
          "text": [
            "   id cat0 cat1 cat2 cat3  ...     cont9    cont10    cont11    cont12    cont13\n",
            "0   0    A    B    A    C  ...  0.242654  0.285147  0.264308  0.653654  0.302448\n",
            "1   5    A    B    A    C  ...  0.516393  0.562065  0.730542  0.318492  0.736251\n",
            "2  15    A    B    A    C  ...  0.548555  0.836193  0.759788  0.333572  0.273905\n",
            "3  16    A    A    B    A  ...  0.596746  0.414131  0.255382  0.589080  0.311625\n",
            "4  17    A    B    A    A  ...  0.263235  0.710961  0.224045  0.285860  0.794931\n",
            "\n",
            "[5 rows x 25 columns]\n"
          ],
          "name": "stdout"
        }
      ]
    },
    {
      "cell_type": "code",
      "metadata": {
        "id": "sEys8on49SGC",
        "colab": {
          "base_uri": "https://localhost:8080/"
        },
        "outputId": "c799bd30-2693-4737-cf2b-fca31c7ea1b7"
      },
      "source": [
        "df_kaggle_submission = pd.DataFrame()\n",
        "df_kaggle_submission['id'] = df_features_test['id']\n",
        "print(df_kaggle_submission.head())"
      ],
      "execution_count": 46,
      "outputs": [
        {
          "output_type": "stream",
          "text": [
            "   id\n",
            "0   0\n",
            "1   5\n",
            "2  15\n",
            "3  16\n",
            "4  17\n"
          ],
          "name": "stdout"
        }
      ]
    },
    {
      "cell_type": "code",
      "metadata": {
        "id": "M_Q32_pF9UJF",
        "colab": {
          "base_uri": "https://localhost:8080/"
        },
        "outputId": "cd02ba9b-5a45-48d3-8cab-5152c8975c46"
      },
      "source": [
        "# Dropping features\n",
        "df_features_test.drop(columns=['id'], inplace=True)\n",
        "\n",
        "# Take a peek at the dataframe after cleaning\n",
        "print(df_features_test.head())"
      ],
      "execution_count": 47,
      "outputs": [
        {
          "output_type": "stream",
          "text": [
            "  cat0 cat1 cat2 cat3 cat4  ...     cont9    cont10    cont11    cont12    cont13\n",
            "0    A    B    A    C    B  ...  0.242654  0.285147  0.264308  0.653654  0.302448\n",
            "1    A    B    A    C    B  ...  0.516393  0.562065  0.730542  0.318492  0.736251\n",
            "2    A    B    A    C    B  ...  0.548555  0.836193  0.759788  0.333572  0.273905\n",
            "3    A    A    B    A    B  ...  0.596746  0.414131  0.255382  0.589080  0.311625\n",
            "4    A    B    A    A    B  ...  0.263235  0.710961  0.224045  0.285860  0.794931\n",
            "\n",
            "[5 rows x 24 columns]\n"
          ],
          "name": "stdout"
        }
      ]
    },
    {
      "cell_type": "code",
      "metadata": {
        "id": "9hPuYzYP9VZ9",
        "colab": {
          "base_uri": "https://localhost:8080/"
        },
        "outputId": "e1c369be-c7a2-4311-8349-5f7a0952afbf"
      },
      "source": [
        "# Finalize the test dataset for the modeling testing\n",
        "array_features_test = preprocessor.transform(df_features_test)\n",
        "print(\"Transformed features from df_features_test.shape: {} to array_features_test.shape: {}\".format(df_features_test.shape, array_features_test.shape))"
      ],
      "execution_count": 50,
      "outputs": [
        {
          "output_type": "stream",
          "text": [
            "Transformed features from df_features_test.shape: (200000, 24) to array_features_test.shape: (200000, 70)\n"
          ],
          "name": "stdout"
        }
      ]
    },
    {
      "cell_type": "code",
      "metadata": {
        "id": "-fvgenmXwXjV",
        "colab": {
          "base_uri": "https://localhost:8080/"
        },
        "outputId": "4641533a-3ad7-427c-8d45-9a8606ac629f"
      },
      "source": [
        "# Make batched predictions\n",
        "test_predictions = final_model.predict(array_features_test)\n",
        "print(test_predictions)"
      ],
      "execution_count": 51,
      "outputs": [
        {
          "output_type": "stream",
          "text": [
            "[7.634277  7.744467  7.563617  ... 7.533821  7.4410334 7.3558908]\n"
          ],
          "name": "stdout"
        }
      ]
    },
    {
      "cell_type": "code",
      "metadata": {
        "id": "URcNcruf9r8w",
        "colab": {
          "base_uri": "https://localhost:8080/"
        },
        "outputId": "2f5365ea-1e52-4d48-f054-00382705a0dc"
      },
      "source": [
        "df_kaggle_submission['target'] = test_predictions\n",
        "print(df_kaggle_submission.head())"
      ],
      "execution_count": 52,
      "outputs": [
        {
          "output_type": "stream",
          "text": [
            "   id    target\n",
            "0   0  7.634277\n",
            "1   5  7.744467\n",
            "2  15  7.563617\n",
            "3  16  7.469496\n",
            "4  17  7.232329\n"
          ],
          "name": "stdout"
        }
      ]
    },
    {
      "cell_type": "code",
      "metadata": {
        "id": "OWRZ-ue59uM5",
        "colab": {
          "base_uri": "https://localhost:8080/"
        },
        "outputId": "d248d4a5-2598-47a0-962f-38ef2fc060f1"
      },
      "source": [
        "submission_file = df_kaggle_submission.to_csv(header=True, index=False)\n",
        "filename = 'submission_' + datetime.now().strftime('%Y%m%d-%H%M') + '.csv'\n",
        "with open(filename, 'w') as f:\n",
        "    f.write(submission_file)\n",
        "    print('Completed writing output file: ' + filename)"
      ],
      "execution_count": 53,
      "outputs": [
        {
          "output_type": "stream",
          "text": [
            "Completed writing output file: submission_20210524-2204.csv\n"
          ],
          "name": "stdout"
        }
      ]
    },
    {
      "cell_type": "code",
      "metadata": {
        "id": "YB2v5Iq9wXjV"
      },
      "source": [
        "if NOTIFY_STATUS: status_notify(\"Task 5 - Finalize Model and Present Analysis completed! \"+datetime.now().strftime('%a %B %d, %Y %I:%M:%S %p'))"
      ],
      "execution_count": 54,
      "outputs": []
    },
    {
      "cell_type": "code",
      "metadata": {
        "id": "piIVF1NIwXjW",
        "colab": {
          "base_uri": "https://localhost:8080/"
        },
        "outputId": "f2e0e9d8-4a56-4e59-9e60-624b2136ed4e"
      },
      "source": [
        "print ('Total time for the script:',(datetime.now() - start_time_script))"
      ],
      "execution_count": 55,
      "outputs": [
        {
          "output_type": "stream",
          "text": [
            "Total time for the script: 1:36:54.309218\n"
          ],
          "name": "stdout"
        }
      ]
    }
  ]
}