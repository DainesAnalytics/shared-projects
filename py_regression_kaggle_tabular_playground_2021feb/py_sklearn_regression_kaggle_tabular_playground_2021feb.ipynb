{
 "cells": [
  {
   "cell_type": "markdown",
   "metadata": {},
   "source": [
    "# Regression Model for Kaggle Tabular Playground Series Feb 2021 Using Python and Scikit-learn\n",
    "### David Lowe\n",
    "### May 25, 2021\n",
    "\n",
    "Template Credit: Adapted from a template made available by Dr. Jason Brownlee of Machine Learning Mastery. [https://machinelearningmastery.com/]\n",
    "\n",
    "SUMMARY: The project aims to construct a predictive model using various machine learning algorithms and document the end-to-end steps using a template. The Kaggle Tabular Playground Series Feb 2021 dataset is a regression situation where we are trying to predict the value of a continuous variable.\n",
    "\n",
    "INTRODUCTION: Kaggle wants to provide an approachable environment for relatively new people in their data science journey. Since January 2021, they have hosted playground-style competitions on Kaggle with fun but less complex, tabular datasets. The February dataset may be synthetic but is based on a real dataset and generated using a CTGAN. The original dataset tries to predict the amount of an insurance claim. Although the features are anonymized, they have properties relating to real-world features.\n",
    "\n",
    "ANALYSIS: The average performance of the machine learning algorithms achieved an RMSE benchmark of 0.7728 using the training dataset. We selected Random Forest and Gradient Boosting to perform the tuning exercises. After a series of tuning trials, the refined Gradient Boosting model processed the training dataset with a final RMSE score of 0.7135. When we processed Kaggle's test dataset with the final model, the model achieved an RMSE score of 0.8455.\n",
    "\n",
    "CONCLUSION: In this iteration, the Gradient Boosting model appeared to be a suitable algorithm for modeling this dataset.\n",
    "\n",
    "Dataset Used: Kaggle Tabular Playground Series Feb 2021 Data Set\n",
    "\n",
    "Dataset ML Model: Regression with numerical and categorical attributes\n",
    "\n",
    "Dataset Reference: https://www.kaggle.com/c/tabular-playground-series-feb-2021\n",
    "\n",
    "One potential source of performance benchmarks: https://www.kaggle.com/c/tabular-playground-series-feb-2021/leaderboard\n",
    "\n",
    "Any predictive modeling machine learning project generally can be broken down into about six major tasks:\n",
    "\n",
    "1. Prepare Environment\n",
    "2. Summarize and Visualize Data\n",
    "3. Pre-process Data\n",
    "4. Train and Evaluate Models\n",
    "5. Fine-tune and Improve Models\n",
    "6. Finalize Model and Present Analysis"
   ]
  },
  {
   "cell_type": "markdown",
   "metadata": {},
   "source": [
    "## Task 1 - Prepare Environment"
   ]
  },
  {
   "cell_type": "code",
   "execution_count": 1,
   "metadata": {},
   "outputs": [],
   "source": [
    "# Install the necessary packages for Colab\n",
    "# !pip install python-dotenv PyMySQL"
   ]
  },
  {
   "cell_type": "code",
   "execution_count": 2,
   "metadata": {},
   "outputs": [],
   "source": [
    "# Retrieve the GPU information from Colab\n",
    "# gpu_info = !nvidia-smi\n",
    "# gpu_info = '\\n'.join(gpu_info)\n",
    "# if gpu_info.find('failed') >= 0:\n",
    "#     print('Select the Runtime → \"Change runtime type\" menu to enable a GPU accelerator, ')\n",
    "#     print('and then re-execute this cell.')\n",
    "# else:\n",
    "#     print(gpu_info)"
   ]
  },
  {
   "cell_type": "code",
   "execution_count": 3,
   "metadata": {},
   "outputs": [],
   "source": [
    "# Retrieve the memory configuration from Colab\n",
    "# from psutil import virtual_memory\n",
    "# ram_gb = virtual_memory().total / 1e9\n",
    "# print('Your runtime has {:.1f} gigabytes of available RAM\\n'.format(ram_gb))\n",
    "\n",
    "# if ram_gb < 20:\n",
    "#     print('To enable a high-RAM runtime, select the Runtime → \"Change runtime type\"')\n",
    "#     print('menu, and then select High-RAM in the Runtime shape dropdown. Then, ')\n",
    "#     print('re-execute this cell.')\n",
    "# else:\n",
    "#     print('You are using a high-RAM runtime!')"
   ]
  },
  {
   "cell_type": "code",
   "execution_count": 4,
   "metadata": {},
   "outputs": [
    {
     "name": "stdout",
     "output_type": "stream",
     "text": [
      "The number of available CPUs is: 8\n"
     ]
    }
   ],
   "source": [
    "# Retrieve the CPU information\n",
    "ncpu = !nproc\n",
    "print(\"The number of available CPUs is:\", ncpu[0])"
   ]
  },
  {
   "cell_type": "markdown",
   "metadata": {},
   "source": [
    "### 1.a) Load libraries and modules"
   ]
  },
  {
   "cell_type": "code",
   "execution_count": 5,
   "metadata": {},
   "outputs": [],
   "source": [
    "# Set the random seed number for reproducible results\n",
    "RNG_SEED = 888"
   ]
  },
  {
   "cell_type": "code",
   "execution_count": 6,
   "metadata": {},
   "outputs": [],
   "source": [
    "import numpy as np\n",
    "import pandas as pd\n",
    "import matplotlib.pyplot as plt\n",
    "import os\n",
    "import sys\n",
    "import math\n",
    "from datetime import datetime\n",
    "# import boto3\n",
    "# from dotenv import load_dotenv\n",
    "from sklearn import preprocessing\n",
    "from sklearn.model_selection import train_test_split\n",
    "from sklearn.model_selection import KFold\n",
    "from sklearn.model_selection import cross_val_score\n",
    "from sklearn.model_selection import GridSearchCV\n",
    "from sklearn.metrics import mean_squared_error\n",
    "from sklearn.metrics import r2_score\n",
    "from sklearn.pipeline import Pipeline\n",
    "from sklearn import compose\n",
    "from sklearn import impute\n",
    "\n",
    "from sklearn.linear_model import LinearRegression\n",
    "from sklearn.linear_model import Ridge\n",
    "from sklearn.linear_model import Lasso\n",
    "from sklearn.linear_model import ElasticNet\n",
    "from sklearn.tree import DecisionTreeRegressor\n",
    "from sklearn.neighbors import KNeighborsRegressor\n",
    "from sklearn.ensemble import RandomForestRegressor\n",
    "from sklearn.ensemble import ExtraTreesRegressor\n",
    "from sklearn.ensemble import GradientBoostingRegressor"
   ]
  },
  {
   "cell_type": "markdown",
   "metadata": {},
   "source": [
    "### 1.b) Set up the controlling parameters and functions"
   ]
  },
  {
   "cell_type": "code",
   "execution_count": 7,
   "metadata": {},
   "outputs": [],
   "source": [
    "# Begin the timer for the script processing\n",
    "start_time_script = datetime.now()\n",
    "\n",
    "# Set up the number of CPU cores available for multi-thread processing\n",
    "N_JOBS = 4\n",
    "\n",
    "# Set up the flag to stop sending progress emails (setting to True will send status emails!)\n",
    "NOTIFY_STATUS = False\n",
    "\n",
    "# Set the percentage sizes for splitting the dataset\n",
    "TEST_SET_RATIO = 0.2\n",
    "VAL_SET_RATIO = 0.25\n",
    "\n",
    "# Set the number of folds for cross validation\n",
    "N_FOLDS = 5\n",
    "\n",
    "# Set various default modeling parameters\n",
    "SCORING_METRIC = 'neg_mean_squared_error'\n",
    "\n",
    "# Set Pandas options\n",
    "pd.set_option(\"display.max_rows\", 500)\n",
    "pd.set_option(\"display.width\", 140)"
   ]
  },
  {
   "cell_type": "code",
   "execution_count": 8,
   "metadata": {},
   "outputs": [],
   "source": [
    "# Set up the email notification function\n",
    "def status_notify(msg_text):\n",
    "    access_key = os.environ.get('SNS_ACCESS_KEY')\n",
    "    secret_key = os.environ.get('SNS_SECRET_KEY')\n",
    "    aws_region = os.environ.get('SNS_AWS_REGION')\n",
    "    topic_arn = os.environ.get('SNS_TOPIC_ARN')\n",
    "    if (access_key is None) or (secret_key is None) or (aws_region is None):\n",
    "        sys.exit(\"Incomplete notification setup info. Script Processing Aborted!!!\")\n",
    "    sns = boto3.client('sns', aws_access_key_id=access_key, aws_secret_access_key=secret_key, region_name=aws_region)\n",
    "    response = sns.publish(TopicArn=topic_arn, Message=msg_text)\n",
    "    if response['ResponseMetadata']['HTTPStatusCode'] != 200 :\n",
    "        print('Status notification not OK with HTTP status code:', response['ResponseMetadata']['HTTPStatusCode'])"
   ]
  },
  {
   "cell_type": "code",
   "execution_count": 9,
   "metadata": {},
   "outputs": [],
   "source": [
    "if NOTIFY_STATUS: status_notify(\"Task 1 - Prepare Environment has begun! \" + datetime.now().strftime('%a %B %d, %Y %I:%M:%S %p'))"
   ]
  },
  {
   "cell_type": "markdown",
   "metadata": {},
   "source": [
    "### 1.c) Load dataset"
   ]
  },
  {
   "cell_type": "code",
   "execution_count": 10,
   "metadata": {},
   "outputs": [
    {
     "name": "stdout",
     "output_type": "stream",
     "text": [
      "   id cat0 cat1 cat2 cat3 cat4 cat5 cat6 cat7 cat8  ...     cont5     cont6     cont7     cont8     cont9    cont10    cont11    cont12  \\\n",
      "0   1    A    B    A    A    B    D    A    E    C  ...  0.881122  0.421650  0.741413  0.895799  0.802461  0.724417  0.701915  0.877618   \n",
      "1   2    B    A    A    A    B    B    A    E    A  ...  0.440011  0.346230  0.278495  0.593413  0.546056  0.613252  0.741289  0.326679   \n",
      "2   3    A    A    A    C    B    D    A    B    C  ...  0.914155  0.369602  0.832564  0.865620  0.825251  0.264104  0.695561  0.869133   \n",
      "3   4    A    A    A    C    B    D    A    E    G  ...  0.934138  0.578930  0.407313  0.868099  0.794402  0.494269  0.698125  0.809799   \n",
      "4   6    A    B    A    A    B    B    A    E    C  ...  0.382600  0.705940  0.325193  0.440967  0.462146  0.724447  0.683073  0.343457   \n",
      "\n",
      "     cont13    target  \n",
      "0  0.719903  6.994023  \n",
      "1  0.808464  8.071256  \n",
      "2  0.828352  5.760456  \n",
      "3  0.614766  7.806457  \n",
      "4  0.297743  6.868974  \n",
      "\n",
      "[5 rows x 26 columns]\n"
     ]
    }
   ],
   "source": [
    "dataset_path = 'https://dainesanalytics.com/datasets/kaggle-tabular-playground-2021feb/train.csv'\n",
    "df_dataset_import = pd.read_csv(dataset_path, index_col=False)\n",
    "\n",
    "# Take a peek at the dataframe after import\n",
    "print(df_dataset_import.head())"
   ]
  },
  {
   "cell_type": "code",
   "execution_count": 11,
   "metadata": {},
   "outputs": [
    {
     "name": "stdout",
     "output_type": "stream",
     "text": [
      "<class 'pandas.core.frame.DataFrame'>\n",
      "RangeIndex: 300000 entries, 0 to 299999\n",
      "Data columns (total 26 columns):\n",
      " #   Column  Non-Null Count   Dtype  \n",
      "---  ------  --------------   -----  \n",
      " 0   id      300000 non-null  int64  \n",
      " 1   cat0    300000 non-null  object \n",
      " 2   cat1    300000 non-null  object \n",
      " 3   cat2    300000 non-null  object \n",
      " 4   cat3    300000 non-null  object \n",
      " 5   cat4    300000 non-null  object \n",
      " 6   cat5    300000 non-null  object \n",
      " 7   cat6    300000 non-null  object \n",
      " 8   cat7    300000 non-null  object \n",
      " 9   cat8    300000 non-null  object \n",
      " 10  cat9    300000 non-null  object \n",
      " 11  cont0   300000 non-null  float64\n",
      " 12  cont1   300000 non-null  float64\n",
      " 13  cont2   300000 non-null  float64\n",
      " 14  cont3   300000 non-null  float64\n",
      " 15  cont4   300000 non-null  float64\n",
      " 16  cont5   300000 non-null  float64\n",
      " 17  cont6   300000 non-null  float64\n",
      " 18  cont7   300000 non-null  float64\n",
      " 19  cont8   300000 non-null  float64\n",
      " 20  cont9   300000 non-null  float64\n",
      " 21  cont10  300000 non-null  float64\n",
      " 22  cont11  300000 non-null  float64\n",
      " 23  cont12  300000 non-null  float64\n",
      " 24  cont13  300000 non-null  float64\n",
      " 25  target  300000 non-null  float64\n",
      "dtypes: float64(15), int64(1), object(10)\n",
      "memory usage: 59.5+ MB\n"
     ]
    }
   ],
   "source": [
    "df_dataset_import.info(verbose=True)"
   ]
  },
  {
   "cell_type": "code",
   "execution_count": 12,
   "metadata": {},
   "outputs": [
    {
     "name": "stdout",
     "output_type": "stream",
     "text": [
      "                  id          cont0          cont1          cont2          cont3          cont4          cont5          cont6  \\\n",
      "count  300000.000000  300000.000000  300000.000000  300000.000000  300000.000000  300000.000000  300000.000000  300000.000000   \n",
      "mean   250018.576947       0.524634       0.506649       0.444115       0.446214       0.455471       0.508337       0.478345   \n",
      "std    144450.150010       0.204875       0.235269       0.200089       0.238669       0.200695       0.231612       0.192432   \n",
      "min         1.000000      -0.093505      -0.055105      -0.060274       0.134760       0.189216      -0.087247       0.043953   \n",
      "25%    124772.500000       0.370451       0.352307       0.314121       0.214572       0.279853       0.338747       0.339896   \n",
      "50%    250002.500000       0.492208       0.615156       0.457271       0.377823       0.411351       0.441384       0.410090   \n",
      "75%    375226.500000       0.654793       0.688150       0.554835       0.719758       0.621808       0.709515       0.604246   \n",
      "max    499999.000000       1.052666       0.851746       1.017689       1.006469       0.994050       1.044433       1.093312   \n",
      "\n",
      "               cont7          cont8          cont9         cont10         cont11         cont12         cont13         target  \n",
      "count  300000.000000  300000.000000  300000.000000  300000.000000  300000.000000  300000.000000  300000.000000  300000.000000  \n",
      "mean        0.455904       0.459321       0.526899       0.504943       0.529938       0.524549       0.503349       7.456260  \n",
      "std         0.204493       0.220642       0.204025       0.201549       0.230860       0.220892       0.225218       0.887295  \n",
      "min         0.208703       0.004041       0.073040       0.059644       0.064161      -0.005600       0.158121       0.000000  \n",
      "25%         0.278041       0.308655       0.361957       0.338898       0.316662       0.332143       0.291289       6.798341  \n",
      "50%         0.360736       0.425801       0.488867       0.519855       0.558827       0.407365       0.433909       7.496503  \n",
      "75%         0.639388       0.541525       0.752765       0.672809       0.720381       0.732431       0.730870       8.161166  \n",
      "max         1.036541       1.014156       0.972091       1.029773       1.038049       0.961370       0.873579      10.309208  \n"
     ]
    }
   ],
   "source": [
    "print(df_dataset_import.describe())"
   ]
  },
  {
   "cell_type": "code",
   "execution_count": 13,
   "metadata": {},
   "outputs": [
    {
     "name": "stdout",
     "output_type": "stream",
     "text": [
      "id        0\n",
      "cat0      0\n",
      "cat1      0\n",
      "cat2      0\n",
      "cat3      0\n",
      "cat4      0\n",
      "cat5      0\n",
      "cat6      0\n",
      "cat7      0\n",
      "cat8      0\n",
      "cat9      0\n",
      "cont0     0\n",
      "cont1     0\n",
      "cont2     0\n",
      "cont3     0\n",
      "cont4     0\n",
      "cont5     0\n",
      "cont6     0\n",
      "cont7     0\n",
      "cont8     0\n",
      "cont9     0\n",
      "cont10    0\n",
      "cont11    0\n",
      "cont12    0\n",
      "cont13    0\n",
      "target    0\n",
      "dtype: int64\n",
      "Total number of NaN in the dataframe:  0\n"
     ]
    }
   ],
   "source": [
    "print(df_dataset_import.isnull().sum())\n",
    "print('Total number of NaN in the dataframe: ', df_dataset_import.isnull().sum().sum())"
   ]
  },
  {
   "cell_type": "markdown",
   "metadata": {},
   "source": [
    "### 1.d) Data Cleaning"
   ]
  },
  {
   "cell_type": "code",
   "execution_count": 14,
   "metadata": {},
   "outputs": [
    {
     "name": "stdout",
     "output_type": "stream",
     "text": [
      "  cat0 cat1 cat2 cat3 cat4 cat5 cat6 cat7 cat8 cat9  ...     cont5     cont6     cont7     cont8     cont9    cont10    cont11    cont12  \\\n",
      "0    A    B    A    A    B    D    A    E    C    I  ...  0.881122  0.421650  0.741413  0.895799  0.802461  0.724417  0.701915  0.877618   \n",
      "1    B    A    A    A    B    B    A    E    A    F  ...  0.440011  0.346230  0.278495  0.593413  0.546056  0.613252  0.741289  0.326679   \n",
      "2    A    A    A    C    B    D    A    B    C    N  ...  0.914155  0.369602  0.832564  0.865620  0.825251  0.264104  0.695561  0.869133   \n",
      "3    A    A    A    C    B    D    A    E    G    K  ...  0.934138  0.578930  0.407313  0.868099  0.794402  0.494269  0.698125  0.809799   \n",
      "4    A    B    A    A    B    B    A    E    C    F  ...  0.382600  0.705940  0.325193  0.440967  0.462146  0.724447  0.683073  0.343457   \n",
      "\n",
      "     cont13    target  \n",
      "0  0.719903  6.994023  \n",
      "1  0.808464  8.071256  \n",
      "2  0.828352  5.760456  \n",
      "3  0.614766  7.806457  \n",
      "4  0.297743  6.868974  \n",
      "\n",
      "[5 rows x 25 columns]\n"
     ]
    }
   ],
   "source": [
    "# Dropping features\n",
    "df_dataset_import.drop(columns=['id'], inplace=True)\n",
    "\n",
    "# Take a peek at the dataframe after cleaning\n",
    "print(df_dataset_import.head())"
   ]
  },
  {
   "cell_type": "code",
   "execution_count": 15,
   "metadata": {},
   "outputs": [
    {
     "name": "stdout",
     "output_type": "stream",
     "text": [
      "<class 'pandas.core.frame.DataFrame'>\n",
      "RangeIndex: 300000 entries, 0 to 299999\n",
      "Data columns (total 25 columns):\n",
      " #   Column  Non-Null Count   Dtype  \n",
      "---  ------  --------------   -----  \n",
      " 0   cat0    300000 non-null  object \n",
      " 1   cat1    300000 non-null  object \n",
      " 2   cat2    300000 non-null  object \n",
      " 3   cat3    300000 non-null  object \n",
      " 4   cat4    300000 non-null  object \n",
      " 5   cat5    300000 non-null  object \n",
      " 6   cat6    300000 non-null  object \n",
      " 7   cat7    300000 non-null  object \n",
      " 8   cat8    300000 non-null  object \n",
      " 9   cat9    300000 non-null  object \n",
      " 10  cont0   300000 non-null  float64\n",
      " 11  cont1   300000 non-null  float64\n",
      " 12  cont2   300000 non-null  float64\n",
      " 13  cont3   300000 non-null  float64\n",
      " 14  cont4   300000 non-null  float64\n",
      " 15  cont5   300000 non-null  float64\n",
      " 16  cont6   300000 non-null  float64\n",
      " 17  cont7   300000 non-null  float64\n",
      " 18  cont8   300000 non-null  float64\n",
      " 19  cont9   300000 non-null  float64\n",
      " 20  cont10  300000 non-null  float64\n",
      " 21  cont11  300000 non-null  float64\n",
      " 22  cont12  300000 non-null  float64\n",
      " 23  cont13  300000 non-null  float64\n",
      " 24  target  300000 non-null  float64\n",
      "dtypes: float64(15), object(10)\n",
      "memory usage: 57.2+ MB\n",
      "None\n"
     ]
    }
   ],
   "source": [
    "print(df_dataset_import.info(verbose=True))"
   ]
  },
  {
   "cell_type": "code",
   "execution_count": 16,
   "metadata": {},
   "outputs": [
    {
     "name": "stdout",
     "output_type": "stream",
     "text": [
      "               cont0          cont1          cont2          cont3          cont4          cont5          cont6          cont7  \\\n",
      "count  300000.000000  300000.000000  300000.000000  300000.000000  300000.000000  300000.000000  300000.000000  300000.000000   \n",
      "mean        0.524634       0.506649       0.444115       0.446214       0.455471       0.508337       0.478345       0.455904   \n",
      "std         0.204875       0.235269       0.200089       0.238669       0.200695       0.231612       0.192432       0.204493   \n",
      "min        -0.093505      -0.055105      -0.060274       0.134760       0.189216      -0.087247       0.043953       0.208703   \n",
      "25%         0.370451       0.352307       0.314121       0.214572       0.279853       0.338747       0.339896       0.278041   \n",
      "50%         0.492208       0.615156       0.457271       0.377823       0.411351       0.441384       0.410090       0.360736   \n",
      "75%         0.654793       0.688150       0.554835       0.719758       0.621808       0.709515       0.604246       0.639388   \n",
      "max         1.052666       0.851746       1.017689       1.006469       0.994050       1.044433       1.093312       1.036541   \n",
      "\n",
      "               cont8          cont9         cont10         cont11         cont12         cont13         target  \n",
      "count  300000.000000  300000.000000  300000.000000  300000.000000  300000.000000  300000.000000  300000.000000  \n",
      "mean        0.459321       0.526899       0.504943       0.529938       0.524549       0.503349       7.456260  \n",
      "std         0.220642       0.204025       0.201549       0.230860       0.220892       0.225218       0.887295  \n",
      "min         0.004041       0.073040       0.059644       0.064161      -0.005600       0.158121       0.000000  \n",
      "25%         0.308655       0.361957       0.338898       0.316662       0.332143       0.291289       6.798341  \n",
      "50%         0.425801       0.488867       0.519855       0.558827       0.407365       0.433909       7.496503  \n",
      "75%         0.541525       0.752765       0.672809       0.720381       0.732431       0.730870       8.161166  \n",
      "max         1.014156       0.972091       1.029773       1.038049       0.961370       0.873579      10.309208  \n"
     ]
    }
   ],
   "source": [
    "print(df_dataset_import.describe())"
   ]
  },
  {
   "cell_type": "code",
   "execution_count": 17,
   "metadata": {},
   "outputs": [
    {
     "name": "stdout",
     "output_type": "stream",
     "text": [
      "cat0      0\n",
      "cat1      0\n",
      "cat2      0\n",
      "cat3      0\n",
      "cat4      0\n",
      "cat5      0\n",
      "cat6      0\n",
      "cat7      0\n",
      "cat8      0\n",
      "cat9      0\n",
      "cont0     0\n",
      "cont1     0\n",
      "cont2     0\n",
      "cont3     0\n",
      "cont4     0\n",
      "cont5     0\n",
      "cont6     0\n",
      "cont7     0\n",
      "cont8     0\n",
      "cont9     0\n",
      "cont10    0\n",
      "cont11    0\n",
      "cont12    0\n",
      "cont13    0\n",
      "target    0\n",
      "dtype: int64\n",
      "Total number of NaN in the dataframe:  0\n"
     ]
    }
   ],
   "source": [
    "print(df_dataset_import.isnull().sum())\n",
    "print('Total number of NaN in the dataframe: ', df_dataset_import.isnull().sum().sum())"
   ]
  },
  {
   "cell_type": "markdown",
   "metadata": {},
   "source": [
    "### 1.e) Splitting Data into Sets"
   ]
  },
  {
   "cell_type": "code",
   "execution_count": 18,
   "metadata": {},
   "outputs": [],
   "source": [
    "# Use variable total_column_count to hold the number of columns in the dataframe\n",
    "total_column_count = len(df_dataset_import.columns)\n",
    "\n",
    "# Set up variable total_feature_count for the total number of attribute columns\n",
    "total_feature_count = total_column_count-1\n",
    "\n",
    "# target_column_position variable indicates the column location of the target/class variable\n",
    "# If the first column, set target_column_position to 1. If the last column, set target_column_position to total_column_count\n",
    "# If (target_column_position <> 1) and (target_column_position <> total_column_count), be aware when slicing up the dataframes for visualization\n",
    "target_column_position = total_column_count"
   ]
  },
  {
   "cell_type": "code",
   "execution_count": 19,
   "metadata": {},
   "outputs": [
    {
     "name": "stdout",
     "output_type": "stream",
     "text": [
      "df_dataset_import.shape: (300000, 25) df_features_train.shape: (300000, 24) df_target_train.shape: (300000,)\n"
     ]
    }
   ],
   "source": [
    "# We create attribute-only and target-only datasets (df_features_train and df_target_train)\n",
    "# for various visualization and cleaning/transformation operations\n",
    "\n",
    "if target_column_position == total_column_count:\n",
    "    df_features_train = df_dataset_import.iloc[:,0:total_feature_count]\n",
    "    df_target_train = df_dataset_import.iloc[:,total_feature_count]\n",
    "else:\n",
    "    df_features_train = df_dataset_import.iloc[:,1:total_column_count]\n",
    "    df_target_train = df_dataset_import.iloc[:,0]\n",
    "\n",
    "print(\"df_dataset_import.shape: {} df_features_train.shape: {} df_target_train.shape: {}\".format(df_dataset_import.shape, df_features_train.shape, df_target_train.shape))"
   ]
  },
  {
   "cell_type": "markdown",
   "metadata": {},
   "source": [
    "### 1.f) Set up the parameters for data visualization"
   ]
  },
  {
   "cell_type": "code",
   "execution_count": 20,
   "metadata": {},
   "outputs": [],
   "source": [
    "# Set up the number of row and columns for visualization display. display_rows * display_columns should be >= total_feature_count\n",
    "display_columns = 4\n",
    "if total_feature_count % display_columns == 0 :\n",
    "    display_rows = total_feature_count // display_columns\n",
    "else :\n",
    "    display_rows = (total_feature_count // display_columns) + 1\n",
    "    \n",
    "# Set figure width to display the data visualization plots\n",
    "fig_size = plt.rcParams[\"figure.figsize\"]\n",
    "fig_size[0] = display_columns * 4\n",
    "fig_size[1] = display_rows * 4\n",
    "plt.rcParams[\"figure.figsize\"] = fig_size"
   ]
  },
  {
   "cell_type": "code",
   "execution_count": 21,
   "metadata": {},
   "outputs": [],
   "source": [
    "if NOTIFY_STATUS: status_notify(\"Task 1 - Prepare Environment completed! \"+datetime.now().strftime('%a %B %d, %Y %I:%M:%S %p'))"
   ]
  },
  {
   "cell_type": "markdown",
   "metadata": {},
   "source": [
    "## Task 2 - Summarize and Visualize Data"
   ]
  },
  {
   "cell_type": "code",
   "execution_count": 22,
   "metadata": {},
   "outputs": [],
   "source": [
    "if NOTIFY_STATUS: status_notify(\"Task 2 - Summarize and Visualize Data has begun! \"+datetime.now().strftime('%a %B %d, %Y %I:%M:%S %p'))"
   ]
  },
  {
   "cell_type": "code",
   "execution_count": 23,
   "metadata": {},
   "outputs": [
    {
     "name": "stderr",
     "output_type": "stream",
     "text": [
      "/usr/local/lib/python3.8/site-packages/pandas/plotting/_matplotlib/tools.py:400: MatplotlibDeprecationWarning: \n",
      "The is_first_col function was deprecated in Matplotlib 3.4 and will be removed two minor releases later. Use ax.get_subplotspec().is_first_col() instead.\n",
      "  if ax.is_first_col():\n"
     ]
    },
    {
     "data": {
      "image/png": "[encoded data removed]",
      "text/plain": [
       "<Figure size 1152x1728 with 24 Axes>"
      ]
     },
     "metadata": {
      "needs_background": "light"
     },
     "output_type": "display_data"
    }
   ],
   "source": [
    "# Histograms for each attribute\n",
    "df_features_train.plot(kind='hist', subplots=True, layout=(display_rows, display_columns))\n",
    "plt.show()"
   ]
  },
  {
   "cell_type": "code",
   "execution_count": 24,
   "metadata": {},
   "outputs": [
    {
     "name": "stderr",
     "output_type": "stream",
     "text": [
      "/usr/local/lib/python3.8/site-packages/pandas/plotting/_matplotlib/tools.py:400: MatplotlibDeprecationWarning: \n",
      "The is_first_col function was deprecated in Matplotlib 3.4 and will be removed two minor releases later. Use ax.get_subplotspec().is_first_col() instead.\n",
      "  if ax.is_first_col():\n"
     ]
    },
    {
     "data": {
      "image/png": "[encoded data removed]",
      "text/plain": [
       "<Figure size 1152x1728 with 24 Axes>"
      ]
     },
     "metadata": {
      "needs_background": "light"
     },
     "output_type": "display_data"
    }
   ],
   "source": [
    "# Box and Whisker plot for each attribute\n",
    "df_features_train.plot(kind='box', subplots=True, layout=(display_rows, display_columns))\n",
    "plt.show()"
   ]
  },
  {
   "cell_type": "code",
   "execution_count": 25,
   "metadata": {},
   "outputs": [
    {
     "data": {
      "image/png": "[encoded data removed]",
      "text/plain": [
       "<Figure size 1152x864 with 2 Axes>"
      ]
     },
     "metadata": {
      "needs_background": "light"
     },
     "output_type": "display_data"
    }
   ],
   "source": [
    "# Correlation matrix\n",
    "fig = plt.figure(figsize=(16,12))\n",
    "ax = fig.add_subplot(111)\n",
    "correlations = df_features_train.corr(method='pearson')\n",
    "cax = ax.matshow(correlations, vmin=-1, vmax=1)\n",
    "fig.colorbar(cax)\n",
    "plt.show()"
   ]
  },
  {
   "cell_type": "code",
   "execution_count": 26,
   "metadata": {},
   "outputs": [],
   "source": [
    "if NOTIFY_STATUS: status_notify(\"Task 2 - Summarize and Visualize Data completed! \"+datetime.now().strftime('%a %B %d, %Y %I:%M:%S %p'))"
   ]
  },
  {
   "cell_type": "markdown",
   "metadata": {},
   "source": [
    "## Task 3 - Pre-process Data"
   ]
  },
  {
   "cell_type": "code",
   "execution_count": 27,
   "metadata": {},
   "outputs": [],
   "source": [
    "if NOTIFY_STATUS: status_notify(\"Task 3 - Pre-process Data has begun! \"+datetime.now().strftime('%a %B %d, %Y %I:%M:%S %p'))"
   ]
  },
  {
   "cell_type": "markdown",
   "metadata": {},
   "source": [
    "### 3.a) Splitting Data into Training and Test Sets"
   ]
  },
  {
   "cell_type": "code",
   "execution_count": 28,
   "metadata": {},
   "outputs": [],
   "source": [
    "# Not applicable for this iteration of the project"
   ]
  },
  {
   "cell_type": "markdown",
   "metadata": {},
   "source": [
    "### 3.b) Feature Scaling and Data Pre-Processing"
   ]
  },
  {
   "cell_type": "code",
   "execution_count": 29,
   "metadata": {},
   "outputs": [
    {
     "name": "stdout",
     "output_type": "stream",
     "text": [
      "Number of numerical columns: 14\n",
      "Number of categorical columns: 10\n",
      "Total number of columns in the feature dataframe: 24\n"
     ]
    }
   ],
   "source": [
    "# Compose pipeline for the numerical and categorical features (Block #1 of 2)\n",
    "numeric_columns = df_features_train.select_dtypes(include=['int64','float64']).columns\n",
    "numeric_transformer = Pipeline(steps=[\n",
    "    ('imputer', impute.SimpleImputer(strategy='constant', fill_value=0))\n",
    "#     ('scaler', preprocessing.StandardScaler())\n",
    "])\n",
    "categorical_columns = df_features_train.select_dtypes(include=['object','bool']).columns\n",
    "categorical_transformer = Pipeline(steps=[\n",
    "#     ('imputer', impute.SimpleImputer(strategy='constant', fill_value='NA')),\n",
    "    ('onehot', preprocessing.OneHotEncoder(sparse=False, handle_unknown='ignore'))\n",
    "])\n",
    "\n",
    "print(\"Number of numerical columns:\", len(numeric_columns))\n",
    "print(\"Number of categorical columns:\", len(categorical_columns))\n",
    "print(\"Total number of columns in the feature dataframe:\", df_features_train.shape[1])"
   ]
  },
  {
   "cell_type": "code",
   "execution_count": 30,
   "metadata": {},
   "outputs": [
    {
     "name": "stdout",
     "output_type": "stream",
     "text": [
      "Transformed features from df_features_train.shape: (300000, 24) to array_features_train.shape: (300000, 70)\n"
     ]
    }
   ],
   "source": [
    "# Compose pipeline for the numerical and categorical features (Block #2 of 2)\n",
    "preprocessor = compose.ColumnTransformer(transformers=[\n",
    "    ('num', numeric_transformer, numeric_columns),\n",
    "    ('cat', categorical_transformer, categorical_columns)\n",
    "])\n",
    "\n",
    "# Display the shapes of the training dataset for final inspection\n",
    "array_features_train = preprocessor.fit_transform(df_features_train)\n",
    "print(\"Transformed features from df_features_train.shape: {} to array_features_train.shape: {}\".format(df_features_train.shape, array_features_train.shape))"
   ]
  },
  {
   "cell_type": "markdown",
   "metadata": {},
   "source": [
    "### 3.c) Training Data Balancing"
   ]
  },
  {
   "cell_type": "code",
   "execution_count": 31,
   "metadata": {},
   "outputs": [],
   "source": [
    "# Not applicable for this iteration of the project"
   ]
  },
  {
   "cell_type": "markdown",
   "metadata": {},
   "source": [
    "### 3.d) Feature Selection"
   ]
  },
  {
   "cell_type": "code",
   "execution_count": 32,
   "metadata": {},
   "outputs": [],
   "source": [
    "# Not applicable for this iteration of the project"
   ]
  },
  {
   "cell_type": "markdown",
   "metadata": {},
   "source": [
    "### 3.e) Display the Final Datasets for Model-Building"
   ]
  },
  {
   "cell_type": "code",
   "execution_count": 33,
   "metadata": {},
   "outputs": [
    {
     "name": "stdout",
     "output_type": "stream",
     "text": [
      "array_features_train.shape: (300000, 70) array_target_train.shape: (300000,)\n"
     ]
    }
   ],
   "source": [
    "# # Finalize the training and validation datasets for the modeling activities\n",
    "# array_features_train = df_features_train.to_numpy()\n",
    "array_target_train = df_target_train.ravel()\n",
    "print(\"array_features_train.shape: {} array_target_train.shape: {}\".format(array_features_train.shape, array_target_train.shape))"
   ]
  },
  {
   "cell_type": "code",
   "execution_count": 34,
   "metadata": {},
   "outputs": [],
   "source": [
    "if NOTIFY_STATUS: status_notify(\"Task 3 - Pre-process Data completed! \"+datetime.now().strftime('%a %B %d, %Y %I:%M:%S %p'))"
   ]
  },
  {
   "cell_type": "markdown",
   "metadata": {},
   "source": [
    "## Task 4 - Train and Evaluate Models"
   ]
  },
  {
   "cell_type": "code",
   "execution_count": 35,
   "metadata": {},
   "outputs": [],
   "source": [
    "if NOTIFY_STATUS: status_notify(\"Task 4 - Train and Evaluate Models has begun! \"+datetime.now().strftime('%a %B %d, %Y %I:%M:%S %p'))"
   ]
  },
  {
   "cell_type": "markdown",
   "metadata": {},
   "source": [
    "### 4.a) Set test options and evaluation metric"
   ]
  },
  {
   "cell_type": "code",
   "execution_count": 36,
   "metadata": {},
   "outputs": [],
   "source": [
    "# Set up Algorithms Spot-Checking Array\n",
    "start_time_training = datetime.now()\n",
    "start_time_module = datetime.now()\n",
    "train_models = []\n",
    "train_results = []\n",
    "train_model_names = []\n",
    "train_metrics = []\n",
    "train_models.append(('LNR', LinearRegression(n_jobs=N_JOBS)))\n",
    "train_models.append(('ELN', ElasticNet(random_state=RNG_SEED)))\n",
    "train_models.append(('KNN', KNeighborsRegressor(n_jobs=N_JOBS)))\n",
    "train_models.append(('RNF', RandomForestRegressor(random_state=RNG_SEED, n_jobs=N_JOBS)))\n",
    "train_models.append(('EXT', ExtraTreesRegressor(random_state=RNG_SEED, n_jobs=N_JOBS)))\n",
    "train_models.append(('GBM', GradientBoostingRegressor(random_state=RNG_SEED)))"
   ]
  },
  {
   "cell_type": "code",
   "execution_count": 37,
   "metadata": {},
   "outputs": [
    {
     "name": "stderr",
     "output_type": "stream",
     "text": [
      "[Parallel(n_jobs=4)]: Using backend LokyBackend with 4 concurrent workers.\n",
      "[Parallel(n_jobs=4)]: Done   5 out of   5 | elapsed:    7.6s finished\n",
      "[Parallel(n_jobs=4)]: Using backend LokyBackend with 4 concurrent workers.\n"
     ]
    },
    {
     "name": "stdout",
     "output_type": "stream",
     "text": [
      "LNR: -0.746187 (0.006595)\n",
      "LinearRegression(n_jobs=4)\n",
      "Model training time: 0:00:07.761349 \n",
      "\n"
     ]
    },
    {
     "name": "stderr",
     "output_type": "stream",
     "text": [
      "[Parallel(n_jobs=4)]: Done   5 out of   5 | elapsed:    1.4s finished\n",
      "[Parallel(n_jobs=4)]: Using backend LokyBackend with 4 concurrent workers.\n"
     ]
    },
    {
     "name": "stdout",
     "output_type": "stream",
     "text": [
      "ELN: -0.787294 (0.006305)\n",
      "ElasticNet(random_state=888)\n",
      "Model training time: 0:00:01.536491 \n",
      "\n"
     ]
    },
    {
     "name": "stderr",
     "output_type": "stream",
     "text": [
      "[Parallel(n_jobs=4)]: Done   5 out of   5 | elapsed: 22.0min finished\n",
      "[Parallel(n_jobs=4)]: Using backend LokyBackend with 4 concurrent workers.\n"
     ]
    },
    {
     "name": "stdout",
     "output_type": "stream",
     "text": [
      "KNN: -0.891587 (0.005042)\n",
      "KNeighborsRegressor(n_jobs=4)\n",
      "Model training time: 0:22:03.135928 \n",
      "\n",
      "RNF: -0.736172 (0.006630)\n",
      "RandomForestRegressor(n_jobs=4, random_state=888)\n",
      "Model training time: 0:25:28.891340 \n",
      "\n"
     ]
    },
    {
     "name": "stderr",
     "output_type": "stream",
     "text": [
      "[Parallel(n_jobs=4)]: Done   5 out of   5 | elapsed: 25.5min finished\n",
      "[Parallel(n_jobs=4)]: Using backend LokyBackend with 4 concurrent workers.\n",
      "[Parallel(n_jobs=4)]: Done   5 out of   5 | elapsed: 11.5min finished\n",
      "[Parallel(n_jobs=4)]: Using backend LokyBackend with 4 concurrent workers.\n"
     ]
    },
    {
     "name": "stdout",
     "output_type": "stream",
     "text": [
      "EXT: -0.748060 (0.006029)\n",
      "ExtraTreesRegressor(n_jobs=4, random_state=888)\n",
      "Model training time: 0:11:30.796415 \n",
      "\n",
      "GBM: -0.727541 (0.006936)\n",
      "GradientBoostingRegressor(random_state=888)\n",
      "Model training time: 0:14:55.950237 \n",
      "\n",
      "Average metrics (neg_mean_squared_error) from all models: -0.7728067664762603\n",
      "Average RMSE for all models is: 0.8790942875916441\n",
      "Total training time for all models: 1:14:08.098250\n"
     ]
    },
    {
     "name": "stderr",
     "output_type": "stream",
     "text": [
      "[Parallel(n_jobs=4)]: Done   5 out of   5 | elapsed: 14.9min finished\n"
     ]
    }
   ],
   "source": [
    "# Generate model in turn\n",
    "for name, model in train_models:\n",
    "\tif NOTIFY_STATUS: status_notify(\"Algorithm \"+name+\" modeling has begun! \"+datetime.now().strftime('%a %B %d, %Y %I:%M:%S %p'))\n",
    "\tstart_time_module = datetime.now()\n",
    "\tkfold = KFold(n_splits=N_FOLDS, shuffle=True, random_state=RNG_SEED)\n",
    "\tcv_results = cross_val_score(model, array_features_train, array_target_train, cv=kfold, scoring=SCORING_METRIC, n_jobs=N_JOBS, verbose=1)\n",
    "\ttrain_results.append(cv_results)\n",
    "\ttrain_model_names.append(name)\n",
    "\ttrain_metrics.append(cv_results.mean())\n",
    "\tprint(\"%s: %f (%f)\" % (name, cv_results.mean(), cv_results.std()))\n",
    "\tprint(model)\n",
    "\tprint ('Model training time:', (datetime.now() - start_time_module), '\\n')\n",
    "\tif NOTIFY_STATUS: status_notify(\"Algorithm \"+name+\" modeling completed! \"+datetime.now().strftime('%a %B %d, %Y %I:%M:%S %p'))\n",
    "print ('Average metrics (' + SCORING_METRIC + ') from all models:',np.mean(train_metrics))\n",
    "print ('Average RMSE for all models is:', math.sqrt((np.mean(train_metrics)*-1)))\n",
    "print ('Total training time for all models:',(datetime.now() - start_time_training))"
   ]
  },
  {
   "cell_type": "markdown",
   "metadata": {},
   "source": [
    "### 4.b) Spot-checking baseline algorithms"
   ]
  },
  {
   "cell_type": "code",
   "execution_count": 38,
   "metadata": {},
   "outputs": [
    {
     "data": {
      "image/png": "[encoded data removed]",
      "text/plain": [
       "<Figure size 1152x864 with 1 Axes>"
      ]
     },
     "metadata": {
      "needs_background": "light"
     },
     "output_type": "display_data"
    }
   ],
   "source": [
    "fig = plt.figure(figsize=(16,12))\n",
    "fig.suptitle('Algorithm Comparison - Spot Checking')\n",
    "ax = fig.add_subplot(111)\n",
    "plt.boxplot(train_results)\n",
    "ax.set_xticklabels(train_model_names)\n",
    "plt.show()"
   ]
  },
  {
   "cell_type": "code",
   "execution_count": 39,
   "metadata": {},
   "outputs": [],
   "source": [
    "if NOTIFY_STATUS: status_notify(\"Task 4 - Train and Evaluate Models completed! \"+datetime.now().strftime('%a %B %d, %Y %I:%M:%S %p'))"
   ]
  },
  {
   "cell_type": "markdown",
   "metadata": {},
   "source": [
    "## Task 5 - Fine-tune and Improve Models"
   ]
  },
  {
   "cell_type": "code",
   "execution_count": 40,
   "metadata": {},
   "outputs": [],
   "source": [
    "if NOTIFY_STATUS: status_notify(\"Task 5 - Fine-tune and Improve Models has begun! \"+datetime.now().strftime('%a %B %d, %Y %I:%M:%S %p'))"
   ]
  },
  {
   "cell_type": "markdown",
   "metadata": {},
   "source": [
    "### 5.a) Algorithm Tuning"
   ]
  },
  {
   "cell_type": "code",
   "execution_count": 41,
   "metadata": {},
   "outputs": [],
   "source": [
    "# Set up the comparison array\n",
    "tune_results = []\n",
    "tune_model_names = []"
   ]
  },
  {
   "cell_type": "code",
   "execution_count": 42,
   "metadata": {},
   "outputs": [
    {
     "name": "stdout",
     "output_type": "stream",
     "text": [
      "Fitting 5 folds for each of 3 candidates, totalling 15 fits\n",
      "Best: -0.730150 using {'n_estimators': 500}\n",
      "-0.736172 (0.006630) with: {'n_estimators': 100}\n",
      "-0.731129 (0.006709) with: {'n_estimators': 300}\n",
      "-0.730150 (0.006601) with: {'n_estimators': 500}\n",
      "Best RMSE for the Model is: 0.8544878895267655\n",
      "Model training time: 4:10:08.599727\n"
     ]
    }
   ],
   "source": [
    "# Tuning algorithm #1 - Extra Trees\n",
    "start_time_module = datetime.now()\n",
    "if NOTIFY_STATUS: status_notify(\"Algorithm #1 tuning has begun! \"+datetime.now().strftime('%a %B %d, %Y %I:%M:%S %p'))\n",
    "\n",
    "tune_model_names.append('RNF')\n",
    "tune_model1 = RandomForestRegressor(random_state=RNG_SEED, n_jobs=N_JOBS)\n",
    "paramGrid1 = dict(n_estimators=np.array([100, 300, 500]))\n",
    "\n",
    "kfold = KFold(n_splits=N_FOLDS, shuffle=True, random_state=RNG_SEED)\n",
    "grid1 = GridSearchCV(estimator=tune_model1, param_grid=paramGrid1, scoring=SCORING_METRIC, cv=kfold, n_jobs=N_JOBS, verbose=1)\n",
    "grid_result1 = grid1.fit(array_features_train, array_target_train)\n",
    "\n",
    "print(\"Best: %f using %s\" % (grid_result1.best_score_, grid_result1.best_params_))\n",
    "tune_results.append(grid_result1.cv_results_['mean_test_score'])\n",
    "means = grid_result1.cv_results_['mean_test_score']\n",
    "stds = grid_result1.cv_results_['std_test_score']\n",
    "params = grid_result1.cv_results_['params']\n",
    "for mean, stdev, param in zip(means, stds, params):\n",
    "    print(\"%f (%f) with: %r\" % (mean, stdev, param))\n",
    "print ('Best RMSE for the Model is:', math.sqrt((grid_result1.best_score_*-1)))\n",
    "print ('Model training time:',(datetime.now() - start_time_module))\n",
    "if NOTIFY_STATUS: status_notify(\"Algorithm #1 tuning completed! \"+datetime.now().strftime('%a %B %d, %Y %I:%M:%S %p'))"
   ]
  },
  {
   "cell_type": "code",
   "execution_count": 43,
   "metadata": {},
   "outputs": [
    {
     "name": "stdout",
     "output_type": "stream",
     "text": [
      "Captured the best parameter for algorithm #1: n_estimators = 500\n"
     ]
    }
   ],
   "source": [
    "best_paramKey1 = list(grid_result1.best_params_.keys())[0]\n",
    "best_paramValue1 = list(grid_result1.best_params_.values())[0]\n",
    "print(\"Captured the best parameter for algorithm #1:\", best_paramKey1, '=', best_paramValue1)"
   ]
  },
  {
   "cell_type": "code",
   "execution_count": 44,
   "metadata": {},
   "outputs": [
    {
     "name": "stdout",
     "output_type": "stream",
     "text": [
      "Fitting 5 folds for each of 3 candidates, totalling 15 fits\n",
      "Best: -0.713519 using {'n_estimators': 500}\n",
      "-0.727541 (0.006936) with: {'n_estimators': 100}\n",
      "-0.716085 (0.006716) with: {'n_estimators': 300}\n",
      "-0.713519 (0.006479) with: {'n_estimators': 500}\n",
      "Best RMSE for the Model is: 0.844700307585305\n",
      "Model training time: 2:30:15.221709\n"
     ]
    }
   ],
   "source": [
    "# Tuning algorithm #2 - Gradient Boosting\n",
    "start_time_module = datetime.now()\n",
    "if NOTIFY_STATUS: status_notify(\"Algorithm #2 tuning has begun! \"+datetime.now().strftime('%a %B %d, %Y %I:%M:%S %p'))\n",
    "\n",
    "tune_model_names.append('GBM')\n",
    "tune_model2 = GradientBoostingRegressor(random_state=RNG_SEED)\n",
    "paramGrid2 = dict(n_estimators=np.array([100, 300, 500]))\n",
    "\n",
    "kfold = KFold(n_splits=N_FOLDS, shuffle=True, random_state=RNG_SEED)\n",
    "grid2 = GridSearchCV(estimator=tune_model2, param_grid=paramGrid2, scoring=SCORING_METRIC, cv=kfold, n_jobs=N_JOBS, verbose=1)\n",
    "grid_result2 = grid2.fit(array_features_train, array_target_train)\n",
    "\n",
    "print(\"Best: %f using %s\" % (grid_result2.best_score_, grid_result2.best_params_))\n",
    "tune_results.append(grid_result2.cv_results_['mean_test_score'])\n",
    "means = grid_result2.cv_results_['mean_test_score']\n",
    "stds = grid_result2.cv_results_['std_test_score']\n",
    "params = grid_result2.cv_results_['params']\n",
    "for mean, stdev, param in zip(means, stds, params):\n",
    "    print(\"%f (%f) with: %r\" % (mean, stdev, param))\n",
    "print ('Best RMSE for the Model is:', math.sqrt((grid_result2.best_score_*-1)))\n",
    "print ('Model training time:',(datetime.now() - start_time_module))\n",
    "if NOTIFY_STATUS: status_notify(\"Algorithm #2 tuning completed! \"+datetime.now().strftime('%a %B %d, %Y %I:%M:%S %p'))"
   ]
  },
  {
   "cell_type": "code",
   "execution_count": 45,
   "metadata": {},
   "outputs": [
    {
     "name": "stdout",
     "output_type": "stream",
     "text": [
      "Captured the best parameter for algorithm #2: n_estimators = 500\n"
     ]
    }
   ],
   "source": [
    "best_paramKey2 = list(grid_result2.best_params_.keys())[0]\n",
    "best_paramValue2 = list(grid_result2.best_params_.values())[0]\n",
    "print(\"Captured the best parameter for algorithm #2:\", best_paramKey2, '=', best_paramValue2)"
   ]
  },
  {
   "cell_type": "markdown",
   "metadata": {},
   "source": [
    "### 5.b) Compare Algorithms After Tuning"
   ]
  },
  {
   "cell_type": "code",
   "execution_count": 46,
   "metadata": {},
   "outputs": [
    {
     "data": {
      "image/png": "[encoded data removed]",
      "text/plain": [
       "<Figure size 1152x864 with 1 Axes>"
      ]
     },
     "metadata": {
      "needs_background": "light"
     },
     "output_type": "display_data"
    }
   ],
   "source": [
    "fig = plt.figure(figsize=(16,12))\n",
    "fig.suptitle('Algorithm Comparison - Post Tuning')\n",
    "ax = fig.add_subplot(111)\n",
    "plt.boxplot(tune_results)\n",
    "ax.set_xticklabels(tune_model_names)\n",
    "plt.show()"
   ]
  },
  {
   "cell_type": "code",
   "execution_count": 47,
   "metadata": {},
   "outputs": [],
   "source": [
    "if NOTIFY_STATUS: status_notify(\"Task 5 - Fine-tune and Improve Models completed! \"+datetime.now().strftime('%a %B %d, %Y %I:%M:%S %p'))"
   ]
  },
  {
   "cell_type": "markdown",
   "metadata": {},
   "source": [
    "## Task 6 - Finalize Model and Present Analysis"
   ]
  },
  {
   "cell_type": "code",
   "execution_count": 48,
   "metadata": {},
   "outputs": [],
   "source": [
    "if NOTIFY_STATUS: status_notify(\"Task 6 - Finalize Model and Present Analysis has begun! \"+datetime.now().strftime('%a %B %d, %Y %I:%M:%S %p'))"
   ]
  },
  {
   "cell_type": "markdown",
   "metadata": {},
   "source": [
    "### 6.a) Train the Final Model"
   ]
  },
  {
   "cell_type": "code",
   "execution_count": 49,
   "metadata": {},
   "outputs": [
    {
     "name": "stdout",
     "output_type": "stream",
     "text": [
      "GradientBoostingRegressor(n_estimators=500, random_state=888)\n"
     ]
    }
   ],
   "source": [
    "final_model = GradientBoostingRegressor(n_estimators=best_paramValue2, random_state=RNG_SEED)\n",
    "final_model.fit(array_features_train, array_target_train)\n",
    "print(final_model)"
   ]
  },
  {
   "cell_type": "markdown",
   "metadata": {},
   "source": [
    "### 6.b) Load Test Dataset and Prepare the Submission File"
   ]
  },
  {
   "cell_type": "code",
   "execution_count": 50,
   "metadata": {
    "collapsed": false,
    "jupyter": {
     "outputs_hidden": false
    },
    "pycharm": {
     "name": "#%%\n"
    }
   },
   "outputs": [
    {
     "name": "stdout",
     "output_type": "stream",
     "text": [
      "   id cat0 cat1 cat2 cat3 cat4 cat5 cat6 cat7 cat8  ...     cont4     cont5     cont6     cont7     cont8     cont9    cont10    cont11  \\\n",
      "0   0    A    B    A    C    B    D    A    E    E  ...  0.701679  0.595507  0.286912  0.279884  0.202234  0.242654  0.285147  0.264308   \n",
      "1   5    A    B    A    C    B    D    A    E    C  ...  0.277480  0.479552  0.397436  0.476742  0.857073  0.516393  0.562065  0.730542   \n",
      "2  15    A    B    A    C    B    D    A    E    C  ...  0.279508  0.676395  0.695284  0.253316  0.586934  0.548555  0.836193  0.759788   \n",
      "3  16    A    A    B    A    B    D    A    E    E  ...  0.479503  0.759875  0.240049  0.298074  0.442475  0.596746  0.414131  0.255382   \n",
      "4  17    A    B    A    A    B    B    A    E    E  ...  0.757845  0.210232  0.329851  0.616663  0.170475  0.263235  0.710961  0.224045   \n",
      "\n",
      "     cont12    cont13  \n",
      "0  0.653654  0.302448  \n",
      "1  0.318492  0.736251  \n",
      "2  0.333572  0.273905  \n",
      "3  0.589080  0.311625  \n",
      "4  0.285860  0.794931  \n",
      "\n",
      "[5 rows x 25 columns]\n"
     ]
    }
   ],
   "source": [
    "dataset_path = 'https://dainesanalytics.com/datasets/kaggle-tabular-playground-2021feb/test.csv'\n",
    "df_features_test = pd.read_csv(dataset_path, index_col=False)\n",
    "\n",
    "# Take a peek at the dataframe after import\n",
    "print(df_features_test.head())"
   ]
  },
  {
   "cell_type": "code",
   "execution_count": 51,
   "metadata": {},
   "outputs": [
    {
     "name": "stdout",
     "output_type": "stream",
     "text": [
      "   id\n",
      "0   0\n",
      "1   5\n",
      "2  15\n",
      "3  16\n",
      "4  17\n"
     ]
    }
   ],
   "source": [
    "df_kaggle_submission = pd.DataFrame()\n",
    "df_kaggle_submission['id'] = df_features_test['id']\n",
    "print(df_kaggle_submission.head())"
   ]
  },
  {
   "cell_type": "code",
   "execution_count": 52,
   "metadata": {
    "collapsed": false,
    "jupyter": {
     "outputs_hidden": false
    },
    "pycharm": {
     "name": "#%%\n"
    }
   },
   "outputs": [
    {
     "name": "stdout",
     "output_type": "stream",
     "text": [
      "  cat0 cat1 cat2 cat3 cat4 cat5 cat6 cat7 cat8 cat9  ...     cont4     cont5     cont6     cont7     cont8     cont9    cont10    cont11  \\\n",
      "0    A    B    A    C    B    D    A    E    E    G  ...  0.701679  0.595507  0.286912  0.279884  0.202234  0.242654  0.285147  0.264308   \n",
      "1    A    B    A    C    B    D    A    E    C    L  ...  0.277480  0.479552  0.397436  0.476742  0.857073  0.516393  0.562065  0.730542   \n",
      "2    A    B    A    C    B    D    A    E    C    F  ...  0.279508  0.676395  0.695284  0.253316  0.586934  0.548555  0.836193  0.759788   \n",
      "3    A    A    B    A    B    D    A    E    E    F  ...  0.479503  0.759875  0.240049  0.298074  0.442475  0.596746  0.414131  0.255382   \n",
      "4    A    B    A    A    B    B    A    E    E    I  ...  0.757845  0.210232  0.329851  0.616663  0.170475  0.263235  0.710961  0.224045   \n",
      "\n",
      "     cont12    cont13  \n",
      "0  0.653654  0.302448  \n",
      "1  0.318492  0.736251  \n",
      "2  0.333572  0.273905  \n",
      "3  0.589080  0.311625  \n",
      "4  0.285860  0.794931  \n",
      "\n",
      "[5 rows x 24 columns]\n"
     ]
    }
   ],
   "source": [
    "# Dropping features\n",
    "df_features_test.drop(columns=['id'], inplace=True)\n",
    "\n",
    "# Take a peek at the dataframe after cleaning\n",
    "print(df_features_test.head())"
   ]
  },
  {
   "cell_type": "code",
   "execution_count": 53,
   "metadata": {},
   "outputs": [
    {
     "name": "stdout",
     "output_type": "stream",
     "text": [
      "Transformed features from df_features_test.shape: (200000, 24) to array_features_test.shape: (200000, 70)\n"
     ]
    }
   ],
   "source": [
    "# Display the shapes of the training dataset for final inspection\n",
    "array_features_test = preprocessor.transform(df_features_test)\n",
    "print(\"Transformed features from df_features_test.shape: {} to array_features_test.shape: {}\".format(df_features_test.shape, array_features_test.shape))"
   ]
  },
  {
   "cell_type": "code",
   "execution_count": 54,
   "metadata": {},
   "outputs": [
    {
     "name": "stdout",
     "output_type": "stream",
     "text": [
      "[7.60650557 7.71212887 7.60363328 ... 7.53286067 7.46482212 7.33111215]\n"
     ]
    }
   ],
   "source": [
    "# Make batched predictions\n",
    "test_predictions = final_model.predict(array_features_test)\n",
    "print(test_predictions)"
   ]
  },
  {
   "cell_type": "code",
   "execution_count": 55,
   "metadata": {},
   "outputs": [
    {
     "name": "stdout",
     "output_type": "stream",
     "text": [
      "   id    target\n",
      "0   0  7.606506\n",
      "1   5  7.712129\n",
      "2  15  7.603633\n",
      "3  16  7.433518\n",
      "4  17  7.272547\n"
     ]
    }
   ],
   "source": [
    "df_kaggle_submission['target'] = test_predictions\n",
    "print(df_kaggle_submission.head())"
   ]
  },
  {
   "cell_type": "code",
   "execution_count": 56,
   "metadata": {},
   "outputs": [
    {
     "name": "stdout",
     "output_type": "stream",
     "text": [
      "Completed writing output file: submission_20210522-0844.csv\n"
     ]
    }
   ],
   "source": [
    "submission_file = df_kaggle_submission.to_csv(header=True, index=False)\n",
    "filename = 'submission_' + datetime.now().strftime('%Y%m%d-%H%M') + '.csv'\n",
    "with open(filename, 'w') as f:\n",
    "    f.write(submission_file)\n",
    "    print('Completed writing output file: ' + filename)"
   ]
  },
  {
   "cell_type": "code",
   "execution_count": 57,
   "metadata": {},
   "outputs": [],
   "source": [
    "if NOTIFY_STATUS: status_notify(\"Task 6 - Finalize Model and Present Analysis completed! \"+datetime.now().strftime('%a %B %d, %Y %I:%M:%S %p'))"
   ]
  },
  {
   "cell_type": "code",
   "execution_count": 58,
   "metadata": {},
   "outputs": [
    {
     "name": "stdout",
     "output_type": "stream",
     "text": [
      "Total time for the script: 8:39:48.358087\n"
     ]
    }
   ],
   "source": [
    "print ('Total time for the script:',(datetime.now() - start_time_script))"
   ]
  }
 ],
 "metadata": {
  "kernelspec": {
   "display_name": "Python 3",
   "language": "python",
   "name": "python3"
  },
  "language_info": {
   "codemirror_mode": {
    "name": "ipython",
    "version": 3
   },
   "file_extension": ".py",
   "mimetype": "text/x-python",
   "name": "python",
   "nbconvert_exporter": "python",
   "pygments_lexer": "ipython3",
   "version": "3.8.8"
  }
 },
 "nbformat": 4,
 "nbformat_minor": 4
}
