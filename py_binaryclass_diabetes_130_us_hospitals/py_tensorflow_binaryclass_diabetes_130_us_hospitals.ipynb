{
  "nbformat": 4,
  "nbformat_minor": 0,
  "metadata": {
    "kernelspec": {
      "display_name": "Python 3",
      "language": "python",
      "name": "python3"
    },
    "language_info": {
      "codemirror_mode": {
        "name": "ipython",
        "version": 3
      },
      "file_extension": ".py",
      "mimetype": "text/x-python",
      "name": "python",
      "nbconvert_exporter": "python",
      "pygments_lexer": "ipython3",
      "version": "3.8.10"
    },
    "colab": {
      "name": "py_tensorflow_binaryclass_diabetes_130_us_hospitals.ipynb",
      "provenance": [],
      "collapsed_sections": [],
      "toc_visible": true,
      "machine_shape": "hm"
    },
    "accelerator": "GPU"
  },
  "cells": [
    {
      "cell_type": "markdown",
      "metadata": {
        "id": "TVs0Qopg3l7w"
      },
      "source": [
        "### Binary Classification Model for Diabetes 130-US Hospitals Using Python and TensorFlow\n",
        "### David Lowe\n",
        "### June 21, 2021\n",
        "\n",
        "Template Credit: Adapted from a template made available by Dr. Jason Brownlee of Machine Learning Mastery. [https://machinelearningmastery.com/]\n",
        "\n",
        "SUMMARY: This project aims to construct a predictive model using various machine learning algorithms and document the end-to-end steps using a template. The Diabetes 130-US Hospital dataset is a binary classification situation where we attempt to predict one of the two possible outcomes.\n",
        "\n",
        "INTRODUCTION: The data set is the Diabetes 130-US Hospitals for years 1999-2008 donated to the University of California, Irvine (UCI) Machine Learning Repository. The dataset represents ten years (1999-2008) of clinical care at 130 US hospitals and integrated delivery networks. It includes over 50 features representing patient and hospital outcomes.\n",
        "\n",
        "ANALYSIS: The performance of the cross-validated TensorFlow models achieved an average accuracy benchmark of 62.95% after running for 10 epochs. When we applied the final model to the test dataset, the model achieved an accuracy score of 63.60%.\n",
        "\n",
        "CONCLUSION: In this iteration, the TensorFlow model appeared to be a suitable algorithm for modeling this dataset.\n",
        "\n",
        "Dataset Used: Diabetes 130-US Hospitals for years 1999-2008 Dataset\n",
        "\n",
        "Dataset ML Model: Binary classification with numerical and categorical attributes\n",
        "\n",
        "Dataset Reference: https://archive-beta.ics.uci.edu/ml/datasets/296\n",
        "\n",
        "One potential source of performance benchmarks: http://www.hindawi.com/journals/bmri/2014/781670/\n",
        "\n",
        "Any predictive modeling machine learning project generally can be broken down into about six major tasks:\n",
        "\n",
        "1. Prepare Environment\n",
        "2. Summarize and Visualize Data\n",
        "3. Pre-process Data\n",
        "4. Train and Evaluate Models\n",
        "5. Fine-tune and Improve Models\n",
        "6. Finalize Model and Present Analysis"
      ]
    },
    {
      "cell_type": "markdown",
      "metadata": {
        "id": "XcvIFuk03l7z"
      },
      "source": [
        "## Task 1 - Prepare Environment"
      ]
    },
    {
      "cell_type": "code",
      "metadata": {
        "id": "Q8WmuNd23l70"
      },
      "source": [
        "# Install the necessary packages for Colab\n",
        "# !pip install python-dotenv PyMySQL"
      ],
      "execution_count": 1,
      "outputs": []
    },
    {
      "cell_type": "code",
      "metadata": {
        "id": "oFWd7eph3l70",
        "colab": {
          "base_uri": "https://localhost:8080/"
        },
        "outputId": "ec59aa1f-e6fa-4bdf-8529-28e5ff28a936"
      },
      "source": [
        "# Retrieve the GPU information from Colab\n",
        "gpu_info = !nvidia-smi\n",
        "gpu_info = '\\n'.join(gpu_info)\n",
        "if gpu_info.find('failed') >= 0:\n",
        "    print('Select the Runtime → \"Change runtime type\" menu to enable a GPU accelerator, ')\n",
        "    print('and then re-execute this cell.')\n",
        "else:\n",
        "    print(gpu_info)"
      ],
      "execution_count": 2,
      "outputs": [
        {
          "output_type": "stream",
          "text": [
            "Wed Jun 16 22:32:19 2021       \n",
            "+-----------------------------------------------------------------------------+\n",
            "| NVIDIA-SMI 465.27       Driver Version: 460.32.03    CUDA Version: 11.2     |\n",
            "|-------------------------------+----------------------+----------------------+\n",
            "| GPU  Name        Persistence-M| Bus-Id        Disp.A | Volatile Uncorr. ECC |\n",
            "| Fan  Temp  Perf  Pwr:Usage/Cap|         Memory-Usage | GPU-Util  Compute M. |\n",
            "|                               |                      |               MIG M. |\n",
            "|===============================+======================+======================|\n",
            "|   0  Tesla P100-PCIE...  Off  | 00000000:00:04.0 Off |                    0 |\n",
            "| N/A   45C    P0    30W / 250W |      0MiB / 16280MiB |      0%      Default |\n",
            "|                               |                      |                  N/A |\n",
            "+-------------------------------+----------------------+----------------------+\n",
            "                                                                               \n",
            "+-----------------------------------------------------------------------------+\n",
            "| Processes:                                                                  |\n",
            "|  GPU   GI   CI        PID   Type   Process name                  GPU Memory |\n",
            "|        ID   ID                                                   Usage      |\n",
            "|=============================================================================|\n",
            "|  No running processes found                                                 |\n",
            "+-----------------------------------------------------------------------------+\n"
          ],
          "name": "stdout"
        }
      ]
    },
    {
      "cell_type": "code",
      "metadata": {
        "id": "2tWJ-QK63l71",
        "colab": {
          "base_uri": "https://localhost:8080/"
        },
        "outputId": "4f2dfc4a-0f15-443e-94cc-f65f62c9ef20"
      },
      "source": [
        "# Retrieve the memory configuration from Colab\n",
        "from psutil import virtual_memory\n",
        "ram_gb = virtual_memory().total / 1e9\n",
        "print('Your runtime has {:.1f} gigabytes of available RAM\\n'.format(ram_gb))\n",
        "\n",
        "if ram_gb < 20:\n",
        "    print('To enable a high-RAM runtime, select the Runtime → \"Change runtime type\"')\n",
        "    print('menu, and then select High-RAM in the Runtime shape dropdown. Then, ')\n",
        "    print('re-execute this cell.')\n",
        "else:\n",
        "    print('You are using a high-RAM runtime!')"
      ],
      "execution_count": 3,
      "outputs": [
        {
          "output_type": "stream",
          "text": [
            "Your runtime has 27.3 gigabytes of available RAM\n",
            "\n",
            "You are using a high-RAM runtime!\n"
          ],
          "name": "stdout"
        }
      ]
    },
    {
      "cell_type": "code",
      "metadata": {
        "id": "MMxv3rIM3l71",
        "colab": {
          "base_uri": "https://localhost:8080/"
        },
        "outputId": "26d502a8-18e2-4c65-fc80-64355c594bc3"
      },
      "source": [
        "# Retrieve the CPU information\n",
        "ncpu = !nproc\n",
        "print(\"The number of available CPUs is:\", ncpu[0])"
      ],
      "execution_count": 4,
      "outputs": [
        {
          "output_type": "stream",
          "text": [
            "The number of available CPUs is: 4\n"
          ],
          "name": "stdout"
        }
      ]
    },
    {
      "cell_type": "markdown",
      "metadata": {
        "id": "I7LCAiYF3l72"
      },
      "source": [
        "### 1.a) Load libraries and modules"
      ]
    },
    {
      "cell_type": "code",
      "metadata": {
        "id": "IcBsRRuj3l73"
      },
      "source": [
        "# Set the random seed number for reproducible results\n",
        "RNG_SEED = 888"
      ],
      "execution_count": 5,
      "outputs": []
    },
    {
      "cell_type": "code",
      "metadata": {
        "id": "qvqMowk53l73"
      },
      "source": [
        "import random\n",
        "random.seed(RNG_SEED)\n",
        "import numpy as np\n",
        "np.random.seed(RNG_SEED)\n",
        "import pandas as pd\n",
        "import seaborn as sns\n",
        "import matplotlib.pyplot as plt\n",
        "import os\n",
        "import sys\n",
        "import math\n",
        "from datetime import datetime\n",
        "# import boto3\n",
        "# from dotenv import load_dotenv\n",
        "from sklearn import preprocessing\n",
        "from sklearn.model_selection import train_test_split\n",
        "from sklearn.model_selection import RepeatedKFold\n",
        "from sklearn.metrics import classification_report\n",
        "from sklearn.metrics import confusion_matrix\n",
        "from sklearn.metrics import accuracy_score\n",
        "from sklearn.metrics import roc_auc_score\n",
        "from sklearn.pipeline import Pipeline\n",
        "from sklearn import compose\n",
        "from sklearn import impute\n",
        "import tensorflow as tf\n",
        "tf.random.set_seed(RNG_SEED)\n",
        "from tensorflow import keras\n",
        "from tensorflow.keras.callbacks import ReduceLROnPlateau"
      ],
      "execution_count": 6,
      "outputs": []
    },
    {
      "cell_type": "markdown",
      "metadata": {
        "id": "lj9CEmZv3l74"
      },
      "source": [
        "### 1.b) Set up the controlling parameters and functions"
      ]
    },
    {
      "cell_type": "code",
      "metadata": {
        "id": "37e7yBJt3l74",
        "colab": {
          "base_uri": "https://localhost:8080/"
        },
        "outputId": "a84262c9-def9-424e-b4eb-24bf95611e0a"
      },
      "source": [
        "# Begin the timer for the script processing\n",
        "start_time_script = datetime.now()\n",
        "\n",
        "# Set up the number of CPU cores available for multi-thread processing\n",
        "N_JOBS = 1\n",
        "\n",
        "# Set up the flag to stop sending progress emails (setting to True will send status emails!)\n",
        "NOTIFY_STATUS = False\n",
        "\n",
        "# Set the percentage sizes for splitting the dataset\n",
        "TEST_SET_RATIO = 0.2\n",
        "VAL_SET_RATIO = 0.25\n",
        "\n",
        "# Set the number of folds for cross validation\n",
        "N_FOLDS = 5\n",
        "N_ITERATIONS = 1\n",
        "\n",
        "# Set various default modeling parameters\n",
        "DEFAULT_LOSS = 'binary_crossentropy'\n",
        "DEFAULT_METRICS = ['accuracy']\n",
        "DEFAULT_OPTIMIZER = tf.keras.optimizers.Adam(learning_rate=0.001)\n",
        "DEFAULT_INITIALIZER = tf.keras.initializers.RandomNormal(seed=RNG_SEED)\n",
        "CLASSIFIER_ACTIVATION = 'sigmoid'\n",
        "MAX_EPOCHS = 10\n",
        "BATCH_SIZE = 32\n",
        "\n",
        "# Define the labels to use for graphing the data\n",
        "train_metric = \"accuracy\"\n",
        "validation_metric = \"val_accuracy\"\n",
        "train_loss = \"loss\"\n",
        "validation_loss = \"val_loss\"\n",
        "\n",
        "# Check the number of GPUs accessible through TensorFlow\n",
        "print('Num GPUs Available:', len(tf.config.list_physical_devices('GPU')))\n",
        "\n",
        "# Print out the TensorFlow version for confirmation\n",
        "print('TensorFlow version:', tf.__version__)"
      ],
      "execution_count": 7,
      "outputs": [
        {
          "output_type": "stream",
          "text": [
            "Num GPUs Available: 1\n",
            "TensorFlow version: 2.5.0\n"
          ],
          "name": "stdout"
        }
      ]
    },
    {
      "cell_type": "code",
      "metadata": {
        "id": "DeabrzoC3l75"
      },
      "source": [
        "# Set up the email notification function\n",
        "def status_notify(msg_text):\n",
        "    access_key = os.environ.get('SNS_ACCESS_KEY')\n",
        "    secret_key = os.environ.get('SNS_SECRET_KEY')\n",
        "    aws_region = os.environ.get('SNS_AWS_REGION')\n",
        "    topic_arn = os.environ.get('SNS_TOPIC_ARN')\n",
        "    if (access_key is None) or (secret_key is None) or (aws_region is None):\n",
        "        sys.exit(\"Incomplete notification setup info. Script Processing Aborted!!!\")\n",
        "    sns = boto3.client('sns', aws_access_key_id=access_key, aws_secret_access_key=secret_key, region_name=aws_region)\n",
        "    response = sns.publish(TopicArn=topic_arn, Message=msg_text)\n",
        "    if response['ResponseMetadata']['HTTPStatusCode'] != 200 :\n",
        "        print('Status notification not OK with HTTP status code:', response['ResponseMetadata']['HTTPStatusCode'])"
      ],
      "execution_count": 8,
      "outputs": []
    },
    {
      "cell_type": "code",
      "metadata": {
        "id": "z6at5jHEyl6k"
      },
      "source": [
        "# Reset the random number generators\n",
        "def reset_random(x=RNG_SEED):\n",
        "    random.seed(x)\n",
        "    np.random.seed(x)\n",
        "    tf.random.set_seed(x)"
      ],
      "execution_count": 9,
      "outputs": []
    },
    {
      "cell_type": "code",
      "metadata": {
        "id": "-LXEI2QY3l75"
      },
      "source": [
        "if NOTIFY_STATUS: status_notify(\"Task 1 - Prepare Environment has begun! \" + datetime.now().strftime('%a %B %d, %Y %I:%M:%S %p'))"
      ],
      "execution_count": 10,
      "outputs": []
    },
    {
      "cell_type": "markdown",
      "metadata": {
        "id": "Iud46_Nn3l76"
      },
      "source": [
        "### 1.c) Load dataset"
      ]
    },
    {
      "cell_type": "code",
      "metadata": {
        "id": "zw8vysCp3l76",
        "colab": {
          "base_uri": "https://localhost:8080/"
        },
        "outputId": "6ed53a20-9902-41cb-e097-7e6daf7fa4de"
      },
      "source": [
        "dataset_path = 'https://dainesanalytics.com/datasets/ucirvine-diabetes-130-us-hospitals/diabetic_data.csv'\n",
        "df_dataset_import = pd.read_csv(dataset_path, na_values='?')\n",
        "\n",
        "# Take a peek at the dataframe after import\n",
        "print(df_dataset_import.head())"
      ],
      "execution_count": 11,
      "outputs": [
        {
          "output_type": "stream",
          "text": [
            "   encounter_id  patient_nbr             race  ... change diabetesMed readmitted\n",
            "0       2278392      8222157        Caucasian  ...     No          No         NO\n",
            "1        149190     55629189        Caucasian  ...     Ch         Yes        >30\n",
            "2         64410     86047875  AfricanAmerican  ...     No         Yes         NO\n",
            "3        500364     82442376        Caucasian  ...     Ch         Yes         NO\n",
            "4         16680     42519267        Caucasian  ...     Ch         Yes         NO\n",
            "\n",
            "[5 rows x 50 columns]\n"
          ],
          "name": "stdout"
        },
        {
          "output_type": "stream",
          "text": [
            "/usr/local/lib/python3.7/dist-packages/IPython/core/interactiveshell.py:2718: DtypeWarning: Columns (10) have mixed types.Specify dtype option on import or set low_memory=False.\n",
            "  interactivity=interactivity, compiler=compiler, result=result)\n"
          ],
          "name": "stderr"
        }
      ]
    },
    {
      "cell_type": "code",
      "metadata": {
        "id": "qdseXAzd3l76",
        "colab": {
          "base_uri": "https://localhost:8080/"
        },
        "outputId": "03847748-fb2d-45ef-f2f2-1b3e090734b9"
      },
      "source": [
        "df_dataset_import.info(verbose=True)"
      ],
      "execution_count": 12,
      "outputs": [
        {
          "output_type": "stream",
          "text": [
            "<class 'pandas.core.frame.DataFrame'>\n",
            "RangeIndex: 101766 entries, 0 to 101765\n",
            "Data columns (total 50 columns):\n",
            " #   Column                    Non-Null Count   Dtype \n",
            "---  ------                    --------------   ----- \n",
            " 0   encounter_id              101766 non-null  int64 \n",
            " 1   patient_nbr               101766 non-null  int64 \n",
            " 2   race                      99493 non-null   object\n",
            " 3   gender                    101766 non-null  object\n",
            " 4   age                       101766 non-null  object\n",
            " 5   weight                    3197 non-null    object\n",
            " 6   admission_type_id         101766 non-null  int64 \n",
            " 7   discharge_disposition_id  101766 non-null  int64 \n",
            " 8   admission_source_id       101766 non-null  int64 \n",
            " 9   time_in_hospital          101766 non-null  int64 \n",
            " 10  payer_code                61510 non-null   object\n",
            " 11  medical_specialty         51817 non-null   object\n",
            " 12  num_lab_procedures        101766 non-null  int64 \n",
            " 13  num_procedures            101766 non-null  int64 \n",
            " 14  num_medications           101766 non-null  int64 \n",
            " 15  number_outpatient         101766 non-null  int64 \n",
            " 16  number_emergency          101766 non-null  int64 \n",
            " 17  number_inpatient          101766 non-null  int64 \n",
            " 18  diag_1                    101745 non-null  object\n",
            " 19  diag_2                    101408 non-null  object\n",
            " 20  diag_3                    100343 non-null  object\n",
            " 21  number_diagnoses          101766 non-null  int64 \n",
            " 22  max_glu_serum             101766 non-null  object\n",
            " 23  A1Cresult                 101766 non-null  object\n",
            " 24  metformin                 101766 non-null  object\n",
            " 25  repaglinide               101766 non-null  object\n",
            " 26  nateglinide               101766 non-null  object\n",
            " 27  chlorpropamide            101766 non-null  object\n",
            " 28  glimepiride               101766 non-null  object\n",
            " 29  acetohexamide             101766 non-null  object\n",
            " 30  glipizide                 101766 non-null  object\n",
            " 31  glyburide                 101766 non-null  object\n",
            " 32  tolbutamide               101766 non-null  object\n",
            " 33  pioglitazone              101766 non-null  object\n",
            " 34  rosiglitazone             101766 non-null  object\n",
            " 35  acarbose                  101766 non-null  object\n",
            " 36  miglitol                  101766 non-null  object\n",
            " 37  troglitazone              101766 non-null  object\n",
            " 38  tolazamide                101766 non-null  object\n",
            " 39  examide                   101766 non-null  object\n",
            " 40  citoglipton               101766 non-null  object\n",
            " 41  insulin                   101766 non-null  object\n",
            " 42  glyburide-metformin       101766 non-null  object\n",
            " 43  glipizide-metformin       101766 non-null  object\n",
            " 44  glimepiride-pioglitazone  101766 non-null  object\n",
            " 45  metformin-rosiglitazone   101766 non-null  object\n",
            " 46  metformin-pioglitazone    101766 non-null  object\n",
            " 47  change                    101766 non-null  object\n",
            " 48  diabetesMed               101766 non-null  object\n",
            " 49  readmitted                101766 non-null  object\n",
            "dtypes: int64(13), object(37)\n",
            "memory usage: 38.8+ MB\n"
          ],
          "name": "stdout"
        }
      ]
    },
    {
      "cell_type": "code",
      "metadata": {
        "id": "dut08ci_3l77",
        "colab": {
          "base_uri": "https://localhost:8080/"
        },
        "outputId": "96873d7a-9a63-47d2-f5f7-1ea21accef78"
      },
      "source": [
        "print(df_dataset_import.describe())"
      ],
      "execution_count": 13,
      "outputs": [
        {
          "output_type": "stream",
          "text": [
            "       encounter_id   patient_nbr  ...  number_inpatient  number_diagnoses\n",
            "count  1.017660e+05  1.017660e+05  ...     101766.000000     101766.000000\n",
            "mean   1.652016e+08  5.433040e+07  ...          0.635566          7.422607\n",
            "std    1.026403e+08  3.869636e+07  ...          1.262863          1.933600\n",
            "min    1.252200e+04  1.350000e+02  ...          0.000000          1.000000\n",
            "25%    8.496119e+07  2.341322e+07  ...          0.000000          6.000000\n",
            "50%    1.523890e+08  4.550514e+07  ...          0.000000          8.000000\n",
            "75%    2.302709e+08  8.754595e+07  ...          1.000000          9.000000\n",
            "max    4.438672e+08  1.895026e+08  ...         21.000000         16.000000\n",
            "\n",
            "[8 rows x 13 columns]\n"
          ],
          "name": "stdout"
        }
      ]
    },
    {
      "cell_type": "code",
      "metadata": {
        "id": "6j5yMdxL3l77",
        "colab": {
          "base_uri": "https://localhost:8080/"
        },
        "outputId": "841de699-5c59-4312-b03f-26b1b8b284a2"
      },
      "source": [
        "print(df_dataset_import.isnull().sum())\n",
        "print('Total number of NaN in the dataframe: ', df_dataset_import.isnull().sum().sum())"
      ],
      "execution_count": 14,
      "outputs": [
        {
          "output_type": "stream",
          "text": [
            "encounter_id                    0\n",
            "patient_nbr                     0\n",
            "race                         2273\n",
            "gender                          0\n",
            "age                             0\n",
            "weight                      98569\n",
            "admission_type_id               0\n",
            "discharge_disposition_id        0\n",
            "admission_source_id             0\n",
            "time_in_hospital                0\n",
            "payer_code                  40256\n",
            "medical_specialty           49949\n",
            "num_lab_procedures              0\n",
            "num_procedures                  0\n",
            "num_medications                 0\n",
            "number_outpatient               0\n",
            "number_emergency                0\n",
            "number_inpatient                0\n",
            "diag_1                         21\n",
            "diag_2                        358\n",
            "diag_3                       1423\n",
            "number_diagnoses                0\n",
            "max_glu_serum                   0\n",
            "A1Cresult                       0\n",
            "metformin                       0\n",
            "repaglinide                     0\n",
            "nateglinide                     0\n",
            "chlorpropamide                  0\n",
            "glimepiride                     0\n",
            "acetohexamide                   0\n",
            "glipizide                       0\n",
            "glyburide                       0\n",
            "tolbutamide                     0\n",
            "pioglitazone                    0\n",
            "rosiglitazone                   0\n",
            "acarbose                        0\n",
            "miglitol                        0\n",
            "troglitazone                    0\n",
            "tolazamide                      0\n",
            "examide                         0\n",
            "citoglipton                     0\n",
            "insulin                         0\n",
            "glyburide-metformin             0\n",
            "glipizide-metformin             0\n",
            "glimepiride-pioglitazone        0\n",
            "metformin-rosiglitazone         0\n",
            "metformin-pioglitazone          0\n",
            "change                          0\n",
            "diabetesMed                     0\n",
            "readmitted                      0\n",
            "dtype: int64\n",
            "Total number of NaN in the dataframe:  192849\n"
          ],
          "name": "stdout"
        }
      ]
    },
    {
      "cell_type": "markdown",
      "metadata": {
        "id": "Hxxn8gnj3l78"
      },
      "source": [
        "### 1.d) Data Cleaning"
      ]
    },
    {
      "cell_type": "code",
      "metadata": {
        "id": "osjQPBQY3l78",
        "colab": {
          "base_uri": "https://localhost:8080/"
        },
        "outputId": "1cb6d7d1-aaf3-40fa-a981-2acbdc6ca76c"
      },
      "source": [
        "# Dropping features that are unique identifiers\n",
        "df_dataset_import.drop(columns=['encounter_id','patient_nbr'], inplace=True)\n",
        "\n",
        "# Dropping features not relevant according to the study\n",
        "df_dataset_import.drop(columns=['gender','weight','payer_code','diag_2','diag_3'], inplace=True)\n",
        "df_dataset_import.drop(columns=['metformin','repaglinide','nateglinide','chlorpropamide',\n",
        "                                'glimepiride','acetohexamide','glipizide','glyburide','tolbutamide',\n",
        "                                'pioglitazone','rosiglitazone','acarbose','miglitol','troglitazone',\n",
        "                                'tolazamide','examide','citoglipton','insulin','glyburide-metformin',\n",
        "                                'glipizide-metformin','glimepiride-pioglitazone','metformin-rosiglitazone',\n",
        "                                'metformin-pioglitazone'], inplace=True)\n",
        "\n",
        "# Convert columns from one data type to another\n",
        "df_dataset_import['admission_type_id'] = df_dataset_import['admission_type_id'].astype('category')\n",
        "df_dataset_import['discharge_disposition_id'] = df_dataset_import['discharge_disposition_id'].astype('category')\n",
        "df_dataset_import['admission_source_id'] = df_dataset_import['admission_source_id'].astype('category')\n",
        "\n",
        "# Convert features with R/M levels into categorical feature of 0/1\n",
        "def relabel_target(target):\n",
        "    if target == 'NO': return 0\n",
        "    else: return 1\n",
        "df_dataset_import['target'] = df_dataset_import['readmitted'].apply(relabel_target)\n",
        "df_dataset_import.drop(columns=['readmitted'], inplace=True)\n",
        "\n",
        "# Take a peek at the dataframe after cleaning\n",
        "print(df_dataset_import.head())"
      ],
      "execution_count": 15,
      "outputs": [
        {
          "output_type": "stream",
          "text": [
            "              race      age admission_type_id  ... change diabetesMed  target\n",
            "0        Caucasian   [0-10)                 6  ...     No          No       0\n",
            "1        Caucasian  [10-20)                 1  ...     Ch         Yes       1\n",
            "2  AfricanAmerican  [20-30)                 1  ...     No         Yes       0\n",
            "3        Caucasian  [30-40)                 1  ...     Ch         Yes       0\n",
            "4        Caucasian  [40-50)                 1  ...     Ch         Yes       0\n",
            "\n",
            "[5 rows x 20 columns]\n"
          ],
          "name": "stdout"
        }
      ]
    },
    {
      "cell_type": "code",
      "metadata": {
        "id": "t36Yn9gl3l78",
        "colab": {
          "base_uri": "https://localhost:8080/"
        },
        "outputId": "d9a2a9be-4295-4a5a-b5ec-358633a03314"
      },
      "source": [
        "df_dataset_import.info(verbose=True)"
      ],
      "execution_count": 16,
      "outputs": [
        {
          "output_type": "stream",
          "text": [
            "<class 'pandas.core.frame.DataFrame'>\n",
            "RangeIndex: 101766 entries, 0 to 101765\n",
            "Data columns (total 20 columns):\n",
            " #   Column                    Non-Null Count   Dtype   \n",
            "---  ------                    --------------   -----   \n",
            " 0   race                      99493 non-null   object  \n",
            " 1   age                       101766 non-null  object  \n",
            " 2   admission_type_id         101766 non-null  category\n",
            " 3   discharge_disposition_id  101766 non-null  category\n",
            " 4   admission_source_id       101766 non-null  category\n",
            " 5   time_in_hospital          101766 non-null  int64   \n",
            " 6   medical_specialty         51817 non-null   object  \n",
            " 7   num_lab_procedures        101766 non-null  int64   \n",
            " 8   num_procedures            101766 non-null  int64   \n",
            " 9   num_medications           101766 non-null  int64   \n",
            " 10  number_outpatient         101766 non-null  int64   \n",
            " 11  number_emergency          101766 non-null  int64   \n",
            " 12  number_inpatient          101766 non-null  int64   \n",
            " 13  diag_1                    101745 non-null  object  \n",
            " 14  number_diagnoses          101766 non-null  int64   \n",
            " 15  max_glu_serum             101766 non-null  object  \n",
            " 16  A1Cresult                 101766 non-null  object  \n",
            " 17  change                    101766 non-null  object  \n",
            " 18  diabetesMed               101766 non-null  object  \n",
            " 19  target                    101766 non-null  int64   \n",
            "dtypes: category(3), int64(9), object(8)\n",
            "memory usage: 13.5+ MB\n"
          ],
          "name": "stdout"
        }
      ]
    },
    {
      "cell_type": "code",
      "metadata": {
        "id": "3FFwZYXG3l79",
        "colab": {
          "base_uri": "https://localhost:8080/"
        },
        "outputId": "d6404386-4a6b-4922-b802-bd8b20a1a52e"
      },
      "source": [
        "print(df_dataset_import.describe())"
      ],
      "execution_count": 17,
      "outputs": [
        {
          "output_type": "stream",
          "text": [
            "       time_in_hospital  num_lab_procedures  ...  number_diagnoses         target\n",
            "count     101766.000000       101766.000000  ...     101766.000000  101766.000000\n",
            "mean           4.395987           43.095641  ...          7.422607       0.460881\n",
            "std            2.985108           19.674362  ...          1.933600       0.498470\n",
            "min            1.000000            1.000000  ...          1.000000       0.000000\n",
            "25%            2.000000           31.000000  ...          6.000000       0.000000\n",
            "50%            4.000000           44.000000  ...          8.000000       0.000000\n",
            "75%            6.000000           57.000000  ...          9.000000       1.000000\n",
            "max           14.000000          132.000000  ...         16.000000       1.000000\n",
            "\n",
            "[8 rows x 9 columns]\n"
          ],
          "name": "stdout"
        }
      ]
    },
    {
      "cell_type": "code",
      "metadata": {
        "id": "1QMi80kq3l79",
        "colab": {
          "base_uri": "https://localhost:8080/"
        },
        "outputId": "8eaa1f5a-c317-4cca-9736-772aa4d66fea"
      },
      "source": [
        "print(df_dataset_import.isnull().sum())\n",
        "print('Total number of NaN in the dataframe: ', df_dataset_import.isnull().sum().sum())"
      ],
      "execution_count": 18,
      "outputs": [
        {
          "output_type": "stream",
          "text": [
            "race                         2273\n",
            "age                             0\n",
            "admission_type_id               0\n",
            "discharge_disposition_id        0\n",
            "admission_source_id             0\n",
            "time_in_hospital                0\n",
            "medical_specialty           49949\n",
            "num_lab_procedures              0\n",
            "num_procedures                  0\n",
            "num_medications                 0\n",
            "number_outpatient               0\n",
            "number_emergency                0\n",
            "number_inpatient                0\n",
            "diag_1                         21\n",
            "number_diagnoses                0\n",
            "max_glu_serum                   0\n",
            "A1Cresult                       0\n",
            "change                          0\n",
            "diabetesMed                     0\n",
            "target                          0\n",
            "dtype: int64\n",
            "Total number of NaN in the dataframe:  52243\n"
          ],
          "name": "stdout"
        }
      ]
    },
    {
      "cell_type": "markdown",
      "metadata": {
        "id": "Uuh6PSn53l79"
      },
      "source": [
        "### 1.e) Splitting Data into Sets"
      ]
    },
    {
      "cell_type": "code",
      "metadata": {
        "id": "Ac66Lgmn3l79"
      },
      "source": [
        "# Use variable total_column_count to hold the number of columns in the dataframe\n",
        "total_column_count = len(df_dataset_import.columns)\n",
        "\n",
        "# Set up variable total_feature_count for the total number of attribute columns\n",
        "total_feature_count = total_column_count-1\n",
        "\n",
        "# target_column_position variable indicates the column location of the target/class variable\n",
        "# If the first column, set target_column_position to 1. If the last column, set target_column_position to total_column_count\n",
        "# If (target_column_position <> 1) and (target_column_position <> total_column_count), be aware when slicing up the dataframes for visualization\n",
        "target_column_position = total_column_count"
      ],
      "execution_count": 19,
      "outputs": []
    },
    {
      "cell_type": "code",
      "metadata": {
        "id": "okf69cJ-3l7-",
        "colab": {
          "base_uri": "https://localhost:8080/"
        },
        "outputId": "adbbc02f-ddbc-46e2-c8d3-5690274863e5"
      },
      "source": [
        "# We create attribute-only and target-only datasets (df_features_train and df_target_train)\n",
        "# for various visualization and cleaning/transformation operations\n",
        "\n",
        "if target_column_position == total_column_count:\n",
        "    df_features_import = df_dataset_import.iloc[:,0:total_feature_count]\n",
        "    df_target_import = df_dataset_import.iloc[:,total_feature_count]\n",
        "else:\n",
        "    df_features_import = df_dataset_import.iloc[:,1:total_column_count]\n",
        "    df_target_import = df_dataset_import.iloc[:,0]\n",
        "\n",
        "print(\"df_dataset_import.shape: {} df_features_import.shape: {} df_target_import.shape: {}\".format(df_dataset_import.shape, df_features_import.shape, df_target_import.shape))"
      ],
      "execution_count": 20,
      "outputs": [
        {
          "output_type": "stream",
          "text": [
            "df_dataset_import.shape: (101766, 20) df_features_import.shape: (101766, 19) df_target_import.shape: (101766,)\n"
          ],
          "name": "stdout"
        }
      ]
    },
    {
      "cell_type": "code",
      "metadata": {
        "colab": {
          "base_uri": "https://localhost:8080/"
        },
        "id": "CHndoJig-nxG",
        "outputId": "477ae80b-749d-49a8-d3c0-35634fe618ad"
      },
      "source": [
        "# Split the data further into training and test datasets\n",
        "df_features_train, df_features_test, df_target_train, df_target_test = train_test_split(df_features_import, df_target_import,\n",
        "                                                                                        test_size=TEST_SET_RATIO, stratify=df_target_import, random_state=RNG_SEED)\n",
        "print(\"df_features_train.shape: {} df_target_train.shape: {}\".format(df_features_train.shape, df_target_train.shape))\n",
        "print(\"df_features_test.shape: {} df_target_test.shape: {}\".format(df_features_test.shape, df_target_test.shape))"
      ],
      "execution_count": 21,
      "outputs": [
        {
          "output_type": "stream",
          "text": [
            "df_features_train.shape: (81412, 19) df_target_train.shape: (81412,)\n",
            "df_features_test.shape: (20354, 19) df_target_test.shape: (20354,)\n"
          ],
          "name": "stdout"
        }
      ]
    },
    {
      "cell_type": "markdown",
      "metadata": {
        "id": "K_ha_1jD3l7-"
      },
      "source": [
        "### 1.f) Set up the parameters for data visualization"
      ]
    },
    {
      "cell_type": "code",
      "metadata": {
        "id": "jZU3DZ3D3l7-"
      },
      "source": [
        "# Set up the number of row and columns for visualization display. display_rows * display_columns should be >= total_feature_count\n",
        "display_columns = 4\n",
        "if total_feature_count % display_columns == 0 :\n",
        "    display_rows = total_feature_count // display_columns\n",
        "else :\n",
        "    display_rows = (total_feature_count // display_columns) + 1\n",
        "\n",
        "# Set figure width to display the data visualization plots\n",
        "fig_size = plt.rcParams[\"figure.figsize\"]\n",
        "fig_size[0] = display_columns * 4\n",
        "fig_size[1] = display_rows * 4\n",
        "plt.rcParams[\"figure.figsize\"] = fig_size"
      ],
      "execution_count": 22,
      "outputs": []
    },
    {
      "cell_type": "code",
      "metadata": {
        "id": "ACP83VhH3l7-"
      },
      "source": [
        "if NOTIFY_STATUS: status_notify(\"Task 1 - Prepare Environment completed! \"+datetime.now().strftime('%a %B %d, %Y %I:%M:%S %p'))"
      ],
      "execution_count": 23,
      "outputs": []
    },
    {
      "cell_type": "markdown",
      "metadata": {
        "id": "kZevOIQL3l7_"
      },
      "source": [
        "## Task 2 - Summarize and Visualize Data"
      ]
    },
    {
      "cell_type": "code",
      "metadata": {
        "id": "YLt0NpWy3l7_"
      },
      "source": [
        "if NOTIFY_STATUS: status_notify(\"Task 2 - Summarize and Visualize Data has begun! \"+datetime.now().strftime('%a %B %d, %Y %I:%M:%S %p'))"
      ],
      "execution_count": 24,
      "outputs": []
    },
    {
      "cell_type": "code",
      "metadata": {
        "id": "FVURY0Ba3l7_",
        "colab": {
          "base_uri": "https://localhost:8080/",
          "height": 461
        },
        "outputId": "f3d6ed45-b7f9-408e-cfc3-9284b4794d61"
      },
      "source": [
        "# Histograms for each attribute\n",
        "df_features_train.plot(kind='hist', subplots=True, layout=(display_rows, display_columns))\n",
        "plt.show()"
      ],
      "execution_count": 25,
      "outputs": [
        {
          "output_type": "display_data",
          "data": {
            "image/png": "[encoded data removed]",
            "text/plain": [
              "<Figure size 1152x1440 with 20 Axes>"
            ]
          },
          "metadata": {
            "tags": [],
            "needs_background": "light"
          }
        }
      ]
    },
    {
      "cell_type": "code",
      "metadata": {
        "id": "m92aROlh3l8A",
        "colab": {
          "base_uri": "https://localhost:8080/",
          "height": 461
        },
        "outputId": "31b940be-f17b-4add-c8c0-e772335fdb04"
      },
      "source": [
        "# Box and Whisker plot for each attribute\n",
        "df_features_train.plot(kind='box', subplots=True, layout=(display_rows, display_columns))\n",
        "plt.show()"
      ],
      "execution_count": 26,
      "outputs": [
        {
          "output_type": "display_data",
          "data": {
            "image/png": "[encoded data removed]",
            "text/plain": [
              "<Figure size 1152x1440 with 20 Axes>"
            ]
          },
          "metadata": {
            "tags": [],
            "needs_background": "light"
          }
        }
      ]
    },
    {
      "cell_type": "code",
      "metadata": {
        "id": "3r8q4sgU3l8A",
        "colab": {
          "base_uri": "https://localhost:8080/",
          "height": 1000
        },
        "outputId": "74fcbc2f-b21c-4e70-dac9-72acc1394d43"
      },
      "source": [
        "# Correlation matrix\n",
        "fig = plt.figure(figsize=(20, 20))\n",
        "correlations = df_features_train.corr(method='pearson')\n",
        "sns.heatmap(correlations, annot=True, cmap=plt.cm.PuBu)\n",
        "plt.show()"
      ],
      "execution_count": 27,
      "outputs": [
        {
          "output_type": "display_data",
          "data": {
            "image/png": "[encoded data removed]",
            "text/plain": [
              "<Figure size 1440x1440 with 2 Axes>"
            ]
          },
          "metadata": {
            "tags": [],
            "needs_background": "light"
          }
        }
      ]
    },
    {
      "cell_type": "code",
      "metadata": {
        "id": "47zwOFBY3l8A"
      },
      "source": [
        "if NOTIFY_STATUS: status_notify(\"Task 2 - Summarize and Visualize Data completed! \"+datetime.now().strftime('%a %B %d, %Y %I:%M:%S %p'))"
      ],
      "execution_count": 28,
      "outputs": []
    },
    {
      "cell_type": "markdown",
      "metadata": {
        "id": "iMRuoNay3l8B"
      },
      "source": [
        "## Task 3 - Pre-process Data"
      ]
    },
    {
      "cell_type": "code",
      "metadata": {
        "id": "0vQJ1B6d3l8B"
      },
      "source": [
        "if NOTIFY_STATUS: status_notify(\"Task 3 - Pre-process Data has begun! \"+datetime.now().strftime('%a %B %d, %Y %I:%M:%S %p'))"
      ],
      "execution_count": 29,
      "outputs": []
    },
    {
      "cell_type": "markdown",
      "metadata": {
        "id": "SJKVMdU-3l8B"
      },
      "source": [
        "### 3.a) Feature Scaling and Data Pre-Processing"
      ]
    },
    {
      "cell_type": "code",
      "metadata": {
        "id": "OdJRYIRo3l8B",
        "colab": {
          "base_uri": "https://localhost:8080/"
        },
        "outputId": "a61f5d7e-c2d5-4733-f50d-16390582670a"
      },
      "source": [
        "# Compose pipeline for the numerical and categorical features (Block #1 of 2)\n",
        "numeric_columns = df_features_train.select_dtypes(include=['int64','float64']).columns\n",
        "numeric_transformer = Pipeline(steps=[\n",
        "    ('imputer', impute.SimpleImputer(strategy='constant', fill_value=0)),\n",
        "    ('scaler', preprocessing.StandardScaler())\n",
        "])\n",
        "categorical_columns = df_features_train.select_dtypes(include=['object','bool','category']).columns\n",
        "categorical_transformer = Pipeline(steps=[\n",
        "    ('imputer', impute.SimpleImputer(strategy='constant', fill_value='UNKNOWN')),\n",
        "    ('onehot', preprocessing.OneHotEncoder(sparse=False, handle_unknown='ignore'))\n",
        "])\n",
        "\n",
        "print(\"Number of numerical columns:\", len(numeric_columns))\n",
        "print(\"Number of categorical columns:\", len(categorical_columns))\n",
        "print(\"Total number of columns in the feature dataframe:\", df_features_train.shape[1])"
      ],
      "execution_count": 30,
      "outputs": [
        {
          "output_type": "stream",
          "text": [
            "Number of numerical columns: 8\n",
            "Number of categorical columns: 11\n",
            "Total number of columns in the feature dataframe: 19\n"
          ],
          "name": "stdout"
        }
      ]
    },
    {
      "cell_type": "code",
      "metadata": {
        "id": "MPyFhjc43l8C",
        "colab": {
          "base_uri": "https://localhost:8080/"
        },
        "outputId": "4b05c009-4f8e-4560-9e72-eddb06a01058"
      },
      "source": [
        "# Compose pipeline for the numerical and categorical features (Block #2 of 2)\n",
        "preprocessor = compose.ColumnTransformer(transformers=[\n",
        "    ('num', numeric_transformer, numeric_columns),\n",
        "    ('cat', categorical_transformer, categorical_columns)\n",
        "])\n",
        "\n",
        "# Display the shapes of the training dataset for final inspection\n",
        "array_features_train = preprocessor.fit_transform(df_features_train)\n",
        "print(\"Transformed features from df_features_train.shape: {} to array_features_train.shape: {}\".format(df_features_train.shape, array_features_train.shape))"
      ],
      "execution_count": 31,
      "outputs": [
        {
          "output_type": "stream",
          "text": [
            "Transformed features from df_features_train.shape: (81412, 19) to array_features_train.shape: (81412, 860)\n"
          ],
          "name": "stdout"
        }
      ]
    },
    {
      "cell_type": "markdown",
      "metadata": {
        "id": "uj81IbIC3l8C"
      },
      "source": [
        "### 3.b) Training Data Balancing"
      ]
    },
    {
      "cell_type": "code",
      "metadata": {
        "id": "Ke6jtd9V3l8C"
      },
      "source": [
        "# Not applicable for this iteration of the project"
      ],
      "execution_count": 32,
      "outputs": []
    },
    {
      "cell_type": "markdown",
      "metadata": {
        "id": "fR-zmIHD3l8C"
      },
      "source": [
        "### 3.c) Feature Selection"
      ]
    },
    {
      "cell_type": "code",
      "metadata": {
        "id": "GTX0mnVe3l8D"
      },
      "source": [
        "# Not applicable for this iteration of the project"
      ],
      "execution_count": 33,
      "outputs": []
    },
    {
      "cell_type": "markdown",
      "metadata": {
        "id": "JGAvblp03l8D"
      },
      "source": [
        "### 3.d) Display the Final Datasets for Model-Building"
      ]
    },
    {
      "cell_type": "code",
      "metadata": {
        "id": "EourCr333l8D",
        "colab": {
          "base_uri": "https://localhost:8080/"
        },
        "outputId": "b4b46c8b-190a-4e8d-adcd-d02f9f4d5ad7"
      },
      "source": [
        "# Finalize the training and validation datasets for the modeling activities\n",
        "# array_features_train = df_features_train.to_numpy()\n",
        "array_target_train = df_target_train.ravel()\n",
        "print(\"array_features_train.shape: {} df_target_train.shape: {}\".format(array_features_train.shape, df_target_train.shape))"
      ],
      "execution_count": 34,
      "outputs": [
        {
          "output_type": "stream",
          "text": [
            "array_features_train.shape: (81412, 860) df_target_train.shape: (81412,)\n"
          ],
          "name": "stdout"
        }
      ]
    },
    {
      "cell_type": "code",
      "metadata": {
        "id": "U_DPVC0t3l8D"
      },
      "source": [
        "if NOTIFY_STATUS: status_notify(\"Task 3 - Pre-process Data completed! \"+datetime.now().strftime('%a %B %d, %Y %I:%M:%S %p'))"
      ],
      "execution_count": 35,
      "outputs": []
    },
    {
      "cell_type": "markdown",
      "metadata": {
        "id": "l4q-C4XU3l8D"
      },
      "source": [
        "## Task 4 - Train and Evaluate Models"
      ]
    },
    {
      "cell_type": "code",
      "metadata": {
        "id": "y_zb8Pq13l8D"
      },
      "source": [
        "if NOTIFY_STATUS: status_notify(\"Task 4 - Train and Evaluate Models has begun! \"+datetime.now().strftime('%a %B %d, %Y %I:%M:%S %p'))"
      ],
      "execution_count": 36,
      "outputs": []
    },
    {
      "cell_type": "code",
      "metadata": {
        "id": "Bbls2rTF3l8E"
      },
      "source": [
        "# Define the baseline model for benchmarking\n",
        "def create_nn_model(input_param=array_features_train.shape[1], layer1_nodes=512, layer2_nodes=384, layer3_nodes=256, layer4_nodes=128, layer5_nodes=64,\n",
        "                    layer1_dropout=0.25, layer2_dropout=0.25, layer3_dropout=0.25, layer4_dropout=0.25, layer5_dropout=0.25,\n",
        "                    init_param=DEFAULT_INITIALIZER, classifier_activation=CLASSIFIER_ACTIVATION,\n",
        "                    loss_param=DEFAULT_LOSS, opt_param=DEFAULT_OPTIMIZER, metrics_param=DEFAULT_METRICS):\n",
        "    nn_model = keras.Sequential([\n",
        "        keras.layers.Dense(layer1_nodes, input_shape=(input_param,), activation='relu', kernel_initializer=init_param),\n",
        "        keras.layers.Dropout(layer1_dropout),\n",
        "        keras.layers.Dense(layer2_nodes, activation='relu', kernel_initializer=init_param),\n",
        "        keras.layers.Dropout(layer2_dropout),\n",
        "        keras.layers.Dense(layer3_nodes, activation='relu', kernel_initializer=init_param),\n",
        "        keras.layers.Dropout(layer3_dropout),\n",
        "        keras.layers.Dense(layer4_nodes, activation='relu', kernel_initializer=init_param),\n",
        "        keras.layers.Dropout(layer4_dropout),\n",
        "        keras.layers.Dense(layer5_nodes, activation='relu', kernel_initializer=init_param),\n",
        "        keras.layers.Dropout(layer5_dropout),\n",
        "        keras.layers.Dense(1, activation=classifier_activation)\n",
        "    ])\n",
        "    nn_model.compile(loss=loss_param, optimizer=opt_param, metrics=metrics_param)\n",
        "    return nn_model"
      ],
      "execution_count": 37,
      "outputs": []
    },
    {
      "cell_type": "code",
      "metadata": {
        "id": "fxAHVg7Q3l8G",
        "colab": {
          "base_uri": "https://localhost:8080/"
        },
        "outputId": "a09ec18f-6bd1-4a69-e53d-caf7fea8a3d2"
      },
      "source": [
        "# Initialize the default model and get a baseline result\n",
        "start_time_module = datetime.now()\n",
        "learning_rate_reduction = ReduceLROnPlateau(monitor='val_accuracy', patience=3, verbose=1, factor=0.5, min_lr=0.000001)\n",
        "results = list()\n",
        "iteration = 0\n",
        "cv = RepeatedKFold(n_splits=N_FOLDS, n_repeats=N_ITERATIONS, random_state=RNG_SEED)\n",
        "for train_ix, val_ix in cv.split(array_features_train):\n",
        "    feature_train, feature_validation = array_features_train[train_ix], array_features_train[val_ix]\n",
        "    target_train, target_validation = array_target_train[train_ix], array_target_train[val_ix]\n",
        "    reset_random()\n",
        "    baseline_model = create_nn_model()\n",
        "    baseline_model.fit(feature_train, target_train, epochs=MAX_EPOCHS, batch_size=BATCH_SIZE, verbose=0)\n",
        "    model_metric = baseline_model.evaluate(feature_validation, target_validation, verbose=1)[1]\n",
        "    iteration = iteration + 1\n",
        "    print('Score from iteration %d >>> %.4f' % (iteration, model_metric))\n",
        "    results.append(model_metric)\n",
        "validation_score = np.mean(results)\n",
        "validation_variance = np.std(results)\n",
        "print('Average model scorer from all iterations: %.4f (%.4f)' % (validation_score, validation_variance))\n",
        "print('Total time for model fitting and cross validating:', (datetime.now() - start_time_module))"
      ],
      "execution_count": 38,
      "outputs": [
        {
          "output_type": "stream",
          "text": [
            "509/509 [==============================] - 1s 2ms/step - loss: 0.6754 - accuracy: 0.6306\n",
            "Score from iteration 1 >>> 0.6306\n",
            "509/509 [==============================] - 1s 2ms/step - loss: 0.6857 - accuracy: 0.6328\n",
            "Score from iteration 2 >>> 0.6328\n",
            "509/509 [==============================] - 1s 2ms/step - loss: 0.6810 - accuracy: 0.6278\n",
            "Score from iteration 3 >>> 0.6278\n",
            "509/509 [==============================] - 1s 2ms/step - loss: 0.6947 - accuracy: 0.6281\n",
            "Score from iteration 4 >>> 0.6281\n",
            "509/509 [==============================] - 1s 2ms/step - loss: 0.6785 - accuracy: 0.6284\n",
            "Score from iteration 5 >>> 0.6284\n",
            "Average model scorer from all iterations: 0.6295 (0.0019)\n",
            "Total time for model fitting and cross validating: 0:04:31.191799\n"
          ],
          "name": "stdout"
        }
      ]
    },
    {
      "cell_type": "code",
      "metadata": {
        "id": "2PxkOhNE3l8F"
      },
      "source": [
        "if NOTIFY_STATUS: status_notify(\"Task 4 - Train and Evaluate Models completed! \"+datetime.now().strftime('%a %B %d, %Y %I:%M:%S %p'))"
      ],
      "execution_count": 39,
      "outputs": []
    },
    {
      "cell_type": "markdown",
      "metadata": {
        "id": "rIRMoNm63l8H"
      },
      "source": [
        "## Task 5 - Finalize Model and Present Analysis"
      ]
    },
    {
      "cell_type": "code",
      "metadata": {
        "id": "wgw8i_ME3l8H"
      },
      "source": [
        "if NOTIFY_STATUS: status_notify(\"Task 5 - Finalize Model and Present Analysis has begun! \"+datetime.now().strftime('%a %B %d, %Y %I:%M:%S %p'))"
      ],
      "execution_count": 40,
      "outputs": []
    },
    {
      "cell_type": "markdown",
      "metadata": {
        "id": "YsQONLo33l8I"
      },
      "source": [
        "### 6.a) Train the Final Model"
      ]
    },
    {
      "cell_type": "code",
      "metadata": {
        "id": "TIDASCL13l8I",
        "colab": {
          "base_uri": "https://localhost:8080/"
        },
        "outputId": "bd2fd735-28f3-49fe-fac7-1652fdc83800"
      },
      "source": [
        "learning_rate_reduction = ReduceLROnPlateau(monitor='accuracy', patience=3, verbose=1, factor=0.5, min_lr=0.000001)\n",
        "final_model = create_nn_model()\n",
        "final_model.fit(array_features_train, array_target_train, epochs=MAX_EPOCHS, batch_size=BATCH_SIZE, callbacks=[learning_rate_reduction], verbose=1)\n",
        "final_model.summary()"
      ],
      "execution_count": 41,
      "outputs": [
        {
          "output_type": "stream",
          "text": [
            "Epoch 1/10\n",
            "2545/2545 [==============================] - 9s 3ms/step - loss: 0.6365 - accuracy: 0.6342\n",
            "Epoch 2/10\n",
            "2545/2545 [==============================] - 8s 3ms/step - loss: 0.6212 - accuracy: 0.6501\n",
            "Epoch 3/10\n",
            "2545/2545 [==============================] - 8s 3ms/step - loss: 0.6136 - accuracy: 0.6558\n",
            "Epoch 4/10\n",
            "2545/2545 [==============================] - 8s 3ms/step - loss: 0.6059 - accuracy: 0.6651\n",
            "Epoch 5/10\n",
            "2545/2545 [==============================] - 8s 3ms/step - loss: 0.5962 - accuracy: 0.6711\n",
            "Epoch 6/10\n",
            "2545/2545 [==============================] - 8s 3ms/step - loss: 0.5860 - accuracy: 0.6818\n",
            "Epoch 7/10\n",
            "2545/2545 [==============================] - 8s 3ms/step - loss: 0.5734 - accuracy: 0.6914\n",
            "Epoch 8/10\n",
            "2545/2545 [==============================] - 8s 3ms/step - loss: 0.5605 - accuracy: 0.7020\n",
            "Epoch 9/10\n",
            "2545/2545 [==============================] - 8s 3ms/step - loss: 0.5484 - accuracy: 0.7088\n",
            "Epoch 10/10\n",
            "2545/2545 [==============================] - 8s 3ms/step - loss: 0.5373 - accuracy: 0.7152\n",
            "Model: \"sequential_5\"\n",
            "_________________________________________________________________\n",
            "Layer (type)                 Output Shape              Param #   \n",
            "=================================================================\n",
            "dense_30 (Dense)             (None, 512)               440832    \n",
            "_________________________________________________________________\n",
            "dropout_25 (Dropout)         (None, 512)               0         \n",
            "_________________________________________________________________\n",
            "dense_31 (Dense)             (None, 384)               196992    \n",
            "_________________________________________________________________\n",
            "dropout_26 (Dropout)         (None, 384)               0         \n",
            "_________________________________________________________________\n",
            "dense_32 (Dense)             (None, 256)               98560     \n",
            "_________________________________________________________________\n",
            "dropout_27 (Dropout)         (None, 256)               0         \n",
            "_________________________________________________________________\n",
            "dense_33 (Dense)             (None, 128)               32896     \n",
            "_________________________________________________________________\n",
            "dropout_28 (Dropout)         (None, 128)               0         \n",
            "_________________________________________________________________\n",
            "dense_34 (Dense)             (None, 64)                8256      \n",
            "_________________________________________________________________\n",
            "dropout_29 (Dropout)         (None, 64)                0         \n",
            "_________________________________________________________________\n",
            "dense_35 (Dense)             (None, 1)                 65        \n",
            "=================================================================\n",
            "Total params: 777,601\n",
            "Trainable params: 777,601\n",
            "Non-trainable params: 0\n",
            "_________________________________________________________________\n"
          ],
          "name": "stdout"
        }
      ]
    },
    {
      "cell_type": "markdown",
      "metadata": {
        "id": "tzeEayxg3l8I"
      },
      "source": [
        "### 6.b) Load Test Dataset and Prepare the Submission File"
      ]
    },
    {
      "cell_type": "code",
      "metadata": {
        "id": "avu1nEAa3l8J",
        "colab": {
          "base_uri": "https://localhost:8080/"
        },
        "outputId": "9e10932f-4b18-4b64-f982-90192664e58a"
      },
      "source": [
        "# Finalize the test dataset for the modeling testing\n",
        "array_features_test = preprocessor.transform(df_features_test)\n",
        "print(\"Transformed features from df_features_test.shape: {} to array_features_test.shape: {}\".format(df_features_test.shape, array_features_test.shape))"
      ],
      "execution_count": 42,
      "outputs": [
        {
          "output_type": "stream",
          "text": [
            "Transformed features from df_features_test.shape: (20354, 19) to array_features_test.shape: (20354, 860)\n"
          ],
          "name": "stdout"
        }
      ]
    },
    {
      "cell_type": "code",
      "metadata": {
        "colab": {
          "base_uri": "https://localhost:8080/"
        },
        "id": "utwOSK7b8e0l",
        "outputId": "d3e21fec-c935-4e9a-f91f-f0bf0f8c49b2"
      },
      "source": [
        "# Finalize the training and validation datasets for the modeling activities\n",
        "# array_features_train = df_features_train.to_numpy()\n",
        "array_target_test = df_target_test.ravel()\n",
        "print(\"array_features_test.shape: {} df_target_test.shape: {}\".format(array_features_test.shape, df_target_test.shape))"
      ],
      "execution_count": 43,
      "outputs": [
        {
          "output_type": "stream",
          "text": [
            "array_features_test.shape: (20354, 860) df_target_test.shape: (20354,)\n"
          ],
          "name": "stdout"
        }
      ]
    },
    {
      "cell_type": "code",
      "metadata": {
        "id": "i5YNHp6S3l8J",
        "colab": {
          "base_uri": "https://localhost:8080/"
        },
        "outputId": "6c943d20-a5a2-4db6-c7b9-036d2f74d5de"
      },
      "source": [
        "# Make batched predictions\n",
        "test_predictions = (final_model.predict(array_features_test) > 0.5).astype('int').ravel()\n",
        "print(test_predictions)"
      ],
      "execution_count": 44,
      "outputs": [
        {
          "output_type": "stream",
          "text": [
            "[0 1 0 ... 0 0 1]\n"
          ],
          "name": "stdout"
        }
      ]
    },
    {
      "cell_type": "code",
      "metadata": {
        "id": "zXmbWirt3l8J",
        "colab": {
          "base_uri": "https://localhost:8080/"
        },
        "outputId": "3bab759a-1aed-4c9c-f780-47b09ec3e54c"
      },
      "source": [
        "print('Accuracy Score:', accuracy_score(array_target_test, test_predictions))\n",
        "print('ROC/AUC Score:', roc_auc_score(array_target_test, test_predictions))\n",
        "print(confusion_matrix(array_target_test, test_predictions))\n",
        "print(classification_report(array_target_test, test_predictions))"
      ],
      "execution_count": 45,
      "outputs": [
        {
          "output_type": "stream",
          "text": [
            "Accuracy Score: 0.6360420556156038\n",
            "ROC/AUC Score: 0.6315205876003871\n",
            "[[7564 3409]\n",
            " [3999 5382]]\n",
            "              precision    recall  f1-score   support\n",
            "\n",
            "           0       0.65      0.69      0.67     10973\n",
            "           1       0.61      0.57      0.59      9381\n",
            "\n",
            "    accuracy                           0.64     20354\n",
            "   macro avg       0.63      0.63      0.63     20354\n",
            "weighted avg       0.63      0.64      0.63     20354\n",
            "\n"
          ],
          "name": "stdout"
        }
      ]
    },
    {
      "cell_type": "code",
      "metadata": {
        "id": "TE7Ey5753l8K"
      },
      "source": [
        "if NOTIFY_STATUS: status_notify(\"Task 5 - Finalize Model and Present Analysis completed! \"+datetime.now().strftime('%a %B %d, %Y %I:%M:%S %p'))"
      ],
      "execution_count": 46,
      "outputs": []
    },
    {
      "cell_type": "code",
      "metadata": {
        "id": "nxfno4RT3l8K",
        "colab": {
          "base_uri": "https://localhost:8080/"
        },
        "outputId": "d8b72779-2bb7-4d1d-b82b-ed03c320eefb"
      },
      "source": [
        "print ('Total time for the script:',(datetime.now() - start_time_script))"
      ],
      "execution_count": 47,
      "outputs": [
        {
          "output_type": "stream",
          "text": [
            "Total time for the script: 0:06:03.405031\n"
          ],
          "name": "stdout"
        }
      ]
    }
  ]
}